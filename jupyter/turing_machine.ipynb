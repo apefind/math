{
 "cells": [
  {
   "cell_type": "markdown",
   "metadata": {},
   "source": [
    "### Turing Machines"
   ]
  },
  {
   "cell_type": "code",
   "execution_count": 17,
   "metadata": {},
   "outputs": [],
   "source": [
    "%run core.ipynb"
   ]
  },
  {
   "cell_type": "code",
   "execution_count": 51,
   "metadata": {},
   "outputs": [],
   "source": [
    "from array import array\n",
    "\n",
    "\n",
    "class Tape:\n",
    "\n",
    "    def __init__(self, values):\n",
    "        self.values = array(\"I\", values)\n",
    "        self.pos = 0\n",
    "        \n",
    "    def __repr__(self):\n",
    "        return \"\".join([f\"{v}\" for v in self.values[:self.pos]] + \n",
    "                        [_blu(self.values[self.pos])] + \n",
    "                        [f\"{v}\" for v in self.values[self.pos + 1:]])\n",
    "    \n",
    "    def __getitem__(self, i):\n",
    "        return self.values[i]\n",
    "    \n",
    "    def __iter__(self):\n",
    "        return iter(self.values)\n",
    "    \n",
    "    def __len__(self):\n",
    "        return len(self.values)\n",
    "    \n",
    "    def read(self):\n",
    "        return self.values[self.pos]\n",
    "\n",
    "    def write(self, v):\n",
    "        self.values[self.pos] = v\n",
    "\n",
    "    def move(self, mv):\n",
    "        if mv == \"L\":\n",
    "            if self.pos == 0:\n",
    "                self.values.insert(0, 0)\n",
    "            else:\n",
    "                self.pos -= 1\n",
    "        else:\n",
    "            if self.pos == len(self.values) - 1:\n",
    "                self.values.append(0)\n",
    "            self.pos += 1\n"
   ]
  },
  {
   "cell_type": "code",
   "execution_count": 52,
   "metadata": {},
   "outputs": [],
   "source": [
    "class TuringMachine:\n",
    "    \n",
    "    def __init__(self, instructions):\n",
    "        self.instructions = instructions\n",
    "        \n",
    "    def __getitem__(self, i):\n",
    "        return self.instructions[i]\n",
    "\n",
    "    def __call__(self, tape, max_iterations=None):\n",
    "        i, instr, mv = 0, 0, None\n",
    "        while not mv == \"S\":\n",
    "            if max_iterations is not None and i > max_iterations:\n",
    "                raise StopIteration(f\"max iterations {max_iterations} reached\")\n",
    "            value = tape.read()\n",
    "            next_instr, new_value, mv = self.instructions[instr][value]\n",
    "            yield instr, next_instr, value, new_value, mv\n",
    "            tape.write(new_value)\n",
    "            tape.move(mv)\n",
    "            instr = next_instr\n",
    "            i += 1\n"
   ]
  },
  {
   "cell_type": "code",
   "execution_count": 53,
   "metadata": {},
   "outputs": [],
   "source": [
    "def run_turing_machine(tm, tape, max_iterations=None):\n",
    "    for instr, _, value, new_value, move in tm(tape, max_iterations=max_iterations):\n",
    "        print(f\"{instr}: {value} -> {new_value} mv={move}:\", tape)\n",
    "    print()\n",
    "    print(f\"result: {tape}\")"
   ]
  },
  {
   "cell_type": "code",
   "execution_count": 54,
   "metadata": {},
   "outputs": [],
   "source": [
    "UN_PLUS_ONE = {\n",
    "    0: {\n",
    "        0: (0, 0, \"R\"), \n",
    "        1: (1, 1, \"R\"),\n",
    "    },\n",
    "    1: {\n",
    "        0: (0, 1, \"S\"), \n",
    "        1: (1, 1, \"R\"),\n",
    "    },\n",
    "}\n",
    "un_plus_one = TuringMachine(UN_PLUS_ONE)"
   ]
  },
  {
   "cell_type": "code",
   "execution_count": 55,
   "metadata": {},
   "outputs": [
    {
     "name": "stdout",
     "output_type": "stream",
     "text": [
      "0: 0 -> 0 mv=R: \u001b[34m0\u001b[0m011100\n",
      "0: 0 -> 0 mv=R: 0\u001b[34m0\u001b[0m11100\n",
      "0: 1 -> 1 mv=R: 00\u001b[34m1\u001b[0m1100\n",
      "1: 1 -> 1 mv=R: 001\u001b[34m1\u001b[0m100\n",
      "1: 1 -> 1 mv=R: 0011\u001b[34m1\u001b[0m00\n",
      "1: 0 -> 1 mv=S: 00111\u001b[34m0\u001b[0m0\n",
      "\n",
      "result: 001111\u001b[34m0\u001b[0m\n"
     ]
    }
   ],
   "source": [
    "tape = Tape([0, 0, 1, 1, 1, 0, 0])\n",
    "run_turing_machine(un_plus_one, tape)"
   ]
  },
  {
   "cell_type": "code",
   "execution_count": 56,
   "metadata": {},
   "outputs": [
    {
     "name": "stdout",
     "output_type": "stream",
     "text": [
      "0: 0 -> 0 mv=R: \u001b[34m0\u001b[0m1111100\n",
      "0: 1 -> 1 mv=R: 0\u001b[34m1\u001b[0m111100\n",
      "1: 1 -> 1 mv=R: 01\u001b[34m1\u001b[0m11100\n",
      "1: 1 -> 1 mv=R: 011\u001b[34m1\u001b[0m1100\n",
      "1: 1 -> 1 mv=R: 0111\u001b[34m1\u001b[0m100\n",
      "1: 1 -> 1 mv=R: 01111\u001b[34m1\u001b[0m00\n",
      "1: 0 -> 1 mv=S: 011111\u001b[34m0\u001b[0m0\n",
      "\n",
      "result: 0111111\u001b[34m0\u001b[0m\n"
     ]
    }
   ],
   "source": [
    "tape = Tape([0, 1, 1, 1, 1, 1, 0, 0])\n",
    "run_turing_machine(un_plus_one, tape)"
   ]
  },
  {
   "cell_type": "code",
   "execution_count": 57,
   "metadata": {},
   "outputs": [],
   "source": [
    "UN_TIMES_TWO = {\n",
    "    0: {\n",
    "        0: (0, 0, \"R\"), \n",
    "        1: (1, 0, \"R\"),\n",
    "    },\n",
    "    1: {\n",
    "        0: (2, 1, \"L\"), \n",
    "        1: (1, 1, \"R\"),\n",
    "    },\n",
    "    2: {\n",
    "        0: (3, 0, \"R\"), \n",
    "        1: (4, 0, \"R\"),\n",
    "    },\n",
    "    3: {\n",
    "        0: (0, 1, \"S\"), \n",
    "        1: (3, 1, \"R\"),\n",
    "    },\n",
    "    4: {\n",
    "        0: (5, 1, \"L\"), \n",
    "        1: (4, 1, \"R\"),\n",
    "    },\n",
    "    5: {\n",
    "        0: (2, 1, \"L\"), \n",
    "        1: (5, 1, \"L\"),\n",
    "    },\n",
    "}\n",
    "un_times_two = TuringMachine(UN_TIMES_TWO)"
   ]
  },
  {
   "cell_type": "code",
   "execution_count": 58,
   "metadata": {},
   "outputs": [
    {
     "name": "stdout",
     "output_type": "stream",
     "text": [
      "0: 0 -> 0 mv=R: \u001b[34m0\u001b[0m1\n",
      "0: 1 -> 0 mv=R: 0\u001b[34m1\u001b[0m\n",
      "1: 0 -> 1 mv=L: 00\u001b[34m0\u001b[0m\n",
      "2: 0 -> 0 mv=R: 0\u001b[34m0\u001b[0m1\n",
      "3: 1 -> 1 mv=R: 00\u001b[34m1\u001b[0m\n",
      "3: 0 -> 1 mv=S: 001\u001b[34m0\u001b[0m\n",
      "\n",
      "result: 0011\u001b[34m0\u001b[0m\n"
     ]
    }
   ],
   "source": [
    "tape = Tape([0, 1])\n",
    "run_turing_machine(un_times_two, tape)"
   ]
  },
  {
   "cell_type": "code",
   "execution_count": 59,
   "metadata": {},
   "outputs": [
    {
     "name": "stdout",
     "output_type": "stream",
     "text": [
      "0: 1 -> 0 mv=R: \u001b[34m1\u001b[0m11\n",
      "1: 1 -> 1 mv=R: 0\u001b[34m1\u001b[0m1\n",
      "1: 1 -> 1 mv=R: 01\u001b[34m1\u001b[0m\n",
      "1: 0 -> 1 mv=L: 011\u001b[34m0\u001b[0m\n",
      "2: 1 -> 0 mv=R: 01\u001b[34m1\u001b[0m1\n",
      "4: 1 -> 1 mv=R: 010\u001b[34m1\u001b[0m\n",
      "4: 0 -> 1 mv=L: 0101\u001b[34m0\u001b[0m\n",
      "5: 1 -> 1 mv=L: 010\u001b[34m1\u001b[0m1\n",
      "5: 0 -> 1 mv=L: 01\u001b[34m0\u001b[0m11\n",
      "2: 1 -> 0 mv=R: 0\u001b[34m1\u001b[0m111\n",
      "4: 1 -> 1 mv=R: 00\u001b[34m1\u001b[0m11\n",
      "4: 1 -> 1 mv=R: 001\u001b[34m1\u001b[0m1\n",
      "4: 1 -> 1 mv=R: 0011\u001b[34m1\u001b[0m\n",
      "4: 0 -> 1 mv=L: 00111\u001b[34m0\u001b[0m\n",
      "5: 1 -> 1 mv=L: 0011\u001b[34m1\u001b[0m1\n",
      "5: 1 -> 1 mv=L: 001\u001b[34m1\u001b[0m11\n",
      "5: 1 -> 1 mv=L: 00\u001b[34m1\u001b[0m111\n",
      "5: 0 -> 1 mv=L: 0\u001b[34m0\u001b[0m1111\n",
      "2: 0 -> 0 mv=R: \u001b[34m0\u001b[0m11111\n",
      "3: 1 -> 1 mv=R: 0\u001b[34m1\u001b[0m1111\n",
      "3: 1 -> 1 mv=R: 01\u001b[34m1\u001b[0m111\n",
      "3: 1 -> 1 mv=R: 011\u001b[34m1\u001b[0m11\n",
      "3: 1 -> 1 mv=R: 0111\u001b[34m1\u001b[0m1\n",
      "3: 1 -> 1 mv=R: 01111\u001b[34m1\u001b[0m\n",
      "3: 0 -> 1 mv=S: 011111\u001b[34m0\u001b[0m\n",
      "\n",
      "result: 0111111\u001b[34m0\u001b[0m\n"
     ]
    }
   ],
   "source": [
    "tape = Tape([0, 1, 1, 1, 0])\n",
    "tape = Tape([1, 1, 1])\n",
    "run_turing_machine(un_times_two, tape)"
   ]
  },
  {
   "cell_type": "code",
   "execution_count": 60,
   "metadata": {},
   "outputs": [],
   "source": [
    "def _cvrt(X):\n",
    "    if isinstance(X, int):\n",
    "        return [X]\n",
    "    elif isinstance(X, str):\n",
    "        return str2bin(X)\n",
    "    elif isinstance(X, (list, tuple)):\n",
    "        if len(X) == 1:\n",
    "            return X[0]\n",
    "    return X\n",
    "\n",
    "\n",
    "def int2bin(x):\n",
    "    return [int(i) for i in bin(x)[2:]]\n",
    "\n",
    "\n",
    "def bin2int(X):\n",
    "    return sum(2**i if x == 1 else 0 for i, x in enumerate(reversed(_cvrt(X))))\n",
    "\n",
    "\n",
    "def int2xnbin(X):\n",
    "    y = []\n",
    "    for x in _cvrt(X):\n",
    "        for n in int2bin(x):\n",
    "            if n == 0:\n",
    "                y.append(0)\n",
    "            elif n == 1:\n",
    "                y.append(1)\n",
    "                y.append(0)\n",
    "        y.append(1)\n",
    "        y.append(1)\n",
    "        y.append(0)\n",
    "    return _cvrt(y)\n",
    "\n",
    "\n",
    "def xnbin2int(y):\n",
    "    i, x, X = 0, [], []\n",
    "    while i < len(y):\n",
    "        if y[i] == 0:\n",
    "            x.append(0)\n",
    "            i += 1\n",
    "        elif y[i] == 1:\n",
    "            i += 1\n",
    "            if y[i] == 0:\n",
    "                x.append(1)\n",
    "                i += 1\n",
    "            else:\n",
    "                X.append(bin2int(x))\n",
    "                i += 2\n",
    "                x = []\n",
    "    return _cvrt(X)\n"
   ]
  },
  {
   "cell_type": "code",
   "execution_count": 61,
   "metadata": {},
   "outputs": [
    {
     "data": {
      "text/plain": [
       "[1, 0, 1, 0, 0, 1, 1, 1]"
      ]
     },
     "execution_count": 61,
     "metadata": {},
     "output_type": "execute_result"
    },
    {
     "data": {
      "text/plain": [
       "[1, 0, 0, 1, 0, 0, 0, 1, 0, 1, 0, 1, 0, 1, 1, 0]"
      ]
     },
     "execution_count": 61,
     "metadata": {},
     "output_type": "execute_result"
    },
    {
     "data": {
      "text/plain": [
       "[1, 0, 1, 0, 0, 1, 1, 0, 1, 0, 0, 0, 0, 1, 1, 0]"
      ]
     },
     "execution_count": 61,
     "metadata": {},
     "output_type": "execute_result"
    }
   ],
   "source": [
    "x = 167\n",
    "int2bin(x)\n",
    "assert x == bin2int(int2bin(x))\n",
    "\n",
    "int2xnbin(x)\n",
    "assert x == xnbin2int(int2xnbin(x))\n",
    "\n",
    "X = [6, 8]\n",
    "int2xnbin(X)\n",
    "assert X == xnbin2int(int2xnbin(X))\n"
   ]
  },
  {
   "cell_type": "code",
   "execution_count": 62,
   "metadata": {},
   "outputs": [],
   "source": [
    "XN_TIMES_TWO = {\n",
    "    0: {\n",
    "        0: (0, 0, \"R\"), \n",
    "        1: (1, 0, \"R\"),\n",
    "    },\n",
    "    1: {\n",
    "        0: (0, 1, \"R\"), \n",
    "        1: (2, 0, \"R\"),\n",
    "    },\n",
    "    2: {\n",
    "        0: (3, 1, \"R\"), \n",
    "    },\n",
    "    3: {\n",
    "        0: (0, 1, \"S\"),\n",
    "    },\n",
    "}\n",
    "xn_times_two = TuringMachine(XN_TIMES_TWO)"
   ]
  },
  {
   "cell_type": "code",
   "execution_count": 63,
   "metadata": {},
   "outputs": [
    {
     "name": "stdout",
     "output_type": "stream",
     "text": [
      "0: 1 -> 0 mv=R: \u001b[34m1\u001b[0m001000101010110\n",
      "1: 0 -> 1 mv=R: 0\u001b[34m0\u001b[0m01000101010110\n",
      "0: 0 -> 0 mv=R: 01\u001b[34m0\u001b[0m1000101010110\n",
      "0: 1 -> 0 mv=R: 010\u001b[34m1\u001b[0m000101010110\n",
      "1: 0 -> 1 mv=R: 0100\u001b[34m0\u001b[0m00101010110\n",
      "0: 0 -> 0 mv=R: 01001\u001b[34m0\u001b[0m0101010110\n",
      "0: 0 -> 0 mv=R: 010010\u001b[34m0\u001b[0m101010110\n",
      "0: 1 -> 0 mv=R: 0100100\u001b[34m1\u001b[0m01010110\n",
      "1: 0 -> 1 mv=R: 01001000\u001b[34m0\u001b[0m1010110\n",
      "0: 1 -> 0 mv=R: 010010001\u001b[34m1\u001b[0m010110\n",
      "1: 0 -> 1 mv=R: 0100100010\u001b[34m0\u001b[0m10110\n",
      "0: 1 -> 0 mv=R: 01001000101\u001b[34m1\u001b[0m0110\n",
      "1: 0 -> 1 mv=R: 010010001010\u001b[34m0\u001b[0m110\n",
      "0: 1 -> 0 mv=R: 0100100010101\u001b[34m1\u001b[0m10\n",
      "1: 1 -> 0 mv=R: 01001000101010\u001b[34m1\u001b[0m0\n",
      "2: 0 -> 1 mv=R: 010010001010100\u001b[34m0\u001b[0m\n",
      "3: 0 -> 1 mv=S: 0100100010101001\u001b[34m0\u001b[0m\n",
      "\n",
      "result: 01001000101010011\u001b[34m0\u001b[0m\n"
     ]
    },
    {
     "data": {
      "text/plain": [
       "334"
      ]
     },
     "execution_count": 63,
     "metadata": {},
     "output_type": "execute_result"
    }
   ],
   "source": [
    "x = 167\n",
    "tape = Tape(int2xnbin(x))\n",
    "run_turing_machine(xn_times_two, tape, max_iterations=50)\n",
    "xnbin2int(tape)"
   ]
  },
  {
   "cell_type": "markdown",
   "metadata": {},
   "source": [
    "#### Universal Turing Machines"
   ]
  },
  {
   "cell_type": "code",
   "execution_count": 64,
   "metadata": {},
   "outputs": [
    {
     "data": {
      "text/plain": [
       "450813704461563958982113775643437908"
      ]
     },
     "execution_count": 64,
     "metadata": {},
     "output_type": "execute_result"
    }
   ],
   "source": [
    "s = \"10101101101001011010100111010010110101111010000111010010101110100010111010100011010010110110101010101101010101101010100\"\n",
    "bin2int(s)\n",
    "assert \"\".join(str(k) for k in int2bin(bin2int(s))) == s"
   ]
  },
  {
   "cell_type": "code",
   "execution_count": 99,
   "metadata": {},
   "outputs": [],
   "source": [
    "def generate_instructions(k):\n",
    "    \n",
    "    def iter_instructions(k):\n",
    "        i, K = 0, int2bin(k)\n",
    "        values, mv = [], None\n",
    "        yield (0, 0, \"R\")\n",
    "        while i < len(K):\n",
    "            if K[i] == 0:\n",
    "                values.append(0)\n",
    "                i += 1\n",
    "            elif K[i:i + 1] == [1, 0]:\n",
    "                values.append(1)\n",
    "                i += 2\n",
    "            elif K[i:i + 2] == [1, 1, 0]:\n",
    "                mv = \"R\"\n",
    "                i += 3\n",
    "            elif K[i:i + 3] == [1, 1, 1, 0]:\n",
    "                mv = \"L\"\n",
    "                i += 4\n",
    "            elif K[i:i + 4] == [1, 1, 1, 1, 0]:\n",
    "                mv = \"S\"\n",
    "                i += 5\n",
    "            else:\n",
    "                raise Exception(\"should not happen\")\n",
    "            if mv is not None:\n",
    "                if not values:\n",
    "                    valus = [0, 0]\n",
    "                elif values == [1]:\n",
    "                    valus = [0, 1]\n",
    "                yield (bin2int(values[:-1]), values[-1], mv)\n",
    "                values, mv = [], None\n",
    "                \n",
    "    print(k, int2bin(k))\n",
    "    I = {}\n",
    "    for i, instr in enumerate(iter_instructions(k)):\n",
    "        if i % 2 == 0:\n",
    "            I[i] = {0: instr}\n",
    "        else:\n",
    "            I[i][1] = instr\n",
    "    return I\n",
    "\n",
    "\n",
    "class UniversalTuringMachine(TuringMachine):\n",
    "    \n",
    "    def __init__(self, k):\n",
    "        super().__init__(generate_instructions(k))\n",
    "        self.k = k\n",
    "        \n",
    "    def __str__(self):\n",
    "        return f\"T_{self.k}\"\n"
   ]
  },
  {
   "cell_type": "code",
   "execution_count": 100,
   "metadata": {},
   "outputs": [
    {
     "name": "stdout",
     "output_type": "stream",
     "text": [
      "5 [1, 0, 1]\n"
     ]
    },
    {
     "ename": "Exception",
     "evalue": "should not happen",
     "output_type": "error",
     "traceback": [
      "\u001b[0;31m---------------------------------------------------------------------------\u001b[0m",
      "\u001b[0;31mException\u001b[0m                                 Traceback (most recent call last)",
      "\u001b[0;32m<ipython-input-100-3e2f73741fd2>\u001b[0m in \u001b[0;36m<module>\u001b[0;34m\u001b[0m\n\u001b[1;32m      2\u001b[0m \u001b[0mn\u001b[0m \u001b[0;34m=\u001b[0m \u001b[0;36m3\u001b[0m\u001b[0;34m\u001b[0m\u001b[0;34m\u001b[0m\u001b[0m\n\u001b[1;32m      3\u001b[0m \u001b[0mn\u001b[0m \u001b[0;34m=\u001b[0m \u001b[0;36m5\u001b[0m\u001b[0;34m\u001b[0m\u001b[0;34m\u001b[0m\u001b[0m\n\u001b[0;32m----> 4\u001b[0;31m \u001b[0mtm\u001b[0m \u001b[0;34m=\u001b[0m \u001b[0mUniversalTuringMachine\u001b[0m\u001b[0;34m(\u001b[0m\u001b[0mn\u001b[0m\u001b[0;34m)\u001b[0m\u001b[0;34m\u001b[0m\u001b[0;34m\u001b[0m\u001b[0m\n\u001b[0m\u001b[1;32m      5\u001b[0m \u001b[0mprint\u001b[0m\u001b[0;34m(\u001b[0m\u001b[0mtm\u001b[0m\u001b[0;34m)\u001b[0m\u001b[0;34m\u001b[0m\u001b[0;34m\u001b[0m\u001b[0m\n\u001b[1;32m      6\u001b[0m \u001b[0mpprint\u001b[0m\u001b[0;34m(\u001b[0m\u001b[0mtm\u001b[0m\u001b[0;34m.\u001b[0m\u001b[0minstructions\u001b[0m\u001b[0;34m)\u001b[0m\u001b[0;34m\u001b[0m\u001b[0;34m\u001b[0m\u001b[0m\n",
      "\u001b[0;32m<ipython-input-99-0729e951f0e7>\u001b[0m in \u001b[0;36m__init__\u001b[0;34m(self, k)\u001b[0m\n\u001b[1;32m     44\u001b[0m \u001b[0;34m\u001b[0m\u001b[0m\n\u001b[1;32m     45\u001b[0m     \u001b[0;32mdef\u001b[0m \u001b[0m__init__\u001b[0m\u001b[0;34m(\u001b[0m\u001b[0mself\u001b[0m\u001b[0;34m,\u001b[0m \u001b[0mk\u001b[0m\u001b[0;34m)\u001b[0m\u001b[0;34m:\u001b[0m\u001b[0;34m\u001b[0m\u001b[0;34m\u001b[0m\u001b[0m\n\u001b[0;32m---> 46\u001b[0;31m         \u001b[0msuper\u001b[0m\u001b[0;34m(\u001b[0m\u001b[0;34m)\u001b[0m\u001b[0;34m.\u001b[0m\u001b[0m__init__\u001b[0m\u001b[0;34m(\u001b[0m\u001b[0mgenerate_instructions\u001b[0m\u001b[0;34m(\u001b[0m\u001b[0mk\u001b[0m\u001b[0;34m)\u001b[0m\u001b[0;34m)\u001b[0m\u001b[0;34m\u001b[0m\u001b[0;34m\u001b[0m\u001b[0m\n\u001b[0m\u001b[1;32m     47\u001b[0m         \u001b[0mself\u001b[0m\u001b[0;34m.\u001b[0m\u001b[0mk\u001b[0m \u001b[0;34m=\u001b[0m \u001b[0mk\u001b[0m\u001b[0;34m\u001b[0m\u001b[0;34m\u001b[0m\u001b[0m\n\u001b[1;32m     48\u001b[0m \u001b[0;34m\u001b[0m\u001b[0m\n",
      "\u001b[0;32m<ipython-input-99-0729e951f0e7>\u001b[0m in \u001b[0;36mgenerate_instructions\u001b[0;34m(k)\u001b[0m\n\u001b[1;32m     33\u001b[0m     \u001b[0mprint\u001b[0m\u001b[0;34m(\u001b[0m\u001b[0mk\u001b[0m\u001b[0;34m,\u001b[0m \u001b[0mint2bin\u001b[0m\u001b[0;34m(\u001b[0m\u001b[0mk\u001b[0m\u001b[0;34m)\u001b[0m\u001b[0;34m)\u001b[0m\u001b[0;34m\u001b[0m\u001b[0;34m\u001b[0m\u001b[0m\n\u001b[1;32m     34\u001b[0m     \u001b[0mI\u001b[0m \u001b[0;34m=\u001b[0m \u001b[0;34m{\u001b[0m\u001b[0;34m}\u001b[0m\u001b[0;34m\u001b[0m\u001b[0;34m\u001b[0m\u001b[0m\n\u001b[0;32m---> 35\u001b[0;31m     \u001b[0;32mfor\u001b[0m \u001b[0mi\u001b[0m\u001b[0;34m,\u001b[0m \u001b[0minstr\u001b[0m \u001b[0;32min\u001b[0m \u001b[0menumerate\u001b[0m\u001b[0;34m(\u001b[0m\u001b[0miter_instructions\u001b[0m\u001b[0;34m(\u001b[0m\u001b[0mk\u001b[0m\u001b[0;34m)\u001b[0m\u001b[0;34m)\u001b[0m\u001b[0;34m:\u001b[0m\u001b[0;34m\u001b[0m\u001b[0;34m\u001b[0m\u001b[0m\n\u001b[0m\u001b[1;32m     36\u001b[0m         \u001b[0;32mif\u001b[0m \u001b[0mi\u001b[0m \u001b[0;34m%\u001b[0m \u001b[0;36m2\u001b[0m \u001b[0;34m==\u001b[0m \u001b[0;36m0\u001b[0m\u001b[0;34m:\u001b[0m\u001b[0;34m\u001b[0m\u001b[0;34m\u001b[0m\u001b[0m\n\u001b[1;32m     37\u001b[0m             \u001b[0mI\u001b[0m\u001b[0;34m[\u001b[0m\u001b[0mi\u001b[0m\u001b[0;34m]\u001b[0m \u001b[0;34m=\u001b[0m \u001b[0;34m{\u001b[0m\u001b[0;36m0\u001b[0m\u001b[0;34m:\u001b[0m \u001b[0minstr\u001b[0m\u001b[0;34m}\u001b[0m\u001b[0;34m\u001b[0m\u001b[0;34m\u001b[0m\u001b[0m\n",
      "\u001b[0;32m<ipython-input-99-0729e951f0e7>\u001b[0m in \u001b[0;36miter_instructions\u001b[0;34m(k)\u001b[0m\n\u001b[1;32m     22\u001b[0m                 \u001b[0mi\u001b[0m \u001b[0;34m+=\u001b[0m \u001b[0;36m5\u001b[0m\u001b[0;34m\u001b[0m\u001b[0;34m\u001b[0m\u001b[0m\n\u001b[1;32m     23\u001b[0m             \u001b[0;32melse\u001b[0m\u001b[0;34m:\u001b[0m\u001b[0;34m\u001b[0m\u001b[0;34m\u001b[0m\u001b[0m\n\u001b[0;32m---> 24\u001b[0;31m                 \u001b[0;32mraise\u001b[0m \u001b[0mException\u001b[0m\u001b[0;34m(\u001b[0m\u001b[0;34m\"should not happen\"\u001b[0m\u001b[0;34m)\u001b[0m\u001b[0;34m\u001b[0m\u001b[0;34m\u001b[0m\u001b[0m\n\u001b[0m\u001b[1;32m     25\u001b[0m             \u001b[0;32mif\u001b[0m \u001b[0mmv\u001b[0m \u001b[0;32mis\u001b[0m \u001b[0;32mnot\u001b[0m \u001b[0;32mNone\u001b[0m\u001b[0;34m:\u001b[0m\u001b[0;34m\u001b[0m\u001b[0;34m\u001b[0m\u001b[0m\n\u001b[1;32m     26\u001b[0m                 \u001b[0;32mif\u001b[0m \u001b[0;32mnot\u001b[0m \u001b[0mvalues\u001b[0m\u001b[0;34m:\u001b[0m\u001b[0;34m\u001b[0m\u001b[0;34m\u001b[0m\u001b[0m\n",
      "\u001b[0;31mException\u001b[0m: should not happen"
     ]
    }
   ],
   "source": [
    "n = 1\n",
    "n = 3\n",
    "n = 5\n",
    "tm = UniversalTuringMachine(n)\n",
    "print(tm)\n",
    "pprint(tm.instructions)\n"
   ]
  },
  {
   "cell_type": "code",
   "execution_count": 89,
   "metadata": {},
   "outputs": [
    {
     "name": "stdout",
     "output_type": "stream",
     "text": [
      "0 [0]\n",
      "T_0\n",
      "{0: {0: (0, 0, 'R')}}\n"
     ]
    }
   ],
   "source": [
    "n = 12\n",
    "n = 1\n",
    "for k in range(n):\n",
    "    tm = UniversalTuringMachine(k)\n",
    "    print(tm)\n",
    "    pprint(tm.instructions)\n",
    "#     tape = Tape([0, 1, 1, 0, 0])\n",
    "#     run_turing_machine(tm, tape, max_iterations=15)"
   ]
  },
  {
   "cell_type": "code",
   "execution_count": null,
   "metadata": {},
   "outputs": [],
   "source": []
  }
 ],
 "metadata": {
  "kernelspec": {
   "display_name": "Python 3",
   "language": "python",
   "name": "python3"
  },
  "language_info": {
   "codemirror_mode": {
    "name": "ipython",
    "version": 3
   },
   "file_extension": ".py",
   "mimetype": "text/x-python",
   "name": "python",
   "nbconvert_exporter": "python",
   "pygments_lexer": "ipython3",
   "version": "3.8.5"
  },
  "latex_envs": {
   "LaTeX_envs_menu_present": true,
   "autoclose": false,
   "autocomplete": true,
   "bibliofile": "biblio.bib",
   "cite_by": "apalike",
   "current_citInitial": 1,
   "eqLabelWithNumbers": true,
   "eqNumInitial": 1,
   "hotkeys": {
    "equation": "Ctrl-E",
    "itemize": "Ctrl-I"
   },
   "labels_anchors": false,
   "latex_user_defs": false,
   "report_style_numbering": false,
   "user_envs_cfg": false
  },
  "toc": {
   "base_numbering": 1,
   "nav_menu": {},
   "number_sections": true,
   "sideBar": true,
   "skip_h1_title": false,
   "title_cell": "Table of Contents",
   "title_sidebar": "Contents",
   "toc_cell": false,
   "toc_position": {
    "height": "calc(100% - 180px)",
    "left": "10px",
    "top": "150px",
    "width": "402.875px"
   },
   "toc_section_display": true,
   "toc_window_display": false
  }
 },
 "nbformat": 4,
 "nbformat_minor": 4
}
