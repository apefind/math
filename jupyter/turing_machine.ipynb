{
 "cells": [
  {
   "cell_type": "markdown",
   "metadata": {},
   "source": [
    "### Miscellaneous\n"
   ]
  },
  {
   "cell_type": "code",
   "execution_count": 27,
   "metadata": {},
   "outputs": [],
   "source": [
    "%run core.ipynb"
   ]
  },
  {
   "cell_type": "markdown",
   "metadata": {},
   "source": [
    "#### Turing Machines"
   ]
  },
  {
   "cell_type": "code",
   "execution_count": 28,
   "metadata": {},
   "outputs": [],
   "source": [
    "from array import array\n",
    "\n",
    "\n",
    "class Tape:\n",
    "\n",
    "    def __init__(self, values):\n",
    "        self.values = array(\"I\", values)\n",
    "        self.pos = 0\n",
    "        \n",
    "    def __repr__(self):\n",
    "        return \" \".join([f\"{v}\" for v in self.values[:self.pos]] + \n",
    "                        [_blu(self.values[self.pos])] + \n",
    "                        [f\"{v}\" for v in self.values[self.pos + 1:]])\n",
    "    \n",
    "    def __getitem__(self, i):\n",
    "        return self.values[i]\n",
    "    \n",
    "    def read(self):\n",
    "        return self.values[self.pos]\n",
    "\n",
    "    def write(self, v):\n",
    "        self.values[self.pos] = v\n",
    "\n",
    "    def move(self, mv):\n",
    "        if mv == \"L\":\n",
    "            if self.pos == 0:\n",
    "                self.values.insert(0, 0)\n",
    "            else:\n",
    "                self.pos -= 1\n",
    "        else:\n",
    "            if self.pos == len(self.values) - 1:\n",
    "                self.values.append(0)\n",
    "            self.pos += 1\n"
   ]
  },
  {
   "cell_type": "code",
   "execution_count": 42,
   "metadata": {},
   "outputs": [],
   "source": [
    "class TuringMachine:\n",
    "    \n",
    "    def __init__(self, instructions):\n",
    "        self.instructions = instructions\n",
    "        \n",
    "    def __getitem__(self, i):\n",
    "        return self.instructions[i]\n",
    "\n",
    "    def __call__(self, tape, max_iterations=100):\n",
    "        i, instr, mv = 0, 0, None\n",
    "        while not mv == \"S\":\n",
    "            if i > max_iterations:\n",
    "                raise StopIteration(f\"max iterations {max_iterations} reached\")\n",
    "            value = tape.read()\n",
    "            next_instr, new_value, mv = self.instructions[instr][value]\n",
    "            yield instr, next_instr, value, new_value, mv\n",
    "            instr = next_instr\n",
    "            tape.write(new_value)\n",
    "            tape.move(mv)\n",
    "            i += 1\n"
   ]
  },
  {
   "cell_type": "code",
   "execution_count": 43,
   "metadata": {},
   "outputs": [],
   "source": [
    "def run_turing_machine(tm, tape):\n",
    "    for instr, _, value, new_value, move in tm(tape):\n",
    "        print(f\"{instr}: {value} -> {new_value} mv={move}:\", tape)\n",
    "    print()\n",
    "    print(f\"result: {tape}\")"
   ]
  },
  {
   "cell_type": "code",
   "execution_count": 44,
   "metadata": {},
   "outputs": [],
   "source": [
    "UNARY_PLUS_ONE = {\n",
    "    0: {\n",
    "        0: (0, 0, \"R\"), \n",
    "        1: (1, 1, \"R\"),\n",
    "    },\n",
    "    1: {\n",
    "        0: (0, 1, \"S\"), \n",
    "        1: (1, 1, \"R\"),\n",
    "    },\n",
    "}\n",
    "unary_plus_one = TuringMachine(UNARY_PLUS_ONE)"
   ]
  },
  {
   "cell_type": "code",
   "execution_count": 45,
   "metadata": {},
   "outputs": [
    {
     "name": "stdout",
     "output_type": "stream",
     "text": [
      "0: 0 -> 0 mv=R: \u001b[34m0\u001b[0m 0 1 1 1 0 0\n",
      "0: 0 -> 0 mv=R: 0 \u001b[34m0\u001b[0m 1 1 1 0 0\n",
      "0: 1 -> 1 mv=R: 0 0 \u001b[34m1\u001b[0m 1 1 0 0\n",
      "1: 1 -> 1 mv=R: 0 0 1 \u001b[34m1\u001b[0m 1 0 0\n",
      "1: 1 -> 1 mv=R: 0 0 1 1 \u001b[34m1\u001b[0m 0 0\n",
      "1: 0 -> 1 mv=S: 0 0 1 1 1 \u001b[34m0\u001b[0m 0\n",
      "\n",
      "result: 0 0 1 1 1 1 \u001b[34m0\u001b[0m\n"
     ]
    }
   ],
   "source": [
    "tape = Tape([0, 0, 1, 1, 1, 0, 0])\n",
    "run_turing_machine(unary_plus_one, tape)"
   ]
  },
  {
   "cell_type": "code",
   "execution_count": 46,
   "metadata": {},
   "outputs": [
    {
     "name": "stdout",
     "output_type": "stream",
     "text": [
      "0: 0 -> 0 mv=R: \u001b[34m0\u001b[0m 1 1 1 1 1 0 0\n",
      "0: 1 -> 1 mv=R: 0 \u001b[34m1\u001b[0m 1 1 1 1 0 0\n",
      "1: 1 -> 1 mv=R: 0 1 \u001b[34m1\u001b[0m 1 1 1 0 0\n",
      "1: 1 -> 1 mv=R: 0 1 1 \u001b[34m1\u001b[0m 1 1 0 0\n",
      "1: 1 -> 1 mv=R: 0 1 1 1 \u001b[34m1\u001b[0m 1 0 0\n",
      "1: 1 -> 1 mv=R: 0 1 1 1 1 \u001b[34m1\u001b[0m 0 0\n",
      "1: 0 -> 1 mv=S: 0 1 1 1 1 1 \u001b[34m0\u001b[0m 0\n",
      "\n",
      "result: 0 1 1 1 1 1 1 \u001b[34m0\u001b[0m\n"
     ]
    }
   ],
   "source": [
    "tape = Tape([0, 1, 1, 1, 1, 1, 0, 0])\n",
    "run_turing_machine(unary_plus_one, tape)"
   ]
  },
  {
   "cell_type": "code",
   "execution_count": 47,
   "metadata": {},
   "outputs": [],
   "source": [
    "UNARY_TIMES_TWO = {\n",
    "    0: {\n",
    "        0: (0, 0, \"R\"), \n",
    "        1: (1, 0, \"R\"),\n",
    "    },\n",
    "    1: {\n",
    "        0: (2, 1, \"L\"), \n",
    "        1: (1, 1, \"R\"),\n",
    "    },\n",
    "    2: {\n",
    "        0: (3, 0, \"R\"), \n",
    "        1: (4, 0, \"R\"),\n",
    "    },\n",
    "    3: {\n",
    "        0: (0, 1, \"S\"), \n",
    "        1: (3, 1, \"R\"),\n",
    "    },\n",
    "    4: {\n",
    "        0: (5, 1, \"L\"), \n",
    "        1: (4, 1, \"R\"),\n",
    "    },\n",
    "    5: {\n",
    "        0: (2, 1, \"L\"), \n",
    "        1: (5, 1, \"L\"),\n",
    "    },\n",
    "}\n",
    "unary_times_two = TuringMachine(UNARY_TIMES_TWO)"
   ]
  },
  {
   "cell_type": "code",
   "execution_count": 48,
   "metadata": {},
   "outputs": [
    {
     "name": "stdout",
     "output_type": "stream",
     "text": [
      "0: 1 -> 0 mv=R: \u001b[34m1\u001b[0m 1 1\n",
      "1: 1 -> 1 mv=R: 0 \u001b[34m1\u001b[0m 1\n",
      "1: 1 -> 1 mv=R: 0 1 \u001b[34m1\u001b[0m\n",
      "1: 0 -> 1 mv=L: 0 1 1 \u001b[34m0\u001b[0m\n",
      "2: 1 -> 0 mv=R: 0 1 \u001b[34m1\u001b[0m 1\n",
      "4: 1 -> 1 mv=R: 0 1 0 \u001b[34m1\u001b[0m\n",
      "4: 0 -> 1 mv=L: 0 1 0 1 \u001b[34m0\u001b[0m\n",
      "5: 1 -> 1 mv=L: 0 1 0 \u001b[34m1\u001b[0m 1\n",
      "5: 0 -> 1 mv=L: 0 1 \u001b[34m0\u001b[0m 1 1\n",
      "2: 1 -> 0 mv=R: 0 \u001b[34m1\u001b[0m 1 1 1\n",
      "4: 1 -> 1 mv=R: 0 0 \u001b[34m1\u001b[0m 1 1\n",
      "4: 1 -> 1 mv=R: 0 0 1 \u001b[34m1\u001b[0m 1\n",
      "4: 1 -> 1 mv=R: 0 0 1 1 \u001b[34m1\u001b[0m\n",
      "4: 0 -> 1 mv=L: 0 0 1 1 1 \u001b[34m0\u001b[0m\n",
      "5: 1 -> 1 mv=L: 0 0 1 1 \u001b[34m1\u001b[0m 1\n",
      "5: 1 -> 1 mv=L: 0 0 1 \u001b[34m1\u001b[0m 1 1\n",
      "5: 1 -> 1 mv=L: 0 0 \u001b[34m1\u001b[0m 1 1 1\n",
      "5: 0 -> 1 mv=L: 0 \u001b[34m0\u001b[0m 1 1 1 1\n",
      "2: 0 -> 0 mv=R: \u001b[34m0\u001b[0m 1 1 1 1 1\n",
      "3: 1 -> 1 mv=R: 0 \u001b[34m1\u001b[0m 1 1 1 1\n",
      "3: 1 -> 1 mv=R: 0 1 \u001b[34m1\u001b[0m 1 1 1\n",
      "3: 1 -> 1 mv=R: 0 1 1 \u001b[34m1\u001b[0m 1 1\n",
      "3: 1 -> 1 mv=R: 0 1 1 1 \u001b[34m1\u001b[0m 1\n",
      "3: 1 -> 1 mv=R: 0 1 1 1 1 \u001b[34m1\u001b[0m\n",
      "3: 0 -> 1 mv=S: 0 1 1 1 1 1 \u001b[34m0\u001b[0m\n",
      "\n",
      "result: 0 1 1 1 1 1 1 \u001b[34m0\u001b[0m\n"
     ]
    }
   ],
   "source": [
    "tape = Tape([0, 1, 1, 1, 0])\n",
    "tape = Tape([1, 1, 1])\n",
    "run_turing_machine(unary_times_two, tape)"
   ]
  },
  {
   "cell_type": "code",
   "execution_count": 49,
   "metadata": {},
   "outputs": [
    {
     "name": "stdout",
     "output_type": "stream",
     "text": [
      "0: 0 -> 0 mv=R: \u001b[34m0\u001b[0m 1 0\n",
      "0: 1 -> 0 mv=R: 0 \u001b[34m1\u001b[0m 0\n",
      "1: 0 -> 1 mv=L: 0 0 \u001b[34m0\u001b[0m\n",
      "2: 0 -> 0 mv=R: 0 \u001b[34m0\u001b[0m 1\n",
      "3: 1 -> 1 mv=R: 0 0 \u001b[34m1\u001b[0m\n",
      "3: 0 -> 1 mv=S: 0 0 1 \u001b[34m0\u001b[0m\n",
      "\n",
      "result: 0 0 1 1 \u001b[34m0\u001b[0m\n"
     ]
    }
   ],
   "source": [
    "tape = Tape([0, 1, 1, 10])\n",
    "run_turing_machine(unary_times_two, tape)"
   ]
  },
  {
   "cell_type": "code",
   "execution_count": null,
   "metadata": {},
   "outputs": [],
   "source": []
  }
 ],
 "metadata": {
  "kernelspec": {
   "display_name": "Python 3",
   "language": "python",
   "name": "python3"
  },
  "language_info": {
   "codemirror_mode": {
    "name": "ipython",
    "version": 3
   },
   "file_extension": ".py",
   "mimetype": "text/x-python",
   "name": "python",
   "nbconvert_exporter": "python",
   "pygments_lexer": "ipython3",
   "version": "3.8.5"
  },
  "latex_envs": {
   "LaTeX_envs_menu_present": true,
   "autoclose": false,
   "autocomplete": true,
   "bibliofile": "biblio.bib",
   "cite_by": "apalike",
   "current_citInitial": 1,
   "eqLabelWithNumbers": true,
   "eqNumInitial": 1,
   "hotkeys": {
    "equation": "Ctrl-E",
    "itemize": "Ctrl-I"
   },
   "labels_anchors": false,
   "latex_user_defs": false,
   "report_style_numbering": false,
   "user_envs_cfg": false
  },
  "toc": {
   "base_numbering": 1,
   "nav_menu": {},
   "number_sections": true,
   "sideBar": true,
   "skip_h1_title": false,
   "title_cell": "Table of Contents",
   "title_sidebar": "Contents",
   "toc_cell": false,
   "toc_position": {
    "height": "calc(100% - 180px)",
    "left": "10px",
    "top": "150px",
    "width": "402.875px"
   },
   "toc_section_display": true,
   "toc_window_display": false
  }
 },
 "nbformat": 4,
 "nbformat_minor": 4
}
