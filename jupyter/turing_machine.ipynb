{
 "cells": [
  {
   "cell_type": "markdown",
   "metadata": {},
   "source": [
    "### Turing Machines"
   ]
  },
  {
   "cell_type": "code",
   "execution_count": 27,
   "metadata": {},
   "outputs": [],
   "source": [
    "%run core.ipynb"
   ]
  },
  {
   "cell_type": "code",
   "execution_count": 28,
   "metadata": {},
   "outputs": [],
   "source": [
    "from array import array\n",
    "\n",
    "\n",
    "class Tape:\n",
    "\n",
    "    def __init__(self, values):\n",
    "        self.values = array(\"I\", values)\n",
    "        self.pos = 0\n",
    "        \n",
    "    def __repr__(self):\n",
    "        return \" \".join([f\"{v}\" for v in self.values[:self.pos]] + \n",
    "                        [_blu(self.values[self.pos])] + \n",
    "                        [f\"{v}\" for v in self.values[self.pos + 1:]])\n",
    "    \n",
    "    def __getitem__(self, i):\n",
    "        return self.values[i]\n",
    "    \n",
    "    def __iter__(self):\n",
    "        return iter(self.value)\n",
    "    \n",
    "    def read(self):\n",
    "        return self.values[self.pos]\n",
    "\n",
    "    def write(self, v):\n",
    "        self.values[self.pos] = v\n",
    "\n",
    "    def move(self, mv):\n",
    "        if mv == \"L\":\n",
    "            if self.pos == 0:\n",
    "                self.values.insert(0, 0)\n",
    "            else:\n",
    "                self.pos -= 1\n",
    "        else:\n",
    "            if self.pos == len(self.values) - 1:\n",
    "                self.values.append(0)\n",
    "            self.pos += 1\n"
   ]
  },
  {
   "cell_type": "code",
   "execution_count": 106,
   "metadata": {},
   "outputs": [],
   "source": [
    "class TuringMachine:\n",
    "    \n",
    "    def __init__(self, instructions):\n",
    "        self.instructions = instructions\n",
    "        \n",
    "    def __getitem__(self, i):\n",
    "        return self.instructions[i]\n",
    "\n",
    "    def __call__(self, tape, max_iterations=None):\n",
    "        i, instr, mv = 0, 0, None\n",
    "        while not mv == \"S\":\n",
    "            if max_iterations is not None:\n",
    "                if i > max_iterations:\n",
    "                    raise StopIteration(f\"max iterations {max_iterations} reached\")\n",
    "            value = tape.read()\n",
    "            next_instr, new_value, mv = self.instructions[instr][value]\n",
    "            yield instr, next_instr, value, new_value, mv\n",
    "            tape.write(new_value)\n",
    "            tape.move(mv)\n",
    "            instr = next_instr\n",
    "            i += 1\n"
   ]
  },
  {
   "cell_type": "code",
   "execution_count": 107,
   "metadata": {},
   "outputs": [],
   "source": [
    "def run_turing_machine(tm, tape, max_iterations=100):\n",
    "    for instr, _, value, new_value, move in tm(tape, max_iterations=max_iterations):\n",
    "        print(f\"{instr}: {value} -> {new_value} mv={move}:\", tape)\n",
    "    print()\n",
    "    print(f\"result: {tape}\")"
   ]
  },
  {
   "cell_type": "code",
   "execution_count": 108,
   "metadata": {},
   "outputs": [],
   "source": [
    "UN_PLUS_ONE = {\n",
    "    0: {\n",
    "        0: (0, 0, \"R\"), \n",
    "        1: (1, 1, \"R\"),\n",
    "    },\n",
    "    1: {\n",
    "        0: (0, 1, \"S\"), \n",
    "        1: (1, 1, \"R\"),\n",
    "    },\n",
    "}\n",
    "un_plus_one = TuringMachine(UN_PLUS_ONE)"
   ]
  },
  {
   "cell_type": "code",
   "execution_count": 109,
   "metadata": {},
   "outputs": [
    {
     "name": "stdout",
     "output_type": "stream",
     "text": [
      "0: 0 -> 0 mv=R: \u001b[34m0\u001b[0m 0 1 1 1 0 0\n",
      "0: 0 -> 0 mv=R: 0 \u001b[34m0\u001b[0m 1 1 1 0 0\n",
      "0: 1 -> 1 mv=R: 0 0 \u001b[34m1\u001b[0m 1 1 0 0\n",
      "1: 1 -> 1 mv=R: 0 0 1 \u001b[34m1\u001b[0m 1 0 0\n",
      "1: 1 -> 1 mv=R: 0 0 1 1 \u001b[34m1\u001b[0m 0 0\n",
      "1: 0 -> 1 mv=S: 0 0 1 1 1 \u001b[34m0\u001b[0m 0\n",
      "\n",
      "result: 0 0 1 1 1 1 \u001b[34m0\u001b[0m\n"
     ]
    }
   ],
   "source": [
    "tape = Tape([0, 0, 1, 1, 1, 0, 0])\n",
    "run_turing_machine(un_plus_one, tape)"
   ]
  },
  {
   "cell_type": "code",
   "execution_count": 110,
   "metadata": {},
   "outputs": [
    {
     "name": "stdout",
     "output_type": "stream",
     "text": [
      "0: 0 -> 0 mv=R: \u001b[34m0\u001b[0m 1 1 1 1 1 0 0\n",
      "0: 1 -> 1 mv=R: 0 \u001b[34m1\u001b[0m 1 1 1 1 0 0\n",
      "1: 1 -> 1 mv=R: 0 1 \u001b[34m1\u001b[0m 1 1 1 0 0\n",
      "1: 1 -> 1 mv=R: 0 1 1 \u001b[34m1\u001b[0m 1 1 0 0\n",
      "1: 1 -> 1 mv=R: 0 1 1 1 \u001b[34m1\u001b[0m 1 0 0\n",
      "1: 1 -> 1 mv=R: 0 1 1 1 1 \u001b[34m1\u001b[0m 0 0\n",
      "1: 0 -> 1 mv=S: 0 1 1 1 1 1 \u001b[34m0\u001b[0m 0\n",
      "\n",
      "result: 0 1 1 1 1 1 1 \u001b[34m0\u001b[0m\n"
     ]
    }
   ],
   "source": [
    "tape = Tape([0, 1, 1, 1, 1, 1, 0, 0])\n",
    "run_turing_machine(un_plus_one, tape)"
   ]
  },
  {
   "cell_type": "code",
   "execution_count": 111,
   "metadata": {},
   "outputs": [],
   "source": [
    "UN_TIMES_TWO = {\n",
    "    0: {\n",
    "        0: (0, 0, \"R\"), \n",
    "        1: (1, 0, \"R\"),\n",
    "    },\n",
    "    1: {\n",
    "        0: (2, 1, \"L\"), \n",
    "        1: (1, 1, \"R\"),\n",
    "    },\n",
    "    2: {\n",
    "        0: (3, 0, \"R\"), \n",
    "        1: (4, 0, \"R\"),\n",
    "    },\n",
    "    3: {\n",
    "        0: (0, 1, \"S\"), \n",
    "        1: (3, 1, \"R\"),\n",
    "    },\n",
    "    4: {\n",
    "        0: (5, 1, \"L\"), \n",
    "        1: (4, 1, \"R\"),\n",
    "    },\n",
    "    5: {\n",
    "        0: (2, 1, \"L\"), \n",
    "        1: (5, 1, \"L\"),\n",
    "    },\n",
    "}\n",
    "un_times_two = TuringMachine(UN_TIMES_TWO)"
   ]
  },
  {
   "cell_type": "code",
   "execution_count": 112,
   "metadata": {},
   "outputs": [
    {
     "name": "stdout",
     "output_type": "stream",
     "text": [
      "0: 0 -> 0 mv=R: \u001b[34m0\u001b[0m 1\n",
      "0: 1 -> 0 mv=R: 0 \u001b[34m1\u001b[0m\n",
      "1: 0 -> 1 mv=L: 0 0 \u001b[34m0\u001b[0m\n",
      "2: 0 -> 0 mv=R: 0 \u001b[34m0\u001b[0m 1\n",
      "3: 1 -> 1 mv=R: 0 0 \u001b[34m1\u001b[0m\n",
      "3: 0 -> 1 mv=S: 0 0 1 \u001b[34m0\u001b[0m\n",
      "\n",
      "result: 0 0 1 1 \u001b[34m0\u001b[0m\n"
     ]
    }
   ],
   "source": [
    "tape = Tape([0, 1])\n",
    "run_turing_machine(un_times_two, tape)"
   ]
  },
  {
   "cell_type": "code",
   "execution_count": 123,
   "metadata": {},
   "outputs": [
    {
     "name": "stdout",
     "output_type": "stream",
     "text": [
      "0: 1 -> 0 mv=R: \u001b[34m1\u001b[0m 1 1\n",
      "1: 1 -> 1 mv=R: 0 \u001b[34m1\u001b[0m 1\n",
      "1: 1 -> 1 mv=R: 0 1 \u001b[34m1\u001b[0m\n",
      "1: 0 -> 1 mv=L: 0 1 1 \u001b[34m0\u001b[0m\n",
      "2: 1 -> 0 mv=R: 0 1 \u001b[34m1\u001b[0m 1\n",
      "4: 1 -> 1 mv=R: 0 1 0 \u001b[34m1\u001b[0m\n",
      "4: 0 -> 1 mv=L: 0 1 0 1 \u001b[34m0\u001b[0m\n",
      "5: 1 -> 1 mv=L: 0 1 0 \u001b[34m1\u001b[0m 1\n",
      "5: 0 -> 1 mv=L: 0 1 \u001b[34m0\u001b[0m 1 1\n",
      "2: 1 -> 0 mv=R: 0 \u001b[34m1\u001b[0m 1 1 1\n",
      "4: 1 -> 1 mv=R: 0 0 \u001b[34m1\u001b[0m 1 1\n",
      "4: 1 -> 1 mv=R: 0 0 1 \u001b[34m1\u001b[0m 1\n",
      "4: 1 -> 1 mv=R: 0 0 1 1 \u001b[34m1\u001b[0m\n",
      "4: 0 -> 1 mv=L: 0 0 1 1 1 \u001b[34m0\u001b[0m\n",
      "5: 1 -> 1 mv=L: 0 0 1 1 \u001b[34m1\u001b[0m 1\n",
      "5: 1 -> 1 mv=L: 0 0 1 \u001b[34m1\u001b[0m 1 1\n",
      "5: 1 -> 1 mv=L: 0 0 \u001b[34m1\u001b[0m 1 1 1\n",
      "5: 0 -> 1 mv=L: 0 \u001b[34m0\u001b[0m 1 1 1 1\n",
      "2: 0 -> 0 mv=R: \u001b[34m0\u001b[0m 1 1 1 1 1\n",
      "3: 1 -> 1 mv=R: 0 \u001b[34m1\u001b[0m 1 1 1 1\n",
      "3: 1 -> 1 mv=R: 0 1 \u001b[34m1\u001b[0m 1 1 1\n",
      "3: 1 -> 1 mv=R: 0 1 1 \u001b[34m1\u001b[0m 1 1\n",
      "3: 1 -> 1 mv=R: 0 1 1 1 \u001b[34m1\u001b[0m 1\n",
      "3: 1 -> 1 mv=R: 0 1 1 1 1 \u001b[34m1\u001b[0m\n",
      "3: 0 -> 1 mv=S: 0 1 1 1 1 1 \u001b[34m0\u001b[0m\n",
      "\n",
      "result: 0 1 1 1 1 1 1 \u001b[34m0\u001b[0m\n"
     ]
    }
   ],
   "source": [
    "tape = Tape([0, 1, 1, 1, 0])\n",
    "tape = Tape([1, 1, 1])\n",
    "run_turing_machine(un_times_two, tape)"
   ]
  },
  {
   "cell_type": "code",
   "execution_count": 118,
   "metadata": {},
   "outputs": [],
   "source": [
    "def int2bin(x):\n",
    "    return [int(i) for i in bin(x)[2:]]\n",
    "\n",
    "\n",
    "def bin2int(X):\n",
    "    return sum(2**i if x == 1 else 0 for i, x in enumerate(reversed(X)))\n",
    "\n",
    "\n",
    "def int2exbin(x):\n",
    "    y = []\n",
    "    for n in binary(x):\n",
    "        if n == 0:\n",
    "            y.append(0)\n",
    "        elif n == 1:\n",
    "            y.append(1)\n",
    "            y.append(0)\n",
    "        elif n == \",\":\n",
    "            y.append(1)\n",
    "            y.append(1)\n",
    "            y.append(0)\n",
    "    return y\n",
    "\n",
    "\n",
    "def exbin2int(X):\n",
    "    y = []\n",
    "    for x in X:\n",
    "        pass\n",
    "    return bin2int(y)\n"
   ]
  },
  {
   "cell_type": "code",
   "execution_count": 125,
   "metadata": {},
   "outputs": [
    {
     "data": {
      "text/plain": [
       "[1, 0, 0, 1, 0, 0, 0, 1, 0, 1, 0, 1, 0]"
      ]
     },
     "execution_count": 125,
     "metadata": {},
     "output_type": "execute_result"
    }
   ],
   "source": [
    "x = 167\n",
    "assert x == bin2int(int2bin(x))\n",
    "int2exbin(x)"
   ]
  },
  {
   "cell_type": "code",
   "execution_count": 120,
   "metadata": {},
   "outputs": [],
   "source": [
    "XN_TIMES_TWO = {\n",
    "    0: {\n",
    "        0: (0, 0, \"R\"), \n",
    "        1: (1, 0, \"R\"),\n",
    "    },\n",
    "    1: {\n",
    "        0: (0, 1, \"R\"), \n",
    "        1: (2, 0, \"R\"),\n",
    "    },\n",
    "    2: {\n",
    "        0: (3, 1, \"R\"), \n",
    "    },\n",
    "    3: {\n",
    "        0: (0, 1, \"S\"),\n",
    "    },\n",
    "}\n",
    "xn_times_two = TuringMachine(XN_TIMES_TWO)"
   ]
  },
  {
   "cell_type": "code",
   "execution_count": 122,
   "metadata": {},
   "outputs": [
    {
     "data": {
      "text/plain": [
       "5"
      ]
     },
     "execution_count": 122,
     "metadata": {},
     "output_type": "execute_result"
    },
    {
     "data": {
      "text/plain": [
       "[1, 0, 1]"
      ]
     },
     "execution_count": 122,
     "metadata": {},
     "output_type": "execute_result"
    },
    {
     "data": {
      "text/plain": [
       "[1, 0, 0, 1, 0]"
      ]
     },
     "execution_count": 122,
     "metadata": {},
     "output_type": "execute_result"
    },
    {
     "name": "stdout",
     "output_type": "stream",
     "text": [
      "0: 1 -> 0 mv=R: \u001b[34m1\u001b[0m 0 0 1 0\n",
      "1: 0 -> 1 mv=R: 0 \u001b[34m0\u001b[0m 0 1 0\n",
      "0: 0 -> 0 mv=R: 0 1 \u001b[34m0\u001b[0m 1 0\n",
      "0: 1 -> 0 mv=R: 0 1 0 \u001b[34m1\u001b[0m 0\n",
      "1: 0 -> 1 mv=R: 0 1 0 0 \u001b[34m0\u001b[0m\n",
      "0: 0 -> 0 mv=R: 0 1 0 0 1 \u001b[34m0\u001b[0m\n",
      "0: 0 -> 0 mv=R: 0 1 0 0 1 0 \u001b[34m0\u001b[0m\n",
      "0: 0 -> 0 mv=R: 0 1 0 0 1 0 0 \u001b[34m0\u001b[0m\n",
      "0: 0 -> 0 mv=R: 0 1 0 0 1 0 0 0 \u001b[34m0\u001b[0m\n",
      "0: 0 -> 0 mv=R: 0 1 0 0 1 0 0 0 0 \u001b[34m0\u001b[0m\n",
      "0: 0 -> 0 mv=R: 0 1 0 0 1 0 0 0 0 0 \u001b[34m0\u001b[0m\n"
     ]
    },
    {
     "ename": "RuntimeError",
     "evalue": "generator raised StopIteration",
     "output_type": "error",
     "traceback": [
      "\u001b[0;31m---------------------------------------------------------------------------\u001b[0m",
      "\u001b[0;31mStopIteration\u001b[0m                             Traceback (most recent call last)",
      "\u001b[0;32m<ipython-input-106-1a63996216d2>\u001b[0m in \u001b[0;36m__call__\u001b[0;34m(self, tape, max_iterations)\u001b[0m\n\u001b[1;32m     13\u001b[0m                 \u001b[0;32mif\u001b[0m \u001b[0mi\u001b[0m \u001b[0;34m>\u001b[0m \u001b[0mmax_iterations\u001b[0m\u001b[0;34m:\u001b[0m\u001b[0;34m\u001b[0m\u001b[0;34m\u001b[0m\u001b[0m\n\u001b[0;32m---> 14\u001b[0;31m                     \u001b[0;32mraise\u001b[0m \u001b[0mStopIteration\u001b[0m\u001b[0;34m(\u001b[0m\u001b[0;34mf\"max iterations {max_iterations} reached\"\u001b[0m\u001b[0;34m)\u001b[0m\u001b[0;34m\u001b[0m\u001b[0;34m\u001b[0m\u001b[0m\n\u001b[0m\u001b[1;32m     15\u001b[0m             \u001b[0mvalue\u001b[0m \u001b[0;34m=\u001b[0m \u001b[0mtape\u001b[0m\u001b[0;34m.\u001b[0m\u001b[0mread\u001b[0m\u001b[0;34m(\u001b[0m\u001b[0;34m)\u001b[0m\u001b[0;34m\u001b[0m\u001b[0;34m\u001b[0m\u001b[0m\n",
      "\u001b[0;31mStopIteration\u001b[0m: max iterations 10 reached",
      "\nThe above exception was the direct cause of the following exception:\n",
      "\u001b[0;31mRuntimeError\u001b[0m                              Traceback (most recent call last)",
      "\u001b[0;32m<ipython-input-122-378a5b7de0d9>\u001b[0m in \u001b[0;36m<module>\u001b[0;34m\u001b[0m\n\u001b[1;32m      4\u001b[0m \u001b[0mint2exbin\u001b[0m\u001b[0;34m(\u001b[0m\u001b[0mx\u001b[0m\u001b[0;34m)\u001b[0m\u001b[0;34m\u001b[0m\u001b[0;34m\u001b[0m\u001b[0m\n\u001b[1;32m      5\u001b[0m \u001b[0mtape\u001b[0m \u001b[0;34m=\u001b[0m \u001b[0mTape\u001b[0m\u001b[0;34m(\u001b[0m\u001b[0mint2exbin\u001b[0m\u001b[0;34m(\u001b[0m\u001b[0mx\u001b[0m\u001b[0;34m)\u001b[0m\u001b[0;34m)\u001b[0m\u001b[0;34m\u001b[0m\u001b[0;34m\u001b[0m\u001b[0m\n\u001b[0;32m----> 6\u001b[0;31m \u001b[0mrun_turing_machine\u001b[0m\u001b[0;34m(\u001b[0m\u001b[0mxn_times_two\u001b[0m\u001b[0;34m,\u001b[0m \u001b[0mtape\u001b[0m\u001b[0;34m,\u001b[0m \u001b[0mmax_iterations\u001b[0m\u001b[0;34m=\u001b[0m\u001b[0;36m10\u001b[0m\u001b[0;34m)\u001b[0m\u001b[0;34m\u001b[0m\u001b[0;34m\u001b[0m\u001b[0m\n\u001b[0m\u001b[1;32m      7\u001b[0m \u001b[0;31m# exbin2int(tape)\u001b[0m\u001b[0;34m\u001b[0m\u001b[0;34m\u001b[0m\u001b[0;34m\u001b[0m\u001b[0m\n",
      "\u001b[0;32m<ipython-input-107-c4560c3e5000>\u001b[0m in \u001b[0;36mrun_turing_machine\u001b[0;34m(tm, tape, max_iterations)\u001b[0m\n\u001b[1;32m      1\u001b[0m \u001b[0;32mdef\u001b[0m \u001b[0mrun_turing_machine\u001b[0m\u001b[0;34m(\u001b[0m\u001b[0mtm\u001b[0m\u001b[0;34m,\u001b[0m \u001b[0mtape\u001b[0m\u001b[0;34m,\u001b[0m \u001b[0mmax_iterations\u001b[0m\u001b[0;34m=\u001b[0m\u001b[0;36m100\u001b[0m\u001b[0;34m)\u001b[0m\u001b[0;34m:\u001b[0m\u001b[0;34m\u001b[0m\u001b[0;34m\u001b[0m\u001b[0m\n\u001b[0;32m----> 2\u001b[0;31m     \u001b[0;32mfor\u001b[0m \u001b[0minstr\u001b[0m\u001b[0;34m,\u001b[0m \u001b[0m_\u001b[0m\u001b[0;34m,\u001b[0m \u001b[0mvalue\u001b[0m\u001b[0;34m,\u001b[0m \u001b[0mnew_value\u001b[0m\u001b[0;34m,\u001b[0m \u001b[0mmove\u001b[0m \u001b[0;32min\u001b[0m \u001b[0mtm\u001b[0m\u001b[0;34m(\u001b[0m\u001b[0mtape\u001b[0m\u001b[0;34m,\u001b[0m \u001b[0mmax_iterations\u001b[0m\u001b[0;34m=\u001b[0m\u001b[0mmax_iterations\u001b[0m\u001b[0;34m)\u001b[0m\u001b[0;34m:\u001b[0m\u001b[0;34m\u001b[0m\u001b[0;34m\u001b[0m\u001b[0m\n\u001b[0m\u001b[1;32m      3\u001b[0m         \u001b[0mprint\u001b[0m\u001b[0;34m(\u001b[0m\u001b[0;34mf\"{instr}: {value} -> {new_value} mv={move}:\"\u001b[0m\u001b[0;34m,\u001b[0m \u001b[0mtape\u001b[0m\u001b[0;34m)\u001b[0m\u001b[0;34m\u001b[0m\u001b[0;34m\u001b[0m\u001b[0m\n\u001b[1;32m      4\u001b[0m     \u001b[0mprint\u001b[0m\u001b[0;34m(\u001b[0m\u001b[0;34m)\u001b[0m\u001b[0;34m\u001b[0m\u001b[0;34m\u001b[0m\u001b[0m\n\u001b[1;32m      5\u001b[0m     \u001b[0mprint\u001b[0m\u001b[0;34m(\u001b[0m\u001b[0;34mf\"result: {tape}\"\u001b[0m\u001b[0;34m)\u001b[0m\u001b[0;34m\u001b[0m\u001b[0;34m\u001b[0m\u001b[0m\n",
      "\u001b[0;31mRuntimeError\u001b[0m: generator raised StopIteration"
     ]
    }
   ],
   "source": [
    "x = 5\n",
    "x\n",
    "int2bin(x)\n",
    "int2exbin(x)\n",
    "tape = Tape(int2exbin(x))\n",
    "run_turing_machine(xn_times_two, tape, max_iterations=10)\n",
    "# exbin2int(tape)"
   ]
  },
  {
   "cell_type": "code",
   "execution_count": null,
   "metadata": {},
   "outputs": [],
   "source": []
  },
  {
   "cell_type": "code",
   "execution_count": null,
   "metadata": {},
   "outputs": [],
   "source": []
  }
 ],
 "metadata": {
  "kernelspec": {
   "display_name": "Python 3",
   "language": "python",
   "name": "python3"
  },
  "language_info": {
   "codemirror_mode": {
    "name": "ipython",
    "version": 3
   },
   "file_extension": ".py",
   "mimetype": "text/x-python",
   "name": "python",
   "nbconvert_exporter": "python",
   "pygments_lexer": "ipython3",
   "version": "3.8.5"
  },
  "latex_envs": {
   "LaTeX_envs_menu_present": true,
   "autoclose": false,
   "autocomplete": true,
   "bibliofile": "biblio.bib",
   "cite_by": "apalike",
   "current_citInitial": 1,
   "eqLabelWithNumbers": true,
   "eqNumInitial": 1,
   "hotkeys": {
    "equation": "Ctrl-E",
    "itemize": "Ctrl-I"
   },
   "labels_anchors": false,
   "latex_user_defs": false,
   "report_style_numbering": false,
   "user_envs_cfg": false
  },
  "toc": {
   "base_numbering": 1,
   "nav_menu": {},
   "number_sections": true,
   "sideBar": true,
   "skip_h1_title": false,
   "title_cell": "Table of Contents",
   "title_sidebar": "Contents",
   "toc_cell": false,
   "toc_position": {
    "height": "calc(100% - 180px)",
    "left": "10px",
    "top": "150px",
    "width": "402.875px"
   },
   "toc_section_display": true,
   "toc_window_display": false
  }
 },
 "nbformat": 4,
 "nbformat_minor": 4
}
