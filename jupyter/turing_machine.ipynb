{
 "cells": [
  {
   "cell_type": "markdown",
   "metadata": {},
   "source": [
    "### Turing Machines"
   ]
  },
  {
   "cell_type": "code",
   "execution_count": 27,
   "metadata": {},
   "outputs": [],
   "source": [
    "%run core.ipynb"
   ]
  },
  {
   "cell_type": "code",
   "execution_count": 167,
   "metadata": {},
   "outputs": [],
   "source": [
    "from array import array\n",
    "\n",
    "\n",
    "class Tape:\n",
    "\n",
    "    def __init__(self, values):\n",
    "        self.values = array(\"I\", values)\n",
    "        self.pos = 0\n",
    "        \n",
    "    def __repr__(self):\n",
    "        return \" \".join([f\"{v}\" for v in self.values[:self.pos]] + \n",
    "                        [_blu(self.values[self.pos])] + \n",
    "                        [f\"{v}\" for v in self.values[self.pos + 1:]])\n",
    "    \n",
    "    def __getitem__(self, i):\n",
    "        return self.values[i]\n",
    "    \n",
    "    def __iter__(self):\n",
    "        return iter(self.values)\n",
    "    \n",
    "    def __len__(self):\n",
    "        return len(self.values)\n",
    "    \n",
    "    def read(self):\n",
    "        return self.values[self.pos]\n",
    "\n",
    "    def write(self, v):\n",
    "        self.values[self.pos] = v\n",
    "\n",
    "    def move(self, mv):\n",
    "        if mv == \"L\":\n",
    "            if self.pos == 0:\n",
    "                self.values.insert(0, 0)\n",
    "            else:\n",
    "                self.pos -= 1\n",
    "        else:\n",
    "            if self.pos == len(self.values) - 1:\n",
    "                self.values.append(0)\n",
    "            self.pos += 1\n"
   ]
  },
  {
   "cell_type": "code",
   "execution_count": 168,
   "metadata": {},
   "outputs": [],
   "source": [
    "class TuringMachine:\n",
    "    \n",
    "    def __init__(self, instructions):\n",
    "        self.instructions = instructions\n",
    "        \n",
    "    def __getitem__(self, i):\n",
    "        return self.instructions[i]\n",
    "\n",
    "    def __call__(self, tape, max_iterations=None):\n",
    "        i, instr, mv = 0, 0, None\n",
    "        while not mv == \"S\":\n",
    "            if max_iterations is not None:\n",
    "                if i > max_iterations:\n",
    "                    raise StopIteration(f\"max iterations {max_iterations} reached\")\n",
    "            value = tape.read()\n",
    "            next_instr, new_value, mv = self.instructions[instr][value]\n",
    "            yield instr, next_instr, value, new_value, mv\n",
    "            tape.write(new_value)\n",
    "            tape.move(mv)\n",
    "            instr = next_instr\n",
    "            i += 1\n"
   ]
  },
  {
   "cell_type": "code",
   "execution_count": 169,
   "metadata": {},
   "outputs": [],
   "source": [
    "def run_turing_machine(tm, tape, max_iterations=None):\n",
    "    for instr, _, value, new_value, move in tm(tape, max_iterations=max_iterations):\n",
    "        print(f\"{instr}: {value} -> {new_value} mv={move}:\", tape)\n",
    "    print()\n",
    "    print(f\"result: {tape}\")"
   ]
  },
  {
   "cell_type": "code",
   "execution_count": 170,
   "metadata": {},
   "outputs": [],
   "source": [
    "UN_PLUS_ONE = {\n",
    "    0: {\n",
    "        0: (0, 0, \"R\"), \n",
    "        1: (1, 1, \"R\"),\n",
    "    },\n",
    "    1: {\n",
    "        0: (0, 1, \"S\"), \n",
    "        1: (1, 1, \"R\"),\n",
    "    },\n",
    "}\n",
    "un_plus_one = TuringMachine(UN_PLUS_ONE)"
   ]
  },
  {
   "cell_type": "code",
   "execution_count": 171,
   "metadata": {},
   "outputs": [
    {
     "name": "stdout",
     "output_type": "stream",
     "text": [
      "0: 0 -> 0 mv=R: \u001b[34m0\u001b[0m 0 1 1 1 0 0\n",
      "0: 0 -> 0 mv=R: 0 \u001b[34m0\u001b[0m 1 1 1 0 0\n",
      "0: 1 -> 1 mv=R: 0 0 \u001b[34m1\u001b[0m 1 1 0 0\n",
      "1: 1 -> 1 mv=R: 0 0 1 \u001b[34m1\u001b[0m 1 0 0\n",
      "1: 1 -> 1 mv=R: 0 0 1 1 \u001b[34m1\u001b[0m 0 0\n",
      "1: 0 -> 1 mv=S: 0 0 1 1 1 \u001b[34m0\u001b[0m 0\n",
      "\n",
      "result: 0 0 1 1 1 1 \u001b[34m0\u001b[0m\n"
     ]
    }
   ],
   "source": [
    "tape = Tape([0, 0, 1, 1, 1, 0, 0])\n",
    "run_turing_machine(un_plus_one, tape)"
   ]
  },
  {
   "cell_type": "code",
   "execution_count": 172,
   "metadata": {},
   "outputs": [
    {
     "name": "stdout",
     "output_type": "stream",
     "text": [
      "0: 0 -> 0 mv=R: \u001b[34m0\u001b[0m 1 1 1 1 1 0 0\n",
      "0: 1 -> 1 mv=R: 0 \u001b[34m1\u001b[0m 1 1 1 1 0 0\n",
      "1: 1 -> 1 mv=R: 0 1 \u001b[34m1\u001b[0m 1 1 1 0 0\n",
      "1: 1 -> 1 mv=R: 0 1 1 \u001b[34m1\u001b[0m 1 1 0 0\n",
      "1: 1 -> 1 mv=R: 0 1 1 1 \u001b[34m1\u001b[0m 1 0 0\n",
      "1: 1 -> 1 mv=R: 0 1 1 1 1 \u001b[34m1\u001b[0m 0 0\n",
      "1: 0 -> 1 mv=S: 0 1 1 1 1 1 \u001b[34m0\u001b[0m 0\n",
      "\n",
      "result: 0 1 1 1 1 1 1 \u001b[34m0\u001b[0m\n"
     ]
    }
   ],
   "source": [
    "tape = Tape([0, 1, 1, 1, 1, 1, 0, 0])\n",
    "run_turing_machine(un_plus_one, tape)"
   ]
  },
  {
   "cell_type": "code",
   "execution_count": 173,
   "metadata": {},
   "outputs": [],
   "source": [
    "UN_TIMES_TWO = {\n",
    "    0: {\n",
    "        0: (0, 0, \"R\"), \n",
    "        1: (1, 0, \"R\"),\n",
    "    },\n",
    "    1: {\n",
    "        0: (2, 1, \"L\"), \n",
    "        1: (1, 1, \"R\"),\n",
    "    },\n",
    "    2: {\n",
    "        0: (3, 0, \"R\"), \n",
    "        1: (4, 0, \"R\"),\n",
    "    },\n",
    "    3: {\n",
    "        0: (0, 1, \"S\"), \n",
    "        1: (3, 1, \"R\"),\n",
    "    },\n",
    "    4: {\n",
    "        0: (5, 1, \"L\"), \n",
    "        1: (4, 1, \"R\"),\n",
    "    },\n",
    "    5: {\n",
    "        0: (2, 1, \"L\"), \n",
    "        1: (5, 1, \"L\"),\n",
    "    },\n",
    "}\n",
    "un_times_two = TuringMachine(UN_TIMES_TWO)"
   ]
  },
  {
   "cell_type": "code",
   "execution_count": 174,
   "metadata": {},
   "outputs": [
    {
     "name": "stdout",
     "output_type": "stream",
     "text": [
      "0: 0 -> 0 mv=R: \u001b[34m0\u001b[0m 1\n",
      "0: 1 -> 0 mv=R: 0 \u001b[34m1\u001b[0m\n",
      "1: 0 -> 1 mv=L: 0 0 \u001b[34m0\u001b[0m\n",
      "2: 0 -> 0 mv=R: 0 \u001b[34m0\u001b[0m 1\n",
      "3: 1 -> 1 mv=R: 0 0 \u001b[34m1\u001b[0m\n",
      "3: 0 -> 1 mv=S: 0 0 1 \u001b[34m0\u001b[0m\n",
      "\n",
      "result: 0 0 1 1 \u001b[34m0\u001b[0m\n"
     ]
    }
   ],
   "source": [
    "tape = Tape([0, 1])\n",
    "run_turing_machine(un_times_two, tape)"
   ]
  },
  {
   "cell_type": "code",
   "execution_count": 175,
   "metadata": {},
   "outputs": [
    {
     "name": "stdout",
     "output_type": "stream",
     "text": [
      "0: 1 -> 0 mv=R: \u001b[34m1\u001b[0m 1 1\n",
      "1: 1 -> 1 mv=R: 0 \u001b[34m1\u001b[0m 1\n",
      "1: 1 -> 1 mv=R: 0 1 \u001b[34m1\u001b[0m\n",
      "1: 0 -> 1 mv=L: 0 1 1 \u001b[34m0\u001b[0m\n",
      "2: 1 -> 0 mv=R: 0 1 \u001b[34m1\u001b[0m 1\n",
      "4: 1 -> 1 mv=R: 0 1 0 \u001b[34m1\u001b[0m\n",
      "4: 0 -> 1 mv=L: 0 1 0 1 \u001b[34m0\u001b[0m\n",
      "5: 1 -> 1 mv=L: 0 1 0 \u001b[34m1\u001b[0m 1\n",
      "5: 0 -> 1 mv=L: 0 1 \u001b[34m0\u001b[0m 1 1\n",
      "2: 1 -> 0 mv=R: 0 \u001b[34m1\u001b[0m 1 1 1\n",
      "4: 1 -> 1 mv=R: 0 0 \u001b[34m1\u001b[0m 1 1\n",
      "4: 1 -> 1 mv=R: 0 0 1 \u001b[34m1\u001b[0m 1\n",
      "4: 1 -> 1 mv=R: 0 0 1 1 \u001b[34m1\u001b[0m\n",
      "4: 0 -> 1 mv=L: 0 0 1 1 1 \u001b[34m0\u001b[0m\n",
      "5: 1 -> 1 mv=L: 0 0 1 1 \u001b[34m1\u001b[0m 1\n",
      "5: 1 -> 1 mv=L: 0 0 1 \u001b[34m1\u001b[0m 1 1\n",
      "5: 1 -> 1 mv=L: 0 0 \u001b[34m1\u001b[0m 1 1 1\n",
      "5: 0 -> 1 mv=L: 0 \u001b[34m0\u001b[0m 1 1 1 1\n",
      "2: 0 -> 0 mv=R: \u001b[34m0\u001b[0m 1 1 1 1 1\n",
      "3: 1 -> 1 mv=R: 0 \u001b[34m1\u001b[0m 1 1 1 1\n",
      "3: 1 -> 1 mv=R: 0 1 \u001b[34m1\u001b[0m 1 1 1\n",
      "3: 1 -> 1 mv=R: 0 1 1 \u001b[34m1\u001b[0m 1 1\n",
      "3: 1 -> 1 mv=R: 0 1 1 1 \u001b[34m1\u001b[0m 1\n",
      "3: 1 -> 1 mv=R: 0 1 1 1 1 \u001b[34m1\u001b[0m\n",
      "3: 0 -> 1 mv=S: 0 1 1 1 1 1 \u001b[34m0\u001b[0m\n",
      "\n",
      "result: 0 1 1 1 1 1 1 \u001b[34m0\u001b[0m\n"
     ]
    }
   ],
   "source": [
    "tape = Tape([0, 1, 1, 1, 0])\n",
    "tape = Tape([1, 1, 1])\n",
    "run_turing_machine(un_times_two, tape)"
   ]
  },
  {
   "cell_type": "code",
   "execution_count": 176,
   "metadata": {},
   "outputs": [],
   "source": [
    "def int2bin(x):\n",
    "    return [int(i) for i in bin(x)[2:]]\n",
    "\n",
    "\n",
    "def bin2int(X):\n",
    "    return sum(2**i if x == 1 else 0 for i, x in enumerate(reversed(X)))\n",
    "\n",
    "\n",
    "def int2xnbin(X):\n",
    "    y = []\n",
    "    for x in X:\n",
    "        for n in binary(x):\n",
    "            if n == 0:\n",
    "                y.append(0)\n",
    "            elif n == 1:\n",
    "                y.append(1)\n",
    "                y.append(0)\n",
    "        y.append(1)\n",
    "        y.append(1)\n",
    "        y.append(0)\n",
    "    return y\n",
    "\n",
    "\n",
    "def xnbin2int(y):\n",
    "    i, x, X = 0, [], []\n",
    "    while i < len(y):\n",
    "        if y[i] == 0:\n",
    "            x.append(0)\n",
    "            i += 1\n",
    "        elif y[i] == 1:\n",
    "            i += 1\n",
    "            if y[i] == 0:\n",
    "                x.append(1)\n",
    "                i += 1\n",
    "            else:\n",
    "                X.append(bin2int(x))\n",
    "                i += 2\n",
    "                x = []\n",
    "    return X\n"
   ]
  },
  {
   "cell_type": "code",
   "execution_count": 177,
   "metadata": {},
   "outputs": [
    {
     "data": {
      "text/plain": [
       "[1, 0, 0, 1, 0, 0, 0, 1, 0, 1, 0, 1, 0, 1, 1, 0]"
      ]
     },
     "execution_count": 177,
     "metadata": {},
     "output_type": "execute_result"
    },
    {
     "data": {
      "text/plain": [
       "[1, 0, 1, 0, 0, 1, 1, 0, 1, 0, 0, 0, 0, 1, 1, 0]"
      ]
     },
     "execution_count": 177,
     "metadata": {},
     "output_type": "execute_result"
    }
   ],
   "source": [
    "x = 167\n",
    "assert x == bin2int(int2bin(x))\n",
    "\n",
    "int2exbin([x])\n",
    "assert [x] == xnbin2int(int2xnbin([x]))\n",
    "\n",
    "X = [6, 8]\n",
    "int2exbin(X)\n",
    "assert X == xnbin2int(int2xnbin(X))\n"
   ]
  },
  {
   "cell_type": "code",
   "execution_count": 178,
   "metadata": {},
   "outputs": [],
   "source": [
    "XN_TIMES_TWO = {\n",
    "    0: {\n",
    "        0: (0, 0, \"R\"), \n",
    "        1: (1, 0, \"R\"),\n",
    "    },\n",
    "    1: {\n",
    "        0: (0, 1, \"R\"), \n",
    "        1: (2, 0, \"R\"),\n",
    "    },\n",
    "    2: {\n",
    "        0: (3, 1, \"R\"), \n",
    "    },\n",
    "    3: {\n",
    "        0: (0, 1, \"S\"),\n",
    "    },\n",
    "}\n",
    "xn_times_two = TuringMachine(XN_TIMES_TWO)"
   ]
  },
  {
   "cell_type": "code",
   "execution_count": 179,
   "metadata": {},
   "outputs": [
    {
     "name": "stdout",
     "output_type": "stream",
     "text": [
      "0: 1 -> 0 mv=R: \u001b[34m1\u001b[0m 0 0 1 0 0 0 1 0 1 0 1 0 1 1 0\n",
      "1: 0 -> 1 mv=R: 0 \u001b[34m0\u001b[0m 0 1 0 0 0 1 0 1 0 1 0 1 1 0\n",
      "0: 0 -> 0 mv=R: 0 1 \u001b[34m0\u001b[0m 1 0 0 0 1 0 1 0 1 0 1 1 0\n",
      "0: 1 -> 0 mv=R: 0 1 0 \u001b[34m1\u001b[0m 0 0 0 1 0 1 0 1 0 1 1 0\n",
      "1: 0 -> 1 mv=R: 0 1 0 0 \u001b[34m0\u001b[0m 0 0 1 0 1 0 1 0 1 1 0\n",
      "0: 0 -> 0 mv=R: 0 1 0 0 1 \u001b[34m0\u001b[0m 0 1 0 1 0 1 0 1 1 0\n",
      "0: 0 -> 0 mv=R: 0 1 0 0 1 0 \u001b[34m0\u001b[0m 1 0 1 0 1 0 1 1 0\n",
      "0: 1 -> 0 mv=R: 0 1 0 0 1 0 0 \u001b[34m1\u001b[0m 0 1 0 1 0 1 1 0\n",
      "1: 0 -> 1 mv=R: 0 1 0 0 1 0 0 0 \u001b[34m0\u001b[0m 1 0 1 0 1 1 0\n",
      "0: 1 -> 0 mv=R: 0 1 0 0 1 0 0 0 1 \u001b[34m1\u001b[0m 0 1 0 1 1 0\n",
      "1: 0 -> 1 mv=R: 0 1 0 0 1 0 0 0 1 0 \u001b[34m0\u001b[0m 1 0 1 1 0\n",
      "0: 1 -> 0 mv=R: 0 1 0 0 1 0 0 0 1 0 1 \u001b[34m1\u001b[0m 0 1 1 0\n",
      "1: 0 -> 1 mv=R: 0 1 0 0 1 0 0 0 1 0 1 0 \u001b[34m0\u001b[0m 1 1 0\n",
      "0: 1 -> 0 mv=R: 0 1 0 0 1 0 0 0 1 0 1 0 1 \u001b[34m1\u001b[0m 1 0\n",
      "1: 1 -> 0 mv=R: 0 1 0 0 1 0 0 0 1 0 1 0 1 0 \u001b[34m1\u001b[0m 0\n",
      "2: 0 -> 1 mv=R: 0 1 0 0 1 0 0 0 1 0 1 0 1 0 0 \u001b[34m0\u001b[0m\n",
      "3: 0 -> 1 mv=S: 0 1 0 0 1 0 0 0 1 0 1 0 1 0 0 1 \u001b[34m0\u001b[0m\n",
      "\n",
      "result: 0 1 0 0 1 0 0 0 1 0 1 0 1 0 0 1 1 \u001b[34m0\u001b[0m\n"
     ]
    },
    {
     "data": {
      "text/plain": [
       "[334]"
      ]
     },
     "execution_count": 179,
     "metadata": {},
     "output_type": "execute_result"
    }
   ],
   "source": [
    "x = 167\n",
    "tape = Tape(int2exbin([x]))\n",
    "run_turing_machine(xn_times_two, tape, max_iterations=50)\n",
    "xnbin2int(tape)"
   ]
  },
  {
   "cell_type": "code",
   "execution_count": null,
   "metadata": {},
   "outputs": [],
   "source": []
  }
 ],
 "metadata": {
  "kernelspec": {
   "display_name": "Python 3",
   "language": "python",
   "name": "python3"
  },
  "language_info": {
   "codemirror_mode": {
    "name": "ipython",
    "version": 3
   },
   "file_extension": ".py",
   "mimetype": "text/x-python",
   "name": "python",
   "nbconvert_exporter": "python",
   "pygments_lexer": "ipython3",
   "version": "3.8.5"
  },
  "latex_envs": {
   "LaTeX_envs_menu_present": true,
   "autoclose": false,
   "autocomplete": true,
   "bibliofile": "biblio.bib",
   "cite_by": "apalike",
   "current_citInitial": 1,
   "eqLabelWithNumbers": true,
   "eqNumInitial": 1,
   "hotkeys": {
    "equation": "Ctrl-E",
    "itemize": "Ctrl-I"
   },
   "labels_anchors": false,
   "latex_user_defs": false,
   "report_style_numbering": false,
   "user_envs_cfg": false
  },
  "toc": {
   "base_numbering": 1,
   "nav_menu": {},
   "number_sections": true,
   "sideBar": true,
   "skip_h1_title": false,
   "title_cell": "Table of Contents",
   "title_sidebar": "Contents",
   "toc_cell": false,
   "toc_position": {
    "height": "calc(100% - 180px)",
    "left": "10px",
    "top": "150px",
    "width": "402.875px"
   },
   "toc_section_display": true,
   "toc_window_display": false
  }
 },
 "nbformat": 4,
 "nbformat_minor": 4
}
