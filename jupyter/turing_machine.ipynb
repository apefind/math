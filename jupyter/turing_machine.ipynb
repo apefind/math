{
 "cells": [
  {
   "cell_type": "markdown",
   "metadata": {},
   "source": [
    "### Turing Machines"
   ]
  },
  {
   "cell_type": "code",
   "execution_count": 449,
   "metadata": {},
   "outputs": [],
   "source": [
    "%run core.ipynb"
   ]
  },
  {
   "cell_type": "code",
   "execution_count": 474,
   "metadata": {},
   "outputs": [],
   "source": [
    "# %load turing_machine.py\n"
   ]
  },
  {
   "cell_type": "code",
   "execution_count": 475,
   "metadata": {},
   "outputs": [],
   "source": [
    "def run_turing_machine(tm, tape, max_iterations=None):\n",
    "    try:\n",
    "        for instr, _, value, new_value, move in tm.run(tape, max_iterations=max_iterations):\n",
    "            print(f\"{instr}: {value} -> {new_value} mv={move}:\", tape)\n",
    "    except GeneratorExit as err:\n",
    "        print(f\"   error: {_red(err)}\")\n",
    "        return\n",
    "    print()\n",
    "    print(f\"result: {tape}\")"
   ]
  },
  {
   "cell_type": "code",
   "execution_count": 476,
   "metadata": {},
   "outputs": [],
   "source": [
    "UN_PLUS_ONE = {\n",
    "    0: {\n",
    "        0: (0, 0, \"R\"), \n",
    "        1: (1, 1, \"R\"),\n",
    "    },\n",
    "    1: {\n",
    "        0: (0, 1, \"STOP\"), \n",
    "        1: (1, 1, \"R\"),\n",
    "    },\n",
    "}\n",
    "un_plus_one = TuringMachine(UN_PLUS_ONE)"
   ]
  },
  {
   "cell_type": "code",
   "execution_count": 477,
   "metadata": {},
   "outputs": [
    {
     "name": "stdout",
     "output_type": "stream",
     "text": [
      "0: 0 -> 0 mv=R: \u001b[34m0\u001b[0m011100\n",
      "0: 0 -> 0 mv=R: 0\u001b[34m0\u001b[0m11100\n",
      "0: 1 -> 1 mv=R: 00\u001b[34m1\u001b[0m1100\n",
      "1: 1 -> 1 mv=R: 001\u001b[34m1\u001b[0m100\n",
      "1: 1 -> 1 mv=R: 0011\u001b[34m1\u001b[0m00\n",
      "1: 0 -> 1 mv=STOP: 00111\u001b[34m0\u001b[0m0\n",
      "\n",
      "result: 001111\u001b[34m0\u001b[0m\n"
     ]
    }
   ],
   "source": [
    "tape = Tape([0, 0, 1, 1, 1, 0, 0])\n",
    "run_turing_machine(un_plus_one, tape)"
   ]
  },
  {
   "cell_type": "code",
   "execution_count": 478,
   "metadata": {},
   "outputs": [
    {
     "name": "stdout",
     "output_type": "stream",
     "text": [
      "0: 0 -> 0 mv=R: \u001b[34m0\u001b[0m1111100\n",
      "0: 1 -> 1 mv=R: 0\u001b[34m1\u001b[0m111100\n",
      "1: 1 -> 1 mv=R: 01\u001b[34m1\u001b[0m11100\n",
      "1: 1 -> 1 mv=R: 011\u001b[34m1\u001b[0m1100\n",
      "1: 1 -> 1 mv=R: 0111\u001b[34m1\u001b[0m100\n",
      "1: 1 -> 1 mv=R: 01111\u001b[34m1\u001b[0m00\n",
      "1: 0 -> 1 mv=STOP: 011111\u001b[34m0\u001b[0m0\n",
      "\n",
      "result: 0111111\u001b[34m0\u001b[0m\n"
     ]
    }
   ],
   "source": [
    "tape = Tape([0, 1, 1, 1, 1, 1, 0, 0])\n",
    "run_turing_machine(un_plus_one, tape)"
   ]
  },
  {
   "cell_type": "code",
   "execution_count": 479,
   "metadata": {},
   "outputs": [],
   "source": [
    "UN_TIMES_TWO = {\n",
    "    0: {\n",
    "        0: (0, 0, \"R\"), \n",
    "        1: (1, 0, \"R\"),\n",
    "    },\n",
    "    1: {\n",
    "        0: (2, 1, \"L\"), \n",
    "        1: (1, 1, \"R\"),\n",
    "    },\n",
    "    2: {\n",
    "        0: (3, 0, \"R\"), \n",
    "        1: (4, 0, \"R\"),\n",
    "    },\n",
    "    3: {\n",
    "        0: (0, 1, \"STOP\"), \n",
    "        1: (3, 1, \"R\"),\n",
    "    },\n",
    "    4: {\n",
    "        0: (5, 1, \"L\"), \n",
    "        1: (4, 1, \"R\"),\n",
    "    },\n",
    "    5: {\n",
    "        0: (2, 1, \"L\"), \n",
    "        1: (5, 1, \"L\"),\n",
    "    },\n",
    "}\n",
    "un_times_two = TuringMachine(UN_TIMES_TWO)"
   ]
  },
  {
   "cell_type": "code",
   "execution_count": 480,
   "metadata": {},
   "outputs": [
    {
     "name": "stdout",
     "output_type": "stream",
     "text": [
      "0: 0 -> 0 mv=R: \u001b[34m0\u001b[0m1\n",
      "0: 1 -> 0 mv=R: 0\u001b[34m1\u001b[0m\n",
      "1: 0 -> 1 mv=L: 00\u001b[34m0\u001b[0m\n",
      "2: 0 -> 0 mv=R: 0\u001b[34m0\u001b[0m1\n",
      "3: 1 -> 1 mv=R: 00\u001b[34m1\u001b[0m\n",
      "3: 0 -> 1 mv=STOP: 001\u001b[34m0\u001b[0m\n",
      "\n",
      "result: 0011\u001b[34m0\u001b[0m\n"
     ]
    }
   ],
   "source": [
    "tape = Tape([0, 1])\n",
    "run_turing_machine(un_times_two, tape)"
   ]
  },
  {
   "cell_type": "code",
   "execution_count": 481,
   "metadata": {},
   "outputs": [
    {
     "name": "stdout",
     "output_type": "stream",
     "text": [
      "0: 1 -> 0 mv=R: \u001b[34m1\u001b[0m11\n",
      "1: 1 -> 1 mv=R: 0\u001b[34m1\u001b[0m1\n",
      "1: 1 -> 1 mv=R: 01\u001b[34m1\u001b[0m\n",
      "1: 0 -> 1 mv=L: 011\u001b[34m0\u001b[0m\n",
      "2: 1 -> 0 mv=R: 01\u001b[34m1\u001b[0m1\n",
      "4: 1 -> 1 mv=R: 010\u001b[34m1\u001b[0m\n",
      "4: 0 -> 1 mv=L: 0101\u001b[34m0\u001b[0m\n",
      "5: 1 -> 1 mv=L: 010\u001b[34m1\u001b[0m1\n",
      "5: 0 -> 1 mv=L: 01\u001b[34m0\u001b[0m11\n",
      "2: 1 -> 0 mv=R: 0\u001b[34m1\u001b[0m111\n",
      "4: 1 -> 1 mv=R: 00\u001b[34m1\u001b[0m11\n",
      "4: 1 -> 1 mv=R: 001\u001b[34m1\u001b[0m1\n",
      "4: 1 -> 1 mv=R: 0011\u001b[34m1\u001b[0m\n",
      "4: 0 -> 1 mv=L: 00111\u001b[34m0\u001b[0m\n",
      "5: 1 -> 1 mv=L: 0011\u001b[34m1\u001b[0m1\n",
      "5: 1 -> 1 mv=L: 001\u001b[34m1\u001b[0m11\n",
      "5: 1 -> 1 mv=L: 00\u001b[34m1\u001b[0m111\n",
      "5: 0 -> 1 mv=L: 0\u001b[34m0\u001b[0m1111\n",
      "2: 0 -> 0 mv=R: \u001b[34m0\u001b[0m11111\n",
      "3: 1 -> 1 mv=R: 0\u001b[34m1\u001b[0m1111\n",
      "3: 1 -> 1 mv=R: 01\u001b[34m1\u001b[0m111\n",
      "3: 1 -> 1 mv=R: 011\u001b[34m1\u001b[0m11\n",
      "3: 1 -> 1 mv=R: 0111\u001b[34m1\u001b[0m1\n",
      "3: 1 -> 1 mv=R: 01111\u001b[34m1\u001b[0m\n",
      "3: 0 -> 1 mv=STOP: 011111\u001b[34m0\u001b[0m\n",
      "\n",
      "result: 0111111\u001b[34m0\u001b[0m\n"
     ]
    }
   ],
   "source": [
    "tape = Tape([0, 1, 1, 1, 0])\n",
    "tape = Tape([1, 1, 1])\n",
    "run_turing_machine(un_times_two, tape)"
   ]
  },
  {
   "cell_type": "code",
   "execution_count": 482,
   "metadata": {},
   "outputs": [
    {
     "data": {
      "text/plain": [
       "[1, 0, 1, 0, 0, 1, 1, 1]"
      ]
     },
     "execution_count": 482,
     "metadata": {},
     "output_type": "execute_result"
    },
    {
     "data": {
      "text/plain": [
       "[1, 0, 0, 1, 0, 0, 0, 1, 0, 1, 0, 1, 0, 1, 1, 0]"
      ]
     },
     "execution_count": 482,
     "metadata": {},
     "output_type": "execute_result"
    },
    {
     "data": {
      "text/plain": [
       "[1, 0, 1, 0, 0, 1, 1, 0, 1, 0, 0, 0, 0, 1, 1, 0]"
      ]
     },
     "execution_count": 482,
     "metadata": {},
     "output_type": "execute_result"
    }
   ],
   "source": [
    "x = 167\n",
    "int2bin(x)\n",
    "assert x == bin2int(int2bin(x))\n",
    "\n",
    "int2xnbin([x])\n",
    "assert [x] == xnbin2int(int2xnbin([x]))\n",
    "\n",
    "X = [6, 8]\n",
    "int2xnbin(X)\n",
    "assert X == xnbin2int(int2xnbin(X))"
   ]
  },
  {
   "cell_type": "code",
   "execution_count": 483,
   "metadata": {},
   "outputs": [],
   "source": [
    "XN_TIMES_TWO = {\n",
    "    0: {\n",
    "        0: (0, 0, \"R\"), \n",
    "        1: (1, 0, \"R\"),\n",
    "    },\n",
    "    1: {\n",
    "        0: (0, 1, \"R\"), \n",
    "        1: (2, 0, \"R\"),\n",
    "    },\n",
    "    2: {\n",
    "        0: (3, 1, \"R\"), \n",
    "    },\n",
    "    3: {\n",
    "        0: (0, 1, \"STOP\"),\n",
    "    },\n",
    "}\n",
    "xn_times_two = TuringMachine(XN_TIMES_TWO)"
   ]
  },
  {
   "cell_type": "code",
   "execution_count": 484,
   "metadata": {},
   "outputs": [
    {
     "name": "stdout",
     "output_type": "stream",
     "text": [
      "0: 1 -> 0 mv=R: \u001b[34m1\u001b[0m001000101010110\n",
      "1: 0 -> 1 mv=R: 0\u001b[34m0\u001b[0m01000101010110\n",
      "0: 0 -> 0 mv=R: 01\u001b[34m0\u001b[0m1000101010110\n",
      "0: 1 -> 0 mv=R: 010\u001b[34m1\u001b[0m000101010110\n",
      "1: 0 -> 1 mv=R: 0100\u001b[34m0\u001b[0m00101010110\n",
      "0: 0 -> 0 mv=R: 01001\u001b[34m0\u001b[0m0101010110\n",
      "0: 0 -> 0 mv=R: 010010\u001b[34m0\u001b[0m101010110\n",
      "0: 1 -> 0 mv=R: 0100100\u001b[34m1\u001b[0m01010110\n",
      "1: 0 -> 1 mv=R: 01001000\u001b[34m0\u001b[0m1010110\n",
      "0: 1 -> 0 mv=R: 010010001\u001b[34m1\u001b[0m010110\n",
      "1: 0 -> 1 mv=R: 0100100010\u001b[34m0\u001b[0m10110\n",
      "0: 1 -> 0 mv=R: 01001000101\u001b[34m1\u001b[0m0110\n",
      "1: 0 -> 1 mv=R: 010010001010\u001b[34m0\u001b[0m110\n",
      "0: 1 -> 0 mv=R: 0100100010101\u001b[34m1\u001b[0m10\n",
      "1: 1 -> 0 mv=R: 01001000101010\u001b[34m1\u001b[0m0\n",
      "2: 0 -> 1 mv=R: 010010001010100\u001b[34m0\u001b[0m\n",
      "3: 0 -> 1 mv=STOP: 0100100010101001\u001b[34m0\u001b[0m\n",
      "\n",
      "result: 01001000101010011\u001b[34m0\u001b[0m\n"
     ]
    },
    {
     "data": {
      "text/plain": [
       "[334]"
      ]
     },
     "execution_count": 484,
     "metadata": {},
     "output_type": "execute_result"
    }
   ],
   "source": [
    "x = [167]\n",
    "tape = Tape(int2xnbin(x))\n",
    "run_turing_machine(xn_times_two, tape, max_iterations=50)\n",
    "xnbin2int(tape)"
   ]
  },
  {
   "cell_type": "markdown",
   "metadata": {},
   "source": [
    "#### Universal Turing Machines"
   ]
  },
  {
   "cell_type": "code",
   "execution_count": 485,
   "metadata": {},
   "outputs": [
    {
     "data": {
      "text/plain": [
       "450813704461563958982113775643437908"
      ]
     },
     "execution_count": 485,
     "metadata": {},
     "output_type": "execute_result"
    }
   ],
   "source": [
    "s = \"10101101101001011010100111010010110101111010000111010010101110100010111010100011010010110110101010101101010101101010100\"\n",
    "bin2int(str2bin(s))\n",
    "assert \"\".join(str(k) for k in int2bin(bin2int(str2bin(s)))) == s"
   ]
  },
  {
   "cell_type": "code",
   "execution_count": 486,
   "metadata": {},
   "outputs": [],
   "source": [
    "def print_nth_turing_machine(n):\n",
    "    try:\n",
    "        tm_n = NthTuringMachine(n)\n",
    "    except GeneratorExit as err:\n",
    "        print(f\"T_{n}: {_red(err)}\")\n",
    "        return\n",
    "    print(f\"{tm_n}:\")\n",
    "    for i, v in tm_n.instructions.items():\n",
    "        print(f\"    {i:>4}. {v[0]}\")\n",
    "        if 1 in v:\n",
    "            print(f\"          {v[1]}\")"
   ]
  },
  {
   "cell_type": "code",
   "execution_count": 487,
   "metadata": {},
   "outputs": [
    {
     "name": "stdout",
     "output_type": "stream",
     "text": [
      "T_7: \u001b[31mnot correctly specified, invalid instruction [1, 1, 1, 1, 1]\u001b[0m\n"
     ]
    }
   ],
   "source": [
    "n = 1 \n",
    "n = 3\n",
    "n = 7\n",
    "print_nth_turing_machine(n)"
   ]
  },
  {
   "cell_type": "code",
   "execution_count": 488,
   "metadata": {},
   "outputs": [
    {
     "name": "stdout",
     "output_type": "stream",
     "text": [
      "T_177642:\n",
      "       0. (0, 0, 'R')\n",
      "          (1, 1, 'R')\n",
      "       1. (0, 1, 'STOP')\n",
      "          (1, 1, 'R')\n"
     ]
    }
   ],
   "source": [
    "n = 177642\n",
    "print_nth_turing_machine(n)"
   ]
  },
  {
   "cell_type": "code",
   "execution_count": 489,
   "metadata": {},
   "outputs": [
    {
     "name": "stdout",
     "output_type": "stream",
     "text": [
      "T_450813704461563958982113775643437908:\n",
      "       0. (0, 0, 'R')\n",
      "          (1, 1, 'R')\n",
      "       1. (0, 0, 'R')\n",
      "          (2, 1, 'R')\n",
      "       2. (3, 0, 'L')\n",
      "          (2, 1, 'R')\n",
      "       3. (0, 1, 'STOP')\n",
      "          (4, 0, 'L')\n",
      "       4. (5, 1, 'L')\n",
      "          (4, 1, 'L')\n",
      "       5. (6, 0, 'R')\n",
      "          (2, 1, 'R')\n",
      "       6. (0, 0, 'R')\n",
      "          (7, 1, 'R')\n",
      "       7. (3, 1, 'R')\n",
      "          (7, 0, 'R')\n"
     ]
    }
   ],
   "source": [
    "n = 450813704461563958982113775643437908\n",
    "print_nth_turing_machine(n)"
   ]
  },
  {
   "cell_type": "code",
   "execution_count": 490,
   "metadata": {},
   "outputs": [
    {
     "name": "stdout",
     "output_type": "stream",
     "text": [
      "T_0:\n",
      "       0. (0, 0, 'R')\n",
      "          (0, 0, 'R')\n",
      "T_1:\n",
      "       0. (0, 0, 'R')\n",
      "          (0, 0, 'L')\n",
      "T_2:\n",
      "       0. (0, 0, 'R')\n",
      "          (0, 1, 'R')\n",
      "T_3:\n",
      "       0. (0, 0, 'R')\n",
      "          (0, 0, 'STOP')\n",
      "T_4:\n",
      "       0. (0, 0, 'R')\n",
      "          (1, 0, 'R')\n",
      "T_5:\n",
      "       0. (0, 0, 'R')\n",
      "          (0, 1, 'L')\n",
      "T_6:\n",
      "       0. (0, 0, 'R')\n",
      "          (0, 0, 'R')\n",
      "       1. (0, 0, 'R')\n",
      "T_7: \u001b[31mnot correctly specified, invalid instruction [1, 1, 1, 1, 1]\u001b[0m\n",
      "T_8:\n",
      "       0. (0, 0, 'R')\n",
      "          (2, 0, 'R')\n",
      "T_9:\n",
      "       0. (0, 0, 'R')\n",
      "          (1, 0, 'L')\n",
      "T_10:\n",
      "       0. (0, 0, 'R')\n",
      "          (1, 1, 'R')\n",
      "T_11:\n",
      "       0. (0, 0, 'R')\n",
      "          (0, 1, 'STOP')\n",
      "T_12:\n",
      "       0. (0, 0, 'R')\n",
      "          (0, 0, 'R')\n",
      "       1. (0, 0, 'R')\n"
     ]
    }
   ],
   "source": [
    "n = 13\n",
    "for k in range(n):\n",
    "    print_nth_turing_machine(k)"
   ]
  },
  {
   "cell_type": "code",
   "execution_count": 491,
   "metadata": {},
   "outputs": [
    {
     "name": "stdout",
     "output_type": "stream",
     "text": [
      "0: 0 -> 0 mv=R: \u001b[34m0\u001b[0m1110\n",
      "0: 1 -> 0 mv=L: 0\u001b[34m1\u001b[0m110\n",
      "0: 0 -> 0 mv=R: \u001b[34m0\u001b[0m0110\n",
      "0: 0 -> 0 mv=R: 0\u001b[34m0\u001b[0m110\n",
      "0: 1 -> 0 mv=L: 00\u001b[34m1\u001b[0m10\n",
      "0: 0 -> 0 mv=R: 0\u001b[34m0\u001b[0m010\n",
      "0: 0 -> 0 mv=R: 00\u001b[34m0\u001b[0m10\n",
      "0: 1 -> 0 mv=L: 000\u001b[34m1\u001b[0m0\n",
      "0: 0 -> 0 mv=R: 00\u001b[34m0\u001b[0m00\n",
      "0: 0 -> 0 mv=R: 000\u001b[34m0\u001b[0m0\n",
      "0: 0 -> 0 mv=R: 0000\u001b[34m0\u001b[0m\n",
      "0: 0 -> 0 mv=R: 00000\u001b[34m0\u001b[0m\n",
      "0: 0 -> 0 mv=R: 000000\u001b[34m0\u001b[0m\n",
      "0: 0 -> 0 mv=R: 0000000\u001b[34m0\u001b[0m\n",
      "0: 0 -> 0 mv=R: 00000000\u001b[34m0\u001b[0m\n",
      "0: 0 -> 0 mv=R: 000000000\u001b[34m0\u001b[0m\n",
      "   error: \u001b[31mmax iterations 15 reached\u001b[0m\n"
     ]
    }
   ],
   "source": [
    "tape = Tape([0, 1, 1, 1, 0])\n",
    "tm_1 = NthTuringMachine(1)\n",
    "run_turing_machine(tm_1, tape, max_iterations=15)"
   ]
  },
  {
   "cell_type": "code",
   "execution_count": 492,
   "metadata": {},
   "outputs": [
    {
     "name": "stdout",
     "output_type": "stream",
     "text": [
      "0: 0 -> 0 mv=R: \u001b[34m0\u001b[0m011110\n",
      "0: 0 -> 0 mv=R: 0\u001b[34m0\u001b[0m11110\n",
      "0: 1 -> 0 mv=R: 00\u001b[34m1\u001b[0m1110\n",
      "   error: \u001b[31minstruction 1. for r=1 not found\u001b[0m\n"
     ]
    }
   ],
   "source": [
    "tape = Tape([0, 0, 1, 1, 1, 1, 0])\n",
    "tm_4 = NthTuringMachine(4)\n",
    "run_turing_machine(tm_4, tape, max_iterations=15)"
   ]
  },
  {
   "cell_type": "code",
   "execution_count": null,
   "metadata": {},
   "outputs": [],
   "source": [
    "    "
   ]
  }
 ],
 "metadata": {
  "kernelspec": {
   "display_name": "Python 3",
   "language": "python",
   "name": "python3"
  },
  "language_info": {
   "codemirror_mode": {
    "name": "ipython",
    "version": 3
   },
   "file_extension": ".py",
   "mimetype": "text/x-python",
   "name": "python",
   "nbconvert_exporter": "python",
   "pygments_lexer": "ipython3",
   "version": "3.8.5"
  },
  "latex_envs": {
   "LaTeX_envs_menu_present": true,
   "autoclose": false,
   "autocomplete": true,
   "bibliofile": "biblio.bib",
   "cite_by": "apalike",
   "current_citInitial": 1,
   "eqLabelWithNumbers": true,
   "eqNumInitial": 1,
   "hotkeys": {
    "equation": "Ctrl-E",
    "itemize": "Ctrl-I"
   },
   "labels_anchors": false,
   "latex_user_defs": false,
   "report_style_numbering": false,
   "user_envs_cfg": false
  },
  "toc": {
   "base_numbering": 1,
   "nav_menu": {},
   "number_sections": true,
   "sideBar": true,
   "skip_h1_title": false,
   "title_cell": "Table of Contents",
   "title_sidebar": "Contents",
   "toc_cell": false,
   "toc_position": {
    "height": "calc(100% - 180px)",
    "left": "10px",
    "top": "150px",
    "width": "402.875px"
   },
   "toc_section_display": true,
   "toc_window_display": false
  }
 },
 "nbformat": 4,
 "nbformat_minor": 4
}
