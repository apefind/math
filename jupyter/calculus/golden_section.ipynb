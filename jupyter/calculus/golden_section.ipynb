{
 "cells": [
  {
   "cell_type": "code",
   "execution_count": 10,
   "metadata": {},
   "outputs": [],
   "source": [
    "%run core.ipynb"
   ]
  },
  {
   "cell_type": "code",
   "execution_count": 3,
   "metadata": {},
   "outputs": [],
   "source": [
    "# %load golden_section.py\n",
    "import math\n",
    "\n",
    "\n",
    "def golden_section_search(f, I, eps=0.00001):\n",
    "    t = 0.5 * (math.sqrt(5) - 1)\n",
    "    a, b = I\n",
    "    while abs(b - a) > eps:\n",
    "        x, y = b - t * (b - a), a + t * (b - a)\n",
    "        if f(x) > f(y):\n",
    "            a = x\n",
    "        else:\n",
    "            b = y\n",
    "    return (a + b) / 2\n"
   ]
  },
  {
   "cell_type": "code",
   "execution_count": 12,
   "metadata": {},
   "outputs": [
    {
     "data": {
      "image/png": "[encoded data removed]",
      "text/latex": [
       "$\\displaystyle x^{2}$"
      ],
      "text/plain": [
       " 2\n",
       "x "
      ]
     },
     "execution_count": 12,
     "metadata": {},
     "output_type": "execute_result"
    },
    {
     "name": "stdout",
     "output_type": "stream",
     "text": [
      "argmin f on (-10, 10) = 0\tf(x0) = 0\n"
     ]
    },
    {
     "data": {
      "image/png": "[encoded data removed]",
      "text/latex": [
       "$\\displaystyle \\left(x - 4\\right)^{2} + 1$"
      ],
      "text/plain": [
       "       2    \n",
       "(x - 4)  + 1"
      ]
     },
     "execution_count": 12,
     "metadata": {},
     "output_type": "execute_result"
    },
    {
     "name": "stdout",
     "output_type": "stream",
     "text": [
      "argmin f on (-10, 10) = 4\tf(x0) = 1\n"
     ]
    },
    {
     "data": {
      "image/png": "[encoded data removed]",
      "text/latex": [
       "$\\displaystyle \\left(x + 3\\right)^{2} + 2$"
      ],
      "text/plain": [
       "       2    \n",
       "(x + 3)  + 2"
      ]
     },
     "execution_count": 12,
     "metadata": {},
     "output_type": "execute_result"
    },
    {
     "name": "stdout",
     "output_type": "stream",
     "text": [
      "argmin f on (-10, 10) = -3\tf(x0) = 2\n"
     ]
    }
   ],
   "source": [
    "R = [\n",
    "    (0, 0, (-10, 10)), \n",
    "    (-4, 1, (-10, 10)),\n",
    "    (3, 2, (-10, 10)),\n",
    "]\n",
    "\n",
    "\n",
    "for p, q, I in R:\n",
    "    \n",
    "    def f(x):\n",
    "        return (x + p) ** 2 + q\n",
    "\n",
    "    f(x)\n",
    "    x0 = golden_section_search(f, I)\n",
    "    print(f\"argmin f on {I} = {_rnd(x0, n=0)}\tf(x0) = {_rnd(f(x0), n=0)}\")\n"
   ]
  },
  {
   "cell_type": "code",
   "execution_count": null,
   "metadata": {},
   "outputs": [],
   "source": []
  }
 ],
 "metadata": {
  "kernelspec": {
   "display_name": "Python 3",
   "language": "python",
   "name": "python3"
  },
  "language_info": {
   "codemirror_mode": {
    "name": "ipython",
    "version": 3
   },
   "file_extension": ".py",
   "mimetype": "text/x-python",
   "name": "python",
   "nbconvert_exporter": "python",
   "pygments_lexer": "ipython3",
   "version": "3.8.5"
  },
  "latex_envs": {
   "LaTeX_envs_menu_present": true,
   "autoclose": false,
   "autocomplete": true,
   "bibliofile": "biblio.bib",
   "cite_by": "apalike",
   "current_citInitial": 1,
   "eqLabelWithNumbers": true,
   "eqNumInitial": 1,
   "hotkeys": {
    "equation": "Ctrl-E",
    "itemize": "Ctrl-I"
   },
   "labels_anchors": false,
   "latex_user_defs": false,
   "report_style_numbering": false,
   "user_envs_cfg": false
  },
  "toc": {
   "base_numbering": 1,
   "nav_menu": {},
   "number_sections": true,
   "sideBar": true,
   "skip_h1_title": false,
   "title_cell": "Table of Contents",
   "title_sidebar": "Contents",
   "toc_cell": false,
   "toc_position": {},
   "toc_section_display": true,
   "toc_window_display": false
  }
 },
 "nbformat": 4,
 "nbformat_minor": 2
}
