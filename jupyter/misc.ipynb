{
 "cells": [
  {
   "cell_type": "markdown",
   "metadata": {},
   "source": [
    "### Miscellaneous\n"
   ]
  },
  {
   "cell_type": "code",
   "execution_count": 1,
   "metadata": {},
   "outputs": [],
   "source": [
    "%run core.ipynb"
   ]
  },
  {
   "cell_type": "markdown",
   "metadata": {},
   "source": [
    "#### Code Snippets"
   ]
  },
  {
   "cell_type": "code",
   "execution_count": 33,
   "metadata": {},
   "outputs": [
    {
     "name": "stdout",
     "output_type": "stream",
     "text": [
      "['Solarize_Light2', '_classic_test_patch', 'bmh', 'classic', 'dark_background', 'fast', 'fivethirtyeight', 'ggplot', 'grayscale', 'seaborn', 'seaborn-bright', 'seaborn-colorblind', 'seaborn-dark', 'seaborn-dark-palette', 'seaborn-darkgrid', 'seaborn-deep', 'seaborn-muted', 'seaborn-notebook', 'seaborn-paper', 'seaborn-pastel', 'seaborn-poster', 'seaborn-talk', 'seaborn-ticks', 'seaborn-white', 'seaborn-whitegrid', 'tableau-colorblind10']\n"
     ]
    }
   ],
   "source": [
    "import matplotlib\n",
    "import matplotlib.pyplot as plot\n",
    "\n",
    "print(matplotlib.style.available)\n",
    "matplotlib.style.use(\"seaborn-deep\")\n",
    "matplotlib.style.use(\"default\")"
   ]
  },
  {
   "cell_type": "markdown",
   "metadata": {},
   "source": [
    "#### Triangle Count"
   ]
  },
  {
   "cell_type": "code",
   "execution_count": 34,
   "metadata": {},
   "outputs": [],
   "source": [
    "def triangles(n):\n",
    "    if n == 0:\n",
    "        return 1\n",
    "    s, k = 0, n\n",
    "    while k > 0:\n",
    "        s += k\n",
    "        k -= 2\n",
    "    return triangles(n - 1) + s + int((n + 2) * (n + 1) / 2)"
   ]
  },
  {
   "cell_type": "code",
   "execution_count": 35,
   "metadata": {},
   "outputs": [
    {
     "name": "stdout",
     "output_type": "stream",
     "text": [
      "n = 0:\t1\n",
      "n = 1:\t5\n",
      "n = 2:\t13\n",
      "n = 3:\t27\n",
      "n = 4:\t48\n",
      "n = 5:\t78\n",
      "n = 6:\t118\n",
      "n = 7:\t170\n",
      "n = 8:\t235\n",
      "n = 9:\t315\n",
      "n = 10:\t411\n",
      "n = 11:\t525\n",
      "n = 12:\t658\n",
      "n = 13:\t812\n",
      "n = 14:\t988\n",
      "n = 15:\t1188\n",
      "n = 16:\t1413\n",
      "n = 17:\t1665\n",
      "n = 18:\t1945\n",
      "n = 19:\t2255\n",
      "n = 20:\t2596\n",
      "n = 21:\t2970\n",
      "n = 22:\t3378\n",
      "n = 23:\t3822\n",
      "n = 24:\t4303\n"
     ]
    }
   ],
   "source": [
    "for n in range(25):\n",
    "    print(f\"n = {n}:\t{triangles(n)}\")"
   ]
  },
  {
   "cell_type": "markdown",
   "metadata": {},
   "source": [
    "#### Turing Machines"
   ]
  },
  {
   "cell_type": "code",
   "execution_count": 34,
   "metadata": {},
   "outputs": [],
   "source": [
    "from array import array\n",
    "\n",
    "\n",
    "class Tape:\n",
    "\n",
    "    def __init__(self, values):\n",
    "        self.values = array(\"I\", values)\n",
    "        self.pos = 0\n",
    "        \n",
    "    def __repr__(self):\n",
    "        return \" \".join([f\"{v}\" for v in self.values[:self.pos]] + \n",
    "                        [_blu(self.values[self.pos])] + \n",
    "                        [f\"{v}\" for v in self.values[self.pos + 1:]])\n",
    "    \n",
    "    def __getitem__(self, i):\n",
    "        return self.values[i]\n",
    "    \n",
    "    def read(self):\n",
    "        return self.values[self.pos]\n",
    "\n",
    "    def write(self, v):\n",
    "        self.values[self.pos] = v\n",
    "\n",
    "    def move(self, mv):\n",
    "        if mv == \"L\":\n",
    "            if self.pos == 0:\n",
    "                self.values.insert(0, 0)\n",
    "            else:\n",
    "                self.pos -= 1\n",
    "        else:\n",
    "            if self.pos == len(self.values) - 1:\n",
    "                self.values.append(0)\n",
    "            self.pos += 1\n"
   ]
  },
  {
   "cell_type": "code",
   "execution_count": 35,
   "metadata": {},
   "outputs": [],
   "source": [
    "class TuringMachine:\n",
    "    \n",
    "    def __init__(self, instructions):\n",
    "        self.instructions = instructions\n",
    "        \n",
    "    def __getitem__(self, i):\n",
    "        return self.instructions[i]\n",
    "\n",
    "    def __call__(self, tape, max_iterations=100):\n",
    "        i, k, mv = 0, 0, None\n",
    "        while not mv == \"S\":\n",
    "            if i > max_iterations:\n",
    "                raise StopIteration(f\"max iterations {max_iterations} reached\")\n",
    "            value = tape.read()\n",
    "            k, new_value, mv = self.instructions[k][value]\n",
    "            tape.write(new_value)\n",
    "            tape.move(mv)\n",
    "            i += 1\n",
    "            yield k, value, new_value, mv"
   ]
  },
  {
   "cell_type": "code",
   "execution_count": 36,
   "metadata": {},
   "outputs": [],
   "source": [
    "def run_turing_machine(tm, tape):\n",
    "    print(f\"start: {tape}\")    \n",
    "    print()\n",
    "    for i, r, w, move in tm(tape):\n",
    "        print(f\"{i}: {r}->{w} mv={move}:\", tape)\n",
    "    print()\n",
    "    print(f\"result: {tape}\")"
   ]
  },
  {
   "cell_type": "code",
   "execution_count": 37,
   "metadata": {},
   "outputs": [],
   "source": [
    "UN_PLUS_ONE = {\n",
    "    0: {\n",
    "        0: (0, 0, \"R\"), \n",
    "        1: (1, 1, \"R\"),\n",
    "    },\n",
    "    1: {\n",
    "        0: (0, 1, \"S\"), \n",
    "        1: (1, 1, \"R\"),\n",
    "    },\n",
    "}\n",
    "un_plus_one = TuringMachine(UN_PLUS_ONE)"
   ]
  },
  {
   "cell_type": "code",
   "execution_count": 38,
   "metadata": {},
   "outputs": [
    {
     "name": "stdout",
     "output_type": "stream",
     "text": [
      "start: \u001b[34m0\u001b[0m 0 1 1 1 0 0\n",
      "\n",
      "0: 0->0 mv=R: 0 \u001b[34m0\u001b[0m 1 1 1 0 0\n",
      "0: 0->0 mv=R: 0 0 \u001b[34m1\u001b[0m 1 1 0 0\n",
      "1: 1->1 mv=R: 0 0 1 \u001b[34m1\u001b[0m 1 0 0\n",
      "1: 1->1 mv=R: 0 0 1 1 \u001b[34m1\u001b[0m 0 0\n",
      "1: 1->1 mv=R: 0 0 1 1 1 \u001b[34m0\u001b[0m 0\n",
      "0: 0->1 mv=S: 0 0 1 1 1 1 \u001b[34m0\u001b[0m\n",
      "\n",
      "result: 0 0 1 1 1 1 \u001b[34m0\u001b[0m\n"
     ]
    }
   ],
   "source": [
    "tape = Tape([0, 0, 1, 1, 1, 0, 0])\n",
    "run_turing_machine(un_plus_one, tape)"
   ]
  },
  {
   "cell_type": "code",
   "execution_count": 39,
   "metadata": {},
   "outputs": [
    {
     "name": "stdout",
     "output_type": "stream",
     "text": [
      "start: \u001b[34m0\u001b[0m 1 1 1 1 1 0 0\n",
      "\n",
      "0: 0->0 mv=R: 0 \u001b[34m1\u001b[0m 1 1 1 1 0 0\n",
      "1: 1->1 mv=R: 0 1 \u001b[34m1\u001b[0m 1 1 1 0 0\n",
      "1: 1->1 mv=R: 0 1 1 \u001b[34m1\u001b[0m 1 1 0 0\n",
      "1: 1->1 mv=R: 0 1 1 1 \u001b[34m1\u001b[0m 1 0 0\n",
      "1: 1->1 mv=R: 0 1 1 1 1 \u001b[34m1\u001b[0m 0 0\n",
      "1: 1->1 mv=R: 0 1 1 1 1 1 \u001b[34m0\u001b[0m 0\n",
      "0: 0->1 mv=S: 0 1 1 1 1 1 1 \u001b[34m0\u001b[0m\n",
      "\n",
      "result: 0 1 1 1 1 1 1 \u001b[34m0\u001b[0m\n"
     ]
    }
   ],
   "source": [
    "tape = Tape([0, 1, 1, 1, 1, 1, 0, 0])\n",
    "run_turing_machine(un_plus_one, tape)"
   ]
  },
  {
   "cell_type": "code",
   "execution_count": 40,
   "metadata": {},
   "outputs": [],
   "source": [
    "UN_TIMES_TWO = {\n",
    "    0: {\n",
    "        0: (0, 0, \"R\"), \n",
    "        1: (1, 0, \"R\"),\n",
    "    },\n",
    "    1: {\n",
    "        0: (2, 1, \"L\"), \n",
    "        1: (1, 1, \"R\"),\n",
    "    },\n",
    "    2: {\n",
    "        0: (3, 0, \"R\"), \n",
    "        1: (4, 0, \"R\"),\n",
    "    },\n",
    "    3: {\n",
    "        0: (0, 1, \"S\"), \n",
    "        1: (3, 1, \"R\"),\n",
    "    },\n",
    "    4: {\n",
    "        0: (5, 1, \"L\"), \n",
    "        1: (4, 1, \"R\"),\n",
    "    },\n",
    "    5: {\n",
    "        0: (2, 1, \"L\"), \n",
    "        1: (5, 1, \"L\"),\n",
    "    },\n",
    "}\n",
    "un_times_two = TuringMachine(UN_TIMES_TWO)"
   ]
  },
  {
   "cell_type": "code",
   "execution_count": 41,
   "metadata": {},
   "outputs": [
    {
     "name": "stdout",
     "output_type": "stream",
     "text": [
      "start: \u001b[34m1\u001b[0m 1 1\n",
      "\n",
      "1: 1->0 mv=R: 0 \u001b[34m1\u001b[0m 1\n",
      "1: 1->1 mv=R: 0 1 \u001b[34m1\u001b[0m\n",
      "1: 1->1 mv=R: 0 1 1 \u001b[34m0\u001b[0m\n",
      "2: 0->1 mv=L: 0 1 \u001b[34m1\u001b[0m 1\n",
      "4: 1->0 mv=R: 0 1 0 \u001b[34m1\u001b[0m\n",
      "4: 1->1 mv=R: 0 1 0 1 \u001b[34m0\u001b[0m\n",
      "5: 0->1 mv=L: 0 1 0 \u001b[34m1\u001b[0m 1\n",
      "5: 1->1 mv=L: 0 1 \u001b[34m0\u001b[0m 1 1\n",
      "2: 0->1 mv=L: 0 \u001b[34m1\u001b[0m 1 1 1\n",
      "4: 1->0 mv=R: 0 0 \u001b[34m1\u001b[0m 1 1\n",
      "4: 1->1 mv=R: 0 0 1 \u001b[34m1\u001b[0m 1\n",
      "4: 1->1 mv=R: 0 0 1 1 \u001b[34m1\u001b[0m\n",
      "4: 1->1 mv=R: 0 0 1 1 1 \u001b[34m0\u001b[0m\n",
      "5: 0->1 mv=L: 0 0 1 1 \u001b[34m1\u001b[0m 1\n",
      "5: 1->1 mv=L: 0 0 1 \u001b[34m1\u001b[0m 1 1\n",
      "5: 1->1 mv=L: 0 0 \u001b[34m1\u001b[0m 1 1 1\n",
      "5: 1->1 mv=L: 0 \u001b[34m0\u001b[0m 1 1 1 1\n",
      "2: 0->1 mv=L: \u001b[34m0\u001b[0m 1 1 1 1 1\n",
      "3: 0->0 mv=R: 0 \u001b[34m1\u001b[0m 1 1 1 1\n",
      "3: 1->1 mv=R: 0 1 \u001b[34m1\u001b[0m 1 1 1\n",
      "3: 1->1 mv=R: 0 1 1 \u001b[34m1\u001b[0m 1 1\n",
      "3: 1->1 mv=R: 0 1 1 1 \u001b[34m1\u001b[0m 1\n",
      "3: 1->1 mv=R: 0 1 1 1 1 \u001b[34m1\u001b[0m\n",
      "3: 1->1 mv=R: 0 1 1 1 1 1 \u001b[34m0\u001b[0m\n",
      "0: 0->1 mv=S: 0 1 1 1 1 1 1 \u001b[34m0\u001b[0m\n",
      "\n",
      "result: 0 1 1 1 1 1 1 \u001b[34m0\u001b[0m\n"
     ]
    }
   ],
   "source": [
    "tape = Tape([0, 1, 1, 1, 0])\n",
    "tape = Tape([1, 1, 1])\n",
    "run_turing_machine(un_times_two, tape)"
   ]
  },
  {
   "cell_type": "code",
   "execution_count": null,
   "metadata": {},
   "outputs": [],
   "source": []
  }
 ],
 "metadata": {
  "kernelspec": {
   "display_name": "Python 3",
   "language": "python",
   "name": "python3"
  },
  "language_info": {
   "codemirror_mode": {
    "name": "ipython",
    "version": 3
   },
   "file_extension": ".py",
   "mimetype": "text/x-python",
   "name": "python",
   "nbconvert_exporter": "python",
   "pygments_lexer": "ipython3",
   "version": "3.8.5"
  },
  "latex_envs": {
   "LaTeX_envs_menu_present": true,
   "autoclose": false,
   "autocomplete": true,
   "bibliofile": "biblio.bib",
   "cite_by": "apalike",
   "current_citInitial": 1,
   "eqLabelWithNumbers": true,
   "eqNumInitial": 1,
   "hotkeys": {
    "equation": "Ctrl-E",
    "itemize": "Ctrl-I"
   },
   "labels_anchors": false,
   "latex_user_defs": false,
   "report_style_numbering": false,
   "user_envs_cfg": false
  },
  "toc": {
   "base_numbering": 1,
   "nav_menu": {},
   "number_sections": true,
   "sideBar": true,
   "skip_h1_title": false,
   "title_cell": "Table of Contents",
   "title_sidebar": "Contents",
   "toc_cell": false,
   "toc_position": {
    "height": "calc(100% - 180px)",
    "left": "10px",
    "top": "150px",
    "width": "402.875px"
   },
   "toc_section_display": true,
   "toc_window_display": false
  }
 },
 "nbformat": 4,
 "nbformat_minor": 4
}
