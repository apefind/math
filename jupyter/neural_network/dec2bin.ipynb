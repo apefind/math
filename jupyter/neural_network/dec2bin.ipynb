{
 "cells": [
  {
   "cell_type": "markdown",
   "metadata": {},
   "source": [
    "### Decimal to Binary Conversion"
   ]
  },
  {
   "cell_type": "markdown",
   "metadata": {},
   "source": [
    "Single layer feedforward neural network that implements decimal to binary conversion."
   ]
  },
  {
   "cell_type": "code",
   "execution_count": 1,
   "metadata": {},
   "outputs": [],
   "source": [
    "%run core.ipynb"
   ]
  },
  {
   "cell_type": "code",
   "execution_count": 2,
   "metadata": {},
   "outputs": [],
   "source": [
    "# %load dec2bin.py\n",
    "import numpy as np\n",
    "\n",
    "\n",
    "def int2dec(n):\n",
    "    return np.array(tuple(0.99 if i == n else 0.01 for i in range(10)))\n",
    "\n",
    "\n",
    "def dec2int(X):\n",
    "    for i, x in enumerate(X):\n",
    "        if x > 0.5:\n",
    "            return i\n",
    "\n",
    "\n",
    "def int2bin(n):\n",
    "    b = []\n",
    "    while n > 0:\n",
    "        n, x = divmod(n, 2)\n",
    "        b.append(x)\n",
    "    return np.array(b + [0] * (4 - len(b)))\n",
    "\n",
    "\n",
    "def bin2int(X):\n",
    "    return sum(2**i if x > 0.5 else 0 for i, x in enumerate(X))\n"
   ]
  },
  {
   "cell_type": "code",
   "execution_count": 3,
   "metadata": {},
   "outputs": [
    {
     "name": "stdout",
     "output_type": "stream",
     "text": [
      "digit:\t\t\u001b[34m0\u001b[0m\n",
      "decimal:\t[0.99 0.01 0.01 0.01 0.01 0.01 0.01 0.01 0.01 0.01]\n",
      "binary:\t\t[0 0 0 0]\n",
      "digit:\t\t\u001b[34m3\u001b[0m\n",
      "decimal:\t[0.01 0.01 0.01 0.99 0.01 0.01 0.01 0.01 0.01 0.01]\n",
      "binary:\t\t[1 1 0 0]\n",
      "digit:\t\t\u001b[34m5\u001b[0m\n",
      "decimal:\t[0.01 0.01 0.01 0.01 0.01 0.99 0.01 0.01 0.01 0.01]\n",
      "binary:\t\t[1 0 1 0]\n"
     ]
    }
   ],
   "source": [
    "for _ in range(3):\n",
    "    n = random.randint(0, 9)\n",
    "    print(f\"digit:\t\t{_blu(n)}\")\n",
    "    print(f\"decimal:\t{int2dec(n)}\")\n",
    "    print(f\"binary:\t\t{int2bin(n)}\")\n",
    "    assert dec2int(int2dec(n)) == n\n",
    "    assert bin2int(int2bin(n)) == n"
   ]
  },
  {
   "cell_type": "markdown",
   "metadata": {},
   "source": [
    "#### Manual Weights and Biasis"
   ]
  },
  {
   "cell_type": "code",
   "execution_count": 4,
   "metadata": {},
   "outputs": [],
   "source": [
    "def get_dec2bin_weights_and_biases():\n",
    "    A = []\n",
    "    for i in range(10):\n",
    "        A.append(int2bin(i))\n",
    "    W = np.transpose(np.array(A))\n",
    "    B = - (np.sigmoid(0.99) - np.sigmoid(0.01)) / 2 * np.ones(4)\n",
    "    return W, B\n"
   ]
  },
  {
   "cell_type": "code",
   "execution_count": 5,
   "metadata": {},
   "outputs": [],
   "source": [
    "def run_dec2bin(W, B):\n",
    "    for i in range(10):\n",
    "        X = int2dec(i)\n",
    "        Y = np.sigmoid(np.dot(W, X) + B)\n",
    "        x, y = dec2int(X), bin2int(Y)\n",
    "        Y = np.reshape(Y, (4,))\n",
    "        assert x == y\n",
    "        print(f'{x} -> {Y} = {[1 if t > 0.5 else 0 for t in Y]} {_ok}')\n"
   ]
  },
  {
   "cell_type": "code",
   "execution_count": 6,
   "metadata": {},
   "outputs": [
    {
     "name": "stdout",
     "output_type": "stream",
     "text": [
      "0 -> [0.48418179 0.48168471 0.48168471 0.47669341] = [0, 0, 0, 0] \u001b[32m✔\u001b[0m\n",
      "1 -> [0.71437046 0.48168471 0.48168471 0.47669341] = [1, 0, 0, 0] \u001b[32m✔\u001b[0m\n",
      "2 -> [0.48418179 0.71232564 0.48168471 0.47669341] = [0, 1, 0, 0] \u001b[32m✔\u001b[0m\n",
      "3 -> [0.71437046 0.71232564 0.48168471 0.47669341] = [1, 1, 0, 0] \u001b[32m✔\u001b[0m\n",
      "4 -> [0.48418179 0.48168471 0.71232564 0.47669341] = [0, 0, 1, 0] \u001b[32m✔\u001b[0m\n",
      "5 -> [0.71437046 0.48168471 0.71232564 0.47669341] = [1, 0, 1, 0] \u001b[32m✔\u001b[0m\n",
      "6 -> [0.48418179 0.71232564 0.71232564 0.47669341] = [0, 1, 1, 0] \u001b[32m✔\u001b[0m\n",
      "7 -> [0.71437046 0.71232564 0.71232564 0.47669341] = [1, 1, 1, 0] \u001b[32m✔\u001b[0m\n",
      "8 -> [0.48418179 0.48168471 0.48168471 0.70820995] = [0, 0, 0, 1] \u001b[32m✔\u001b[0m\n",
      "9 -> [0.71437046 0.48168471 0.48168471 0.70820995] = [1, 0, 0, 1] \u001b[32m✔\u001b[0m\n"
     ]
    }
   ],
   "source": [
    "W, B = get_dec2bin_weights_and_biases()\n",
    "run_dec2bin(W, B)"
   ]
  },
  {
   "cell_type": "markdown",
   "metadata": {},
   "source": [
    "#### Weights and Biasis using Delta Rule"
   ]
  },
  {
   "cell_type": "code",
   "execution_count": 7,
   "metadata": {},
   "outputs": [],
   "source": [
    "from delta_rule import delta_rule\n",
    "\n",
    "\n",
    "def get_dec2bin_delta_rule_test_data():\n",
    "    D = {n: int2dec(n) for n in range(10)}\n",
    "    B = {n: int2bin(n) for n in range(10)}\n",
    "    N = []\n",
    "    for i in range(4):\n",
    "        N.append([(D[n], B[n][i]) for n in range(10)])\n",
    "    return N\n",
    "\n",
    "\n",
    "def get_dec2bin_delta_rule_weights_and_biases(a, da, s=0.01, epochs=50):\n",
    "    W, B = [], []\n",
    "    for T in get_dec2bin_delta_rule_test_data():\n",
    "        w, b = delta_rule(T, a=a, da=da, s=s, epochs=epochs)\n",
    "        W.append(w)\n",
    "        B.append(b)\n",
    "    return np.array(W), np.array(B)\n",
    "\n",
    "\n",
    "def run_dec2bin_delta_rule(W, B, a, classify):\n",
    "    for n in range(10):\n",
    "        X = tuple(int2bin(n))\n",
    "        Y = tuple(a(x) for x in np.dot(W, int2dec(n)) + B)\n",
    "        Z = tuple(classify(t) for t in Y)\n",
    "        if X == Z:\n",
    "            print(f\"{n} =\t{_rnd(Y, n=2)} =\t{Z} {_ok}\")\n",
    "        else:\n",
    "            print(_red(f\"{n} ≠\t{_rnd(Y, n=2)} =\t{Z}\t≠\t{X} {_nok}\"))\n"
   ]
  },
  {
   "cell_type": "code",
   "execution_count": 8,
   "metadata": {},
   "outputs": [
    {
     "data": {
      "text/plain": [
       "[(array([0.99, 0.01, 0.01, 0.01, 0.01, 0.01, 0.01, 0.01, 0.01, 0.01]), 0),\n",
       " (array([0.01, 0.99, 0.01, 0.01, 0.01, 0.01, 0.01, 0.01, 0.01, 0.01]), 1),\n",
       " (array([0.01, 0.01, 0.99, 0.01, 0.01, 0.01, 0.01, 0.01, 0.01, 0.01]), 0),\n",
       " (array([0.01, 0.01, 0.01, 0.99, 0.01, 0.01, 0.01, 0.01, 0.01, 0.01]), 1),\n",
       " (array([0.01, 0.01, 0.01, 0.01, 0.99, 0.01, 0.01, 0.01, 0.01, 0.01]), 0),\n",
       " (array([0.01, 0.01, 0.01, 0.01, 0.01, 0.99, 0.01, 0.01, 0.01, 0.01]), 1),\n",
       " (array([0.01, 0.01, 0.01, 0.01, 0.01, 0.01, 0.99, 0.01, 0.01, 0.01]), 0),\n",
       " (array([0.01, 0.01, 0.01, 0.01, 0.01, 0.01, 0.01, 0.99, 0.01, 0.01]), 1),\n",
       " (array([0.01, 0.01, 0.01, 0.01, 0.01, 0.01, 0.01, 0.01, 0.99, 0.01]), 0),\n",
       " (array([0.01, 0.01, 0.01, 0.01, 0.01, 0.01, 0.01, 0.01, 0.01, 0.99]), 1)]"
      ]
     },
     "execution_count": 8,
     "metadata": {},
     "output_type": "execute_result"
    }
   ],
   "source": [
    "get_dec2bin_delta_rule_test_data()[0]"
   ]
  },
  {
   "cell_type": "code",
   "execution_count": 9,
   "metadata": {},
   "outputs": [
    {
     "name": "stdout",
     "output_type": "stream",
     "text": [
      "0 =\t(0.02, 0.18, 0.04, 0.05) =\t(0, 0, 0, 0) \u001b[32m✔\u001b[0m\n",
      "1 =\t(0.9, 0.04, 0.07, -0.03) =\t(1, 0, 0, 0) \u001b[32m✔\u001b[0m\n",
      "2 =\t(0.09, 0.82, 0.18, 0.17) =\t(0, 1, 0, 0) \u001b[32m✔\u001b[0m\n",
      "3 =\t(0.87, 0.81, 0.01, -0.02) =\t(1, 1, 0, 0) \u001b[32m✔\u001b[0m\n",
      "4 =\t(0.22, 0.16, 0.77, 0.08) =\t(0, 0, 1, 0) \u001b[32m✔\u001b[0m\n",
      "5 =\t(0.85, 0.11, 0.93, 0.0) =\t(1, 0, 1, 0) \u001b[32m✔\u001b[0m\n",
      "6 =\t(0.18, 0.83, 0.92, 0.09) =\t(0, 1, 1, 0) \u001b[32m✔\u001b[0m\n",
      "7 =\t(0.92, 0.96, 0.81, 0.04) =\t(1, 1, 1, 0) \u001b[32m✔\u001b[0m\n",
      "8 =\t(0.18, 0.07, 0.09, 0.82) =\t(0, 0, 0, 1) \u001b[32m✔\u001b[0m\n",
      "9 =\t(0.79, 0.03, 0.17, 0.81) =\t(1, 0, 0, 1) \u001b[32m✔\u001b[0m\n"
     ]
    }
   ],
   "source": [
    "a, da, classify = linear, dx_linear, lambda x: heaviside(x, offset=0.5)\n",
    "s, epochs = 0.01, 150\n",
    "\n",
    "W, B = get_dec2bin_delta_rule_weights_and_biases(a, da, s=s, epochs=epochs)\n",
    "run_dec2bin_delta_rule(W, B, a, classify)"
   ]
  },
  {
   "cell_type": "code",
   "execution_count": 10,
   "metadata": {},
   "outputs": [
    {
     "name": "stdout",
     "output_type": "stream",
     "text": [
      "0 =\t(0.21, 0.06, 0.14, 0.0) =\t(0, 0, 0, 0) \u001b[32m✔\u001b[0m\n",
      "1 =\t(0.91, 0.05, 0.13, 0.0) =\t(1, 0, 0, 0) \u001b[32m✔\u001b[0m\n",
      "2 =\t(0.18, 0.9, 0.19, 0.01) =\t(0, 1, 0, 0) \u001b[32m✔\u001b[0m\n",
      "3 =\t(0.92, 0.9, 0.12, 0.09) =\t(1, 1, 0, 0) \u001b[32m✔\u001b[0m\n",
      "4 =\t(0.05, 0.0, 0.86, 0.0) =\t(0, 0, 1, 0) \u001b[32m✔\u001b[0m\n",
      "5 =\t(0.92, 0.0, 0.83, 0.05) =\t(1, 0, 1, 0) \u001b[32m✔\u001b[0m\n",
      "6 =\t(0.05, 0.8, 0.81, 0.07) =\t(0, 1, 1, 0) \u001b[32m✔\u001b[0m\n",
      "7 =\t(0.84, 0.94, 0.79, 0.07) =\t(1, 1, 1, 0) \u001b[32m✔\u001b[0m\n",
      "8 =\t(0.15, 0.19, 0.13, 0.89) =\t(0, 0, 0, 1) \u001b[32m✔\u001b[0m\n",
      "9 =\t(0.79, 0.15, 0.03, 0.83) =\t(1, 0, 0, 1) \u001b[32m✔\u001b[0m\n"
     ]
    }
   ],
   "source": [
    "a, da, classify = relu, dx_relu, lambda x: heaviside(x, offset=0.4)\n",
    "s, epochs = 0.01, 150\n",
    "\n",
    "W, B = get_dec2bin_delta_rule_weights_and_biases(a, da, s=s, epochs=epochs)\n",
    "run_dec2bin_delta_rule(W, B, a, classify)"
   ]
  },
  {
   "cell_type": "code",
   "execution_count": 11,
   "metadata": {},
   "outputs": [
    {
     "name": "stdout",
     "output_type": "stream",
     "text": [
      "0 =\t(0.26, 0.24, 0.2, 0.19) =\t(0, 0, 0, 0) \u001b[32m✔\u001b[0m\n",
      "1 =\t(0.77, 0.19, 0.2, 0.15) =\t(1, 0, 0, 0) \u001b[32m✔\u001b[0m\n",
      "2 =\t(0.26, 0.73, 0.25, 0.13) =\t(0, 1, 0, 0) \u001b[32m✔\u001b[0m\n",
      "3 =\t(0.76, 0.71, 0.22, 0.15) =\t(1, 1, 0, 0) \u001b[32m✔\u001b[0m\n",
      "4 =\t(0.23, 0.22, 0.72, 0.18) =\t(0, 0, 1, 0) \u001b[32m✔\u001b[0m\n",
      "5 =\t(0.75, 0.22, 0.71, 0.16) =\t(1, 0, 1, 0) \u001b[32m✔\u001b[0m\n",
      "6 =\t(0.28, 0.72, 0.74, 0.13) =\t(0, 1, 1, 0) \u001b[32m✔\u001b[0m\n",
      "7 =\t(0.73, 0.74, 0.75, 0.19) =\t(1, 1, 1, 0) \u001b[32m✔\u001b[0m\n",
      "8 =\t(0.25, 0.22, 0.2, 0.67) =\t(0, 0, 0, 1) \u001b[32m✔\u001b[0m\n",
      "9 =\t(0.72, 0.21, 0.21, 0.64) =\t(1, 0, 0, 1) \u001b[32m✔\u001b[0m\n"
     ]
    }
   ],
   "source": [
    "a, da, classify = np.sigmoid, np.dx_sigmoid, lambda x: heaviside(x, offset=0.5)\n",
    "s, epochs = 0.01, 1500\n",
    "\n",
    "W, B = get_dec2bin_delta_rule_weights_and_biases(a, da, s=s, epochs=epochs)\n",
    "run_dec2bin_delta_rule(W, B, a, classify)"
   ]
  },
  {
   "cell_type": "markdown",
   "metadata": {},
   "source": [
    "#### Weights and Biasis using Perceptron"
   ]
  },
  {
   "cell_type": "code",
   "execution_count": 12,
   "metadata": {},
   "outputs": [],
   "source": [
    "from perceptron import perceptron\n",
    "get_dec2bin_perceptron_test_data = get_dec2bin_delta_rule_test_data\n",
    "\n",
    "\n",
    "def get_dec2bin_perceptron_weights_and_biases(s=0.01, epochs=50):\n",
    "    W, B = [], []\n",
    "    for T in get_dec2bin_perceptron_test_data():\n",
    "        w, b = perceptron(T, s=s, epochs=epochs)\n",
    "        W.append(w)\n",
    "        B.append(b)\n",
    "    return np.array(W), np.array(B)\n",
    "\n",
    "\n",
    "def run_dec2bin_perceptron(W, B):\n",
    "    for n in range(10):\n",
    "        X = tuple(int2bin(n))\n",
    "        Y = tuple(np.dot(W, int2dec(n)) + B)\n",
    "        Z = tuple(heaviside(t) for t in Y)\n",
    "        if X == Z:\n",
    "            print(f\"{n} =\t{_rnd(Y, n=3)} =\t{Z} {_ok}\")\n",
    "        else:\n",
    "            print(_red(f\"{n} ≠\t{_rnd(Y, n=3)} =\t{Z}\t≠\t{X} {_nok}\"))\n"
   ]
  },
  {
   "cell_type": "code",
   "execution_count": 13,
   "metadata": {},
   "outputs": [
    {
     "name": "stdout",
     "output_type": "stream",
     "text": [
      "0 =\t(-0.001, -0.001, -0.001, -0.002) =\t(0, 0, 0, 0) \u001b[32m✔\u001b[0m\n",
      "1 =\t(0.001, -0.001, -0.001, -0.002) =\t(1, 0, 0, 0) \u001b[32m✔\u001b[0m\n",
      "2 =\t(-0.001, 0.002, -0.001, -0.002) =\t(0, 1, 0, 0) \u001b[32m✔\u001b[0m\n",
      "3 =\t(0.001, 0.002, -0.001, -0.002) =\t(1, 1, 0, 0) \u001b[32m✔\u001b[0m\n",
      "4 =\t(-0.001, -0.001, 0.002, -0.002) =\t(0, 0, 1, 0) \u001b[32m✔\u001b[0m\n",
      "5 =\t(0.001, -0.001, 0.002, -0.001) =\t(1, 0, 1, 0) \u001b[32m✔\u001b[0m\n",
      "6 =\t(-0.001, 0.002, 0.002, -0.001) =\t(0, 1, 1, 0) \u001b[32m✔\u001b[0m\n",
      "7 =\t(0.001, 0.0, 0.0, -0.001) =\t(1, 1, 1, 0) \u001b[32m✔\u001b[0m\n",
      "8 =\t(-0.001, -0.001, -0.001, 0.001) =\t(0, 0, 0, 1) \u001b[32m✔\u001b[0m\n",
      "9 =\t(0.001, -0.001, -0.001, 0.001) =\t(1, 0, 0, 1) \u001b[32m✔\u001b[0m\n"
     ]
    }
   ],
   "source": [
    "s, epochs = 0.001, 6\n",
    "\n",
    "W, B = get_dec2bin_perceptron_weights_and_biases(s=s, epochs=epochs)\n",
    "run_dec2bin_perceptron(W, B)"
   ]
  },
  {
   "cell_type": "code",
   "execution_count": null,
   "metadata": {},
   "outputs": [],
   "source": []
  },
  {
   "cell_type": "code",
   "execution_count": null,
   "metadata": {},
   "outputs": [],
   "source": []
  }
 ],
 "metadata": {
  "kernelspec": {
   "display_name": "Python 3",
   "language": "python",
   "name": "python3"
  },
  "language_info": {
   "codemirror_mode": {
    "name": "ipython",
    "version": 3
   },
   "file_extension": ".py",
   "mimetype": "text/x-python",
   "name": "python",
   "nbconvert_exporter": "python",
   "pygments_lexer": "ipython3",
   "version": "3.8.1"
  },
  "latex_envs": {
   "LaTeX_envs_menu_present": true,
   "autoclose": false,
   "autocomplete": true,
   "bibliofile": "biblio.bib",
   "cite_by": "apalike",
   "current_citInitial": 1,
   "eqLabelWithNumbers": true,
   "eqNumInitial": 1,
   "hotkeys": {
    "equation": "Ctrl-E",
    "itemize": "Ctrl-I"
   },
   "labels_anchors": false,
   "latex_user_defs": false,
   "report_style_numbering": false,
   "user_envs_cfg": false
  },
  "toc": {
   "base_numbering": 1,
   "nav_menu": {},
   "number_sections": true,
   "sideBar": true,
   "skip_h1_title": false,
   "title_cell": "Table of Contents",
   "title_sidebar": "Contents",
   "toc_cell": false,
   "toc_position": {
    "height": "calc(100% - 180px)",
    "left": "10px",
    "top": "150px",
    "width": "402.875px"
   },
   "toc_section_display": true,
   "toc_window_display": false
  }
 },
 "nbformat": 4,
 "nbformat_minor": 4
}
