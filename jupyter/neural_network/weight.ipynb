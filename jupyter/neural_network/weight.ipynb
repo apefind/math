{
 "cells": [
  {
   "cell_type": "markdown",
   "metadata": {},
   "source": [
    "### Common Weight "
   ]
  },
  {
   "cell_type": "code",
   "execution_count": 1,
   "metadata": {},
   "outputs": [],
   "source": [
    "%run core.ipynb"
   ]
  },
  {
   "cell_type": "markdown",
   "metadata": {},
   "source": [
    "#### Calclulating a common weight vector"
   ]
  },
  {
   "cell_type": "code",
   "execution_count": 2,
   "metadata": {},
   "outputs": [],
   "source": [
    "# %load weight.py\n",
    "from vector import add, dotprod\n",
    "\n",
    "\n",
    "def weight(u, v):\n",
    "    w = add(u, v)\n",
    "    while True:\n",
    "        if dotprod(w, u) <= 0:\n",
    "            w = add(w, u)\n",
    "        elif dotprod(w, v) <= 0:\n",
    "            w = add(w, v)\n",
    "        else:\n",
    "            return w\n"
   ]
  },
  {
   "cell_type": "code",
   "execution_count": 3,
   "metadata": {},
   "outputs": [],
   "source": [
    "def run_weight(u, v):\n",
    "    print(f\"u = {u}\tv = {v}\t∡ uv = {_rnd(_deg(u, v))}°\")\n",
    "    print(\"\")\n",
    "    i, w = 0, add(u, v)\n",
    "    while True:\n",
    "        a, b = dotprod(w, u), dotprod(w, v)\n",
    "        print(f\"w{i} = {w}\t∡ wu = {_rnd(_deg(w, u))}°\t∡ wv = {_rnd(_deg(w, v))}°\")\n",
    "        if a < 0:\n",
    "            w = add(w, u)\n",
    "        elif b < 0:\n",
    "            w = add(w, v)\n",
    "        else:\n",
    "            break\n",
    "        i = i + 1\n",
    "    print(\"\")\n",
    "    print(f\"w = {normed(w)}\")\n"
   ]
  },
  {
   "cell_type": "code",
   "execution_count": 4,
   "metadata": {},
   "outputs": [
    {
     "name": "stdout",
     "output_type": "stream",
     "text": [
      "u = (4, -6)\tv = (-10, 5)\t∡ uv = 150.26°\n",
      "\n",
      "w0 = (-6, -1)\t∡ wu = 114.23°\t∡ wv = 36.03°\n",
      "w1 = (-2, -7)\t∡ wu = 49.64°\t∡ wv = 100.62°\n",
      "w2 = (-12, -2)\t∡ wu = 114.23°\t∡ wv = 36.03°\n",
      "w3 = (-8, -8)\t∡ wu = 78.69°\t∡ wv = 71.57°\n",
      "\n",
      "w = (-0.7071067811865475, -0.7071067811865475)\n"
     ]
    }
   ],
   "source": [
    "u, v = (4, -6), (-10, 5)\n",
    "run_weight(u, v)"
   ]
  },
  {
   "cell_type": "code",
   "execution_count": 5,
   "metadata": {},
   "outputs": [
    {
     "name": "stdout",
     "output_type": "stream",
     "text": [
      "u = (-1, -10)\tv = (4, 8)\t∡ uv = 159.15°\n",
      "\n",
      "w0 = (3, -2)\t∡ wu = 62.02°\t∡ wv = 97.13°\n",
      "w1 = (7, 6)\t∡ wu = 136.31°\t∡ wv = 22.83°\n",
      "w2 = (6, -4)\t∡ wu = 62.02°\t∡ wv = 97.13°\n",
      "w3 = (10, 4)\t∡ wu = 117.51°\t∡ wv = 41.63°\n",
      "w4 = (9, -6)\t∡ wu = 62.02°\t∡ wv = 97.13°\n",
      "w5 = (13, 2)\t∡ wu = 104.46°\t∡ wv = 54.69°\n",
      "w6 = (12, -8)\t∡ wu = 62.02°\t∡ wv = 97.13°\n",
      "w7 = (16, 0)\t∡ wu = 95.71°\t∡ wv = 63.43°\n",
      "w8 = (15, -10)\t∡ wu = 62.02°\t∡ wv = 97.13°\n",
      "w9 = (19, -2)\t∡ wu = 89.7°\t∡ wv = 69.44°\n",
      "\n",
      "w = (0.9945054529214061, -0.10468478451804275)\n"
     ]
    }
   ],
   "source": [
    "u, v = (4, -7), (-3, 5)  # requires 80 iterations\n",
    "u, v = (-1, -10), (4, 8)\n",
    "run_weight(u, v)"
   ]
  },
  {
   "cell_type": "code",
   "execution_count": 6,
   "metadata": {},
   "outputs": [
    {
     "name": "stdout",
     "output_type": "stream",
     "text": [
      "u = (-9, -10)\tv = (10, 9)\t∡ uv = 173.97°\n",
      "\n",
      "w0 = (1, -1)\t∡ wu = 86.99°\t∡ wv = 86.99°\n",
      "\n",
      "w = (0.7071067811865475, -0.7071067811865475)\n"
     ]
    }
   ],
   "source": [
    "import random\n",
    "\n",
    "n = 10\n",
    "u, v = (random.randint(-n, n), random.randint(-n, n)), (random.randint(-n, n), random.randint(-n, n))\n",
    "run_weight(u, v)"
   ]
  },
  {
   "cell_type": "markdown",
   "metadata": {},
   "source": [
    "#### Maximimum Number of Iterations"
   ]
  },
  {
   "cell_type": "markdown",
   "metadata": {},
   "source": [
    "Find vectors with largest number of iterations in a given range. The more similar the vector length and the closer the angle to 180° the more iterations.\n"
   ]
  },
  {
   "cell_type": "code",
   "execution_count": 7,
   "metadata": {},
   "outputs": [
    {
     "name": "stdout",
     "output_type": "stream",
     "text": [
      "n = 3 (625 combinations):\tmax iterations = 5\tu = (2, 2)\tv = (-1, -2)\t∡ uv = 161.57°\n",
      "n = 4 (2401 combinations):\tmax iterations = 11\tu = (3, 2)\tv = (-2, -1)\t∡ uv = 172.87°\n",
      "n = 5 (6561 combinations):\tmax iterations = 29\tu = (4, 3)\tv = (-3, -2)\t∡ uv = 176.82°\n",
      "n = 6 (14641 combinations):\tmax iterations = 55\tu = (5, 4)\tv = (-4, -3)\t∡ uv = 178.21°\n",
      "n = 7 (28561 combinations):\tmax iterations = 89\tu = (6, 5)\tv = (-5, -4)\t∡ uv = 178.85°\n",
      "n = 8 (50625 combinations):\tmax iterations = 131\tu = (7, 6)\tv = (-6, -5)\t∡ uv = 179.2°\n",
      "n = 9 (83521 combinations):\tmax iterations = 181\tu = (8, 7)\tv = (-7, -6)\t∡ uv = 179.42°\n"
     ]
    }
   ],
   "source": [
    "import itertools\n",
    "\n",
    "\n",
    "def count_weight_iterations(u, v):\n",
    "    n, w = 0, add(u, v)\n",
    "    while True:\n",
    "        a, b = dotprod(w, u), dotprod(w, v)\n",
    "        if a < 0:\n",
    "            w = add(w, u)\n",
    "        elif b < 0:\n",
    "            w = add(w, v)\n",
    "        else:\n",
    "            return n\n",
    "        n = n + 1\n",
    "\n",
    "\n",
    "for n in range(3, 10):\n",
    "    N = range(-n + 1, n)\n",
    "    M = list(itertools.product(N, N))\n",
    "    R = list(itertools.product(M, M))\n",
    "    k, u, v = max([(count_weight_iterations(u, v), u, v) for u, v in R])\n",
    "    print(f\"n = {n} ({len(R)} combinations):\tmax iterations = {k}\tu = {u}\tv = {v}\t∡ uv = {_rnd(_deg(u, v))}°\")\n"
   ]
  },
  {
   "cell_type": "markdown",
   "metadata": {},
   "source": [
    "#### Plotting Weight Iterations"
   ]
  },
  {
   "cell_type": "code",
   "execution_count": 8,
   "metadata": {},
   "outputs": [],
   "source": [
    "import matplotlib.pyplot as plot\n",
    "\n",
    "\n",
    "def plot_weight_iterations(u, v, size=(7, 7), t=2.75):\n",
    "    fig = plot.figure()\n",
    "    fig.set_size_inches(*size)\n",
    "    ax = plot.axes()\n",
    "    ax.set_aspect('equal')\n",
    "    ax.arrow(0.0, 0.0, u[0], u[1], head_width=0.1, head_length=0.3, fc='lightblue', ec='black')\n",
    "    ax.arrow(0.0, 0.0, v[0], v[1], head_width=0.1, head_length=0.3, fc='lightblue', ec='black')\n",
    "    ax.annotate('u', xy=u, xytext=(u[0] + 0.1, u[1] - 0.1))\n",
    "    ax.annotate('v', xy=v, xytext=(v[0] + 0.1, v[1] - 0.1))\n",
    "    n, w = 1, add(u, v)\n",
    "    while True:\n",
    "        ax.arrow(0.0, 0.0, w[0], w[1], head_width=0.05, head_length=0.2)\n",
    "        ax.annotate(n, xy=w, xytext=(w[0] + 0.05, w[1] + 0.05))\n",
    "        a, b = dotprod(w, u), dotprod(w, v)\n",
    "        if a < 0:\n",
    "            w = add(w, u)\n",
    "        elif b < 0:\n",
    "            w = add(w, v)\n",
    "        else:\n",
    "            break\n",
    "        n = n + 1\n",
    "    ax.arrow(0.0, 0.0, w[0], w[1], width=0.01, head_width=0.1, head_length=0.3, fc='red', ec='red')\n",
    "    #     ax.annotate('w', xy=w, xytext=(w[0] + 0.05, w[1] + 0.05))\n",
    "    plot.grid()\n",
    "    plot.xlim(-t, t)\n",
    "    plot.ylim(-t, t)\n",
    "    plot.title(f\"Weight vector calulated after {n} Iterations\")\n",
    "    plot.show()\n",
    "    "
   ]
  },
  {
   "cell_type": "code",
   "execution_count": 9,
   "metadata": {},
   "outputs": [
    {
     "data": {
      "image/png": "[encoded data removed]",
      "text/plain": [
       "<Figure size 504x504 with 1 Axes>"
      ]
     },
     "metadata": {
      "needs_background": "light"
     },
     "output_type": "display_data"
    }
   ],
   "source": [
    "u, v = (-0.5, -1.2), (1.1, 1.2)\n",
    "u, v = (4/5, -7/5), (-3/5, 5/5)  # 80 iterations\n",
    "u, v = (-0.7, -1.2), (1.1, 1.2)\n",
    "plot_weight_iterations(u, v)"
   ]
  },
  {
   "cell_type": "code",
   "execution_count": 10,
   "metadata": {},
   "outputs": [
    {
     "data": {
      "image/png": "[encoded data removed]",
      "text/plain": [
       "<Figure size 504x504 with 1 Axes>"
      ]
     },
     "metadata": {
      "needs_background": "light"
     },
     "output_type": "display_data"
    }
   ],
   "source": [
    "u, v = (-1/8, -10/8), (4/8, 8/8)\n",
    "plot_weight_iterations(u, v)"
   ]
  },
  {
   "cell_type": "code",
   "execution_count": null,
   "metadata": {},
   "outputs": [],
   "source": []
  }
 ],
 "metadata": {
  "kernelspec": {
   "display_name": "Python 3",
   "language": "python",
   "name": "python3"
  },
  "language_info": {
   "codemirror_mode": {
    "name": "ipython",
    "version": 3
   },
   "file_extension": ".py",
   "mimetype": "text/x-python",
   "name": "python",
   "nbconvert_exporter": "python",
   "pygments_lexer": "ipython3",
   "version": "3.8.1"
  },
  "latex_envs": {
   "LaTeX_envs_menu_present": true,
   "autoclose": false,
   "autocomplete": true,
   "bibliofile": "biblio.bib",
   "cite_by": "apalike",
   "current_citInitial": 1,
   "eqLabelWithNumbers": true,
   "eqNumInitial": 1,
   "hotkeys": {
    "equation": "Ctrl-E",
    "itemize": "Ctrl-I"
   },
   "labels_anchors": false,
   "latex_user_defs": false,
   "report_style_numbering": false,
   "user_envs_cfg": false
  },
  "toc": {
   "base_numbering": 1,
   "nav_menu": {},
   "number_sections": true,
   "sideBar": true,
   "skip_h1_title": false,
   "title_cell": "Table of Contents",
   "title_sidebar": "Contents",
   "toc_cell": false,
   "toc_position": {
    "height": "calc(100% - 180px)",
    "left": "10px",
    "top": "150px",
    "width": "402.875px"
   },
   "toc_section_display": true,
   "toc_window_display": false
  }
 },
 "nbformat": 4,
 "nbformat_minor": 2
}
