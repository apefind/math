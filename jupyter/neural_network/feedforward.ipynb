{
 "cells": [
  {
   "cell_type": "markdown",
   "metadata": {},
   "source": [
    "### Feed Forward"
   ]
  },
  {
   "cell_type": "code",
   "execution_count": 1,
   "metadata": {},
   "outputs": [],
   "source": [
    "%run core.ipynb"
   ]
  },
  {
   "cell_type": "markdown",
   "metadata": {},
   "source": [
    "#### Implementation of Feedforward Neural Networks"
   ]
  },
  {
   "cell_type": "code",
   "execution_count": 2,
   "metadata": {},
   "outputs": [],
   "source": [
    "# %load feedforward.py\n",
    "import random\n",
    "import np as _\n",
    "import numpy as np\n",
    "\n",
    "\n",
    "def feedforward(a, N, x):\n",
    "    for W, B in N:\n",
    "        x = a(np.dot(W, x) + B)\n",
    "    return x\n",
    "\n",
    "\n",
    "def get_random_weights_and_biases(k, l, m=None, layers=0):\n",
    "    N = [(np.random_matrix(l, k), np.random_vector(l))]\n",
    "    for _ in range(layers):\n",
    "        N.append((np.random_matrix(l, l), np.random_vector(l)))\n",
    "    if m is not None:\n",
    "        N.append((np.random_matrix(m, l), np.random_vector(m)))\n",
    "    return N\n",
    "\n",
    "\n",
    "class FeedForward:\n",
    "\n",
    "    def __init__(self, dim, layers, a):\n",
    "        self.dim = dim\n",
    "        self.N = get_random_weights_and_biases(*dim, layers)\n",
    "        self.a = a\n",
    "\n",
    "    def __call__(self, x):\n",
    "        return self.feedforward(x)\n",
    "\n",
    "    def __repr__(self):\n",
    "        return repr(self.N)\n",
    "\n",
    "    def feedforward(self, x):\n",
    "        return feedforward(self.a, self.N, x)\n",
    "\n",
    "\n",
    "class FeedForwardSingleLayer(FeedForward):\n",
    "\n",
    "    def __init__(self, dim, a, da):\n",
    "        super().__init__(dim=(*dim, None), layers=0, a=a)\n",
    "        self.da = da\n",
    "\n",
    "    def train(self, T, s=0.01, epochs=50):\n",
    "        for _ in range(epochs):\n",
    "            for x, y in random.sample(T, len(T)):\n",
    "                z = feedforward(np.linear, self.N, x)\n",
    "                az, daz = self.a(z), self.da(z)\n",
    "                d = y - az\n",
    "                for W, B in self.N:\n",
    "                    for i, w in enumerate(W):\n",
    "                        w += s * d[i] * daz[i] * x\n",
    "                    B += s * d * daz\n"
   ]
  },
  {
   "cell_type": "code",
   "execution_count": 3,
   "metadata": {},
   "outputs": [
    {
     "data": {
      "text/plain": [
       "array([8])"
      ]
     },
     "execution_count": 3,
     "metadata": {},
     "output_type": "execute_result"
    }
   ],
   "source": [
    "a = lambda x: np.multiply(x, 1)\n",
    "N = [\n",
    "    (np.matrix((2, 2), \n",
    "               (1, -1),\n",
    "               (2, 2)),  \n",
    "     np.vector(1, -1, 0)),\n",
    "    (np.matrix((1, 2, 2),\n",
    "               (0, 0, 3),\n",
    "               (1, 2, 2)), \n",
    "     np.vector(1, -1, -2)),\n",
    "    (np.matrix((2, 2, 1),), \n",
    "     np.vector(1,)),\n",
    "]\n",
    "x = np.vector(1, -1)\n",
    "\n",
    "feedforward(a, N, x)"
   ]
  },
  {
   "cell_type": "code",
   "execution_count": 4,
   "metadata": {},
   "outputs": [
    {
     "data": {
      "text/plain": [
       "array([0.78415375, 0.73322187])"
      ]
     },
     "execution_count": 4,
     "metadata": {},
     "output_type": "execute_result"
    }
   ],
   "source": [
    "a = np.sigmoid\n",
    "N = get_random_weights_and_biases(2, 3, 2, layers=3)\n",
    "x = np.random_vector(2)\n",
    "feedforward(a, N, x)"
   ]
  },
  {
   "cell_type": "code",
   "execution_count": 5,
   "metadata": {},
   "outputs": [
    {
     "data": {
      "text/plain": [
       "array([0.81018297, 0.75538457])"
      ]
     },
     "execution_count": 5,
     "metadata": {},
     "output_type": "execute_result"
    }
   ],
   "source": [
    "f = FeedForward(dim=(2, 3, 2), layers=3, a=np.sigmoid)\n",
    "x = np.random_vector(2)\n",
    "f(x)"
   ]
  },
  {
   "cell_type": "code",
   "execution_count": 6,
   "metadata": {},
   "outputs": [
    {
     "data": {
      "text/plain": [
       "[(array([[0.84791515, 0.34526908, 0.62965516],\n",
       "       [0.93314129, 0.65882193, 0.00118233]]), array([0.48970392, 0.54476942]))]"
      ]
     },
     "execution_count": 6,
     "metadata": {},
     "output_type": "execute_result"
    }
   ],
   "source": [
    "f = FeedForwardSingleLayer(dim=(3, 2), a=np.sigmoid, da=np.dx_sigmoid)\n",
    "f"
   ]
  },
  {
   "cell_type": "markdown",
   "metadata": {},
   "source": [
    "#### Single Layer Feedforward for Decimal to Binary Converter"
   ]
  },
  {
   "cell_type": "code",
   "execution_count": 7,
   "metadata": {},
   "outputs": [],
   "source": [
    "from dec2bin import int2dec, int2bin, bin2int\n",
    "\n",
    "\n",
    "class Dec2Bin(FeedForwardSingleLayer):\n",
    "\n",
    "    def __init__(self, a=np.sigmoid, da=np.dx_sigmoid, \n",
    "                 classify=lambda x: heaviside(x, offset=0.5), s=0.01, epochs=100):\n",
    "        super().__init__(dim=(10, 4), a=a, da=da)\n",
    "        self.classify = classify\n",
    "        self.train([(np.vector(*int2dec(n)), np.vector(*int2bin(n))) for n in range(10)], s, epochs)\n",
    "\n",
    "    def __call__(self, n):\n",
    "        return tuple([self.classify(t) for t in super().__call__(int2dec(n))])\n",
    "\n",
    "    \n",
    "def run_dec2bin_feedforward(f):\n",
    "    for n in range(10):\n",
    "        y = f(n)\n",
    "        z = tuple(int2bin(n))\n",
    "        if y == z:\n",
    "            print(f\"{n} = {y} {_ok}\")\n",
    "        else:\n",
    "            print(f\"{n} = {z} ≠ {_red(y)} {_nok}\")\n",
    "            "
   ]
  },
  {
   "cell_type": "code",
   "execution_count": 8,
   "metadata": {},
   "outputs": [
    {
     "name": "stdout",
     "output_type": "stream",
     "text": [
      "0 = (0, 0, 0, 0) \u001b[32m✔\u001b[0m\n",
      "1 = (1, 0, 0, 0) \u001b[32m✔\u001b[0m\n",
      "2 = (0, 1, 0, 0) \u001b[32m✔\u001b[0m\n",
      "3 = (1, 1, 0, 0) \u001b[32m✔\u001b[0m\n",
      "4 = (0, 0, 1, 0) \u001b[32m✔\u001b[0m\n",
      "5 = (1, 0, 1, 0) \u001b[32m✔\u001b[0m\n",
      "6 = (0, 1, 1, 0) \u001b[32m✔\u001b[0m\n",
      "7 = (1, 1, 1, 0) \u001b[32m✔\u001b[0m\n",
      "8 = (0, 0, 0, 1) \u001b[32m✔\u001b[0m\n",
      "9 = (1, 0, 0, 1) \u001b[32m✔\u001b[0m\n"
     ]
    }
   ],
   "source": [
    "a, da, classify = np.sigmoid, np.dx_sigmoid, lambda x: heaviside(x, offset=0.5)\n",
    "s, epochs = 0.01, 1500\n",
    "f = Dec2Bin(a=a, da=da, classify=classify, s=s, epochs=epochs)\n",
    "\n",
    "run_dec2bin_feedforward(f)"
   ]
  },
  {
   "cell_type": "code",
   "execution_count": 9,
   "metadata": {},
   "outputs": [
    {
     "name": "stdout",
     "output_type": "stream",
     "text": [
      "0 = (0, 0, 0, 0) \u001b[32m✔\u001b[0m\n",
      "1 = (1, 0, 0, 0) \u001b[32m✔\u001b[0m\n",
      "2 = (0, 1, 0, 0) \u001b[32m✔\u001b[0m\n",
      "3 = (1, 1, 0, 0) \u001b[32m✔\u001b[0m\n",
      "4 = (0, 0, 1, 0) \u001b[32m✔\u001b[0m\n",
      "5 = (1, 0, 1, 0) \u001b[32m✔\u001b[0m\n",
      "6 = (0, 1, 1, 0) \u001b[32m✔\u001b[0m\n",
      "7 = (1, 1, 1, 0) \u001b[32m✔\u001b[0m\n",
      "8 = (0, 0, 0, 1) \u001b[32m✔\u001b[0m\n",
      "9 = (1, 0, 0, 1) \u001b[32m✔\u001b[0m\n"
     ]
    }
   ],
   "source": [
    "a, da, classify = np.relu, np.dx_relu, lambda x: heaviside(x, offset=0.5)\n",
    "s, epochs = 0.01, 150\n",
    "f = Dec2Bin(a=a, da=da, classify=classify, s=s, epochs=epochs)\n",
    "\n",
    "run_dec2bin_feedforward(f)"
   ]
  },
  {
   "cell_type": "markdown",
   "metadata": {},
   "source": [
    "#### Single Layer Feedforward for Boolean Operator"
   ]
  },
  {
   "cell_type": "code",
   "execution_count": 10,
   "metadata": {},
   "outputs": [],
   "source": [
    "class BooleanOperator(FeedForwardSingleLayer):\n",
    "\n",
    "    def __init__(self, operator, a=np.sigmoid, da=np.dx_sigmoid, \n",
    "                 classify=lambda x: np.heaviside(x, offset=0.5), s=0.01, epochs=50):\n",
    "        super().__init__(dim=(2, 1), a=a, da=da)\n",
    "        self.classify = classify\n",
    "        self.operator = operator\n",
    "        self.train([(np.vector(*t), np.vector(y)) for t, y in BOOLEAN_TESTDATA[operator]], s, epochs)\n",
    "\n",
    "    def __call__(self, x, y):\n",
    "        return self.classify(super().__call__(np.vector(x, y))[0])\n",
    "\n",
    "\n",
    "def run_boolean_feedforward(f):\n",
    "    for t, y in BOOLEAN_TESTDATA[f.operator]:\n",
    "        z = f.feedforward(np.vector(*t))[0]\n",
    "        if y == f.classify(z):\n",
    "            print(f\"{f.operator.__name__}{t} = {y} ({_rnd(z)}) {_ok}\")\n",
    "        else:\n",
    "            print(f\"{f.operator.__name__}{t} = {y} ≠ {_rnd(z)} {_nok}\")\n",
    "    with np.printoptions(precision=2, suppress=True):                \n",
    "        print(f\"{f.operator.__name__}.N = {f.N}\")\n",
    "\n",
    "\n",
    "def verify_boolean_feedforward(operator, a=np.sigmoid, da=np.dx_sigmoid, classify=lambda x: heaviside(x, offset=0.5), \n",
    "                               s=0.1, epochs=50, trials=25):\n",
    "    for trial in range(trials):\n",
    "        f = BooleanOperator(operator, a=a, da=da, classify=classify, s=s, epochs=epochs)\n",
    "        if not all(y == f(*t) for t, y in BOOLEAN_TESTDATA[f.operator]):\n",
    "            print(f\"{operator.__name__}: {trial}/{trials} trials {_nok}\")\n",
    "            run_boolean_feedforward(f)\n",
    "            return\n",
    "    print(f\"{operator.__name__}:\t{trials} trials {_ok}\")\n"
   ]
  },
  {
   "cell_type": "code",
   "execution_count": 11,
   "metadata": {},
   "outputs": [
    {
     "name": "stdout",
     "output_type": "stream",
     "text": [
      "OR(0, 0) = 0 (0.27) \u001b[32m✔\u001b[0m\n",
      "OR(0, 1) = 1 (0.76) \u001b[32m✔\u001b[0m\n",
      "OR(1, 0) = 1 (0.76) \u001b[32m✔\u001b[0m\n",
      "OR(1, 1) = 1 (1.25) \u001b[32m✔\u001b[0m\n",
      "OR.N = [(array([[0.49, 0.49]]), array([0.27]))]\n"
     ]
    }
   ],
   "source": [
    "a, da, classify = np.relu, np.dx_relu, lambda x: heaviside(x, offset=0.4)\n",
    "s, epochs = 0.1, 250\n",
    "f = BooleanOperator(OR, a=a, da=da, classify=classify, s=s, epochs=epochs)\n",
    "\n",
    "run_boolean_feedforward(f)"
   ]
  },
  {
   "cell_type": "code",
   "execution_count": 12,
   "metadata": {},
   "outputs": [
    {
     "name": "stdout",
     "output_type": "stream",
     "text": [
      "OR:\t100 trials \u001b[32m✔\u001b[0m\n",
      "AND:\t100 trials \u001b[32m✔\u001b[0m\n",
      "NAND:\t100 trials \u001b[32m✔\u001b[0m\n"
     ]
    }
   ],
   "source": [
    "a, da, classify = np.tanh, np.dx_tanh, lambda x: heaviside(x, offset=0.5)\n",
    "a, da, classify = np.sigmoid, np.dx_sigmoid, lambda x: heaviside(x, offset=0.5)\n",
    "s, epochs = 0.1, 250\n",
    "operators = [OR, AND, NAND]\n",
    "trials = 100\n",
    "for operator in operators:\n",
    "    verify_boolean_feedforward(operator, a=a, da=da, classify=classify, s=s, epochs=epochs, trials=trials)"
   ]
  },
  {
   "cell_type": "markdown",
   "metadata": {},
   "source": [
    "#### NAND Approximation using ReLu"
   ]
  },
  {
   "cell_type": "markdown",
   "metadata": {},
   "source": [
    "For initial positive weights and negative bias the delta rule in combination with relu as activation function converges to weights and biases that do not classify NAND."
   ]
  },
  {
   "cell_type": "code",
   "execution_count": 13,
   "metadata": {},
   "outputs": [
    {
     "name": "stdout",
     "output_type": "stream",
     "text": [
      "epoch 0\n",
      "    (0, 0) -> 1 (z=-0.1\ty - az=1.0\tt=0.0):\tw=(0.8008, 0.8806)\tb=-0.1\n",
      "    (0, 1) -> 0 (z=0.7806\ty - az=-0.7806\tt=-0.0781):\tw=(0.8008, 0.8026)\tb=-0.1781\n",
      "    (1, 0) -> 0 (z=0.6227\ty - az=-0.6227\tt=-0.0623):\tw=(0.7385, 0.8026)\tb=-0.2403\n",
      "    (1, 1) -> 0 (z=1.3008\ty - az=-1.3008\tt=-0.1301):\tw=(0.6085, 0.6725)\tb=-0.3704\n",
      "\u001b[34m        w = (0.6085, 0.6725), b = -0.3704\u001b[0m\n",
      "epoch 1\n",
      "    (0, 0) -> 1 (z=-0.3704\ty - az=1.0\tt=0.0):\tw=(0.6085, 0.6725)\tb=-0.3704\n",
      "    (0, 1) -> 0 (z=0.3021\ty - az=-0.3021\tt=-0.0302):\tw=(0.6085, 0.6423)\tb=-0.4006\n",
      "    (1, 0) -> 0 (z=0.2078\ty - az=-0.2078\tt=-0.0208):\tw=(0.5877, 0.6423)\tb=-0.4214\n",
      "    (1, 1) -> 0 (z=0.8086\ty - az=-0.8086\tt=-0.0809):\tw=(0.5068, 0.5614)\tb=-0.5023\n",
      "\u001b[34m        w = (0.5068, 0.5614), b = -0.5023\u001b[0m\n",
      "epoch 2\n",
      "    (0, 0) -> 1 (z=-0.5023\ty - az=1.0\tt=0.0):\tw=(0.5068, 0.5614)\tb=-0.5023\n",
      "    (0, 1) -> 0 (z=0.0592\ty - az=-0.0592\tt=-0.0059):\tw=(0.5068, 0.5555)\tb=-0.5082\n",
      "    (1, 0) -> 0 (z=-0.0014\ty - az=0.0\tt=0.0):\tw=(0.5068, 0.5555)\tb=-0.5082\n",
      "    (1, 1) -> 0 (z=0.5542\ty - az=-0.5542\tt=-0.0554):\tw=(0.4514, 0.5001)\tb=-0.5636\n",
      "\u001b[34m        w = (0.4514, 0.5001), b = -0.5636\u001b[0m\n",
      "epoch 3\n",
      "    (0, 0) -> 1 (z=-0.5636\ty - az=1.0\tt=0.0):\tw=(0.4514, 0.5001)\tb=-0.5636\n",
      "    (0, 1) -> 0 (z=-0.0635\ty - az=0.0\tt=0.0):\tw=(0.4514, 0.5001)\tb=-0.5636\n",
      "    (1, 0) -> 0 (z=-0.1122\ty - az=0.0\tt=0.0):\tw=(0.4514, 0.5001)\tb=-0.5636\n",
      "    (1, 1) -> 0 (z=0.3879\ty - az=-0.3879\tt=-0.0388):\tw=(0.4126, 0.4613)\tb=-0.6024\n",
      "\u001b[34m        w = (0.4126, 0.4613), b = -0.6024\u001b[0m\n",
      "epoch 4\n",
      "    (0, 0) -> 1 (z=-0.6024\ty - az=1.0\tt=0.0):\tw=(0.4126, 0.4613)\tb=-0.6024\n",
      "    (0, 1) -> 0 (z=-0.1411\ty - az=0.0\tt=0.0):\tw=(0.4126, 0.4613)\tb=-0.6024\n",
      "    (1, 0) -> 0 (z=-0.1898\ty - az=0.0\tt=0.0):\tw=(0.4126, 0.4613)\tb=-0.6024\n",
      "    (1, 1) -> 0 (z=0.2715\ty - az=-0.2715\tt=-0.0272):\tw=(0.3855, 0.4342)\tb=-0.6295\n",
      "\u001b[34m        w = (0.3855, 0.4342), b = -0.6295\u001b[0m\n",
      "epoch 5\n",
      "    (0, 0) -> 1 (z=-0.6295\ty - az=1.0\tt=0.0):\tw=(0.3855, 0.4342)\tb=-0.6295\n",
      "    (0, 1) -> 0 (z=-0.1954\ty - az=0.0\tt=0.0):\tw=(0.3855, 0.4342)\tb=-0.6295\n",
      "    (1, 0) -> 0 (z=-0.2441\ty - az=0.0\tt=0.0):\tw=(0.3855, 0.4342)\tb=-0.6295\n",
      "    (1, 1) -> 0 (z=0.1901\ty - az=-0.1901\tt=-0.019):\tw=(0.3664, 0.4152)\tb=-0.6485\n",
      "\u001b[34m        w = (0.3664, 0.4152), b = -0.6485\u001b[0m\n",
      "epoch 6\n",
      "    (0, 0) -> 1 (z=-0.6485\ty - az=1.0\tt=0.0):\tw=(0.3664, 0.4152)\tb=-0.6485\n",
      "    (0, 1) -> 0 (z=-0.2334\ty - az=0.0\tt=0.0):\tw=(0.3664, 0.4152)\tb=-0.6485\n",
      "    (1, 0) -> 0 (z=-0.2821\ty - az=0.0\tt=0.0):\tw=(0.3664, 0.4152)\tb=-0.6485\n",
      "    (1, 1) -> 0 (z=0.1331\ty - az=-0.1331\tt=-0.0133):\tw=(0.3531, 0.4018)\tb=-0.6619\n",
      "\u001b[34m        w = (0.3531, 0.4018), b = -0.6619\u001b[0m\n",
      "epoch 7\n",
      "    (0, 0) -> 1 (z=-0.6619\ty - az=1.0\tt=0.0):\tw=(0.3531, 0.4018)\tb=-0.6619\n",
      "    (0, 1) -> 0 (z=-0.26\ty - az=0.0\tt=0.0):\tw=(0.3531, 0.4018)\tb=-0.6619\n",
      "    (1, 0) -> 0 (z=-0.3087\ty - az=0.0\tt=0.0):\tw=(0.3531, 0.4018)\tb=-0.6619\n",
      "    (1, 1) -> 0 (z=0.0931\ty - az=-0.0931\tt=-0.0093):\tw=(0.3438, 0.3925)\tb=-0.6712\n",
      "\u001b[34m        w = (0.3438, 0.3925), b = -0.6712\u001b[0m\n",
      "epoch 8\n",
      "    (0, 0) -> 1 (z=-0.6712\ty - az=1.0\tt=0.0):\tw=(0.3438, 0.3925)\tb=-0.6712\n",
      "    (0, 1) -> 0 (z=-0.2786\ty - az=0.0\tt=0.0):\tw=(0.3438, 0.3925)\tb=-0.6712\n",
      "    (1, 0) -> 0 (z=-0.3273\ty - az=0.0\tt=0.0):\tw=(0.3438, 0.3925)\tb=-0.6712\n",
      "    (1, 1) -> 0 (z=0.0652\ty - az=-0.0652\tt=-0.0065):\tw=(0.3373, 0.386)\tb=-0.6777\n",
      "\u001b[34m        w = (0.3373, 0.386), b = -0.6777\u001b[0m\n",
      "epoch 9\n",
      "    (0, 0) -> 1 (z=-0.6777\ty - az=1.0\tt=0.0):\tw=(0.3373, 0.386)\tb=-0.6777\n",
      "    (0, 1) -> 0 (z=-0.2917\ty - az=0.0\tt=0.0):\tw=(0.3373, 0.386)\tb=-0.6777\n",
      "    (1, 0) -> 0 (z=-0.3404\ty - az=0.0\tt=0.0):\tw=(0.3373, 0.386)\tb=-0.6777\n",
      "    (1, 1) -> 0 (z=0.0456\ty - az=-0.0456\tt=-0.0046):\tw=(0.3327, 0.3814)\tb=-0.6822\n",
      "\u001b[34m        w = (0.3327, 0.3814), b = -0.6822\u001b[0m\n",
      "epoch 10\n",
      "    (0, 0) -> 1 (z=-0.6822\ty - az=1.0\tt=0.0):\tw=(0.3327, 0.3814)\tb=-0.6822\n",
      "    (0, 1) -> 0 (z=-0.3008\ty - az=0.0\tt=0.0):\tw=(0.3327, 0.3814)\tb=-0.6822\n",
      "    (1, 0) -> 0 (z=-0.3495\ty - az=0.0\tt=0.0):\tw=(0.3327, 0.3814)\tb=-0.6822\n",
      "    (1, 1) -> 0 (z=0.0319\ty - az=-0.0319\tt=-0.0032):\tw=(0.3296, 0.3783)\tb=-0.6854\n",
      "\u001b[34m        w = (0.3296, 0.3783), b = -0.6854\u001b[0m\n",
      "epoch 11\n",
      "    (0, 0) -> 1 (z=-0.6854\ty - az=1.0\tt=0.0):\tw=(0.3296, 0.3783)\tb=-0.6854\n",
      "    (0, 1) -> 0 (z=-0.3072\ty - az=0.0\tt=0.0):\tw=(0.3296, 0.3783)\tb=-0.6854\n",
      "    (1, 0) -> 0 (z=-0.3559\ty - az=0.0\tt=0.0):\tw=(0.3296, 0.3783)\tb=-0.6854\n",
      "    (1, 1) -> 0 (z=0.0224\ty - az=-0.0224\tt=-0.0022):\tw=(0.3273, 0.376)\tb=-0.6877\n",
      "\u001b[34m        w = (0.3273, 0.376), b = -0.6877\u001b[0m\n",
      "epoch 12\n",
      "    (0, 0) -> 1 (z=-0.6877\ty - az=1.0\tt=0.0):\tw=(0.3273, 0.376)\tb=-0.6877\n",
      "    (0, 1) -> 0 (z=-0.3117\ty - az=0.0\tt=0.0):\tw=(0.3273, 0.376)\tb=-0.6877\n",
      "    (1, 0) -> 0 (z=-0.3604\ty - az=0.0\tt=0.0):\tw=(0.3273, 0.376)\tb=-0.6877\n",
      "    (1, 1) -> 0 (z=0.0157\ty - az=-0.0157\tt=-0.0016):\tw=(0.3257, 0.3745)\tb=-0.6892\n",
      "\u001b[34m        w = (0.3257, 0.3745), b = -0.6892\u001b[0m\n",
      "epoch 13\n",
      "    (0, 0) -> 1 (z=-0.6892\ty - az=1.0\tt=0.0):\tw=(0.3257, 0.3745)\tb=-0.6892\n",
      "    (0, 1) -> 0 (z=-0.3148\ty - az=0.0\tt=0.0):\tw=(0.3257, 0.3745)\tb=-0.6892\n",
      "    (1, 0) -> 0 (z=-0.3635\ty - az=0.0\tt=0.0):\tw=(0.3257, 0.3745)\tb=-0.6892\n",
      "    (1, 1) -> 0 (z=0.011\ty - az=-0.011\tt=-0.0011):\tw=(0.3247, 0.3734)\tb=-0.6903\n",
      "\u001b[34m        w = (0.3247, 0.3734), b = -0.6903\u001b[0m\n",
      "epoch 14\n",
      "    (0, 0) -> 1 (z=-0.6903\ty - az=1.0\tt=0.0):\tw=(0.3247, 0.3734)\tb=-0.6903\n",
      "    (0, 1) -> 0 (z=-0.317\ty - az=0.0\tt=0.0):\tw=(0.3247, 0.3734)\tb=-0.6903\n",
      "    (1, 0) -> 0 (z=-0.3657\ty - az=0.0\tt=0.0):\tw=(0.3247, 0.3734)\tb=-0.6903\n",
      "    (1, 1) -> 0 (z=0.0077\ty - az=-0.0077\tt=-0.0008):\tw=(0.3239, 0.3726)\tb=-0.6911\n",
      "\u001b[34m        w = (0.3239, 0.3726), b = -0.6911\u001b[0m\n",
      "epoch 15\n",
      "    (0, 0) -> 1 (z=-0.6911\ty - az=1.0\tt=0.0):\tw=(0.3239, 0.3726)\tb=-0.6911\n",
      "    (0, 1) -> 0 (z=-0.3185\ty - az=0.0\tt=0.0):\tw=(0.3239, 0.3726)\tb=-0.6911\n",
      "    (1, 0) -> 0 (z=-0.3672\ty - az=0.0\tt=0.0):\tw=(0.3239, 0.3726)\tb=-0.6911\n",
      "    (1, 1) -> 0 (z=0.0054\ty - az=-0.0054\tt=-0.0005):\tw=(0.3233, 0.3721)\tb=-0.6916\n",
      "\u001b[34m        w = (0.3233, 0.3721), b = -0.6916\u001b[0m\n",
      "epoch 16\n",
      "    (0, 0) -> 1 (z=-0.6916\ty - az=1.0\tt=0.0):\tw=(0.3233, 0.3721)\tb=-0.6916\n",
      "    (0, 1) -> 0 (z=-0.3196\ty - az=0.0\tt=0.0):\tw=(0.3233, 0.3721)\tb=-0.6916\n",
      "    (1, 0) -> 0 (z=-0.3683\ty - az=0.0\tt=0.0):\tw=(0.3233, 0.3721)\tb=-0.6916\n",
      "    (1, 1) -> 0 (z=0.0038\ty - az=-0.0038\tt=-0.0004):\tw=(0.323, 0.3717)\tb=-0.692\n",
      "\u001b[34m        w = (0.323, 0.3717), b = -0.692\u001b[0m\n",
      "epoch 17\n",
      "    (0, 0) -> 1 (z=-0.692\ty - az=1.0\tt=0.0):\tw=(0.323, 0.3717)\tb=-0.692\n",
      "    (0, 1) -> 0 (z=-0.3203\ty - az=0.0\tt=0.0):\tw=(0.323, 0.3717)\tb=-0.692\n",
      "    (1, 0) -> 0 (z=-0.369\ty - az=0.0\tt=0.0):\tw=(0.323, 0.3717)\tb=-0.692\n",
      "    (1, 1) -> 0 (z=0.0026\ty - az=-0.0026\tt=-0.0003):\tw=(0.3227, 0.3714)\tb=-0.6923\n",
      "\u001b[34m        w = (0.3227, 0.3714), b = -0.6923\u001b[0m\n",
      "epoch 18\n",
      "    (0, 0) -> 1 (z=-0.6923\ty - az=1.0\tt=0.0):\tw=(0.3227, 0.3714)\tb=-0.6923\n",
      "    (0, 1) -> 0 (z=-0.3209\ty - az=0.0\tt=0.0):\tw=(0.3227, 0.3714)\tb=-0.6923\n",
      "    (1, 0) -> 0 (z=-0.3696\ty - az=0.0\tt=0.0):\tw=(0.3227, 0.3714)\tb=-0.6923\n",
      "    (1, 1) -> 0 (z=0.0018\ty - az=-0.0018\tt=-0.0002):\tw=(0.3225, 0.3712)\tb=-0.6925\n",
      "\u001b[34m        w = (0.3225, 0.3712), b = -0.6925\u001b[0m\n",
      "epoch 19\n",
      "    (0, 0) -> 1 (z=-0.6925\ty - az=1.0\tt=0.0):\tw=(0.3225, 0.3712)\tb=-0.6925\n",
      "    (0, 1) -> 0 (z=-0.3212\ty - az=0.0\tt=0.0):\tw=(0.3225, 0.3712)\tb=-0.6925\n",
      "    (1, 0) -> 0 (z=-0.3699\ty - az=0.0\tt=0.0):\tw=(0.3225, 0.3712)\tb=-0.6925\n",
      "    (1, 1) -> 0 (z=0.0013\ty - az=-0.0013\tt=-0.0001):\tw=(0.3224, 0.3711)\tb=-0.6926\n",
      "\u001b[34m        w = (0.3224, 0.3711), b = -0.6926\u001b[0m\n",
      "epoch 20\n",
      "    (0, 0) -> 1 (z=-0.6926\ty - az=1.0\tt=0.0):\tw=(0.3224, 0.3711)\tb=-0.6926\n",
      "    (0, 1) -> 0 (z=-0.3215\ty - az=0.0\tt=0.0):\tw=(0.3224, 0.3711)\tb=-0.6926\n",
      "    (1, 0) -> 0 (z=-0.3702\ty - az=0.0\tt=0.0):\tw=(0.3224, 0.3711)\tb=-0.6926\n",
      "    (1, 1) -> 0 (z=0.0009\ty - az=-0.0009\tt=-0.0001):\tw=(0.3223, 0.371)\tb=-0.6927\n",
      "\u001b[34m        w = (0.3223, 0.371), b = -0.6927\u001b[0m\n",
      "epoch 21\n",
      "    (0, 0) -> 1 (z=-0.6927\ty - az=1.0\tt=0.0):\tw=(0.3223, 0.371)\tb=-0.6927\n",
      "    (0, 1) -> 0 (z=-0.3217\ty - az=0.0\tt=0.0):\tw=(0.3223, 0.371)\tb=-0.6927\n",
      "    (1, 0) -> 0 (z=-0.3704\ty - az=0.0\tt=0.0):\tw=(0.3223, 0.371)\tb=-0.6927\n",
      "    (1, 1) -> 0 (z=0.0006\ty - az=-0.0006\tt=-0.0001):\tw=(0.3222, 0.3709)\tb=-0.6927\n",
      "\u001b[34m        w = (0.3222, 0.3709), b = -0.6927\u001b[0m\n",
      "epoch 22\n",
      "    (0, 0) -> 1 (z=-0.6927\ty - az=1.0\tt=0.0):\tw=(0.3222, 0.3709)\tb=-0.6927\n",
      "    (0, 1) -> 0 (z=-0.3218\ty - az=0.0\tt=0.0):\tw=(0.3222, 0.3709)\tb=-0.6927\n",
      "    (1, 0) -> 0 (z=-0.3705\ty - az=0.0\tt=0.0):\tw=(0.3222, 0.3709)\tb=-0.6927\n",
      "    (1, 1) -> 0 (z=0.0004\ty - az=-0.0004\tt=-0.0):\tw=(0.3222, 0.3709)\tb=-0.6928\n",
      "\u001b[34m        w = (0.3222, 0.3709), b = -0.6928\u001b[0m\n",
      "epoch 23\n",
      "    (0, 0) -> 1 (z=-0.6928\ty - az=1.0\tt=0.0):\tw=(0.3222, 0.3709)\tb=-0.6928\n",
      "    (0, 1) -> 0 (z=-0.3219\ty - az=0.0\tt=0.0):\tw=(0.3222, 0.3709)\tb=-0.6928\n",
      "    (1, 0) -> 0 (z=-0.3706\ty - az=0.0\tt=0.0):\tw=(0.3222, 0.3709)\tb=-0.6928\n",
      "    (1, 1) -> 0 (z=0.0003\ty - az=-0.0003\tt=-0.0):\tw=(0.3222, 0.3709)\tb=-0.6928\n",
      "\u001b[34m        w = (0.3222, 0.3709), b = -0.6928\u001b[0m\n",
      "epoch 24\n",
      "    (0, 0) -> 1 (z=-0.6928\ty - az=1.0\tt=0.0):\tw=(0.3222, 0.3709)\tb=-0.6928\n",
      "    (0, 1) -> 0 (z=-0.322\ty - az=0.0\tt=0.0):\tw=(0.3222, 0.3709)\tb=-0.6928\n",
      "    (1, 0) -> 0 (z=-0.3707\ty - az=0.0\tt=0.0):\tw=(0.3222, 0.3709)\tb=-0.6928\n",
      "    (1, 1) -> 0 (z=0.0002\ty - az=-0.0002\tt=-0.0):\tw=(0.3221, 0.3709)\tb=-0.6928\n",
      "\u001b[34m        w = (0.3221, 0.3709), b = -0.6928\u001b[0m\n"
     ]
    },
    {
     "ename": "NameError",
     "evalue": "name 'T' is not defined",
     "output_type": "error",
     "traceback": [
      "\u001b[0;31m---------------------------------------------------------------------------\u001b[0m",
      "\u001b[0;31mNameError\u001b[0m                                 Traceback (most recent call last)",
      "\u001b[0;32m<ipython-input-13-c3b4ce3bcc46>\u001b[0m in \u001b[0;36m<module>\u001b[0;34m\u001b[0m\n\u001b[1;32m     23\u001b[0m \u001b[0mp\u001b[0m \u001b[0;34m=\u001b[0m \u001b[0;32mlambda\u001b[0m \u001b[0mx\u001b[0m\u001b[0;34m:\u001b[0m \u001b[0mclassify\u001b[0m\u001b[0;34m(\u001b[0m\u001b[0mr\u001b[0m\u001b[0;34m(\u001b[0m\u001b[0mx\u001b[0m\u001b[0;34m)\u001b[0m\u001b[0;34m)\u001b[0m\u001b[0;34m\u001b[0m\u001b[0;34m\u001b[0m\u001b[0m\n\u001b[1;32m     24\u001b[0m \u001b[0mclassify\u001b[0m \u001b[0;34m=\u001b[0m \u001b[0;32mlambda\u001b[0m \u001b[0mx\u001b[0m\u001b[0;34m:\u001b[0m \u001b[0mheaviside\u001b[0m\u001b[0;34m(\u001b[0m\u001b[0mx\u001b[0m\u001b[0;34m,\u001b[0m \u001b[0moffset\u001b[0m\u001b[0;34m=\u001b[0m\u001b[0;36m0.4\u001b[0m\u001b[0;34m)\u001b[0m\u001b[0;34m\u001b[0m\u001b[0;34m\u001b[0m\u001b[0m\n\u001b[0;32m---> 25\u001b[0;31m \u001b[0;32mfor\u001b[0m \u001b[0mx\u001b[0m\u001b[0;34m,\u001b[0m \u001b[0my\u001b[0m \u001b[0;32min\u001b[0m \u001b[0mT\u001b[0m\u001b[0;34m:\u001b[0m\u001b[0;34m\u001b[0m\u001b[0;34m\u001b[0m\u001b[0m\n\u001b[0m\u001b[1;32m     26\u001b[0m     \u001b[0mz\u001b[0m \u001b[0;34m=\u001b[0m \u001b[0mp\u001b[0m\u001b[0;34m(\u001b[0m\u001b[0mx\u001b[0m\u001b[0;34m)\u001b[0m\u001b[0;34m\u001b[0m\u001b[0;34m\u001b[0m\u001b[0m\n\u001b[1;32m     27\u001b[0m     \u001b[0;32mif\u001b[0m \u001b[0mz\u001b[0m \u001b[0;34m==\u001b[0m \u001b[0my\u001b[0m\u001b[0;34m:\u001b[0m\u001b[0;34m\u001b[0m\u001b[0;34m\u001b[0m\u001b[0m\n",
      "\u001b[0;31mNameError\u001b[0m: name 'T' is not defined"
     ]
    }
   ],
   "source": [
    "def delta_rule_nand(w, b, s=0.01, epochs=50):\n",
    "    T = BOOLEAN_TESTDATA[NAND]\n",
    "    n = len(T[0][0])\n",
    "    for epoch in range(epochs):\n",
    "        print(f\"epoch {epoch}\")\n",
    "        for x, y in T:\n",
    "            z = dotprod(w, x) + b\n",
    "            az, daz = relu(z), dx_relu(z)\n",
    "            d = y - az\n",
    "            t = s * d * daz\n",
    "            w = tuple(wi + t * xi for wi, xi in zip(w, x))\n",
    "            b = b + t\n",
    "            print(f\"    {x} -> {y} (z={_rnd(z)}\ty - az={_rnd(d)}\tt={_rnd(t)}):\tw={_rnd(w)}\tb={_rnd(b)}\")\n",
    "        print(_blu(f\"        w = {_rnd(w)}, b = {_rnd(b)}\"))\n",
    "    return w, b\n",
    "\n",
    "\n",
    "_ndig(n=4)\n",
    "s, epochs = 0.1, 25 \n",
    "w, b = (random.random(), random.random()), -0.1\n",
    "w, b = delta_rule_nand(w, b, s=s, epochs=epochs)\n",
    "r = lambda x: dotprod(w, x) + b\n",
    "p = lambda x: classify(r(x))\n",
    "classify = lambda x: heaviside(x, offset=0.4)\n",
    "for x, y in T:\n",
    "    z = p(x)\n",
    "    if z == y:\n",
    "        print(f\"{f.__name__}{x} = {y}\t\ta(wx+b) = {_rnd(r(x), n=2)} {_ok}\")\n",
    "    else:\n",
    "        print(_red(f\"{f.__name__}{x} = {y} ≠ {z}\ta(wx+b) = {_rnd(r(x), n=2)} {_nok}\"))\n",
    "_ndig()        "
   ]
  },
  {
   "cell_type": "code",
   "execution_count": null,
   "metadata": {},
   "outputs": [],
   "source": []
  }
 ],
 "metadata": {
  "kernelspec": {
   "display_name": "Python 3",
   "language": "python",
   "name": "python3"
  },
  "language_info": {
   "codemirror_mode": {
    "name": "ipython",
    "version": 3
   },
   "file_extension": ".py",
   "mimetype": "text/x-python",
   "name": "python",
   "nbconvert_exporter": "python",
   "pygments_lexer": "ipython3",
   "version": "3.8.1"
  },
  "latex_envs": {
   "LaTeX_envs_menu_present": true,
   "autoclose": false,
   "autocomplete": true,
   "bibliofile": "biblio.bib",
   "cite_by": "apalike",
   "current_citInitial": 1,
   "eqLabelWithNumbers": true,
   "eqNumInitial": 1,
   "hotkeys": {
    "equation": "Ctrl-E",
    "itemize": "Ctrl-I"
   },
   "labels_anchors": false,
   "latex_user_defs": false,
   "report_style_numbering": false,
   "user_envs_cfg": false
  },
  "toc": {
   "base_numbering": 1,
   "nav_menu": {},
   "number_sections": true,
   "sideBar": true,
   "skip_h1_title": false,
   "title_cell": "Table of Contents",
   "title_sidebar": "Contents",
   "toc_cell": false,
   "toc_position": {
    "height": "calc(100% - 180px)",
    "left": "10px",
    "top": "150px",
    "width": "402.875px"
   },
   "toc_section_display": true,
   "toc_window_display": false
  }
 },
 "nbformat": 4,
 "nbformat_minor": 4
}
