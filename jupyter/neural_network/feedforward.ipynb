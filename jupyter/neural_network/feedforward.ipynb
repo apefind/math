{
 "cells": [
  {
   "cell_type": "markdown",
   "metadata": {},
   "source": [
    "### Feed Forward"
   ]
  },
  {
   "cell_type": "code",
   "execution_count": 1,
   "metadata": {},
   "outputs": [],
   "source": [
    "%run core.ipynb"
   ]
  },
  {
   "cell_type": "markdown",
   "metadata": {},
   "source": [
    "#### Implementation of Feedforward Neural Networks"
   ]
  },
  {
   "cell_type": "code",
   "execution_count": 2,
   "metadata": {},
   "outputs": [],
   "source": [
    "# %load feedforward.py\n",
    "import random\n",
    "import np as _\n",
    "import numpy as np\n",
    "\n",
    "\n",
    "def feedforward(a, N, x):\n",
    "    for W, B in N:\n",
    "        x = a(np.dot(W, x) + B)\n",
    "    return x\n",
    "\n",
    "\n",
    "def get_random_weights_and_biases(k, l, m=None, layers=0):\n",
    "    N = [(np.random_matrix(l, k), np.random_vector(l))]\n",
    "    for _ in range(layers):\n",
    "        N.append((np.random_matrix(l, l), np.random_vector(l)))\n",
    "    if m is not None:\n",
    "        N.append((np.random_matrix(m, l), np.random_vector(m)))\n",
    "    return N\n",
    "\n",
    "\n",
    "class FeedForward:\n",
    "\n",
    "    def __init__(self, dim, layers, a):\n",
    "        self.dim = dim\n",
    "        self.N = get_random_weights_and_biases(*dim, layers)\n",
    "        self.a = a\n",
    "\n",
    "    def __call__(self, x):\n",
    "        return self.feedforward(x)\n",
    "\n",
    "    def __repr__(self):\n",
    "        return repr(self.N)\n",
    "\n",
    "    def feedforward(self, x):\n",
    "        return feedforward(self.a, self.N, x)\n",
    "\n",
    "\n",
    "class FeedForwardSingleLayer(FeedForward):\n",
    "\n",
    "    def __init__(self, dim, a, da):\n",
    "        super().__init__(dim=(*dim, None), layers=0, a=a)\n",
    "        self.da = da\n",
    "\n",
    "    def train(self, T, s=0.01, epochs=50):\n",
    "        for _ in range(epochs):\n",
    "            for x, y in random.sample(T, len(T)):\n",
    "                z = feedforward(np.linear, self.N, x)\n",
    "                az, daz = self.a(z), self.da(z)\n",
    "                d = y - az\n",
    "                for W, B in self.N:\n",
    "                    for i, w in enumerate(W):\n",
    "                        w += s * d[i] * daz[i] * x\n",
    "                    B += s * d * daz\n"
   ]
  },
  {
   "cell_type": "code",
   "execution_count": 3,
   "metadata": {},
   "outputs": [
    {
     "data": {
      "text/plain": [
       "array([8])"
      ]
     },
     "execution_count": 3,
     "metadata": {},
     "output_type": "execute_result"
    }
   ],
   "source": [
    "a = lambda x: np.multiply(x, 1)\n",
    "N = [\n",
    "    (np.matrix((2, 2), \n",
    "               (1, -1),\n",
    "               (2, 2)),  \n",
    "     np.vector(1, -1, 0)),\n",
    "    (np.matrix((1, 2, 2),\n",
    "               (0, 0, 3),\n",
    "               (1, 2, 2)), \n",
    "     np.vector(1, -1, -2)),\n",
    "    (np.matrix((2, 2, 1),), \n",
    "     np.vector(1,)),\n",
    "]\n",
    "x = np.vector(1, -1)\n",
    "\n",
    "feedforward(a, N, x)"
   ]
  },
  {
   "cell_type": "code",
   "execution_count": 4,
   "metadata": {},
   "outputs": [
    {
     "data": {
      "text/plain": [
       "array([0.8604556 , 0.87300968])"
      ]
     },
     "execution_count": 4,
     "metadata": {},
     "output_type": "execute_result"
    }
   ],
   "source": [
    "a = np.sigmoid\n",
    "N = get_random_weights_and_biases(2, 3, 2, layers=3)\n",
    "x = np.random_vector(2)\n",
    "feedforward(a, N, x)"
   ]
  },
  {
   "cell_type": "code",
   "execution_count": 5,
   "metadata": {},
   "outputs": [
    {
     "data": {
      "text/plain": [
       "array([0.91059953, 0.89727179])"
      ]
     },
     "execution_count": 5,
     "metadata": {},
     "output_type": "execute_result"
    }
   ],
   "source": [
    "f = FeedForward(dim=(2, 3, 2), layers=3, a=np.sigmoid)\n",
    "x = np.random_vector(2)\n",
    "f(x)"
   ]
  },
  {
   "cell_type": "code",
   "execution_count": 6,
   "metadata": {},
   "outputs": [
    {
     "data": {
      "text/plain": [
       "[(array([[0.13446598, 0.90280605, 0.13060652],\n",
       "       [0.66305854, 0.23617999, 0.58905286]]), array([0.96302308, 0.89312541]))]"
      ]
     },
     "execution_count": 6,
     "metadata": {},
     "output_type": "execute_result"
    }
   ],
   "source": [
    "f = FeedForwardSingleLayer(dim=(3, 2), a=np.sigmoid, da=np.dx_sigmoid)\n",
    "f"
   ]
  },
  {
   "cell_type": "markdown",
   "metadata": {},
   "source": [
    "#### Single Layer Feedforward for Decimal to Binary Converter"
   ]
  },
  {
   "cell_type": "code",
   "execution_count": 7,
   "metadata": {},
   "outputs": [],
   "source": [
    "from dec2bin import int2dec, int2bin, bin2int\n",
    "\n",
    "\n",
    "class Dec2Bin(FeedForwardSingleLayer):\n",
    "\n",
    "    def __init__(self, a=np.sigmoid, da=np.dx_sigmoid, \n",
    "                 classify=lambda x: heaviside(x, offset=0.5), s=0.01, epochs=100):\n",
    "        super().__init__(dim=(10, 4), a=a, da=da)\n",
    "        self.classify = classify\n",
    "        self.train([(np.vector(*int2dec(n)), np.vector(*int2bin(n))) for n in range(10)], s, epochs)\n",
    "\n",
    "    def __call__(self, n):\n",
    "        return tuple([self.classify(t) for t in super().__call__(int2dec(n))])\n",
    "\n",
    "    \n",
    "def run_dec2bin_feedforward(f):\n",
    "    for n in range(10):\n",
    "        y = f(n)\n",
    "        z = tuple(int2bin(n))\n",
    "        if y == z:\n",
    "            print(f\"{n} = {y} {_ok}\")\n",
    "        else:\n",
    "            print(f\"{n} = {z} ≠ {_red(y)} {_nok}\")\n",
    "            "
   ]
  },
  {
   "cell_type": "code",
   "execution_count": 8,
   "metadata": {},
   "outputs": [
    {
     "name": "stdout",
     "output_type": "stream",
     "text": [
      "0 = (0, 0, 0, 0) \u001b[32m✔\u001b[0m\n",
      "1 = (1, 0, 0, 0) \u001b[32m✔\u001b[0m\n",
      "2 = (0, 1, 0, 0) \u001b[32m✔\u001b[0m\n",
      "3 = (1, 1, 0, 0) \u001b[32m✔\u001b[0m\n",
      "4 = (0, 0, 1, 0) \u001b[32m✔\u001b[0m\n",
      "5 = (1, 0, 1, 0) \u001b[32m✔\u001b[0m\n",
      "6 = (0, 1, 1, 0) \u001b[32m✔\u001b[0m\n",
      "7 = (1, 1, 1, 0) \u001b[32m✔\u001b[0m\n",
      "8 = (0, 0, 0, 1) \u001b[32m✔\u001b[0m\n",
      "9 = (1, 0, 0, 1) \u001b[32m✔\u001b[0m\n"
     ]
    }
   ],
   "source": [
    "a, da, classify = np.sigmoid, np.dx_sigmoid, lambda x: heaviside(x, offset=0.5)\n",
    "s, epochs = 0.01, 1500\n",
    "f = Dec2Bin(a=a, da=da, classify=classify, s=s, epochs=epochs)\n",
    "\n",
    "run_dec2bin_feedforward(f)"
   ]
  },
  {
   "cell_type": "code",
   "execution_count": 9,
   "metadata": {},
   "outputs": [
    {
     "name": "stdout",
     "output_type": "stream",
     "text": [
      "0 = (0, 0, 0, 0) \u001b[32m✔\u001b[0m\n",
      "1 = (1, 0, 0, 0) \u001b[32m✔\u001b[0m\n",
      "2 = (0, 1, 0, 0) \u001b[32m✔\u001b[0m\n",
      "3 = (1, 1, 0, 0) \u001b[32m✔\u001b[0m\n",
      "4 = (0, 0, 1, 0) \u001b[32m✔\u001b[0m\n",
      "5 = (1, 0, 1, 0) \u001b[32m✔\u001b[0m\n",
      "6 = (0, 1, 1, 0) \u001b[32m✔\u001b[0m\n",
      "7 = (1, 1, 1, 0) \u001b[32m✔\u001b[0m\n",
      "8 = (0, 0, 0, 1) \u001b[32m✔\u001b[0m\n",
      "9 = (1, 0, 0, 1) \u001b[32m✔\u001b[0m\n"
     ]
    }
   ],
   "source": [
    "a, da, classify = np.relu, np.dx_relu, lambda x: heaviside(x, offset=0.5)\n",
    "s, epochs = 0.01, 150\n",
    "f = Dec2Bin(a=a, da=da, classify=classify, s=s, epochs=epochs)\n",
    "\n",
    "run_dec2bin_feedforward(f)"
   ]
  },
  {
   "cell_type": "markdown",
   "metadata": {},
   "source": [
    "#### Single Layer Feedforward for Boolean Operator"
   ]
  },
  {
   "cell_type": "code",
   "execution_count": 10,
   "metadata": {},
   "outputs": [],
   "source": [
    "class BooleanOperator(FeedForwardSingleLayer):\n",
    "\n",
    "    def __init__(self, operator, a=np.sigmoid, da=np.dx_sigmoid, \n",
    "                 classify=lambda x: np.heaviside(x, offset=0.5), s=0.01, epochs=50):\n",
    "        super().__init__(dim=(2, 1), a=a, da=da)\n",
    "        self.classify = classify\n",
    "        self.operator = operator\n",
    "        self.train([(np.vector(*t), np.vector(y)) for t, y in BOOLEAN_TESTDATA[operator]], s, epochs)\n",
    "\n",
    "    def __call__(self, x, y):\n",
    "        return self.classify(super().__call__(np.vector(x, y))[0])\n",
    "\n",
    "\n",
    "def run_boolean_feedforward(f):\n",
    "    for t, y in BOOLEAN_TESTDATA[f.operator]:\n",
    "        z = f.feedforward(np.vector(*t))[0]\n",
    "        if y == f.classify(z):\n",
    "            print(f\"{f.operator.__name__}{t} = {y} ({_rnd(z)}) {_ok}\")\n",
    "        else:\n",
    "            print(f\"{f.operator.__name__}{t} = {y} ≠ {_rnd(z)} {_nok}\")\n",
    "    with np.printoptions(precision=2, suppress=True):                \n",
    "        print(f\"{f.operator.__name__}.N = {f.N}\")\n",
    "\n",
    "\n",
    "def verify_boolean_feedforward(operator, a=np.sigmoid, da=np.dx_sigmoid, classify=lambda x: heaviside(x, offset=0.5), \n",
    "                               s=0.1, epochs=50, trials=25):\n",
    "    for trial in range(trials):\n",
    "        f = BooleanOperator(operator, a=a, da=da, classify=classify, s=s, epochs=epochs)\n",
    "        if not all(y == f(*t) for t, y in BOOLEAN_TESTDATA[f.operator]):\n",
    "            print(f\"{operator.__name__}: {trial}/{trials} trials {_nok}\")\n",
    "            run_boolean_feedforward(f)\n",
    "            return\n",
    "    print(f\"{operator.__name__}:\t{trials} trials {_ok}\")\n"
   ]
  },
  {
   "cell_type": "code",
   "execution_count": 11,
   "metadata": {},
   "outputs": [
    {
     "name": "stdout",
     "output_type": "stream",
     "text": [
      "OR(0, 0) = 0 (0.25) \u001b[32m✔\u001b[0m\n",
      "OR(0, 1) = 1 (0.72) \u001b[32m✔\u001b[0m\n",
      "OR(1, 0) = 1 (0.73) \u001b[32m✔\u001b[0m\n",
      "OR(1, 1) = 1 (1.21) \u001b[32m✔\u001b[0m\n",
      "OR.N = [(array([[0.49, 0.47]]), array([0.25]))]\n"
     ]
    }
   ],
   "source": [
    "a, da, classify = np.relu, np.dx_relu, lambda x: heaviside(x, offset=0.4)\n",
    "s, epochs = 0.1, 250\n",
    "f = BooleanOperator(OR, a=a, da=da, classify=classify, s=s, epochs=epochs)\n",
    "\n",
    "run_boolean_feedforward(f)"
   ]
  },
  {
   "cell_type": "code",
   "execution_count": 12,
   "metadata": {},
   "outputs": [
    {
     "name": "stdout",
     "output_type": "stream",
     "text": [
      "OR:\t100 trials \u001b[32m✔\u001b[0m\n",
      "AND:\t100 trials \u001b[32m✔\u001b[0m\n",
      "NAND:\t100 trials \u001b[32m✔\u001b[0m\n"
     ]
    }
   ],
   "source": [
    "a, da, classify = np.tanh, np.dx_tanh, lambda x: heaviside(x, offset=0.5)\n",
    "a, da, classify = np.sigmoid, np.dx_sigmoid, lambda x: heaviside(x, offset=0.5)\n",
    "s, epochs = 0.1, 250\n",
    "operators = [OR, AND, NAND]\n",
    "trials = 100\n",
    "for operator in operators:\n",
    "    verify_boolean_feedforward(operator, a=a, da=da, classify=classify, s=s, epochs=epochs, trials=trials)"
   ]
  },
  {
   "cell_type": "markdown",
   "metadata": {},
   "source": [
    "#### NAND Approximation using ReLu"
   ]
  },
  {
   "cell_type": "markdown",
   "metadata": {},
   "source": [
    "For initial positive weights and negative bias the delta rule in combination with relu as activation function converges to weights and biases that do not classify NAND."
   ]
  },
  {
   "cell_type": "code",
   "execution_count": 16,
   "metadata": {},
   "outputs": [
    {
     "name": "stdout",
     "output_type": "stream",
     "text": [
      "epoch 0\n",
      "    (0, 0) -> 1 (z=-0.1\ty - az=1.0\tt=0.0):\tw=(0.2332, 0.9784)\tb=-0.1\n",
      "    (0, 1) -> 0 (z=0.8784\ty - az=-0.8784\tt=-0.0878):\tw=(0.2332, 0.8906)\tb=-0.1878\n",
      "    (1, 0) -> 0 (z=0.0453\ty - az=-0.0453\tt=-0.0045):\tw=(0.2286, 0.8906)\tb=-0.1924\n",
      "    (1, 1) -> 0 (z=0.9268\ty - az=-0.9268\tt=-0.0927):\tw=(0.136, 0.7979)\tb=-0.2851\n",
      "\u001b[34m        w = (0.136, 0.7979), b = -0.2851\u001b[0m\n",
      "epoch 1\n",
      "    (0, 0) -> 1 (z=-0.2851\ty - az=1.0\tt=0.0):\tw=(0.136, 0.7979)\tb=-0.2851\n",
      "    (0, 1) -> 0 (z=0.5128\ty - az=-0.5128\tt=-0.0513):\tw=(0.136, 0.7466)\tb=-0.3363\n",
      "    (1, 0) -> 0 (z=-0.2004\ty - az=0.0\tt=0.0):\tw=(0.136, 0.7466)\tb=-0.3363\n",
      "    (1, 1) -> 0 (z=0.5462\ty - az=-0.5462\tt=-0.0546):\tw=(0.0813, 0.692)\tb=-0.391\n",
      "\u001b[34m        w = (0.0813, 0.692), b = -0.391\u001b[0m\n",
      "epoch 2\n",
      "    (0, 0) -> 1 (z=-0.391\ty - az=1.0\tt=0.0):\tw=(0.0813, 0.692)\tb=-0.391\n",
      "    (0, 1) -> 0 (z=0.301\ty - az=-0.301\tt=-0.0301):\tw=(0.0813, 0.6619)\tb=-0.4211\n",
      "    (1, 0) -> 0 (z=-0.3397\ty - az=0.0\tt=0.0):\tw=(0.0813, 0.6619)\tb=-0.4211\n",
      "    (1, 1) -> 0 (z=0.3222\ty - az=-0.3222\tt=-0.0322):\tw=(0.0491, 0.6297)\tb=-0.4533\n",
      "\u001b[34m        w = (0.0491, 0.6297), b = -0.4533\u001b[0m\n",
      "epoch 3\n",
      "    (0, 0) -> 1 (z=-0.4533\ty - az=1.0\tt=0.0):\tw=(0.0491, 0.6297)\tb=-0.4533\n",
      "    (0, 1) -> 0 (z=0.1764\ty - az=-0.1764\tt=-0.0176):\tw=(0.0491, 0.612)\tb=-0.4709\n",
      "    (1, 0) -> 0 (z=-0.4218\ty - az=0.0\tt=0.0):\tw=(0.0491, 0.612)\tb=-0.4709\n",
      "    (1, 1) -> 0 (z=0.1902\ty - az=-0.1902\tt=-0.019):\tw=(0.0301, 0.593)\tb=-0.4899\n",
      "\u001b[34m        w = (0.0301, 0.593), b = -0.4899\u001b[0m\n",
      "epoch 4\n",
      "    (0, 0) -> 1 (z=-0.4899\ty - az=1.0\tt=0.0):\tw=(0.0301, 0.593)\tb=-0.4899\n",
      "    (0, 1) -> 0 (z=0.1031\ty - az=-0.1031\tt=-0.0103):\tw=(0.0301, 0.5827)\tb=-0.5003\n",
      "    (1, 0) -> 0 (z=-0.4701\ty - az=0.0\tt=0.0):\tw=(0.0301, 0.5827)\tb=-0.5003\n",
      "    (1, 1) -> 0 (z=0.1126\ty - az=-0.1126\tt=-0.0113):\tw=(0.0188, 0.5714)\tb=-0.5115\n",
      "\u001b[34m        w = (0.0188, 0.5714), b = -0.5115\u001b[0m\n",
      "epoch 5\n",
      "    (0, 0) -> 1 (z=-0.5115\ty - az=1.0\tt=0.0):\tw=(0.0188, 0.5714)\tb=-0.5115\n",
      "    (0, 1) -> 0 (z=0.0599\ty - az=-0.0599\tt=-0.006):\tw=(0.0188, 0.5655)\tb=-0.5175\n",
      "    (1, 0) -> 0 (z=-0.4987\ty - az=0.0\tt=0.0):\tw=(0.0188, 0.5655)\tb=-0.5175\n",
      "    (1, 1) -> 0 (z=0.0668\ty - az=-0.0668\tt=-0.0067):\tw=(0.0122, 0.5588)\tb=-0.5242\n",
      "\u001b[34m        w = (0.0122, 0.5588), b = -0.5242\u001b[0m\n",
      "epoch 6\n",
      "    (0, 0) -> 1 (z=-0.5242\ty - az=1.0\tt=0.0):\tw=(0.0122, 0.5588)\tb=-0.5242\n",
      "    (0, 1) -> 0 (z=0.0346\ty - az=-0.0346\tt=-0.0035):\tw=(0.0122, 0.5553)\tb=-0.5276\n",
      "    (1, 0) -> 0 (z=-0.5155\ty - az=0.0\tt=0.0):\tw=(0.0122, 0.5553)\tb=-0.5276\n",
      "    (1, 1) -> 0 (z=0.0398\ty - az=-0.0398\tt=-0.004):\tw=(0.0082, 0.5513)\tb=-0.5316\n",
      "\u001b[34m        w = (0.0082, 0.5513), b = -0.5316\u001b[0m\n",
      "epoch 7\n",
      "    (0, 0) -> 1 (z=-0.5316\ty - az=1.0\tt=0.0):\tw=(0.0082, 0.5513)\tb=-0.5316\n",
      "    (0, 1) -> 0 (z=0.0197\ty - az=-0.0197\tt=-0.002):\tw=(0.0082, 0.5494)\tb=-0.5336\n",
      "    (1, 0) -> 0 (z=-0.5254\ty - az=0.0\tt=0.0):\tw=(0.0082, 0.5494)\tb=-0.5336\n",
      "    (1, 1) -> 0 (z=0.0239\ty - az=-0.0239\tt=-0.0024):\tw=(0.0058, 0.547)\tb=-0.536\n",
      "\u001b[34m        w = (0.0058, 0.547), b = -0.536\u001b[0m\n",
      "epoch 8\n",
      "    (0, 0) -> 1 (z=-0.536\ty - az=1.0\tt=0.0):\tw=(0.0058, 0.547)\tb=-0.536\n",
      "    (0, 1) -> 0 (z=0.011\ty - az=-0.011\tt=-0.0011):\tw=(0.0058, 0.5459)\tb=-0.5371\n",
      "    (1, 0) -> 0 (z=-0.5313\ty - az=0.0\tt=0.0):\tw=(0.0058, 0.5459)\tb=-0.5371\n",
      "    (1, 1) -> 0 (z=0.0146\ty - az=-0.0146\tt=-0.0015):\tw=(0.0043, 0.5444)\tb=-0.5385\n",
      "\u001b[34m        w = (0.0043, 0.5444), b = -0.5385\u001b[0m\n",
      "epoch 9\n",
      "    (0, 0) -> 1 (z=-0.5385\ty - az=1.0\tt=0.0):\tw=(0.0043, 0.5444)\tb=-0.5385\n",
      "    (0, 1) -> 0 (z=0.0059\ty - az=-0.0059\tt=-0.0006):\tw=(0.0043, 0.5438)\tb=-0.5391\n",
      "    (1, 0) -> 0 (z=-0.5348\ty - az=0.0\tt=0.0):\tw=(0.0043, 0.5438)\tb=-0.5391\n",
      "    (1, 1) -> 0 (z=0.009\ty - az=-0.009\tt=-0.0009):\tw=(0.0034, 0.5429)\tb=-0.54\n",
      "\u001b[34m        w = (0.0034, 0.5429), b = -0.54\u001b[0m\n",
      "epoch 10\n",
      "    (0, 0) -> 1 (z=-0.54\ty - az=1.0\tt=0.0):\tw=(0.0034, 0.5429)\tb=-0.54\n",
      "    (0, 1) -> 0 (z=0.0029\ty - az=-0.0029\tt=-0.0003):\tw=(0.0034, 0.5426)\tb=-0.5403\n",
      "    (1, 0) -> 0 (z=-0.5369\ty - az=0.0\tt=0.0):\tw=(0.0034, 0.5426)\tb=-0.5403\n",
      "    (1, 1) -> 0 (z=0.0057\ty - az=-0.0057\tt=-0.0006):\tw=(0.0029, 0.5421)\tb=-0.5409\n",
      "\u001b[34m        w = (0.0029, 0.5421), b = -0.5409\u001b[0m\n",
      "epoch 11\n",
      "    (0, 0) -> 1 (z=-0.5409\ty - az=1.0\tt=0.0):\tw=(0.0029, 0.5421)\tb=-0.5409\n",
      "    (0, 1) -> 0 (z=0.0012\ty - az=-0.0012\tt=-0.0001):\tw=(0.0029, 0.5419)\tb=-0.541\n",
      "    (1, 0) -> 0 (z=-0.5382\ty - az=0.0\tt=0.0):\tw=(0.0029, 0.5419)\tb=-0.541\n",
      "    (1, 1) -> 0 (z=0.0038\ty - az=-0.0038\tt=-0.0004):\tw=(0.0025, 0.5416)\tb=-0.5414\n",
      "\u001b[34m        w = (0.0025, 0.5416), b = -0.5414\u001b[0m\n",
      "epoch 12\n",
      "    (0, 0) -> 1 (z=-0.5414\ty - az=1.0\tt=0.0):\tw=(0.0025, 0.5416)\tb=-0.5414\n",
      "    (0, 1) -> 0 (z=0.0002\ty - az=-0.0002\tt=-0.0):\tw=(0.0025, 0.5415)\tb=-0.5414\n",
      "    (1, 0) -> 0 (z=-0.5389\ty - az=0.0\tt=0.0):\tw=(0.0025, 0.5415)\tb=-0.5414\n",
      "    (1, 1) -> 0 (z=0.0026\ty - az=-0.0026\tt=-0.0003):\tw=(0.0022, 0.5413)\tb=-0.5417\n",
      "\u001b[34m        w = (0.0022, 0.5413), b = -0.5417\u001b[0m\n",
      "epoch 13\n",
      "    (0, 0) -> 1 (z=-0.5417\ty - az=1.0\tt=0.0):\tw=(0.0022, 0.5413)\tb=-0.5417\n",
      "    (0, 1) -> 0 (z=-0.0004\ty - az=0.0\tt=0.0):\tw=(0.0022, 0.5413)\tb=-0.5417\n",
      "    (1, 0) -> 0 (z=-0.5395\ty - az=0.0\tt=0.0):\tw=(0.0022, 0.5413)\tb=-0.5417\n",
      "    (1, 1) -> 0 (z=0.0018\ty - az=-0.0018\tt=-0.0002):\tw=(0.002, 0.5411)\tb=-0.5419\n",
      "\u001b[34m        w = (0.002, 0.5411), b = -0.5419\u001b[0m\n",
      "epoch 14\n",
      "    (0, 0) -> 1 (z=-0.5419\ty - az=1.0\tt=0.0):\tw=(0.002, 0.5411)\tb=-0.5419\n",
      "    (0, 1) -> 0 (z=-0.0008\ty - az=0.0\tt=0.0):\tw=(0.002, 0.5411)\tb=-0.5419\n",
      "    (1, 0) -> 0 (z=-0.5398\ty - az=0.0\tt=0.0):\tw=(0.002, 0.5411)\tb=-0.5419\n",
      "    (1, 1) -> 0 (z=0.0013\ty - az=-0.0013\tt=-0.0001):\tw=(0.0019, 0.541)\tb=-0.542\n",
      "\u001b[34m        w = (0.0019, 0.541), b = -0.542\u001b[0m\n",
      "epoch 15\n",
      "    (0, 0) -> 1 (z=-0.542\ty - az=1.0\tt=0.0):\tw=(0.0019, 0.541)\tb=-0.542\n",
      "    (0, 1) -> 0 (z=-0.001\ty - az=0.0\tt=0.0):\tw=(0.0019, 0.541)\tb=-0.542\n",
      "    (1, 0) -> 0 (z=-0.5401\ty - az=0.0\tt=0.0):\tw=(0.0019, 0.541)\tb=-0.542\n",
      "    (1, 1) -> 0 (z=0.0009\ty - az=-0.0009\tt=-0.0001):\tw=(0.0018, 0.5409)\tb=-0.5421\n",
      "\u001b[34m        w = (0.0018, 0.5409), b = -0.5421\u001b[0m\n",
      "epoch 16\n",
      "    (0, 0) -> 1 (z=-0.5421\ty - az=1.0\tt=0.0):\tw=(0.0018, 0.5409)\tb=-0.5421\n",
      "    (0, 1) -> 0 (z=-0.0012\ty - az=0.0\tt=0.0):\tw=(0.0018, 0.5409)\tb=-0.5421\n",
      "    (1, 0) -> 0 (z=-0.5403\ty - az=0.0\tt=0.0):\tw=(0.0018, 0.5409)\tb=-0.5421\n",
      "    (1, 1) -> 0 (z=0.0006\ty - az=-0.0006\tt=-0.0001):\tw=(0.0018, 0.5408)\tb=-0.5421\n",
      "\u001b[34m        w = (0.0018, 0.5408), b = -0.5421\u001b[0m\n",
      "epoch 17\n",
      "    (0, 0) -> 1 (z=-0.5421\ty - az=1.0\tt=0.0):\tw=(0.0018, 0.5408)\tb=-0.5421\n",
      "    (0, 1) -> 0 (z=-0.0013\ty - az=0.0\tt=0.0):\tw=(0.0018, 0.5408)\tb=-0.5421\n",
      "    (1, 0) -> 0 (z=-0.5404\ty - az=0.0\tt=0.0):\tw=(0.0018, 0.5408)\tb=-0.5421\n",
      "    (1, 1) -> 0 (z=0.0004\ty - az=-0.0004\tt=-0.0):\tw=(0.0017, 0.5408)\tb=-0.5422\n",
      "\u001b[34m        w = (0.0017, 0.5408), b = -0.5422\u001b[0m\n",
      "epoch 18\n",
      "    (0, 0) -> 1 (z=-0.5422\ty - az=1.0\tt=0.0):\tw=(0.0017, 0.5408)\tb=-0.5422\n",
      "    (0, 1) -> 0 (z=-0.0014\ty - az=0.0\tt=0.0):\tw=(0.0017, 0.5408)\tb=-0.5422\n",
      "    (1, 0) -> 0 (z=-0.5405\ty - az=0.0\tt=0.0):\tw=(0.0017, 0.5408)\tb=-0.5422\n",
      "    (1, 1) -> 0 (z=0.0003\ty - az=-0.0003\tt=-0.0):\tw=(0.0017, 0.5407)\tb=-0.5422\n",
      "\u001b[34m        w = (0.0017, 0.5407), b = -0.5422\u001b[0m\n",
      "epoch 19\n",
      "    (0, 0) -> 1 (z=-0.5422\ty - az=1.0\tt=0.0):\tw=(0.0017, 0.5407)\tb=-0.5422\n",
      "    (0, 1) -> 0 (z=-0.0015\ty - az=0.0\tt=0.0):\tw=(0.0017, 0.5407)\tb=-0.5422\n",
      "    (1, 0) -> 0 (z=-0.5405\ty - az=0.0\tt=0.0):\tw=(0.0017, 0.5407)\tb=-0.5422\n",
      "    (1, 1) -> 0 (z=0.0002\ty - az=-0.0002\tt=-0.0):\tw=(0.0017, 0.5407)\tb=-0.5422\n",
      "\u001b[34m        w = (0.0017, 0.5407), b = -0.5422\u001b[0m\n",
      "epoch 20\n",
      "    (0, 0) -> 1 (z=-0.5422\ty - az=1.0\tt=0.0):\tw=(0.0017, 0.5407)\tb=-0.5422\n",
      "    (0, 1) -> 0 (z=-0.0015\ty - az=0.0\tt=0.0):\tw=(0.0017, 0.5407)\tb=-0.5422\n",
      "    (1, 0) -> 0 (z=-0.5406\ty - az=0.0\tt=0.0):\tw=(0.0017, 0.5407)\tb=-0.5422\n",
      "    (1, 1) -> 0 (z=0.0002\ty - az=-0.0002\tt=-0.0):\tw=(0.0016, 0.5407)\tb=-0.5422\n",
      "\u001b[34m        w = (0.0016, 0.5407), b = -0.5422\u001b[0m\n",
      "epoch 21\n",
      "    (0, 0) -> 1 (z=-0.5422\ty - az=1.0\tt=0.0):\tw=(0.0016, 0.5407)\tb=-0.5422\n",
      "    (0, 1) -> 0 (z=-0.0015\ty - az=0.0\tt=0.0):\tw=(0.0016, 0.5407)\tb=-0.5422\n",
      "    (1, 0) -> 0 (z=-0.5406\ty - az=0.0\tt=0.0):\tw=(0.0016, 0.5407)\tb=-0.5422\n",
      "    (1, 1) -> 0 (z=0.0001\ty - az=-0.0001\tt=-0.0):\tw=(0.0016, 0.5407)\tb=-0.5423\n",
      "\u001b[34m        w = (0.0016, 0.5407), b = -0.5423\u001b[0m\n",
      "epoch 22\n",
      "    (0, 0) -> 1 (z=-0.5423\ty - az=1.0\tt=0.0):\tw=(0.0016, 0.5407)\tb=-0.5423\n",
      "    (0, 1) -> 0 (z=-0.0016\ty - az=0.0\tt=0.0):\tw=(0.0016, 0.5407)\tb=-0.5423\n",
      "    (1, 0) -> 0 (z=-0.5406\ty - az=0.0\tt=0.0):\tw=(0.0016, 0.5407)\tb=-0.5423\n",
      "    (1, 1) -> 0 (z=0.0001\ty - az=-0.0001\tt=-0.0):\tw=(0.0016, 0.5407)\tb=-0.5423\n",
      "\u001b[34m        w = (0.0016, 0.5407), b = -0.5423\u001b[0m\n",
      "epoch 23\n",
      "    (0, 0) -> 1 (z=-0.5423\ty - az=1.0\tt=0.0):\tw=(0.0016, 0.5407)\tb=-0.5423\n",
      "    (0, 1) -> 0 (z=-0.0016\ty - az=0.0\tt=0.0):\tw=(0.0016, 0.5407)\tb=-0.5423\n",
      "    (1, 0) -> 0 (z=-0.5406\ty - az=0.0\tt=0.0):\tw=(0.0016, 0.5407)\tb=-0.5423\n",
      "    (1, 1) -> 0 (z=0.0001\ty - az=-0.0001\tt=-0.0):\tw=(0.0016, 0.5407)\tb=-0.5423\n",
      "\u001b[34m        w = (0.0016, 0.5407), b = -0.5423\u001b[0m\n",
      "epoch 24\n",
      "    (0, 0) -> 1 (z=-0.5423\ty - az=1.0\tt=0.0):\tw=(0.0016, 0.5407)\tb=-0.5423\n",
      "    (0, 1) -> 0 (z=-0.0016\ty - az=0.0\tt=0.0):\tw=(0.0016, 0.5407)\tb=-0.5423\n",
      "    (1, 0) -> 0 (z=-0.5406\ty - az=0.0\tt=0.0):\tw=(0.0016, 0.5407)\tb=-0.5423\n",
      "    (1, 1) -> 0 (z=0.0\ty - az=-0.0\tt=-0.0):\tw=(0.0016, 0.5407)\tb=-0.5423\n",
      "\u001b[34m        w = (0.0016, 0.5407), b = -0.5423\u001b[0m\n",
      "\u001b[31mNAND(0, 0) = 1 ≠ 0\ta(wx+b) = -0.54 \u001b[31m✗\u001b[0m\u001b[0m\n",
      "NAND(0, 1) = 0\t\ta(wx+b) = -0.0 \u001b[32m✔\u001b[0m\n",
      "NAND(1, 0) = 0\t\ta(wx+b) = -0.54 \u001b[32m✔\u001b[0m\n",
      "NAND(1, 1) = 0\t\ta(wx+b) = 0.0 \u001b[32m✔\u001b[0m\n"
     ]
    }
   ],
   "source": [
    "def delta_rule_nand(w, b, s=0.01, epochs=50):\n",
    "    T = BOOLEAN_TESTDATA[NAND]\n",
    "    n = len(T[0][0])\n",
    "    for epoch in range(epochs):\n",
    "        print(f\"epoch {epoch}\")\n",
    "        for x, y in T:\n",
    "            z = dotprod(w, x) + b\n",
    "            az, daz = relu(z), dx_relu(z)\n",
    "            d = y - az\n",
    "            t = s * d * daz\n",
    "            w = tuple(wi + t * xi for wi, xi in zip(w, x))\n",
    "            b = b + t\n",
    "            print(f\"    {x} -> {y} (z={_rnd(z)}\ty - az={_rnd(d)}\tt={_rnd(t)}):\tw={_rnd(w)}\tb={_rnd(b)}\")\n",
    "        print(_blu(f\"        w = {_rnd(w)}, b = {_rnd(b)}\"))\n",
    "    return w, b\n",
    "\n",
    "\n",
    "_ndig(n=4)\n",
    "s, epochs = 0.1, 25 \n",
    "w, b = (random.random(), random.random()), -0.1\n",
    "w, b = delta_rule_nand(w, b, s=s, epochs=epochs)\n",
    "r = lambda x: dotprod(w, x) + b\n",
    "p = lambda x: classify(r(x))\n",
    "classify = lambda x: heaviside(x, offset=0.4)\n",
    "f = NAND\n",
    "T = BOOLEAN_TESTDATA[NAND]\n",
    "for x, y in T:\n",
    "    z = p(x)\n",
    "    if z == y:\n",
    "        print(f\"{f.__name__}{x} = {y}\t\ta(wx+b) = {_rnd(r(x), n=2)} {_ok}\")\n",
    "    else:\n",
    "        print(_red(f\"{f.__name__}{x} = {y} ≠ {z}\ta(wx+b) = {_rnd(r(x), n=2)} {_nok}\"))\n",
    "_ndig()        "
   ]
  },
  {
   "cell_type": "code",
   "execution_count": null,
   "metadata": {},
   "outputs": [],
   "source": []
  }
 ],
 "metadata": {
  "kernelspec": {
   "display_name": "Python 3",
   "language": "python",
   "name": "python3"
  },
  "language_info": {
   "codemirror_mode": {
    "name": "ipython",
    "version": 3
   },
   "file_extension": ".py",
   "mimetype": "text/x-python",
   "name": "python",
   "nbconvert_exporter": "python",
   "pygments_lexer": "ipython3",
   "version": "3.8.2"
  },
  "latex_envs": {
   "LaTeX_envs_menu_present": true,
   "autoclose": false,
   "autocomplete": true,
   "bibliofile": "biblio.bib",
   "cite_by": "apalike",
   "current_citInitial": 1,
   "eqLabelWithNumbers": true,
   "eqNumInitial": 1,
   "hotkeys": {
    "equation": "Ctrl-E",
    "itemize": "Ctrl-I"
   },
   "labels_anchors": false,
   "latex_user_defs": false,
   "report_style_numbering": false,
   "user_envs_cfg": false
  },
  "toc": {
   "base_numbering": 1,
   "nav_menu": {},
   "number_sections": true,
   "sideBar": true,
   "skip_h1_title": false,
   "title_cell": "Table of Contents",
   "title_sidebar": "Contents",
   "toc_cell": false,
   "toc_position": {
    "height": "calc(100% - 180px)",
    "left": "10px",
    "top": "150px",
    "width": "402.875px"
   },
   "toc_section_display": true,
   "toc_window_display": false
  }
 },
 "nbformat": 4,
 "nbformat_minor": 4
}
