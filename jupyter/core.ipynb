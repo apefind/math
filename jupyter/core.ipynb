{
 "cells": [
  {
   "cell_type": "markdown",
   "metadata": {},
   "source": [
    "### Common Definitions\n"
   ]
  },
  {
   "cell_type": "markdown",
   "metadata": {},
   "source": [
    "#### Some Shortcuts"
   ]
  },
  {
   "cell_type": "code",
   "execution_count": 7,
   "metadata": {},
   "outputs": [],
   "source": [
    "%reload_ext autoreload\n",
    "%autoreload 2"
   ]
  },
  {
   "cell_type": "code",
   "execution_count": 8,
   "metadata": {},
   "outputs": [],
   "source": [
    "import math\n",
    "import random\n",
    "from pprint import pprint, pformat\n",
    "from collections.abc import Iterable\n",
    "from termcolor import colored as _col\n",
    "from IPython.core.interactiveshell import InteractiveShell"
   ]
  },
  {
   "cell_type": "code",
   "execution_count": 9,
   "metadata": {},
   "outputs": [],
   "source": [
    "def _rnd(x, n=None):\n",
    "    if n is None:\n",
    "        n = _rnd.ndigits\n",
    "    elif n == 0:\n",
    "        n = None\n",
    "    if isinstance(x, Iterable):\n",
    "        return type(x)(_rnd(t, n=n) for t in x)\n",
    "    return round(x, ndigits=n)\n",
    "\n",
    "\n",
    "def _ndig(n=2):\n",
    "    _rnd.ndigits = n\n",
    "    \n",
    "\n",
    "def _deg(u, v):\n",
    "    return math.degrees(angle(u, v))\n",
    "\n",
    "\n",
    "def _red(*args, **kwargs):\n",
    "    return _col(*args, **kwargs, color=\"red\")\n",
    "\n",
    "\n",
    "def _grn(*args, **kwargs):\n",
    "    return _col(*args, **kwargs, color=\"green\")\n",
    "\n",
    "\n",
    "def _blu(*args, **kwargs):\n",
    "    return _col(*args, **kwargs, color=\"blue\")\n",
    "\n",
    "\n",
    "def _yel(*args, **kwargs):\n",
    "    return _col(*args, **kwargs, color=\"yellow\")\n",
    "\n",
    "\n",
    "def _out(mode=None):\n",
    "    if mode is None:\n",
    "        mode = _out.mode\n",
    "    InteractiveShell.ast_node_interactivity = mode\n",
    "\n",
    "\n",
    "def _tex(*args, **kwargs):\n",
    "    print(latex(*args, kwargs))\n",
    "    \n",
    "    \n",
    "_ndig()\n",
    "_out.mode = \"last\"    \n",
    "_out()\n",
    "\n",
    "_ok = _grn(\"✔\")\n",
    "_nok = _red(\"✗\")"
   ]
  },
  {
   "cell_type": "code",
   "execution_count": 11,
   "metadata": {},
   "outputs": [],
   "source": [
    "_out(\"all\")"
   ]
  }
 ],
 "metadata": {
  "kernelspec": {
   "display_name": "Python 3",
   "language": "python",
   "name": "python3"
  },
  "language_info": {
   "codemirror_mode": {
    "name": "ipython",
    "version": 3
   },
   "file_extension": ".py",
   "mimetype": "text/x-python",
   "name": "python",
   "nbconvert_exporter": "python",
   "pygments_lexer": "ipython3",
   "version": "3.8.5"
  },
  "latex_envs": {
   "LaTeX_envs_menu_present": true,
   "autoclose": false,
   "autocomplete": true,
   "bibliofile": "biblio.bib",
   "cite_by": "apalike",
   "current_citInitial": 1,
   "eqLabelWithNumbers": true,
   "eqNumInitial": 1,
   "hotkeys": {
    "equation": "Ctrl-E",
    "itemize": "Ctrl-I"
   },
   "labels_anchors": false,
   "latex_user_defs": false,
   "report_style_numbering": false,
   "user_envs_cfg": false
  },
  "toc": {
   "base_numbering": 1,
   "nav_menu": {},
   "number_sections": true,
   "sideBar": true,
   "skip_h1_title": false,
   "title_cell": "Table of Contents",
   "title_sidebar": "Contents",
   "toc_cell": false,
   "toc_position": {
    "height": "calc(100% - 180px)",
    "left": "10px",
    "top": "150px",
    "width": "402.875px"
   },
   "toc_section_display": true,
   "toc_window_display": false
  }
 },
 "nbformat": 4,
 "nbformat_minor": 4
}
