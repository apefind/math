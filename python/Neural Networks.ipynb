{
 "cells": [
  {
   "cell_type": "markdown",
   "metadata": {},
   "source": [
    "### Weight Vector"
   ]
  },
  {
   "cell_type": "markdown",
   "metadata": {},
   "source": [
    "#### Basic Vector Operations"
   ]
  },
  {
   "cell_type": "code",
   "execution_count": 90,
   "metadata": {},
   "outputs": [],
   "source": [
    "import math\n",
    "from random import random, randint\n",
    "\n",
    "\n",
    "def neg(v):\n",
    "    return tuple(-x for x in v)\n",
    "\n",
    "\n",
    "def norm(v):\n",
    "    return math.sqrt(dotprod(v, v))\n",
    "\n",
    "\n",
    "def normed(v):\n",
    "    n = norm(v)\n",
    "    return tuple(x / n for x in v)\n",
    "\n",
    "\n",
    "def add(v, w):\n",
    "    return tuple(x + y for x, y in zip(v, w))\n",
    "\n",
    "\n",
    "def dotprod(v, w):\n",
    "    return sum(x * y for x, y in zip(v, w))\n",
    "\n",
    "\n",
    "def angle(v, w):\n",
    "    return math.acos(dotprod(v, w) / (norm(v) * norm(w)))\n"
   ]
  },
  {
   "cell_type": "markdown",
   "metadata": {},
   "source": [
    "#### Calclulating a common weight vector"
   ]
  },
  {
   "cell_type": "code",
   "execution_count": 91,
   "metadata": {},
   "outputs": [],
   "source": [
    "def weight(x, y):\n",
    "    w = add(x, y)\n",
    "    while True:\n",
    "        if dotprod(w, x) <= 0:\n",
    "            w = add(w, x)\n",
    "        elif dotprod(w, y) <= 0:\n",
    "            w = add(w, y)\n",
    "        else:\n",
    "            return w\n",
    "        "
   ]
  },
  {
   "cell_type": "code",
   "execution_count": 92,
   "metadata": {},
   "outputs": [],
   "source": [
    "def run_weight(x, y):\n",
    "    print(f\"x = {x}, y = {y}\")\n",
    "    print(f\"|x| = {norm(x)}, |y| = {norm(y)}\")\n",
    "    print(f\"angle = {math.degrees(angle(x, y))} deg\")\n",
    "    w = normed(add(normed(x), normed(y)))\n",
    "    print(f\"w = {w}\")\n",
    "    #print(f\"wx = {dotprod(w, x)}, b = {math.degrees(angle(w, x))} deg\")\n",
    "    #print(f\"wy = {dotprod(w, y)}, a = {math.degrees(angle(w, y))} deg\")\n",
    "    i, w = 0, x + y\n",
    "    while True:\n",
    "        a, b = dotprod(w, x), dotprod(w, y)\n",
    "        print(f\"    w{i} = {w}, w{i} * x = {a}, w{i} * y = {b}\")\n",
    "        # print(f'    wx = {dotprod(w, x)}, b = {math.degrees(angle(w, x))} deg')\n",
    "        # print(f'    wy = {dotprod(w, y)}, a = {math.degrees(angle(w, y))} deg')\n",
    "        if a < 0:\n",
    "            w = add(w, x)\n",
    "        elif b < 0:\n",
    "            w = add(w, y)\n",
    "        else:\n",
    "            break\n",
    "        i = i + 1\n",
    "    a, b = dotprod(w, x), dotprod(w, y)\n",
    "    print(f\"w = {w}, w * x = {a}, w * y = {b}\")\n",
    "    w = normed(w)\n",
    "    print(f\"w / |w| = {w}\")\n"
   ]
  },
  {
   "cell_type": "code",
   "execution_count": 93,
   "metadata": {},
   "outputs": [
    {
     "name": "stdout",
     "output_type": "stream",
     "text": [
      "x = (4, -6), y = (-10, 5)\n",
      "|x| = 7.211102550927978, |y| = 11.180339887498949\n",
      "angle = 150.2551187030578 deg\n",
      "w = (-0.66180256323574, -0.7496781758158659)\n",
      "    w0 = (4, -6, -10, 5), w0 * x = 52, w0 * y = -70\n",
      "    w1 = (-6, -1), w1 * x = -18, w1 * y = 55\n",
      "    w2 = (-2, -7), w2 * x = 34, w2 * y = -15\n",
      "    w3 = (-12, -2), w3 * x = -36, w3 * y = 110\n",
      "    w4 = (-8, -8), w4 * x = 16, w4 * y = 40\n",
      "w = (-8, -8), w * x = 16, w * y = 40\n",
      "w / |w| = (-0.7071067811865475, -0.7071067811865475)\n"
     ]
    }
   ],
   "source": [
    "x, y = (4, -6), (-10, 5)\n",
    "run_weight(x, y)"
   ]
  },
  {
   "cell_type": "code",
   "execution_count": 94,
   "metadata": {},
   "outputs": [
    {
     "name": "stdout",
     "output_type": "stream",
     "text": [
      "x = (-1, 1), y = (6, 1)\n",
      "|x| = 1.4142135623730951, |y| = 6.082762530298219\n",
      "angle = 125.5376777919744 deg\n",
      "w = (0.30517743100798356, 0.9522955085494037)\n",
      "    w0 = (-1, 1, 6, 1), w0 * x = 2, w0 * y = -5\n",
      "    w1 = (5, 2), w1 * x = -3, w1 * y = 32\n",
      "    w2 = (4, 3), w2 * x = -1, w2 * y = 27\n",
      "    w3 = (3, 4), w3 * x = 1, w3 * y = 22\n",
      "w = (3, 4), w * x = 1, w * y = 22\n",
      "w / |w| = (0.6, 0.8)\n"
     ]
    }
   ],
   "source": [
    "x, y = (-1, 1), (6, 1)\n",
    "run_weight(x, y)"
   ]
  },
  {
   "cell_type": "code",
   "execution_count": 95,
   "metadata": {},
   "outputs": [
    {
     "name": "stdout",
     "output_type": "stream",
     "text": [
      "x = (-1, -10), y = (4, 8)\n",
      "|x| = 10.04987562112089, |y| = 8.94427190999916\n",
      "angle = 159.14554196042167 deg\n",
      "w = (0.9605958835615972, -0.27794882349906525)\n",
      "    w0 = (-1, -10, 4, 8), w0 * x = 101, w0 * y = -84\n",
      "    w1 = (3, -2), w1 * x = 17, w1 * y = -4\n",
      "    w2 = (7, 6), w2 * x = -67, w2 * y = 76\n",
      "    w3 = (6, -4), w3 * x = 34, w3 * y = -8\n",
      "    w4 = (10, 4), w4 * x = -50, w4 * y = 72\n",
      "    w5 = (9, -6), w5 * x = 51, w5 * y = -12\n",
      "    w6 = (13, 2), w6 * x = -33, w6 * y = 68\n",
      "    w7 = (12, -8), w7 * x = 68, w7 * y = -16\n",
      "    w8 = (16, 0), w8 * x = -16, w8 * y = 64\n",
      "    w9 = (15, -10), w9 * x = 85, w9 * y = -20\n",
      "    w10 = (19, -2), w10 * x = 1, w10 * y = 60\n",
      "w = (19, -2), w * x = 1, w * y = 60\n",
      "w / |w| = (0.9945054529214061, -0.10468478451804275)\n"
     ]
    }
   ],
   "source": [
    "x, y = (-1, -10), (4, 8)\n",
    "run_weight(x, y)"
   ]
  },
  {
   "cell_type": "code",
   "execution_count": 96,
   "metadata": {},
   "outputs": [
    {
     "name": "stdout",
     "output_type": "stream",
     "text": [
      "x = (4, 3), y = (-1, 7)\n",
      "|x| = 5.0, |y| = 7.0710678118654755\n",
      "angle = 61.26020470831195 deg\n",
      "w = (0.38268343236508984, 0.9238795325112867)\n",
      "    w0 = (4, 3, -1, 7), w0 * x = 25, w0 * y = 17\n",
      "w = (4, 3, -1, 7), w * x = 25, w * y = 17\n",
      "w / |w| = (0.46188021535170054, 0.3464101615137754, -0.11547005383792514, 0.808290376865476)\n"
     ]
    }
   ],
   "source": [
    "n = 10\n",
    "x, y = (randint(-n, n), randint(-n, n)), (randint(-n, n), randint(-n, n))\n",
    "run_weight(x, y)"
   ]
  },
  {
   "cell_type": "markdown",
   "metadata": {},
   "source": [
    "### The Perceptron"
   ]
  },
  {
   "cell_type": "markdown",
   "metadata": {},
   "source": [
    "#### Boolean Operators"
   ]
  },
  {
   "cell_type": "code",
   "execution_count": 106,
   "metadata": {},
   "outputs": [],
   "source": [
    "def AND(x, y):\n",
    "    return int(x and y)\n",
    "\n",
    "\n",
    "def OR(x, y):\n",
    "    return int(x or y)\n",
    "\n",
    "\n",
    "def NAND(x, y):\n",
    "    return int(not x and not y)\n",
    "\n",
    "\n",
    "def XOR(x, y):\n",
    "    return int(x and not y or not x and y)\n",
    "\n",
    "\n",
    "boolean_domain = (0, 0), (0, 1), (1, 0), (1, 1)\n",
    "boolean_operators = AND, OR, NAND, XOR\n",
    "separable_boolean_operators = AND, OR, NAND\n",
    "non_separable_boolean_operators = XOR\n"
   ]
  },
  {
   "cell_type": "markdown",
   "metadata": {},
   "source": [
    "#### Activation Functions"
   ]
  },
  {
   "cell_type": "code",
   "execution_count": 98,
   "metadata": {},
   "outputs": [],
   "source": [
    "\"\"\"Numerically stable version of sigmoid::\n",
    "\n",
    "    def sigmoid(x):\n",
    "        if x >= 0:\n",
    "            return 1.0 / (1.0 + math.exp(-x))\n",
    "        y = math.exp(x)\n",
    "        return y / (1 + y)\n",
    "\n",
    "\"\"\"\n",
    "\n",
    "def heaviside(x):\n",
    "    return 0 if x < 0.0 else 1\n",
    "\n",
    "\n",
    "def linear(x, a=1.0):\n",
    "    return a * x\n",
    "\n",
    "\n",
    "def dx_linear(_, a=1.0):\n",
    "    return a\n",
    "\n",
    "\n",
    "def sigmoid(x):\n",
    "    return 1.0 / (1.0 + math.exp(-x))\n",
    "\n",
    "\n",
    "def dx_sigmoid(x):\n",
    "    return sigmoid(x) * (1 - sigmoid(x))\n"
   ]
  },
  {
   "cell_type": "code",
   "execution_count": 99,
   "metadata": {},
   "outputs": [],
   "source": [
    "def perceptron(T, t=0.01, epochs=50):\n",
    "    n = len(T[0])\n",
    "    w, b = n * (0.0,), 0.0\n",
    "    for _ in range(epochs):\n",
    "        done = True\n",
    "        for x, y in T:\n",
    "            if dotprod(w, x) + b >= 0:\n",
    "                z = 1\n",
    "            else:\n",
    "                z = 0\n",
    "            w = tuple(w[i] - t * (z - y) * x[i] for i in range(n))\n",
    "            b = b - t * (z - y)\n",
    "            if not y == z:\n",
    "                done = False\n",
    "        if done:\n",
    "            break\n",
    "    return w, b\n"
   ]
  },
  {
   "cell_type": "code",
   "execution_count": 100,
   "metadata": {},
   "outputs": [],
   "source": [
    "def run_perceptron(f, X, t=0.01, epochs=50):\n",
    "    T = [(x, f(*x)) for x in X]\n",
    "    w, b = perceptron(T, t=t, epochs=epochs)\n",
    "    p = lambda x: heaviside(dotprod(w, x) + b)\n",
    "    if all(p(x) == y for x, y in T):\n",
    "        print(f\"{f.__name__}: ok\")\n",
    "    else:\n",
    "        print(f\"{f.__name__}: failed\")    \n",
    "    for x, y in T:\n",
    "        if p(x) == y:\n",
    "            print(f\"    {f.__name__}{x} = {y}\")\n",
    "        else:\n",
    "            print(f\"    {f.__name__}{x} = {y} <> {p(x)}\")\n"
   ]
  },
  {
   "cell_type": "code",
   "execution_count": 101,
   "metadata": {},
   "outputs": [
    {
     "name": "stdout",
     "output_type": "stream",
     "text": [
      "AND: ok\n",
      "    AND(0, 0) = 0\n",
      "    AND(0, 1) = 0\n",
      "    AND(1, 0) = 0\n",
      "    AND(1, 1) = 1\n",
      "OR: ok\n",
      "    OR(0, 0) = 0\n",
      "    OR(0, 1) = 1\n",
      "    OR(1, 0) = 1\n",
      "    OR(1, 1) = 1\n",
      "NAND: ok\n",
      "    NAND(0, 0) = 1\n",
      "    NAND(0, 1) = 0\n",
      "    NAND(1, 0) = 0\n",
      "    NAND(1, 1) = 0\n",
      "XOR: failed\n",
      "    XOR(0, 0) = 0 <> 1\n",
      "    XOR(0, 1) = 1\n",
      "    XOR(1, 0) = 1 <> 0\n",
      "    XOR(1, 1) = 0\n"
     ]
    }
   ],
   "source": [
    "t, epochs = 0.01, 50\n",
    "for f in boolean_operators:\n",
    "    run_perceptron(f, boolean_domain, t=t, epochs=epochs)\n"
   ]
  },
  {
   "cell_type": "markdown",
   "metadata": {},
   "source": [
    "### The Delta Rule"
   ]
  },
  {
   "cell_type": "code",
   "execution_count": 102,
   "metadata": {},
   "outputs": [],
   "source": [
    "def delta_rule(T, a, da, t=0.01, eps=0.05, epochs=50):\n",
    "    n = len(T[0])\n",
    "    w, b = n * (random(),), random()\n",
    "    for _ in range(epochs):\n",
    "        err = 0.0\n",
    "        for x, y in T:\n",
    "            z = dotprod(w, x) + b\n",
    "            az, daz = a(z), da(z)\n",
    "            d = y - az\n",
    "            w = tuple(w[i] + t * d * daz * x[i] for i in range(n))\n",
    "            b = b + t * d * daz\n",
    "            err = err + d * d\n",
    "        if 0.5 * err < eps:\n",
    "            break\n",
    "    return w, b\n"
   ]
  },
  {
   "cell_type": "code",
   "execution_count": 103,
   "metadata": {},
   "outputs": [],
   "source": [
    "def get_boolean_approx(T, a, da, fire, t=0.01, eps=0.05, epochs=50):\n",
    "    w, b = delta_rule(T, a=a, da=da, t=t, eps=eps, epochs=epochs)\n",
    "    return lambda x: fire(dotprod(w, x) + b)\n",
    "\n",
    "\n",
    "def run_delta_rule(f, X, a, da, evaluate, t=0.01, eps=0.05, epochs=50):\n",
    "    T = [(x, f(*x)) for x in X]\n",
    "    w, b = delta_rule(T, a, da, t=t, eps=eps, epochs=epochs)\n",
    "    p = lambda x: dotprod(w, x) + b\n",
    "    if all(evaluate(p(x)) == y for x, y in T):\n",
    "        print(f\"{f.__name__}: ok\")\n",
    "    else:\n",
    "        print(f\"{f.__name__}: failed\")\n",
    "    for x, y in T:\n",
    "        z = evaluate(p(x))\n",
    "        if z == y:\n",
    "            print(f\"    {f.__name__}{x} = {y}\")\n",
    "        else:\n",
    "            print(f\"    {f.__name__}{x} = {y} <> {z}\")\n"
   ]
  },
  {
   "cell_type": "code",
   "execution_count": 104,
   "metadata": {},
   "outputs": [
    {
     "name": "stdout",
     "output_type": "stream",
     "text": [
      "AND: ok\n",
      "    AND(0, 0) = 0\n",
      "    AND(0, 1) = 0\n",
      "    AND(1, 0) = 0\n",
      "    AND(1, 1) = 1\n",
      "OR: ok\n",
      "    OR(0, 0) = 0\n",
      "    OR(0, 1) = 1\n",
      "    OR(1, 0) = 1\n",
      "    OR(1, 1) = 1\n",
      "NAND: ok\n",
      "    NAND(0, 0) = 1\n",
      "    NAND(0, 1) = 0\n",
      "    NAND(1, 0) = 0\n",
      "    NAND(1, 1) = 0\n",
      "XOR: failed\n",
      "    XOR(0, 0) = 0\n",
      "    XOR(0, 1) = 1 <> 0\n",
      "    XOR(1, 0) = 1 <> 0\n",
      "    XOR(1, 1) = 0 <> 1\n"
     ]
    }
   ],
   "source": [
    "t, eps, epochs = 0.01, 0.05, 5000\n",
    "for f in boolean_operators:\n",
    "    run_delta_rule(f, boolean_domain, a=sigmoid, da=dx_sigmoid, evaluate=heaviside, t=t, eps=eps, epochs=epochs)\n"
   ]
  },
  {
   "cell_type": "code",
   "execution_count": 105,
   "metadata": {},
   "outputs": [
    {
     "name": "stdout",
     "output_type": "stream",
     "text": [
      "AND: ok\n",
      "    AND(0, 0) = 0\n",
      "    AND(0, 1) = 0\n",
      "    AND(1, 0) = 0\n",
      "    AND(1, 1) = 1\n",
      "OR: ok\n",
      "    OR(0, 0) = 0\n",
      "    OR(0, 1) = 1\n",
      "    OR(1, 0) = 1\n",
      "    OR(1, 1) = 1\n",
      "NAND: ok\n",
      "    NAND(0, 0) = 1\n",
      "    NAND(0, 1) = 0\n",
      "    NAND(1, 0) = 0\n",
      "    NAND(1, 1) = 0\n",
      "XOR: failed\n",
      "    XOR(0, 0) = 0 <> 0.5044785498011133\n",
      "    XOR(0, 1) = 1 <> 0.4999054511512167\n",
      "    XOR(1, 0) = 1 <> 0.49485279309799013\n",
      "    XOR(1, 1) = 0 <> 0.49027969444809355\n"
     ]
    }
   ],
   "source": [
    "def one_third(x, s=0.3):\n",
    "    if abs(x) <= s:\n",
    "        return 0\n",
    "    elif abs(1 - x) < s:\n",
    "        return 1\n",
    "    return x\n",
    "\n",
    "\n",
    "t, eps, epochs = 0.01, 0.05, 1000\n",
    "for f in boolean_operators:\n",
    "    run_delta_rule(f, boolean_domain, a=linear, da=dx_linear, evaluate=one_third, t=t, eps=eps, epochs=epochs)\n"
   ]
  },
  {
   "cell_type": "markdown",
   "metadata": {},
   "source": []
  }
 ],
 "metadata": {
  "kernelspec": {
   "display_name": "Python 3",
   "language": "python",
   "name": "python3"
  },
  "language_info": {
   "codemirror_mode": {
    "name": "ipython",
    "version": 3
   },
   "file_extension": ".py",
   "mimetype": "text/x-python",
   "name": "python",
   "nbconvert_exporter": "python",
   "pygments_lexer": "ipython3",
   "version": "3.6.8"
  },
  "toc": {
   "base_numbering": 1,
   "nav_menu": {},
   "number_sections": true,
   "sideBar": true,
   "skip_h1_title": false,
   "title_cell": "Table of Contents",
   "title_sidebar": "Contents",
   "toc_cell": false,
   "toc_position": {},
   "toc_section_display": true,
   "toc_window_display": true
  }
 },
 "nbformat": 4,
 "nbformat_minor": 2
}
