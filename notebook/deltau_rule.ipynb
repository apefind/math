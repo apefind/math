{
 "cells": [
  {
   "cell_type": "markdown",
   "metadata": {},
   "source": [
    "### The Delta Rule"
   ]
  },
  {
   "cell_type": "code",
   "execution_count": 54,
   "metadata": {
    "hide_input": true
   },
   "outputs": [],
   "source": [
    "%run common.ipynb\n",
    "from vector import *\n",
    "from boolean import *\n",
    "from activation_function import *\n",
    "from perceptron import *\n"
   ]
  },
  {
   "cell_type": "markdown",
   "metadata": {},
   "source": [
    "   #### Delta Rule Implementation"
   ]
  },
  {
   "cell_type": "code",
   "execution_count": 55,
   "metadata": {},
   "outputs": [],
   "source": [
    "# %load delta_rule.py\n",
    "import random\n",
    "from vector import dotprod\n",
    "\n",
    "\n",
    "def delta_rule(T, a, da, s=0.01, epochs=50):\n",
    "    n = len(T[0])\n",
    "    w, b = n * (random.random(),), random.random()\n",
    "    for _ in range(epochs):\n",
    "        for x, y in T:\n",
    "            z = dotprod(w, x) + b\n",
    "            az, daz = a(z), da(z)\n",
    "            d = y - az\n",
    "            w = tuple(w[i] + s * d * daz * x[i] for i in range(n))\n",
    "            b = b + s * d * daz\n",
    "    return w, b\n"
   ]
  },
  {
   "cell_type": "code",
   "execution_count": 56,
   "metadata": {},
   "outputs": [],
   "source": [
    "def delta_rule_approx(T, a, da, s=0.01, epochs=50):\n",
    "    w, b = delta_rule(T, a=a, da=da, s=s, epochs=epochs)\n",
    "    return lambda x: dotprod(w, x) + b\n",
    "\n",
    "\n",
    "def run_delta_rule(f, T, a, da, fire, s=0.01, epochs=50):\n",
    "    r = delta_rule_approx(T, a, da, s=s, epochs=epochs)\n",
    "    p = lambda x: fire(r(x))\n",
    "    if all(p(x) == y for x, y in T):\n",
    "        print(f\"{f.__name__}: ok\")\n",
    "    else:\n",
    "        print(_red(f\"{f.__name__}: failed\"))\n",
    "    for x, y in T:\n",
    "        z = p(x)\n",
    "        if z == y:\n",
    "            print(f\"    {f.__name__}{x} = {y}\ta(wx+b) = {_rnd(a(r(x)), n=2)}\")\n",
    "        else:\n",
    "            print(_red(f\"    {f.__name__}{x} = {y} ≠ {z}\ta(wx+b) = {_rnd(a(r(x)), n=2)}\"))\n"
   ]
  },
  {
   "cell_type": "markdown",
   "metadata": {},
   "source": [
    "#### Approximation of Boolean Operators"
   ]
  },
  {
   "cell_type": "code",
   "execution_count": 57,
   "metadata": {},
   "outputs": [
    {
     "name": "stdout",
     "output_type": "stream",
     "text": [
      "AND: ok\n",
      "    AND(0, 0) = 0\ta(wx+b) = 0.11\n",
      "    AND(0, 1) = 0\ta(wx+b) = 0.3\n",
      "    AND(1, 0) = 0\ta(wx+b) = 0.3\n",
      "    AND(1, 1) = 1\ta(wx+b) = 0.6\n",
      "OR: ok\n",
      "    OR(0, 0) = 0\ta(wx+b) = 0.43\n",
      "    OR(0, 1) = 1\ta(wx+b) = 0.78\n",
      "    OR(1, 0) = 1\ta(wx+b) = 0.78\n",
      "    OR(1, 1) = 1\ta(wx+b) = 0.95\n",
      "NAND: ok\n",
      "    NAND(0, 0) = 1\ta(wx+b) = 0.56\n",
      "    NAND(0, 1) = 0\ta(wx+b) = 0.22\n",
      "    NAND(1, 0) = 0\ta(wx+b) = 0.22\n",
      "    NAND(1, 1) = 0\ta(wx+b) = 0.06\n",
      "\u001b[31mXOR: failed\u001b[0m\n",
      "\u001b[31m    XOR(0, 0) = 0 ≠ 1\ta(wx+b) = 0.51\u001b[0m\n",
      "    XOR(0, 1) = 1\ta(wx+b) = 0.5\n",
      "    XOR(1, 0) = 1\ta(wx+b) = 0.5\n",
      "    XOR(1, 1) = 0\ta(wx+b) = 0.5\n"
     ]
    }
   ],
   "source": [
    "s, epochs = 0.01, 2500\n",
    "for f, T in BOOLEAN_TESTDATA.items():\n",
    "    run_delta_rule(f, T, a=sigmoid, da=dx_sigmoid, fire=heaviside, s=s, epochs=epochs)\n"
   ]
  },
  {
   "cell_type": "code",
   "execution_count": 58,
   "metadata": {},
   "outputs": [
    {
     "name": "stdout",
     "output_type": "stream",
     "text": [
      "AND: ok\n",
      "    AND(0, 0) = 0\ta(wx+b) = -0.22\n",
      "    AND(0, 1) = 0\ta(wx+b) = 0.26\n",
      "    AND(1, 0) = 0\ta(wx+b) = 0.26\n",
      "    AND(1, 1) = 1\ta(wx+b) = 0.73\n",
      "OR: ok\n",
      "    OR(0, 0) = 0\ta(wx+b) = 0.26\n",
      "    OR(0, 1) = 1\ta(wx+b) = 0.75\n",
      "    OR(1, 0) = 1\ta(wx+b) = 0.75\n",
      "    OR(1, 1) = 1\ta(wx+b) = 1.24\n",
      "NAND: ok\n",
      "    NAND(0, 0) = 1\ta(wx+b) = 0.72\n",
      "    NAND(0, 1) = 0\ta(wx+b) = 0.25\n",
      "    NAND(1, 0) = 0\ta(wx+b) = 0.25\n",
      "    NAND(1, 1) = 0\ta(wx+b) = -0.23\n",
      "\u001b[31mXOR: failed\u001b[0m\n",
      "    XOR(0, 0) = 0\ta(wx+b) = 0.48\n",
      "\u001b[31m    XOR(0, 1) = 1 ≠ 0\ta(wx+b) = 0.5\u001b[0m\n",
      "\u001b[31m    XOR(1, 0) = 1 ≠ 0\ta(wx+b) = 0.49\u001b[0m\n",
      "\u001b[31m    XOR(1, 1) = 0 ≠ 1\ta(wx+b) = 0.51\u001b[0m\n"
     ]
    }
   ],
   "source": [
    "s, epochs = 0.01, 500\n",
    "r = 10.0 * random.random()\n",
    "for f, T in BOOLEAN_TESTDATA.items():\n",
    "    a = lambda x: linear(x, a=r)\n",
    "    da = lambda x: dx_linear(x, a=r)\n",
    "    run_delta_rule(f, T, a=linear, da=dx_linear, fire=step, s=s, epochs=epochs)\n"
   ]
  },
  {
   "cell_type": "code",
   "execution_count": 59,
   "metadata": {},
   "outputs": [
    {
     "name": "stdout",
     "output_type": "stream",
     "text": [
      "AND: ok\n",
      "    AND(0, 0) = 0\ta(wx+b) = -0.24\n",
      "    AND(0, 1) = 0\ta(wx+b) = 0.24\n",
      "    AND(1, 0) = 0\ta(wx+b) = 0.24\n",
      "    AND(1, 1) = 1\ta(wx+b) = 0.63\n",
      "OR: ok\n",
      "    OR(0, 0) = 0\ta(wx+b) = 0.17\n",
      "    OR(0, 1) = 1\ta(wx+b) = 0.81\n",
      "    OR(1, 0) = 1\ta(wx+b) = 0.81\n",
      "    OR(1, 1) = 1\ta(wx+b) = 0.97\n",
      "NAND: ok\n",
      "    NAND(0, 0) = 1\ta(wx+b) = 0.56\n",
      "    NAND(0, 1) = 0\ta(wx+b) = 0.22\n",
      "    NAND(1, 0) = 0\ta(wx+b) = 0.22\n",
      "    NAND(1, 1) = 0\ta(wx+b) = -0.17\n",
      "\u001b[31mXOR: failed\u001b[0m\n",
      "    XOR(0, 0) = 0\ta(wx+b) = 0.45\n",
      "    XOR(0, 1) = 1\ta(wx+b) = 0.5\n",
      "    XOR(1, 0) = 1\ta(wx+b) = 0.5\n",
      "\u001b[31m    XOR(1, 1) = 0 ≠ 1\ta(wx+b) = 0.55\u001b[0m\n"
     ]
    }
   ],
   "source": [
    "s, epochs = 0.01, 500\n",
    "for f, T in BOOLEAN_TESTDATA.items():\n",
    "    run_delta_rule(f, T, a=tanh, da=dx_tanh, fire=step, s=s, epochs=epochs)\n"
   ]
  },
  {
   "cell_type": "markdown",
   "metadata": {},
   "source": [
    "#### Approximation Analysis"
   ]
  },
  {
   "cell_type": "markdown",
   "metadata": {},
   "source": [
    "Calculate and verify approximation of a separable boolean operator. Run a number of trials to ensure the approximation is stable under the given step length and number of epochs."
   ]
  },
  {
   "cell_type": "code",
   "execution_count": 60,
   "metadata": {},
   "outputs": [],
   "source": [
    "def check_boolean_approx(f, a, da, fire, s=0.01, epochs=50, trials=25):\n",
    "    T = BOOLEAN_TESTDATA[f]\n",
    "    for _ in range(trials):\n",
    "        w, b = delta_rule(T, a=a, da=da, s=s, epochs=epochs)\n",
    "        p = lambda x: fire(dotprod(w, x) + b)\n",
    "        if not all(p(x) == y for x, y in T):\n",
    "            return False, (None, None)\n",
    "    return True, (normed(w), b / norm(w))\n"
   ]
  },
  {
   "cell_type": "markdown",
   "metadata": {},
   "source": [
    "Use pandas to display combinations of step length and smallest number of epochs that can be used to approximate a separable boolean operator. "
   ]
  },
  {
   "cell_type": "code",
   "execution_count": 61,
   "metadata": {},
   "outputs": [],
   "source": [
    "import pandas as pd\n",
    "\n",
    "\n",
    "def analyze_boolean_approx(f, a, da, fire, S, E, trials):\n",
    "    data = []\n",
    "    for s in S:\n",
    "        for epochs in sorted(E):\n",
    "            ok, (w, b) = check_boolean_approx(f, a, da, fire, s=s, epochs=epochs, trials=trials)\n",
    "            if ok:\n",
    "                data.append([s, epochs, _rnd(w), _rnd(b)])\n",
    "                break\n",
    "    df = pd.DataFrame(data, columns=[\"Step Length\", \"Min Epochs\", \"Weight\", \"Bias\"])\n",
    "    display(df.style.hide_index())\n"
   ]
  },
  {
   "cell_type": "code",
   "execution_count": 62,
   "metadata": {},
   "outputs": [],
   "source": [
    "trials = 25\n",
    "\n",
    "S = [0.01, 0.05, 0.1, 0.5, 1.0, 5.0]\n",
    "# S = [0.05, 0.1, 0.5, 1.0, 5.0]\n",
    "E = [10, 25, 50, 100, 250, 500, 1000, 2500, 5000]\n"
   ]
  },
  {
   "cell_type": "code",
   "execution_count": 63,
   "metadata": {},
   "outputs": [
    {
     "data": {
      "text/html": [
       "<style  type=\"text/css\" >\n",
       "</style><table id=\"T_22857b74_22a7_11ea_89c2_acbc32ce71f7\" ><thead>    <tr>        <th class=\"col_heading level0 col0\" >Step Length</th>        <th class=\"col_heading level0 col1\" >Min Epochs</th>        <th class=\"col_heading level0 col2\" >Weight</th>        <th class=\"col_heading level0 col3\" >Bias</th>    </tr></thead><tbody>\n",
       "                <tr>\n",
       "                                <td id=\"T_22857b74_22a7_11ea_89c2_acbc32ce71f7row0_col0\" class=\"data row0 col0\" >0.01</td>\n",
       "                        <td id=\"T_22857b74_22a7_11ea_89c2_acbc32ce71f7row0_col1\" class=\"data row0 col1\" >2500</td>\n",
       "                        <td id=\"T_22857b74_22a7_11ea_89c2_acbc32ce71f7row0_col2\" class=\"data row0 col2\" >(0.71, 0.71)</td>\n",
       "                        <td id=\"T_22857b74_22a7_11ea_89c2_acbc32ce71f7row0_col3\" class=\"data row0 col3\" >-1.18</td>\n",
       "            </tr>\n",
       "            <tr>\n",
       "                                <td id=\"T_22857b74_22a7_11ea_89c2_acbc32ce71f7row1_col0\" class=\"data row1 col0\" >0.05</td>\n",
       "                        <td id=\"T_22857b74_22a7_11ea_89c2_acbc32ce71f7row1_col1\" class=\"data row1 col1\" >500</td>\n",
       "                        <td id=\"T_22857b74_22a7_11ea_89c2_acbc32ce71f7row1_col2\" class=\"data row1 col2\" >(0.71, 0.71)</td>\n",
       "                        <td id=\"T_22857b74_22a7_11ea_89c2_acbc32ce71f7row1_col3\" class=\"data row1 col3\" >-1.17</td>\n",
       "            </tr>\n",
       "            <tr>\n",
       "                                <td id=\"T_22857b74_22a7_11ea_89c2_acbc32ce71f7row2_col0\" class=\"data row2 col0\" >0.1</td>\n",
       "                        <td id=\"T_22857b74_22a7_11ea_89c2_acbc32ce71f7row2_col1\" class=\"data row2 col1\" >250</td>\n",
       "                        <td id=\"T_22857b74_22a7_11ea_89c2_acbc32ce71f7row2_col2\" class=\"data row2 col2\" >(0.71, 0.71)</td>\n",
       "                        <td id=\"T_22857b74_22a7_11ea_89c2_acbc32ce71f7row2_col3\" class=\"data row2 col3\" >-1.19</td>\n",
       "            </tr>\n",
       "            <tr>\n",
       "                                <td id=\"T_22857b74_22a7_11ea_89c2_acbc32ce71f7row3_col0\" class=\"data row3 col0\" >0.5</td>\n",
       "                        <td id=\"T_22857b74_22a7_11ea_89c2_acbc32ce71f7row3_col1\" class=\"data row3 col1\" >50</td>\n",
       "                        <td id=\"T_22857b74_22a7_11ea_89c2_acbc32ce71f7row3_col2\" class=\"data row3 col2\" >(0.72, 0.7)</td>\n",
       "                        <td id=\"T_22857b74_22a7_11ea_89c2_acbc32ce71f7row3_col3\" class=\"data row3 col3\" >-1.13</td>\n",
       "            </tr>\n",
       "            <tr>\n",
       "                                <td id=\"T_22857b74_22a7_11ea_89c2_acbc32ce71f7row4_col0\" class=\"data row4 col0\" >1</td>\n",
       "                        <td id=\"T_22857b74_22a7_11ea_89c2_acbc32ce71f7row4_col1\" class=\"data row4 col1\" >25</td>\n",
       "                        <td id=\"T_22857b74_22a7_11ea_89c2_acbc32ce71f7row4_col2\" class=\"data row4 col2\" >(0.72, 0.69)</td>\n",
       "                        <td id=\"T_22857b74_22a7_11ea_89c2_acbc32ce71f7row4_col3\" class=\"data row4 col3\" >-1.09</td>\n",
       "            </tr>\n",
       "            <tr>\n",
       "                                <td id=\"T_22857b74_22a7_11ea_89c2_acbc32ce71f7row5_col0\" class=\"data row5 col0\" >5</td>\n",
       "                        <td id=\"T_22857b74_22a7_11ea_89c2_acbc32ce71f7row5_col1\" class=\"data row5 col1\" >10</td>\n",
       "                        <td id=\"T_22857b74_22a7_11ea_89c2_acbc32ce71f7row5_col2\" class=\"data row5 col2\" >(0.77, 0.64)</td>\n",
       "                        <td id=\"T_22857b74_22a7_11ea_89c2_acbc32ce71f7row5_col3\" class=\"data row5 col3\" >-0.87</td>\n",
       "            </tr>\n",
       "    </tbody></table>"
      ],
      "text/plain": [
       "<pandas.io.formats.style.Styler at 0x1150e6390>"
      ]
     },
     "metadata": {},
     "output_type": "display_data"
    }
   ],
   "source": [
    "a, da, fire = sigmoid, dx_sigmoid, heaviside\n",
    "\n",
    "analyze_boolean_approx(AND, a, da, fire, S, E, trials)"
   ]
  },
  {
   "cell_type": "code",
   "execution_count": 64,
   "metadata": {},
   "outputs": [
    {
     "data": {
      "text/html": [
       "<style  type=\"text/css\" >\n",
       "</style><table id=\"T_22cad550_22a7_11ea_8805_acbc32ce71f7\" ><thead>    <tr>        <th class=\"col_heading level0 col0\" >Step Length</th>        <th class=\"col_heading level0 col1\" >Min Epochs</th>        <th class=\"col_heading level0 col2\" >Weight</th>        <th class=\"col_heading level0 col3\" >Bias</th>    </tr></thead><tbody>\n",
       "                <tr>\n",
       "                                <td id=\"T_22cad550_22a7_11ea_8805_acbc32ce71f7row0_col0\" class=\"data row0 col0\" >0.01</td>\n",
       "                        <td id=\"T_22cad550_22a7_11ea_8805_acbc32ce71f7row0_col1\" class=\"data row0 col1\" >250</td>\n",
       "                        <td id=\"T_22cad550_22a7_11ea_8805_acbc32ce71f7row0_col2\" class=\"data row0 col2\" >(0.71, 0.71)</td>\n",
       "                        <td id=\"T_22cad550_22a7_11ea_8805_acbc32ce71f7row0_col3\" class=\"data row0 col3\" >0.65</td>\n",
       "            </tr>\n",
       "            <tr>\n",
       "                                <td id=\"T_22cad550_22a7_11ea_8805_acbc32ce71f7row1_col0\" class=\"data row1 col0\" >0.05</td>\n",
       "                        <td id=\"T_22cad550_22a7_11ea_8805_acbc32ce71f7row1_col1\" class=\"data row1 col1\" >25</td>\n",
       "                        <td id=\"T_22cad550_22a7_11ea_8805_acbc32ce71f7row1_col2\" class=\"data row1 col2\" >(0.7, 0.71)</td>\n",
       "                        <td id=\"T_22cad550_22a7_11ea_8805_acbc32ce71f7row1_col3\" class=\"data row1 col3\" >0.44</td>\n",
       "            </tr>\n",
       "            <tr>\n",
       "                                <td id=\"T_22cad550_22a7_11ea_8805_acbc32ce71f7row2_col0\" class=\"data row2 col0\" >0.1</td>\n",
       "                        <td id=\"T_22cad550_22a7_11ea_8805_acbc32ce71f7row2_col1\" class=\"data row2 col1\" >25</td>\n",
       "                        <td id=\"T_22cad550_22a7_11ea_8805_acbc32ce71f7row2_col2\" class=\"data row2 col2\" >(0.69, 0.73)</td>\n",
       "                        <td id=\"T_22cad550_22a7_11ea_8805_acbc32ce71f7row2_col3\" class=\"data row2 col3\" >0.51</td>\n",
       "            </tr>\n",
       "    </tbody></table>"
      ],
      "text/plain": [
       "<pandas.io.formats.style.Styler at 0x1150e6be0>"
      ]
     },
     "metadata": {},
     "output_type": "display_data"
    }
   ],
   "source": [
    "a, da, fire = linear, dx_linear, step\n",
    "\n",
    "analyze_boolean_approx(OR, a, da, fire, S, E, trials)"
   ]
  },
  {
   "cell_type": "code",
   "execution_count": 65,
   "metadata": {},
   "outputs": [
    {
     "data": {
      "text/html": [
       "<style  type=\"text/css\" >\n",
       "</style><table id=\"T_2313a230_22a7_11ea_b0e3_acbc32ce71f7\" ><thead>    <tr>        <th class=\"col_heading level0 col0\" >Step Length</th>        <th class=\"col_heading level0 col1\" >Min Epochs</th>        <th class=\"col_heading level0 col2\" >Weight</th>        <th class=\"col_heading level0 col3\" >Bias</th>    </tr></thead><tbody>\n",
       "                <tr>\n",
       "                                <td id=\"T_2313a230_22a7_11ea_b0e3_acbc32ce71f7row0_col0\" class=\"data row0 col0\" >0.01</td>\n",
       "                        <td id=\"T_2313a230_22a7_11ea_b0e3_acbc32ce71f7row0_col1\" class=\"data row0 col1\" >500</td>\n",
       "                        <td id=\"T_2313a230_22a7_11ea_b0e3_acbc32ce71f7row0_col2\" class=\"data row0 col2\" >(-0.71, -0.71)</td>\n",
       "                        <td id=\"T_2313a230_22a7_11ea_b0e3_acbc32ce71f7row0_col3\" class=\"data row0 col3\" >1.09</td>\n",
       "            </tr>\n",
       "            <tr>\n",
       "                                <td id=\"T_2313a230_22a7_11ea_b0e3_acbc32ce71f7row1_col0\" class=\"data row1 col0\" >0.05</td>\n",
       "                        <td id=\"T_2313a230_22a7_11ea_b0e3_acbc32ce71f7row1_col1\" class=\"data row1 col1\" >100</td>\n",
       "                        <td id=\"T_2313a230_22a7_11ea_b0e3_acbc32ce71f7row1_col2\" class=\"data row1 col2\" >(-0.7, -0.72)</td>\n",
       "                        <td id=\"T_2313a230_22a7_11ea_b0e3_acbc32ce71f7row1_col3\" class=\"data row1 col3\" >1.1</td>\n",
       "            </tr>\n",
       "            <tr>\n",
       "                                <td id=\"T_2313a230_22a7_11ea_b0e3_acbc32ce71f7row2_col0\" class=\"data row2 col0\" >0.1</td>\n",
       "                        <td id=\"T_2313a230_22a7_11ea_b0e3_acbc32ce71f7row2_col1\" class=\"data row2 col1\" >50</td>\n",
       "                        <td id=\"T_2313a230_22a7_11ea_b0e3_acbc32ce71f7row2_col2\" class=\"data row2 col2\" >(-0.69, -0.73)</td>\n",
       "                        <td id=\"T_2313a230_22a7_11ea_b0e3_acbc32ce71f7row2_col3\" class=\"data row2 col3\" >1.12</td>\n",
       "            </tr>\n",
       "            <tr>\n",
       "                                <td id=\"T_2313a230_22a7_11ea_b0e3_acbc32ce71f7row3_col0\" class=\"data row3 col0\" >0.5</td>\n",
       "                        <td id=\"T_2313a230_22a7_11ea_b0e3_acbc32ce71f7row3_col1\" class=\"data row3 col1\" >10</td>\n",
       "                        <td id=\"T_2313a230_22a7_11ea_b0e3_acbc32ce71f7row3_col2\" class=\"data row3 col2\" >(-0.47, -0.88)</td>\n",
       "                        <td id=\"T_2313a230_22a7_11ea_b0e3_acbc32ce71f7row3_col3\" class=\"data row3 col3\" >1.58</td>\n",
       "            </tr>\n",
       "    </tbody></table>"
      ],
      "text/plain": [
       "<pandas.io.formats.style.Styler at 0x1150e6a90>"
      ]
     },
     "metadata": {},
     "output_type": "display_data"
    }
   ],
   "source": [
    "a, da, fire = tanh, dx_tanh, step\n",
    "\n",
    "analyze_boolean_approx(NAND, a, da, fire, S, E, trials)"
   ]
  },
  {
   "cell_type": "code",
   "execution_count": 66,
   "metadata": {},
   "outputs": [
    {
     "data": {
      "text/html": [
       "<style  type=\"text/css\" >\n",
       "</style><table id=\"T_235f8376_22a7_11ea_b212_acbc32ce71f7\" ><thead>    <tr>        <th class=\"col_heading level0 col0\" >Step Length</th>        <th class=\"col_heading level0 col1\" >Min Epochs</th>        <th class=\"col_heading level0 col2\" >Weight</th>        <th class=\"col_heading level0 col3\" >Bias</th>    </tr></thead><tbody>\n",
       "                <tr>\n",
       "                                <td id=\"T_235f8376_22a7_11ea_b212_acbc32ce71f7row0_col0\" class=\"data row0 col0\" >0.01</td>\n",
       "                        <td id=\"T_235f8376_22a7_11ea_b212_acbc32ce71f7row0_col1\" class=\"data row0 col1\" >1000</td>\n",
       "                        <td id=\"T_235f8376_22a7_11ea_b212_acbc32ce71f7row0_col2\" class=\"data row0 col2\" >(-0.71, -0.71)</td>\n",
       "                        <td id=\"T_235f8376_22a7_11ea_b212_acbc32ce71f7row0_col3\" class=\"data row0 col3\" >0.23</td>\n",
       "            </tr>\n",
       "            <tr>\n",
       "                                <td id=\"T_235f8376_22a7_11ea_b212_acbc32ce71f7row1_col0\" class=\"data row1 col0\" >0.05</td>\n",
       "                        <td id=\"T_235f8376_22a7_11ea_b212_acbc32ce71f7row1_col1\" class=\"data row1 col1\" >250</td>\n",
       "                        <td id=\"T_235f8376_22a7_11ea_b212_acbc32ce71f7row1_col2\" class=\"data row1 col2\" >(-0.71, -0.71)</td>\n",
       "                        <td id=\"T_235f8376_22a7_11ea_b212_acbc32ce71f7row1_col3\" class=\"data row1 col3\" >0.21</td>\n",
       "            </tr>\n",
       "            <tr>\n",
       "                                <td id=\"T_235f8376_22a7_11ea_b212_acbc32ce71f7row2_col0\" class=\"data row2 col0\" >0.1</td>\n",
       "                        <td id=\"T_235f8376_22a7_11ea_b212_acbc32ce71f7row2_col1\" class=\"data row2 col1\" >100</td>\n",
       "                        <td id=\"T_235f8376_22a7_11ea_b212_acbc32ce71f7row2_col2\" class=\"data row2 col2\" >(-0.7, -0.71)</td>\n",
       "                        <td id=\"T_235f8376_22a7_11ea_b212_acbc32ce71f7row2_col3\" class=\"data row2 col3\" >0.21</td>\n",
       "            </tr>\n",
       "            <tr>\n",
       "                                <td id=\"T_235f8376_22a7_11ea_b212_acbc32ce71f7row3_col0\" class=\"data row3 col0\" >0.5</td>\n",
       "                        <td id=\"T_235f8376_22a7_11ea_b212_acbc32ce71f7row3_col1\" class=\"data row3 col1\" >25</td>\n",
       "                        <td id=\"T_235f8376_22a7_11ea_b212_acbc32ce71f7row3_col2\" class=\"data row3 col2\" >(-0.69, -0.72)</td>\n",
       "                        <td id=\"T_235f8376_22a7_11ea_b212_acbc32ce71f7row3_col3\" class=\"data row3 col3\" >0.16</td>\n",
       "            </tr>\n",
       "            <tr>\n",
       "                                <td id=\"T_235f8376_22a7_11ea_b212_acbc32ce71f7row4_col0\" class=\"data row4 col0\" >1</td>\n",
       "                        <td id=\"T_235f8376_22a7_11ea_b212_acbc32ce71f7row4_col1\" class=\"data row4 col1\" >25</td>\n",
       "                        <td id=\"T_235f8376_22a7_11ea_b212_acbc32ce71f7row4_col2\" class=\"data row4 col2\" >(-0.7, -0.72)</td>\n",
       "                        <td id=\"T_235f8376_22a7_11ea_b212_acbc32ce71f7row4_col3\" class=\"data row4 col3\" >0.27</td>\n",
       "            </tr>\n",
       "            <tr>\n",
       "                                <td id=\"T_235f8376_22a7_11ea_b212_acbc32ce71f7row5_col0\" class=\"data row5 col0\" >5</td>\n",
       "                        <td id=\"T_235f8376_22a7_11ea_b212_acbc32ce71f7row5_col1\" class=\"data row5 col1\" >10</td>\n",
       "                        <td id=\"T_235f8376_22a7_11ea_b212_acbc32ce71f7row5_col2\" class=\"data row5 col2\" >(-0.69, -0.73)</td>\n",
       "                        <td id=\"T_235f8376_22a7_11ea_b212_acbc32ce71f7row5_col3\" class=\"data row5 col3\" >0.3</td>\n",
       "            </tr>\n",
       "    </tbody></table>"
      ],
      "text/plain": [
       "<pandas.io.formats.style.Styler at 0x115074c50>"
      ]
     },
     "metadata": {},
     "output_type": "display_data"
    }
   ],
   "source": [
    "a, da, fire = lambda x: 0.5 * tanh(x) + 0.5, lambda x: 0.5 * dx_tanh(x), heaviside\n",
    "analyze_boolean_approx(NAND, a, da, fire, S, E, trials)\n"
   ]
  },
  {
   "cell_type": "code",
   "execution_count": 67,
   "metadata": {},
   "outputs": [
    {
     "data": {
      "text/html": [
       "<style  type=\"text/css\" >\n",
       "</style><table id=\"T_23ba34ec_22a7_11ea_b2e7_acbc32ce71f7\" ><thead>    <tr>        <th class=\"col_heading level0 col0\" >Step Length</th>        <th class=\"col_heading level0 col1\" >Min Epochs</th>        <th class=\"col_heading level0 col2\" >Weight</th>        <th class=\"col_heading level0 col3\" >Bias</th>    </tr></thead><tbody>\n",
       "                <tr>\n",
       "                                <td id=\"T_23ba34ec_22a7_11ea_b2e7_acbc32ce71f7row0_col0\" class=\"data row0 col0\" >0.01</td>\n",
       "                        <td id=\"T_23ba34ec_22a7_11ea_b2e7_acbc32ce71f7row0_col1\" class=\"data row0 col1\" >1000</td>\n",
       "                        <td id=\"T_23ba34ec_22a7_11ea_b2e7_acbc32ce71f7row0_col2\" class=\"data row0 col2\" >(-0.71, -0.71)</td>\n",
       "                        <td id=\"T_23ba34ec_22a7_11ea_b2e7_acbc32ce71f7row0_col3\" class=\"data row0 col3\" >0.24</td>\n",
       "            </tr>\n",
       "            <tr>\n",
       "                                <td id=\"T_23ba34ec_22a7_11ea_b2e7_acbc32ce71f7row1_col0\" class=\"data row1 col0\" >0.05</td>\n",
       "                        <td id=\"T_23ba34ec_22a7_11ea_b2e7_acbc32ce71f7row1_col1\" class=\"data row1 col1\" >250</td>\n",
       "                        <td id=\"T_23ba34ec_22a7_11ea_b2e7_acbc32ce71f7row1_col2\" class=\"data row1 col2\" >(-0.7, -0.71)</td>\n",
       "                        <td id=\"T_23ba34ec_22a7_11ea_b2e7_acbc32ce71f7row1_col3\" class=\"data row1 col3\" >0.3</td>\n",
       "            </tr>\n",
       "            <tr>\n",
       "                                <td id=\"T_23ba34ec_22a7_11ea_b2e7_acbc32ce71f7row2_col0\" class=\"data row2 col0\" >0.1</td>\n",
       "                        <td id=\"T_23ba34ec_22a7_11ea_b2e7_acbc32ce71f7row2_col1\" class=\"data row2 col1\" >100</td>\n",
       "                        <td id=\"T_23ba34ec_22a7_11ea_b2e7_acbc32ce71f7row2_col2\" class=\"data row2 col2\" >(-0.7, -0.71)</td>\n",
       "                        <td id=\"T_23ba34ec_22a7_11ea_b2e7_acbc32ce71f7row2_col3\" class=\"data row2 col3\" >0.27</td>\n",
       "            </tr>\n",
       "            <tr>\n",
       "                                <td id=\"T_23ba34ec_22a7_11ea_b2e7_acbc32ce71f7row3_col0\" class=\"data row3 col0\" >0.5</td>\n",
       "                        <td id=\"T_23ba34ec_22a7_11ea_b2e7_acbc32ce71f7row3_col1\" class=\"data row3 col1\" >25</td>\n",
       "                        <td id=\"T_23ba34ec_22a7_11ea_b2e7_acbc32ce71f7row3_col2\" class=\"data row3 col2\" >(-0.68, -0.74)</td>\n",
       "                        <td id=\"T_23ba34ec_22a7_11ea_b2e7_acbc32ce71f7row3_col3\" class=\"data row3 col3\" >0.23</td>\n",
       "            </tr>\n",
       "            <tr>\n",
       "                                <td id=\"T_23ba34ec_22a7_11ea_b2e7_acbc32ce71f7row4_col0\" class=\"data row4 col0\" >1</td>\n",
       "                        <td id=\"T_23ba34ec_22a7_11ea_b2e7_acbc32ce71f7row4_col1\" class=\"data row4 col1\" >10</td>\n",
       "                        <td id=\"T_23ba34ec_22a7_11ea_b2e7_acbc32ce71f7row4_col2\" class=\"data row4 col2\" >(-0.62, -0.78)</td>\n",
       "                        <td id=\"T_23ba34ec_22a7_11ea_b2e7_acbc32ce71f7row4_col3\" class=\"data row4 col3\" >0.24</td>\n",
       "            </tr>\n",
       "    </tbody></table>"
      ],
      "text/plain": [
       "<pandas.io.formats.style.Styler at 0x1150e6908>"
      ]
     },
     "metadata": {},
     "output_type": "display_data"
    }
   ],
   "source": [
    "a, da, fire = lambda x: 0.5 * linear(x) + 0.5, lambda x: 0.5 * dx_linear(x), heaviside\n",
    "analyze_boolean_approx(NAND, a, da, fire, S, E, trials)"
   ]
  },
  {
   "cell_type": "markdown",
   "metadata": {},
   "source": [
    "#### Extended Example"
   ]
  },
  {
   "cell_type": "code",
   "execution_count": 68,
   "metadata": {},
   "outputs": [],
   "source": [
    "def get_annulus_segment_points(x=0.0, y=0.0, r0=0.0, r1=1.0, a0=0.0, a1=math.pi, n=250):\n",
    "    P = []\n",
    "    for _ in range(n):\n",
    "        a, s = random.uniform(a0, a1), random.uniform(r0, r1)\n",
    "        P.append((x + s * math.cos(a), y + s * math.sin(a)))\n",
    "    return P\n",
    "\n",
    "\n",
    "def get_annulus_test_data(x=0.4, y=-0.4, r0=1.1, r1=1.5, n=125):\n",
    "    A0 = get_annulus_segment_points(r0=r0, r1=r1, n=n)\n",
    "    A1 = get_annulus_segment_points(x=x, y=y, a0=math.pi, a1=2 * math.pi, r0=r0, r1=r1, n=n) \n",
    "    T = [(u, 0) for u in A0] + [(u, 1) for u in A1]\n",
    "    random.shuffle(T)\n",
    "    return A0, A1, T\n"
   ]
  },
  {
   "cell_type": "code",
   "execution_count": 69,
   "metadata": {},
   "outputs": [],
   "source": [
    "import matplotlib\n",
    "import matplotlib.pyplot as plot\n",
    "\n",
    "# print(matplotlib.style.available)\n",
    "# matplotlib.style.use(\"seaborn-deep\")\n",
    "# matplotlib.style.use(\"default\")\n",
    "\n",
    "\n",
    "def plot_annulus_classification(A0, A1, w, b, t=2.0, size=(7, 7)):\n",
    "\n",
    "    def ln(x):\n",
    "        return - x * w[0] / w [1] - b / w[1]\n",
    "    \n",
    "    fig = plot.figure()\n",
    "    fig.set_size_inches(*size)\n",
    "    ax = plot.axes()\n",
    "    ax.set_aspect('equal')\n",
    "    plot.title(f\"Seperating Hyperplane w={_rnd(w)}, b={_rnd(b)}\")\n",
    "    plot.grid()\n",
    "    plot.xlim(-t, t)\n",
    "    plot.ylim(-t, t)\n",
    "    plot.plot([x for x, _ in A0], [y for _, y in A0], \"x\", color=\"tab:red\")\n",
    "    plot.plot([x for x, _ in A1], [y for _, y in A1], \"x\", color=\"tab:blue\")\n",
    "    plot.plot([-t, t], [ln(-t), ln(t)], color=\"steelblue\")\n",
    "    ax.arrow(0.0, b, w[0], w[1] - b, head_width=0.1, head_length=0.15, fc='black', ec='steelblue')\n",
    "    plot.show()\n"
   ]
  },
  {
   "cell_type": "code",
   "execution_count": 70,
   "metadata": {},
   "outputs": [],
   "source": [
    "n = 250\n",
    "A0, A1, T = get_annulus_test_data(n=n)\n"
   ]
  },
  {
   "cell_type": "code",
   "execution_count": 71,
   "metadata": {},
   "outputs": [
    {
     "data": {
      "image/png": "[encoded data removed]",
      "text/plain": [
       "<Figure size 504x504 with 1 Axes>"
      ]
     },
     "metadata": {
      "needs_background": "light"
     },
     "output_type": "display_data"
    }
   ],
   "source": [
    "w, b = perceptron(T, s=s, epochs=epochs)\n",
    "plot_annulus_classification(A0, A1, normed(w), b / norm(w))\n"
   ]
  },
  {
   "cell_type": "code",
   "execution_count": 72,
   "metadata": {},
   "outputs": [
    {
     "data": {
      "image/png": "[encoded data removed]",
      "text/plain": [
       "<Figure size 504x504 with 1 Axes>"
      ]
     },
     "metadata": {
      "needs_background": "light"
     },
     "output_type": "display_data"
    }
   ],
   "source": [
    "s, epochs = 0.01, 250\n",
    "a, da = sigmoid, dx_sigmoid\n",
    "a, da = linear, dx_linear\n",
    "a, da = tanh, dx_tanh\n",
    "a, da = lambda x: 0.5 * tanh(x) + 0.5, lambda x: 0.5 * dx_tanh(x)\n",
    "a, da = lambda x: 0.5 * linear(x) + 0.5, lambda x: 0.5 * dx_linear(x)\n",
    "\n",
    "w, b = delta_rule(T, a=a, da=da, s=s, epochs=epochs)\n",
    "plot_annulus_classification(A0, A1, normed(w), b / norm(w))\n"
   ]
  },
  {
   "cell_type": "code",
   "execution_count": null,
   "metadata": {},
   "outputs": [],
   "source": []
  }
 ],
 "metadata": {
  "kernelspec": {
   "display_name": "Python 3",
   "language": "python",
   "name": "python3"
  },
  "language_info": {
   "codemirror_mode": {
    "name": "ipython",
    "version": 3
   },
   "file_extension": ".py",
   "mimetype": "text/x-python",
   "name": "python",
   "nbconvert_exporter": "python",
   "pygments_lexer": "ipython3",
   "version": "3.6.8"
  },
  "latex_envs": {
   "LaTeX_envs_menu_present": true,
   "autoclose": false,
   "autocomplete": true,
   "bibliofile": "biblio.bib",
   "cite_by": "apalike",
   "current_citInitial": 1,
   "eqLabelWithNumbers": true,
   "eqNumInitial": 1,
   "hotkeys": {
    "equation": "Ctrl-E",
    "itemize": "Ctrl-I"
   },
   "labels_anchors": false,
   "latex_user_defs": false,
   "report_style_numbering": false,
   "user_envs_cfg": false
  },
  "toc": {
   "base_numbering": 1,
   "nav_menu": {},
   "number_sections": true,
   "sideBar": true,
   "skip_h1_title": false,
   "title_cell": "Table of Contents",
   "title_sidebar": "Contents",
   "toc_cell": false,
   "toc_position": {
    "height": "calc(100% - 180px)",
    "left": "10px",
    "top": "150px",
    "width": "402.875px"
   },
   "toc_section_display": true,
   "toc_window_display": false
  }
 },
 "nbformat": 4,
 "nbformat_minor": 2
}
