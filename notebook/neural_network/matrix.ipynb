{
 "cells": [
  {
   "cell_type": "markdown",
   "metadata": {},
   "source": [
    "### Simple Matrix Implementation"
   ]
  },
  {
   "cell_type": "code",
   "execution_count": 274,
   "metadata": {},
   "outputs": [],
   "source": [
    "%run core.ipynb"
   ]
  },
  {
   "cell_type": "code",
   "execution_count": 2,
   "metadata": {},
   "outputs": [],
   "source": [
    "# %load matrix.py\n",
    "class matrix(tuple):\n",
    "\n",
    "    def __new__(self, *rows):\n",
    "        return tuple.__new__(matrix, rows)\n",
    "\n",
    "    def __init__(self, *rows):\n",
    "        self.num_rows = len(self)\n",
    "        self.num_cols = len(self[0])\n",
    "\n",
    "    def __rmul__(self, s):\n",
    "        if isinstance(s, tuple):\n",
    "            assert self.num_rows == len(s)\n",
    "            return tuple(sum(x * y for x, y in zip(col, s)) for col in self.t)\n",
    "        return matrix(*(tuple(s * x for x in row) for row in self))\n",
    "\n",
    "    def __mul__(self, M):\n",
    "        if isinstance(M, matrix):\n",
    "            assert self.num_cols == M.num_rows\n",
    "            return matrix(*(tuple(sum(x * y for x, y in zip(row, col)) for row in self) for col in M.t))\n",
    "        elif isinstance(M, tuple):\n",
    "            assert self.num_cols == len(M)\n",
    "            return tuple(sum(x * y for x, y in zip(row, M)) for row in self)\n",
    "\n",
    "    def __neg__(self):\n",
    "        return matrix(*(tuple(-x for x in row) for row in self))\n",
    "\n",
    "    def __add__(self, M):\n",
    "        return matrix(*(tuple(x + y for x, y in zip(row0, row1)) for row0, row1 in zip(self, M)))\n",
    "\n",
    "    def __sub__(self, M):\n",
    "        return matrix(*(tuple(x - y for x, y in zip(row0, row1)) for row0, row1 in zip(self, M)))\n",
    "\n",
    "#     def __str__(self):\n",
    "#         return \"\\n\".join([\"\t\".join(str(_rnd(x)) for x in row) for row in self])\n",
    "    \n",
    "    @property\n",
    "    def dim(self):\n",
    "        return self.num_rows, self.num_cols\n",
    "\n",
    "    @property\n",
    "    def t(self):\n",
    "        return matrix(*(tuple(row[j] for row in self) for j in range(self.num_cols)))\n"
   ]
  },
  {
   "cell_type": "code",
   "execution_count": 4,
   "metadata": {},
   "outputs": [
    {
     "name": "stdout",
     "output_type": "stream",
     "text": [
      "A\t=\t((1, 2), (1, 1), (0, 3))\n",
      "B^t\t=\t((1, 1), (-1, 4))\n",
      "B - 2*C\t=\t((-1, -1), (-1, 4))\n",
      "A * C\t=\t((0, 5, 3), (0, 0, 0))\n",
      "A * B\t=\t((3, 2, 3), (7, 3, 12))\n",
      "A * A^t\t=\t((5, 3, 6), (3, 2, 3), (6, 3, 9))\n",
      "A * v\t=\t(5, 3, 6)\n",
      "v * B\t=\t(3, 7)\n"
     ]
    }
   ],
   "source": [
    "A = matrix((1, 2), (1, 1), (0, 3))\n",
    "B = matrix((1, -1), (1, 4))\n",
    "C = matrix((1, 0), (1, 0))\n",
    "D = matrix((1, -1), (1, 4), (0, 3))\n",
    "v = (1, 2)\n",
    "\n",
    "print(f\"A\t=\t{A}\")\n",
    "print(f\"B^t\t=\t{B.t}\")\n",
    "print(f\"B - 2*C\t=\t{B - 2 * C}\")\n",
    "print(f\"A * C\t=\t{D * C}\")\n",
    "print(f\"A * B\t=\t{A * B}\")\n",
    "print(f\"A * A^t\t=\t{A * A.t}\")\n",
    "print(f\"A * v\t=\t{A * v}\")\n",
    "print(f\"v * B\t=\t{v * B}\")\n"
   ]
  },
  {
   "cell_type": "code",
   "execution_count": null,
   "metadata": {},
   "outputs": [],
   "source": []
  }
 ],
 "metadata": {
  "kernelspec": {
   "display_name": "Python 3",
   "language": "python",
   "name": "python3"
  },
  "language_info": {
   "codemirror_mode": {
    "name": "ipython",
    "version": 3
   },
   "file_extension": ".py",
   "mimetype": "text/x-python",
   "name": "python",
   "nbconvert_exporter": "python",
   "pygments_lexer": "ipython3",
   "version": "3.6.8"
  },
  "latex_envs": {
   "LaTeX_envs_menu_present": true,
   "autoclose": false,
   "autocomplete": true,
   "bibliofile": "biblio.bib",
   "cite_by": "apalike",
   "current_citInitial": 1,
   "eqLabelWithNumbers": true,
   "eqNumInitial": 1,
   "hotkeys": {
    "equation": "Ctrl-E",
    "itemize": "Ctrl-I"
   },
   "labels_anchors": false,
   "latex_user_defs": false,
   "report_style_numbering": false,
   "user_envs_cfg": false
  },
  "toc": {
   "base_numbering": 1,
   "nav_menu": {},
   "number_sections": true,
   "sideBar": true,
   "skip_h1_title": false,
   "title_cell": "Table of Contents",
   "title_sidebar": "Contents",
   "toc_cell": false,
   "toc_position": {
    "height": "calc(100% - 180px)",
    "left": "10px",
    "top": "150px",
    "width": "402.875px"
   },
   "toc_section_display": true,
   "toc_window_display": false
  }
 },
 "nbformat": 4,
 "nbformat_minor": 4
}
