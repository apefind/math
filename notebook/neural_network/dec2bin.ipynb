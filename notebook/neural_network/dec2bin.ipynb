{
 "cells": [
  {
   "cell_type": "markdown",
   "metadata": {},
   "source": [
    "### Decimal To Binary Conversion"
   ]
  },
  {
   "cell_type": "code",
   "execution_count": 1,
   "metadata": {},
   "outputs": [],
   "source": [
    "%run core.ipynb"
   ]
  },
  {
   "cell_type": "code",
   "execution_count": 2,
   "metadata": {},
   "outputs": [],
   "source": [
    "import numpy as np\n",
    "\n",
    "\n",
    "def sigmoid(x):\n",
    "    return 1 / (1 + np.exp(-x))\n",
    "\n",
    "\n",
    "def int2dec(n):\n",
    "    return np.array(tuple(0.99 if i == n else 0.01 for i in range(10)))\n",
    "\n",
    "\n",
    "def dec2int(X):\n",
    "    for i, x in enumerate(X):\n",
    "        if x > 0.5:\n",
    "            return i\n",
    "\n",
    "def int2bin(n):\n",
    "    b = []\n",
    "    while n > 0:\n",
    "        n, x = divmod(n, 2)\n",
    "        b.append(x)\n",
    "    return np.array(b + [0]*(4 - len(b)))\n",
    "\n",
    "\n",
    "def bin2int(X):\n",
    "    return sum(2 ** i if x > 0.5 else 0 for i, x in enumerate(X))\n"
   ]
  },
  {
   "cell_type": "code",
   "execution_count": 352,
   "metadata": {},
   "outputs": [
    {
     "name": "stdout",
     "output_type": "stream",
     "text": [
      "n =\t3\n",
      "dec =\t[0.01 0.01 0.01 0.99 0.01 0.01 0.01 0.01 0.01 0.01]\n",
      "bin =\t[1 1 0 0]\n"
     ]
    }
   ],
   "source": [
    "n = random.randint(0, 10)\n",
    "print(f\"n =\t{n}\")\n",
    "print(f\"dec =\t{int2dec(n)}\")\n",
    "print(f\"bin =\t{int2bin(n)}\")\n",
    "assert dec2int(int2dec(n)) == n\n",
    "assert bin2int(int2bin(n)) == n"
   ]
  },
  {
   "cell_type": "markdown",
   "metadata": {},
   "source": [
    "#### Manual Weights and Biasis"
   ]
  },
  {
   "cell_type": "code",
   "execution_count": 130,
   "metadata": {},
   "outputs": [],
   "source": [
    "def get_dec2bin_weights_and_biases():\n",
    "    A = []\n",
    "    for i in range(10):\n",
    "        A.append(int2bin(i))\n",
    "    W = np.transpose(np.array(A))\n",
    "    B = - (sigmoid(0.99) - sigmoid(0.01)) / 2 * np.ones(4)\n",
    "    return W, B\n"
   ]
  },
  {
   "cell_type": "code",
   "execution_count": 166,
   "metadata": {},
   "outputs": [],
   "source": [
    "def check_dec2bin(W, B):\n",
    "    for i in range(10):\n",
    "        X = int2dec(i)\n",
    "        Y = sigmoid(np.dot(W, X) + B)\n",
    "        x, y = dec2int(X), bin2int(Y)\n",
    "        Y = np.reshape(Y, (4,))\n",
    "        assert x == y\n",
    "        print(f'{x} -> {Y} = {[1 if t > 0.5 else 0 for t in Y]}')\n"
   ]
  },
  {
   "cell_type": "code",
   "execution_count": 216,
   "metadata": {},
   "outputs": [
    {
     "name": "stdout",
     "output_type": "stream",
     "text": [
      "0 -> [0.48418179 0.48168471 0.48168471 0.47669341] = [0, 0, 0, 0]\n",
      "1 -> [0.71437046 0.48168471 0.48168471 0.47669341] = [1, 0, 0, 0]\n",
      "2 -> [0.48418179 0.71232564 0.48168471 0.47669341] = [0, 1, 0, 0]\n",
      "3 -> [0.71437046 0.71232564 0.48168471 0.47669341] = [1, 1, 0, 0]\n",
      "4 -> [0.48418179 0.48168471 0.71232564 0.47669341] = [0, 0, 1, 0]\n",
      "5 -> [0.71437046 0.48168471 0.71232564 0.47669341] = [1, 0, 1, 0]\n",
      "6 -> [0.48418179 0.71232564 0.71232564 0.47669341] = [0, 1, 1, 0]\n",
      "7 -> [0.71437046 0.71232564 0.71232564 0.47669341] = [1, 1, 1, 0]\n",
      "8 -> [0.48418179 0.48168471 0.48168471 0.70820995] = [0, 0, 0, 1]\n",
      "9 -> [0.71437046 0.48168471 0.48168471 0.70820995] = [1, 0, 0, 1]\n"
     ]
    }
   ],
   "source": [
    "W, B = get_dec2bin_weights_and_biases()\n",
    "check_dec2bin(W, B)"
   ]
  },
  {
   "cell_type": "markdown",
   "metadata": {},
   "source": [
    "#### Weights and Biasis using Delta Rule"
   ]
  },
  {
   "cell_type": "code",
   "execution_count": 324,
   "metadata": {},
   "outputs": [],
   "source": [
    "from delta_rule import delta_rule\n",
    "\n",
    "\n",
    "def get_dec2bin_delta_rule_test_data():\n",
    "    D = {n: int2dec(n) for n in range(10)}\n",
    "    B = {n: int2bin(n) for n in range(10)}\n",
    "    N = []\n",
    "    for i in range(4):\n",
    "        T = []\n",
    "        for n in range(10):\n",
    "            T.append((D[n], B[n][i]))\n",
    "        N.append(T)\n",
    "    return N\n",
    "\n",
    "\n",
    "def get_dec2bin_weights_and_biases_delta_rule(a, da, s=0.01, epochs=50):\n",
    "    W, B = [], []\n",
    "    for T in get_dec2bin_delta_rule_test_data():\n",
    "        w, b = delta_rule(T, a=a, da=da, s=s, epochs=epochs)\n",
    "        W.append(w)\n",
    "        B.append(b)\n",
    "    return np.array(W), np.array(B)\n",
    "\n",
    "\n",
    "def check_dec2bin_delta_rule(W, B, a, classify):\n",
    "    for n in range(10):\n",
    "        X = tuple(int2bin(n))\n",
    "        Y = tuple(a(x) for x in np.dot(W, int2dec(n)) + B)\n",
    "        Z = tuple(classify(t) for t in Y)\n",
    "        if X == Z:\n",
    "            print(f\"{n} =\t{_rnd(Y, n=2)} =\t{Z}\")\n",
    "        else:\n",
    "            print(_red(f\"{n} ≠\t{_rnd(Y, n=2)} =\t{Z}\t≠\t{X}\"))\n"
   ]
  },
  {
   "cell_type": "code",
   "execution_count": 346,
   "metadata": {},
   "outputs": [
    {
     "name": "stdout",
     "output_type": "stream",
     "text": [
      "0 =\t(0.31, 0.25, 0.25, 0.13) =\t(0, 0, 0, 0)\n",
      "1 =\t(0.69, 0.25, 0.25, 0.13) =\t(1, 0, 0, 0)\n",
      "2 =\t(0.31, 0.63, 0.25, 0.13) =\t(0, 1, 0, 0)\n",
      "3 =\t(0.69, 0.63, 0.25, 0.13) =\t(1, 1, 0, 0)\n",
      "4 =\t(0.31, 0.25, 0.64, 0.13) =\t(0, 0, 1, 0)\n",
      "5 =\t(0.69, 0.25, 0.64, 0.13) =\t(1, 0, 1, 0)\n",
      "6 =\t(0.31, 0.63, 0.63, 0.13) =\t(0, 1, 1, 0)\n",
      "7 =\t(0.69, 0.63, 0.63, 0.14) =\t(1, 1, 1, 0)\n",
      "8 =\t(0.31, 0.25, 0.25, 0.52) =\t(0, 0, 0, 1)\n",
      "9 =\t(0.69, 0.25, 0.25, 0.52) =\t(1, 0, 0, 1)\n"
     ]
    }
   ],
   "source": [
    "a, da, classify = lambda x: linear(x), lambda x: dx_linear(x), lambda x: heaviside(x, offset=0.5)\n",
    "s, epochs = 0.01, 50\n",
    "\n",
    "W, B = get_dec2bin_weights_and_biases_delta_rule(a, da, s=s, epochs=epochs)\n",
    "check_dec2bin_delta_rule(W, B, a, classify)"
   ]
  },
  {
   "cell_type": "code",
   "execution_count": 351,
   "metadata": {},
   "outputs": [
    {
     "name": "stdout",
     "output_type": "stream",
     "text": [
      "0 =\t(0.31, 0.25, 0.25, 0.13) =\t(0, 0, 0, 0)\n",
      "1 =\t(0.7, 0.25, 0.25, 0.13) =\t(1, 0, 0, 0)\n",
      "2 =\t(0.31, 0.63, 0.25, 0.13) =\t(0, 1, 0, 0)\n",
      "3 =\t(0.7, 0.63, 0.25, 0.13) =\t(1, 1, 0, 0)\n",
      "4 =\t(0.31, 0.25, 0.64, 0.13) =\t(0, 0, 1, 0)\n",
      "5 =\t(0.7, 0.25, 0.64, 0.13) =\t(1, 0, 1, 0)\n",
      "6 =\t(0.31, 0.63, 0.63, 0.13) =\t(0, 1, 1, 0)\n",
      "7 =\t(0.7, 0.63, 0.63, 0.14) =\t(1, 1, 1, 0)\n",
      "8 =\t(0.31, 0.25, 0.25, 0.52) =\t(0, 0, 0, 1)\n",
      "9 =\t(0.7, 0.25, 0.25, 0.52) =\t(1, 0, 0, 1)\n"
     ]
    }
   ],
   "source": [
    "a, da, classify = relu, dx_relu, lambda x: heaviside(x, offset=0.5)\n",
    "s, epochs = 0.01, 50\n",
    "\n",
    "W, B = get_dec2bin_weights_and_biases_delta_rule(a, da, s=s, epochs=epochs)\n",
    "check_dec2bin_delta_rule(W, B, a, classify)"
   ]
  },
  {
   "cell_type": "code",
   "execution_count": 350,
   "metadata": {},
   "outputs": [
    {
     "name": "stdout",
     "output_type": "stream",
     "text": [
      "0 =\t(0.33, 0.29, 0.29, 0.2) =\t(0, 0, 0, 0)\n",
      "1 =\t(0.67, 0.29, 0.29, 0.2) =\t(1, 0, 0, 0)\n",
      "2 =\t(0.33, 0.62, 0.29, 0.2) =\t(0, 1, 0, 0)\n",
      "3 =\t(0.67, 0.62, 0.29, 0.2) =\t(1, 1, 0, 0)\n",
      "4 =\t(0.33, 0.29, 0.62, 0.2) =\t(0, 0, 1, 0)\n",
      "5 =\t(0.67, 0.29, 0.62, 0.2) =\t(1, 0, 1, 0)\n",
      "6 =\t(0.33, 0.62, 0.62, 0.2) =\t(0, 1, 1, 0)\n",
      "7 =\t(0.67, 0.62, 0.62, 0.2) =\t(1, 1, 1, 0)\n",
      "8 =\t(0.33, 0.29, 0.29, 0.5) =\t(0, 0, 0, 1)\n",
      "9 =\t(0.67, 0.29, 0.29, 0.5) =\t(1, 0, 0, 1)\n"
     ]
    }
   ],
   "source": [
    "a, da, classify = sigmoid, dx_sigmoid, lambda x: heaviside(x, offset=0.5)\n",
    "s, epochs = 0.01, 750\n",
    "\n",
    "W, B = get_dec2bin_weights_and_biases_delta_rule(a, da, s=s, epochs=epochs)\n",
    "check_dec2bin_delta_rule(W, B, a, classify)"
   ]
  },
  {
   "cell_type": "code",
   "execution_count": null,
   "metadata": {},
   "outputs": [],
   "source": []
  }
 ],
 "metadata": {
  "kernelspec": {
   "display_name": "Python 3",
   "language": "python",
   "name": "python3"
  },
  "language_info": {
   "codemirror_mode": {
    "name": "ipython",
    "version": 3
   },
   "file_extension": ".py",
   "mimetype": "text/x-python",
   "name": "python",
   "nbconvert_exporter": "python",
   "pygments_lexer": "ipython3",
   "version": "3.6.8"
  },
  "latex_envs": {
   "LaTeX_envs_menu_present": true,
   "autoclose": false,
   "autocomplete": true,
   "bibliofile": "biblio.bib",
   "cite_by": "apalike",
   "current_citInitial": 1,
   "eqLabelWithNumbers": true,
   "eqNumInitial": 1,
   "hotkeys": {
    "equation": "Ctrl-E",
    "itemize": "Ctrl-I"
   },
   "labels_anchors": false,
   "latex_user_defs": false,
   "report_style_numbering": false,
   "user_envs_cfg": false
  },
  "toc": {
   "base_numbering": 1,
   "nav_menu": {},
   "number_sections": true,
   "sideBar": true,
   "skip_h1_title": false,
   "title_cell": "Table of Contents",
   "title_sidebar": "Contents",
   "toc_cell": false,
   "toc_position": {
    "height": "calc(100% - 180px)",
    "left": "10px",
    "top": "150px",
    "width": "402.875px"
   },
   "toc_section_display": true,
   "toc_window_display": false
  }
 },
 "nbformat": 4,
 "nbformat_minor": 4
}
