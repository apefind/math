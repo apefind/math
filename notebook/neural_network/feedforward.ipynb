{
 "cells": [
  {
   "cell_type": "markdown",
   "metadata": {},
   "source": [
    "### Feed Forward"
   ]
  },
  {
   "cell_type": "code",
   "execution_count": 8,
   "metadata": {},
   "outputs": [],
   "source": [
    "%run core.ipynb"
   ]
  },
  {
   "cell_type": "markdown",
   "metadata": {},
   "source": [
    "#### Implementation of Feedforward Neural Networks"
   ]
  },
  {
   "cell_type": "code",
   "execution_count": 9,
   "metadata": {},
   "outputs": [],
   "source": [
    "# %load feedforward.py\n",
    "import random\n",
    "import np as _np\n",
    "import numpy as np\n",
    "\n",
    "\n",
    "def feedforward(a, N, x):\n",
    "    for W, B in N:\n",
    "        x = a(np.dot(W, x) + B)\n",
    "    return x\n",
    "\n",
    "\n",
    "def get_random_weights_and_biases(k, l, m=None, layers=0):\n",
    "    N = [(np.random_matrix(l, k), np.random_vector(l))]\n",
    "    for _ in range(layers):\n",
    "        N.append((np.random_matrix(l, l), np.random_vector(l)))\n",
    "    if m is not None:\n",
    "        N.append((np.random_matrix(m, l), np.random_vector(m)))\n",
    "    return N\n",
    "\n",
    "\n",
    "class FeedForward:\n",
    "\n",
    "    def __init__(self, dim, layers, a):\n",
    "        self.dim = dim\n",
    "        self.N = get_random_weights_and_biases(*dim, layers)\n",
    "        self.a = a\n",
    "\n",
    "    def __call__(self, x):\n",
    "        return self.feedforward(x)\n",
    "\n",
    "    def __repr__(self):\n",
    "        return repr(self.N)\n",
    "\n",
    "    def feedforward(self, x):\n",
    "        return feedforward(self.a, self.N, x)\n",
    "\n",
    "\n",
    "class FeedForwardSingleLayer(FeedForward):\n",
    "\n",
    "    def __init__(self, dim, a, da):\n",
    "        super().__init__(dim=(*dim, None), layers=0, a=a)\n",
    "        self.da = da\n",
    "\n",
    "    def train(self, T, s=0.01, epochs=50):\n",
    "        for _ in range(epochs):\n",
    "            for x, y in random.sample(T, len(T)):\n",
    "                z = feedforward(np.linear, self.N, x)\n",
    "                az, daz = self.a(z), self.da(z)\n",
    "                d = y - az\n",
    "                for W, B in self.N:\n",
    "                    for i, w in enumerate(W):\n",
    "                        w += s * d[i] * daz[i] * x\n",
    "                    B += s * d * daz\n"
   ]
  },
  {
   "cell_type": "code",
   "execution_count": 10,
   "metadata": {},
   "outputs": [
    {
     "data": {
      "text/plain": [
       "array([8])"
      ]
     },
     "execution_count": 10,
     "metadata": {},
     "output_type": "execute_result"
    }
   ],
   "source": [
    "a = lambda x: np.multiply(x, 1)\n",
    "N = [\n",
    "    (np.matrix((2, 2), \n",
    "               (1, -1),\n",
    "               (2, 2)),  \n",
    "     np.vector(1, -1, 0)),\n",
    "    (np.matrix((1, 2, 2),\n",
    "               (0, 0, 3),\n",
    "               (1, 2, 2)), \n",
    "     np.vector(1, -1, -2)),\n",
    "    (np.matrix((2, 2, 1),), \n",
    "     np.vector(1,)),\n",
    "]\n",
    "x = np.vector(1, -1)\n",
    "\n",
    "feedforward(a, N, x)"
   ]
  },
  {
   "cell_type": "code",
   "execution_count": 11,
   "metadata": {},
   "outputs": [
    {
     "data": {
      "text/plain": [
       "array([0.86491416, 0.87643034])"
      ]
     },
     "execution_count": 11,
     "metadata": {},
     "output_type": "execute_result"
    }
   ],
   "source": [
    "a = np.sigmoid\n",
    "N = get_random_weights_and_biases(2, 3, 2, layers=3)\n",
    "x = np.random_vector(2)\n",
    "feedforward(a, N, x)"
   ]
  },
  {
   "cell_type": "code",
   "execution_count": 12,
   "metadata": {},
   "outputs": [
    {
     "data": {
      "text/plain": [
       "array([0.89047102, 0.86149696])"
      ]
     },
     "execution_count": 12,
     "metadata": {},
     "output_type": "execute_result"
    }
   ],
   "source": [
    "f = FeedForward(dim=(2, 3, 2), layers=3, a=np.sigmoid)\n",
    "x = np.random_vector(2)\n",
    "f(x)"
   ]
  },
  {
   "cell_type": "code",
   "execution_count": 13,
   "metadata": {},
   "outputs": [
    {
     "data": {
      "text/plain": [
       "[(array([[0.33818187, 0.77405518, 0.90836759],\n",
       "       [0.1557715 , 0.3088924 , 0.37986004]]), array([0.48812276, 0.47323944]))]"
      ]
     },
     "execution_count": 13,
     "metadata": {},
     "output_type": "execute_result"
    }
   ],
   "source": [
    "f = FeedForwardSingleLayer(dim=(3, 2), a=np.sigmoid, da=np.dx_sigmoid)\n",
    "f"
   ]
  },
  {
   "cell_type": "markdown",
   "metadata": {},
   "source": [
    "#### Single Layer Feedforward for Decimal to Binary Converter"
   ]
  },
  {
   "cell_type": "code",
   "execution_count": 14,
   "metadata": {},
   "outputs": [],
   "source": [
    "from dec2bin import int2dec, int2bin, bin2int\n",
    "\n",
    "\n",
    "class Dec2Bin(FeedForwardSingleLayer):\n",
    "\n",
    "    def __init__(self, a=np.sigmoid, da=np.dx_sigmoid, \n",
    "                 classify=lambda x: heaviside(x, offset=0.5), s=0.01, epochs=100):\n",
    "        super().__init__(dim=(10, 4), a=a, da=da)\n",
    "        self.classify = classify\n",
    "        self.train([(np.vector(*int2dec(n)), np.vector(*int2bin(n))) for n in range(10)], s, epochs)\n",
    "\n",
    "    def __call__(self, n):\n",
    "        return tuple([self.classify(t) for t in super().__call__(int2dec(n))])\n",
    "\n",
    "    \n",
    "def run_dec2bin_feedforward(f):\n",
    "    for n in range(10):\n",
    "        y = f(n)\n",
    "        z = tuple(int2bin(n))\n",
    "        if y == z:\n",
    "            print(f\"{n} = {y} {_ok}\")\n",
    "        else:\n",
    "            print(f\"{n} = {z} ≠ {_red(y)} {_nok}\")\n",
    "            "
   ]
  },
  {
   "cell_type": "code",
   "execution_count": 15,
   "metadata": {},
   "outputs": [
    {
     "name": "stdout",
     "output_type": "stream",
     "text": [
      "0 = (0, 0, 0, 0) \u001b[32m✔\u001b[0m\n",
      "1 = (1, 0, 0, 0) \u001b[32m✔\u001b[0m\n",
      "2 = (0, 1, 0, 0) \u001b[32m✔\u001b[0m\n",
      "3 = (1, 1, 0, 0) \u001b[32m✔\u001b[0m\n",
      "4 = (0, 0, 1, 0) \u001b[32m✔\u001b[0m\n",
      "5 = (1, 0, 1, 0) \u001b[32m✔\u001b[0m\n",
      "6 = (0, 1, 1, 0) \u001b[32m✔\u001b[0m\n",
      "7 = (1, 1, 1, 0) \u001b[32m✔\u001b[0m\n",
      "8 = (0, 0, 0, 1) \u001b[32m✔\u001b[0m\n",
      "9 = (1, 0, 0, 1) \u001b[32m✔\u001b[0m\n"
     ]
    }
   ],
   "source": [
    "a, da, classify = np.sigmoid, np.dx_sigmoid, lambda x: heaviside(x, offset=0.5)\n",
    "s, epochs = 0.01, 1500\n",
    "f = Dec2Bin(a=a, da=da, classify=classify, s=s, epochs=epochs)\n",
    "\n",
    "run_dec2bin_feedforward(f)"
   ]
  },
  {
   "cell_type": "code",
   "execution_count": 21,
   "metadata": {},
   "outputs": [
    {
     "name": "stdout",
     "output_type": "stream",
     "text": [
      "0 = (0, 0, 0, 0) \u001b[32m✔\u001b[0m\n",
      "1 = (1, 0, 0, 0) \u001b[32m✔\u001b[0m\n",
      "2 = (0, 1, 0, 0) \u001b[32m✔\u001b[0m\n",
      "3 = (1, 1, 0, 0) \u001b[32m✔\u001b[0m\n",
      "4 = (0, 0, 1, 0) \u001b[32m✔\u001b[0m\n",
      "5 = (1, 0, 1, 0) \u001b[32m✔\u001b[0m\n",
      "6 = (0, 1, 1, 0) \u001b[32m✔\u001b[0m\n",
      "7 = (1, 1, 1, 0) \u001b[32m✔\u001b[0m\n",
      "8 = (0, 0, 0, 1) \u001b[32m✔\u001b[0m\n",
      "9 = (1, 0, 0, 1) \u001b[32m✔\u001b[0m\n"
     ]
    }
   ],
   "source": [
    "a, da, classify = np.relu, np.dx_relu, lambda x: heaviside(x, offset=0.5)\n",
    "s, epochs = 0.01, 150\n",
    "f = Dec2Bin(a=a, da=da, classify=classify, s=s, epochs=epochs)\n",
    "\n",
    "run_dec2bin_feedforward(f)"
   ]
  },
  {
   "cell_type": "markdown",
   "metadata": {},
   "source": [
    "#### Single Layer Feedforward for Boolean Operator"
   ]
  },
  {
   "cell_type": "code",
   "execution_count": 17,
   "metadata": {},
   "outputs": [],
   "source": [
    "class BooleanOperator(FeedForwardSingleLayer):\n",
    "\n",
    "    def __init__(self, operator, a=np.sigmoid, da=np.dx_sigmoid, \n",
    "                 classify=lambda x: np.heaviside(x, offset=0.5), s=0.01, epochs=50):\n",
    "        super().__init__(dim=(2, 1), a=a, da=da)\n",
    "        self.classify = classify\n",
    "        self.operator = operator\n",
    "        self.train([(np.vector(*t), np.vector(y)) for t, y in BOOLEAN_TESTDATA[operator]], s, epochs)\n",
    "\n",
    "    def __call__(self, x, y):\n",
    "        return self.classify(super().__call__(np.vector(x, y))[0])\n",
    "\n",
    "\n",
    "def run_boolean_feedforward(f):\n",
    "    for t, y in BOOLEAN_TESTDATA[f.operator]:\n",
    "        z = f.feedforward(np.vector(*t))[0]\n",
    "        if y == f.classify(z):\n",
    "            print(f\"{f.operator.__name__}{t} = {y} ({_rnd(z)}) {_ok}\")\n",
    "        else:\n",
    "            print(f\"{f.operator.__name__}{t} = {y} ≠ {_rnd(z)} {_nok}\")\n",
    "    with np.printoptions(precision=2, suppress=True):                \n",
    "        print(f\"{f.operator.__name__}.N = {f.N}\")\n",
    "\n",
    "\n",
    "def verify_boolean_feedforward(operator, a=np.sigmoid, da=np.dx_sigmoid, classify=lambda x: heaviside(x, offset=0.5), \n",
    "                               s=0.1, epochs=50, trials=25):\n",
    "    for trial in range(trials):\n",
    "        f = BooleanOperator(operator, a=a, da=da, classify=classify, s=s, epochs=epochs)\n",
    "        if not all(y == f(*t) for t, y in BOOLEAN_TESTDATA[f.operator]):\n",
    "            print(f\"{operator.__name__}: {trial}/{trials} trials {_nok}\")\n",
    "            run_boolean_feedforward(f)\n",
    "            return\n",
    "    print(f\"{operator.__name__}:\t{trials} trials {_ok}\")\n"
   ]
  },
  {
   "cell_type": "code",
   "execution_count": 18,
   "metadata": {},
   "outputs": [
    {
     "name": "stdout",
     "output_type": "stream",
     "text": [
      "OR(0, 0) = 0 (0.25) \u001b[32m✔\u001b[0m\n",
      "OR(0, 1) = 1 (0.73) \u001b[32m✔\u001b[0m\n",
      "OR(1, 0) = 1 (0.73) \u001b[32m✔\u001b[0m\n",
      "OR(1, 1) = 1 (1.21) \u001b[32m✔\u001b[0m\n",
      "OR.N = [(array([[0.48, 0.48]]), array([0.25]))]\n"
     ]
    }
   ],
   "source": [
    "a, da, classify = np.relu, np.dx_relu, lambda x: heaviside(x, offset=0.4)\n",
    "s, epochs = 0.1, 250\n",
    "f = BooleanOperator(OR, a=a, da=da, classify=classify, s=s, epochs=epochs)\n",
    "\n",
    "run_boolean_feedforward(f)"
   ]
  },
  {
   "cell_type": "code",
   "execution_count": 19,
   "metadata": {},
   "outputs": [
    {
     "name": "stdout",
     "output_type": "stream",
     "text": [
      "OR:\t100 trials \u001b[32m✔\u001b[0m\n",
      "AND:\t100 trials \u001b[32m✔\u001b[0m\n",
      "NAND:\t100 trials \u001b[32m✔\u001b[0m\n"
     ]
    }
   ],
   "source": [
    "a, da, classify = np.tanh, np.dx_tanh, lambda x: heaviside(x, offset=0.5)\n",
    "a, da, classify = np.sigmoid, np.dx_sigmoid, lambda x: heaviside(x, offset=0.5)\n",
    "s, epochs = 0.1, 250\n",
    "operators = [OR, AND, NAND]\n",
    "trials = 100\n",
    "for operator in operators:\n",
    "    verify_boolean_feedforward(operator, a=a, da=da, classify=classify, s=s, epochs=epochs, trials=trials)"
   ]
  },
  {
   "cell_type": "markdown",
   "metadata": {},
   "source": [
    "#### NAND Approximation using ReLu"
   ]
  },
  {
   "cell_type": "code",
   "execution_count": 20,
   "metadata": {},
   "outputs": [
    {
     "name": "stdout",
     "output_type": "stream",
     "text": [
      "NAND: 0/100 trials \u001b[31m✗\u001b[0m\n",
      "NAND(0, 0) = 1 ≠ 0.0 \u001b[31m✗\u001b[0m\n",
      "NAND(0, 1) = 0 (0.0) \u001b[32m✔\u001b[0m\n",
      "NAND(1, 0) = 0 (0.0) \u001b[32m✔\u001b[0m\n",
      "NAND(1, 1) = 0 (0.0) \u001b[32m✔\u001b[0m\n",
      "NAND.N = [(array([[-0.04,  0.12]]), array([-0.12]))]\n"
     ]
    }
   ],
   "source": [
    "a, da, classify = np.relu, np.dx_relu, lambda x: heaviside(x, offset=0.4)\n",
    "s, epochs = 0.1, 50\n",
    "trials = 100\n",
    "verify_boolean_feedforward(NAND, a=a, da=da, classify=classify, s=s, epochs=epochs, trials=trials)"
   ]
  },
  {
   "cell_type": "code",
   "execution_count": null,
   "metadata": {},
   "outputs": [],
   "source": []
  }
 ],
 "metadata": {
  "kernelspec": {
   "display_name": "Python 3",
   "language": "python",
   "name": "python3"
  },
  "language_info": {
   "codemirror_mode": {
    "name": "ipython",
    "version": 3
   },
   "file_extension": ".py",
   "mimetype": "text/x-python",
   "name": "python",
   "nbconvert_exporter": "python",
   "pygments_lexer": "ipython3",
   "version": "3.6.8"
  },
  "latex_envs": {
   "LaTeX_envs_menu_present": true,
   "autoclose": false,
   "autocomplete": true,
   "bibliofile": "biblio.bib",
   "cite_by": "apalike",
   "current_citInitial": 1,
   "eqLabelWithNumbers": true,
   "eqNumInitial": 1,
   "hotkeys": {
    "equation": "Ctrl-E",
    "itemize": "Ctrl-I"
   },
   "labels_anchors": false,
   "latex_user_defs": false,
   "report_style_numbering": false,
   "user_envs_cfg": false
  },
  "toc": {
   "base_numbering": 1,
   "nav_menu": {},
   "number_sections": true,
   "sideBar": true,
   "skip_h1_title": false,
   "title_cell": "Table of Contents",
   "title_sidebar": "Contents",
   "toc_cell": false,
   "toc_position": {
    "height": "calc(100% - 180px)",
    "left": "10px",
    "top": "150px",
    "width": "402.875px"
   },
   "toc_section_display": true,
   "toc_window_display": false
  }
 },
 "nbformat": 4,
 "nbformat_minor": 4
}
