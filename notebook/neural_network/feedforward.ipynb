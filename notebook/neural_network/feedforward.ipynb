{
 "cells": [
  {
   "cell_type": "markdown",
   "metadata": {},
   "source": [
    "### Feed Forward"
   ]
  },
  {
   "cell_type": "code",
   "execution_count": 274,
   "metadata": {},
   "outputs": [],
   "source": [
    "%run core.ipynb"
   ]
  },
  {
   "cell_type": "code",
   "execution_count": 11,
   "metadata": {},
   "outputs": [],
   "source": [
    "import numpy as np\n",
    "\n",
    "\n",
    "def _sigmoid(x):\n",
    "    return 1 / (1 + np.exp(-x))\n",
    "\n",
    "\n",
    "def _dx_sigmoid(x):\n",
    "    return _sigmoid(x) * (1.0 - _sigmoid(x))\n",
    "\n",
    "\n",
    "def _relu(x):\n",
    "    return np.maximum(0.0, x)\n",
    "\n",
    "\n",
    "np.sigmoid =_sigmoid\n",
    "np.dx_sigmoid =_dx_sigmoid\n",
    "np.relu =_relu\n"
   ]
  },
  {
   "cell_type": "code",
   "execution_count": 4,
   "metadata": {},
   "outputs": [],
   "source": [
    "def feedforward(a, N, x):\n",
    "    for w, b in N:\n",
    "        X = a(np.dot(w, x) + b)\n",
    "    return X\n"
   ]
  },
  {
   "cell_type": "code",
   "execution_count": 40,
   "metadata": {},
   "outputs": [
    {
     "data": {
      "text/plain": [
       "array([8])"
      ]
     },
     "execution_count": 40,
     "metadata": {},
     "output_type": "execute_result"
    }
   ],
   "source": [
    "a = lambda x: np.multiply(x, 1)\n",
    "N = [\n",
    "    (np.array([[2, 2], \n",
    "               [1, -1],\n",
    "               [2, 2]]), \n",
    "     np.array([1, -1, 0])),\n",
    "    (np.array([[1, 2, 2],\n",
    "               [0, 0, 3],\n",
    "               [1, 2, 2]]), \n",
    "     np.array([1, -1, -2])),\n",
    "    (np.array([[2, 2, 1], ]), \n",
    "     np.array([1,])),\n",
    "]\n",
    "x = np.array([1, -1])\n",
    "\n",
    "feedforward(a, N, x)\n",
    "     "
   ]
  },
  {
   "cell_type": "code",
   "execution_count": 21,
   "metadata": {},
   "outputs": [],
   "source": [
    "def get_random_weights_and_biases(k, l, m, layers):\n",
    "    N = [(np.random.random_sample((l, k)), np.random.random_sample((l)))]\n",
    "    for i_ in range(layers):\n",
    "        N.append((np.random.random_sample((l, l)), np.random.random_sample((l))))\n",
    "    N.append((np.random.random_sample((m, l)), np.random.random_sample((m))))\n",
    "    return N\n"
   ]
  },
  {
   "cell_type": "code",
   "execution_count": 22,
   "metadata": {},
   "outputs": [
    {
     "data": {
      "text/plain": [
       "array([0.90937007, 0.79172075])"
      ]
     },
     "execution_count": 22,
     "metadata": {},
     "output_type": "execute_result"
    }
   ],
   "source": [
    "a = np.sigmoid\n",
    "N = get_random_weights_and_biases(2, 3, 2, 3)\n",
    "X = np.random.random_sample(2)\n",
    "feedforward(a, N, X)\n"
   ]
  },
  {
   "cell_type": "code",
   "execution_count": 37,
   "metadata": {},
   "outputs": [],
   "source": [
    "class NeuralNetwork:\n",
    "    \n",
    "    def __init__(self, a, k, l, m, layers):\n",
    "        self.a = a\n",
    "        self.N = get_random_weights_and_biases(k, l, m, layers)\n",
    "\n",
    "    def __call__(self, X):\n",
    "        return feedforward(self.a, self.N, X)\n"
   ]
  },
  {
   "cell_type": "code",
   "execution_count": 39,
   "metadata": {},
   "outputs": [
    {
     "data": {
      "text/plain": [
       "array([0.7759937 , 0.90856032])"
      ]
     },
     "execution_count": 39,
     "metadata": {},
     "output_type": "execute_result"
    }
   ],
   "source": [
    "nn = NeuralNetwork(np.sigmoid, 2, 3, 2, 3)\n",
    "\n",
    "x = np.random.random_sample(2)\n",
    "nn(x)\n"
   ]
  },
  {
   "cell_type": "code",
   "execution_count": null,
   "metadata": {},
   "outputs": [],
   "source": []
  }
 ],
 "metadata": {
  "kernelspec": {
   "display_name": "Python 3",
   "language": "python",
   "name": "python3"
  },
  "language_info": {
   "codemirror_mode": {
    "name": "ipython",
    "version": 3
   },
   "file_extension": ".py",
   "mimetype": "text/x-python",
   "name": "python",
   "nbconvert_exporter": "python",
   "pygments_lexer": "ipython3",
   "version": "3.6.8"
  },
  "latex_envs": {
   "LaTeX_envs_menu_present": true,
   "autoclose": false,
   "autocomplete": true,
   "bibliofile": "biblio.bib",
   "cite_by": "apalike",
   "current_citInitial": 1,
   "eqLabelWithNumbers": true,
   "eqNumInitial": 1,
   "hotkeys": {
    "equation": "Ctrl-E",
    "itemize": "Ctrl-I"
   },
   "labels_anchors": false,
   "latex_user_defs": false,
   "report_style_numbering": false,
   "user_envs_cfg": false
  },
  "toc": {
   "base_numbering": 1,
   "nav_menu": {},
   "number_sections": true,
   "sideBar": true,
   "skip_h1_title": false,
   "title_cell": "Table of Contents",
   "title_sidebar": "Contents",
   "toc_cell": false,
   "toc_position": {
    "height": "calc(100% - 180px)",
    "left": "10px",
    "top": "150px",
    "width": "402.875px"
   },
   "toc_section_display": true,
   "toc_window_display": false
  }
 },
 "nbformat": 4,
 "nbformat_minor": 4
}
