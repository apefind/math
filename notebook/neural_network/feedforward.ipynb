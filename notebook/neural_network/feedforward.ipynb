{
 "cells": [
  {
   "cell_type": "markdown",
   "metadata": {},
   "source": [
    "### Feed Forward"
   ]
  },
  {
   "cell_type": "code",
   "execution_count": 31,
   "metadata": {},
   "outputs": [],
   "source": [
    "%run core.ipynb"
   ]
  },
  {
   "cell_type": "markdown",
   "metadata": {},
   "source": [
    "#### Implementation of Feedforward Neural Networks"
   ]
  },
  {
   "cell_type": "code",
   "execution_count": 26,
   "metadata": {},
   "outputs": [],
   "source": [
    "# %load feedforward.py\n",
    "import random\n",
    "import np as _\n",
    "import numpy as np\n",
    "\n",
    "\n",
    "def feedforward(a, N, x):\n",
    "    for W, B in N:\n",
    "        x = a(np.dot(W, x) + B)\n",
    "    return x\n",
    "\n",
    "\n",
    "def get_random_weights_and_biases(k, l, m=None, layers=0):\n",
    "    N = [(np.random_matrix(l, k), np.random_vector(l))]\n",
    "    for _ in range(layers):\n",
    "        N.append((np.random_matrix(l, l), np.random_vector(l)))\n",
    "    if m is not None:\n",
    "        N.append((np.random_matrix(m, l), np.random_vector(m)))\n",
    "    return N\n",
    "\n",
    "\n",
    "class FeedForward:\n",
    "\n",
    "    def __init__(self, dim, layers, a):\n",
    "        self.dim = dim\n",
    "        self.N = get_random_weights_and_biases(*dim, layers)\n",
    "        self.a = a\n",
    "\n",
    "    def __call__(self, x):\n",
    "        return self.feedforward(x)\n",
    "\n",
    "    def __repr__(self):\n",
    "        return repr(self.N)\n",
    "\n",
    "    def feedforward(self, x):\n",
    "        return feedforward(self.a, self.N, x)\n",
    "\n",
    "\n",
    "class FeedForwardSingleLayer(FeedForward):\n",
    "\n",
    "    def __init__(self, dim, a, da):\n",
    "        super().__init__(dim=(*dim, None), layers=0, a=a)\n",
    "        self.da = da\n",
    "\n",
    "    def train(self, T, s=0.01, epochs=50):\n",
    "        for _ in range(epochs):\n",
    "            for x, y in random.sample(T, len(T)):\n",
    "                z = feedforward(np.linear, self.N, x)\n",
    "                az, daz = self.a(z), self.da(z)\n",
    "                d = y - az\n",
    "                for W, B in self.N:\n",
    "                    for i, w in enumerate(W):\n",
    "                        w += s * d[i] * daz[i] * x\n",
    "                    B += s * d * daz\n"
   ]
  },
  {
   "cell_type": "code",
   "execution_count": 10,
   "metadata": {},
   "outputs": [
    {
     "data": {
      "text/plain": [
       "array([8])"
      ]
     },
     "execution_count": 10,
     "metadata": {},
     "output_type": "execute_result"
    }
   ],
   "source": [
    "a = lambda x: np.multiply(x, 1)\n",
    "N = [\n",
    "    (np.matrix((2, 2), \n",
    "               (1, -1),\n",
    "               (2, 2)),  \n",
    "     np.vector(1, -1, 0)),\n",
    "    (np.matrix((1, 2, 2),\n",
    "               (0, 0, 3),\n",
    "               (1, 2, 2)), \n",
    "     np.vector(1, -1, -2)),\n",
    "    (np.matrix((2, 2, 1),), \n",
    "     np.vector(1,)),\n",
    "]\n",
    "x = np.vector(1, -1)\n",
    "\n",
    "feedforward(a, N, x)"
   ]
  },
  {
   "cell_type": "code",
   "execution_count": 11,
   "metadata": {},
   "outputs": [
    {
     "data": {
      "text/plain": [
       "array([0.86491416, 0.87643034])"
      ]
     },
     "execution_count": 11,
     "metadata": {},
     "output_type": "execute_result"
    }
   ],
   "source": [
    "a = np.sigmoid\n",
    "N = get_random_weights_and_biases(2, 3, 2, layers=3)\n",
    "x = np.random_vector(2)\n",
    "feedforward(a, N, x)"
   ]
  },
  {
   "cell_type": "code",
   "execution_count": 12,
   "metadata": {},
   "outputs": [
    {
     "data": {
      "text/plain": [
       "array([0.89047102, 0.86149696])"
      ]
     },
     "execution_count": 12,
     "metadata": {},
     "output_type": "execute_result"
    }
   ],
   "source": [
    "f = FeedForward(dim=(2, 3, 2), layers=3, a=np.sigmoid)\n",
    "x = np.random_vector(2)\n",
    "f(x)"
   ]
  },
  {
   "cell_type": "code",
   "execution_count": 13,
   "metadata": {},
   "outputs": [
    {
     "data": {
      "text/plain": [
       "[(array([[0.33818187, 0.77405518, 0.90836759],\n",
       "       [0.1557715 , 0.3088924 , 0.37986004]]), array([0.48812276, 0.47323944]))]"
      ]
     },
     "execution_count": 13,
     "metadata": {},
     "output_type": "execute_result"
    }
   ],
   "source": [
    "f = FeedForwardSingleLayer(dim=(3, 2), a=np.sigmoid, da=np.dx_sigmoid)\n",
    "f"
   ]
  },
  {
   "cell_type": "markdown",
   "metadata": {},
   "source": [
    "#### Single Layer Feedforward for Decimal to Binary Converter"
   ]
  },
  {
   "cell_type": "code",
   "execution_count": 14,
   "metadata": {},
   "outputs": [],
   "source": [
    "from dec2bin import int2dec, int2bin, bin2int\n",
    "\n",
    "\n",
    "class Dec2Bin(FeedForwardSingleLayer):\n",
    "\n",
    "    def __init__(self, a=np.sigmoid, da=np.dx_sigmoid, \n",
    "                 classify=lambda x: heaviside(x, offset=0.5), s=0.01, epochs=100):\n",
    "        super().__init__(dim=(10, 4), a=a, da=da)\n",
    "        self.classify = classify\n",
    "        self.train([(np.vector(*int2dec(n)), np.vector(*int2bin(n))) for n in range(10)], s, epochs)\n",
    "\n",
    "    def __call__(self, n):\n",
    "        return tuple([self.classify(t) for t in super().__call__(int2dec(n))])\n",
    "\n",
    "    \n",
    "def run_dec2bin_feedforward(f):\n",
    "    for n in range(10):\n",
    "        y = f(n)\n",
    "        z = tuple(int2bin(n))\n",
    "        if y == z:\n",
    "            print(f\"{n} = {y} {_ok}\")\n",
    "        else:\n",
    "            print(f\"{n} = {z} ≠ {_red(y)} {_nok}\")\n",
    "            "
   ]
  },
  {
   "cell_type": "code",
   "execution_count": 15,
   "metadata": {},
   "outputs": [
    {
     "name": "stdout",
     "output_type": "stream",
     "text": [
      "0 = (0, 0, 0, 0) \u001b[32m✔\u001b[0m\n",
      "1 = (1, 0, 0, 0) \u001b[32m✔\u001b[0m\n",
      "2 = (0, 1, 0, 0) \u001b[32m✔\u001b[0m\n",
      "3 = (1, 1, 0, 0) \u001b[32m✔\u001b[0m\n",
      "4 = (0, 0, 1, 0) \u001b[32m✔\u001b[0m\n",
      "5 = (1, 0, 1, 0) \u001b[32m✔\u001b[0m\n",
      "6 = (0, 1, 1, 0) \u001b[32m✔\u001b[0m\n",
      "7 = (1, 1, 1, 0) \u001b[32m✔\u001b[0m\n",
      "8 = (0, 0, 0, 1) \u001b[32m✔\u001b[0m\n",
      "9 = (1, 0, 0, 1) \u001b[32m✔\u001b[0m\n"
     ]
    }
   ],
   "source": [
    "a, da, classify = np.sigmoid, np.dx_sigmoid, lambda x: heaviside(x, offset=0.5)\n",
    "s, epochs = 0.01, 1500\n",
    "f = Dec2Bin(a=a, da=da, classify=classify, s=s, epochs=epochs)\n",
    "\n",
    "run_dec2bin_feedforward(f)"
   ]
  },
  {
   "cell_type": "code",
   "execution_count": 21,
   "metadata": {},
   "outputs": [
    {
     "name": "stdout",
     "output_type": "stream",
     "text": [
      "0 = (0, 0, 0, 0) \u001b[32m✔\u001b[0m\n",
      "1 = (1, 0, 0, 0) \u001b[32m✔\u001b[0m\n",
      "2 = (0, 1, 0, 0) \u001b[32m✔\u001b[0m\n",
      "3 = (1, 1, 0, 0) \u001b[32m✔\u001b[0m\n",
      "4 = (0, 0, 1, 0) \u001b[32m✔\u001b[0m\n",
      "5 = (1, 0, 1, 0) \u001b[32m✔\u001b[0m\n",
      "6 = (0, 1, 1, 0) \u001b[32m✔\u001b[0m\n",
      "7 = (1, 1, 1, 0) \u001b[32m✔\u001b[0m\n",
      "8 = (0, 0, 0, 1) \u001b[32m✔\u001b[0m\n",
      "9 = (1, 0, 0, 1) \u001b[32m✔\u001b[0m\n"
     ]
    }
   ],
   "source": [
    "a, da, classify = np.relu, np.dx_relu, lambda x: heaviside(x, offset=0.5)\n",
    "s, epochs = 0.01, 150\n",
    "f = Dec2Bin(a=a, da=da, classify=classify, s=s, epochs=epochs)\n",
    "\n",
    "run_dec2bin_feedforward(f)"
   ]
  },
  {
   "cell_type": "markdown",
   "metadata": {},
   "source": [
    "#### Single Layer Feedforward for Boolean Operator"
   ]
  },
  {
   "cell_type": "code",
   "execution_count": 17,
   "metadata": {},
   "outputs": [],
   "source": [
    "class BooleanOperator(FeedForwardSingleLayer):\n",
    "\n",
    "    def __init__(self, operator, a=np.sigmoid, da=np.dx_sigmoid, \n",
    "                 classify=lambda x: np.heaviside(x, offset=0.5), s=0.01, epochs=50):\n",
    "        super().__init__(dim=(2, 1), a=a, da=da)\n",
    "        self.classify = classify\n",
    "        self.operator = operator\n",
    "        self.train([(np.vector(*t), np.vector(y)) for t, y in BOOLEAN_TESTDATA[operator]], s, epochs)\n",
    "\n",
    "    def __call__(self, x, y):\n",
    "        return self.classify(super().__call__(np.vector(x, y))[0])\n",
    "\n",
    "\n",
    "def run_boolean_feedforward(f):\n",
    "    for t, y in BOOLEAN_TESTDATA[f.operator]:\n",
    "        z = f.feedforward(np.vector(*t))[0]\n",
    "        if y == f.classify(z):\n",
    "            print(f\"{f.operator.__name__}{t} = {y} ({_rnd(z)}) {_ok}\")\n",
    "        else:\n",
    "            print(f\"{f.operator.__name__}{t} = {y} ≠ {_rnd(z)} {_nok}\")\n",
    "    with np.printoptions(precision=2, suppress=True):                \n",
    "        print(f\"{f.operator.__name__}.N = {f.N}\")\n",
    "\n",
    "\n",
    "def verify_boolean_feedforward(operator, a=np.sigmoid, da=np.dx_sigmoid, classify=lambda x: heaviside(x, offset=0.5), \n",
    "                               s=0.1, epochs=50, trials=25):\n",
    "    for trial in range(trials):\n",
    "        f = BooleanOperator(operator, a=a, da=da, classify=classify, s=s, epochs=epochs)\n",
    "        if not all(y == f(*t) for t, y in BOOLEAN_TESTDATA[f.operator]):\n",
    "            print(f\"{operator.__name__}: {trial}/{trials} trials {_nok}\")\n",
    "            run_boolean_feedforward(f)\n",
    "            return\n",
    "    print(f\"{operator.__name__}:\t{trials} trials {_ok}\")\n"
   ]
  },
  {
   "cell_type": "code",
   "execution_count": 18,
   "metadata": {},
   "outputs": [
    {
     "name": "stdout",
     "output_type": "stream",
     "text": [
      "OR(0, 0) = 0 (0.25) \u001b[32m✔\u001b[0m\n",
      "OR(0, 1) = 1 (0.73) \u001b[32m✔\u001b[0m\n",
      "OR(1, 0) = 1 (0.73) \u001b[32m✔\u001b[0m\n",
      "OR(1, 1) = 1 (1.21) \u001b[32m✔\u001b[0m\n",
      "OR.N = [(array([[0.48, 0.48]]), array([0.25]))]\n"
     ]
    }
   ],
   "source": [
    "a, da, classify = np.relu, np.dx_relu, lambda x: heaviside(x, offset=0.4)\n",
    "s, epochs = 0.1, 250\n",
    "f = BooleanOperator(OR, a=a, da=da, classify=classify, s=s, epochs=epochs)\n",
    "\n",
    "run_boolean_feedforward(f)"
   ]
  },
  {
   "cell_type": "code",
   "execution_count": 19,
   "metadata": {},
   "outputs": [
    {
     "name": "stdout",
     "output_type": "stream",
     "text": [
      "OR:\t100 trials \u001b[32m✔\u001b[0m\n",
      "AND:\t100 trials \u001b[32m✔\u001b[0m\n",
      "NAND:\t100 trials \u001b[32m✔\u001b[0m\n"
     ]
    }
   ],
   "source": [
    "a, da, classify = np.tanh, np.dx_tanh, lambda x: heaviside(x, offset=0.5)\n",
    "a, da, classify = np.sigmoid, np.dx_sigmoid, lambda x: heaviside(x, offset=0.5)\n",
    "s, epochs = 0.1, 250\n",
    "operators = [OR, AND, NAND]\n",
    "trials = 100\n",
    "for operator in operators:\n",
    "    verify_boolean_feedforward(operator, a=a, da=da, classify=classify, s=s, epochs=epochs, trials=trials)"
   ]
  },
  {
   "cell_type": "markdown",
   "metadata": {},
   "source": [
    "#### NAND Approximation using ReLu"
   ]
  },
  {
   "cell_type": "markdown",
   "metadata": {},
   "source": [
    "For initial positive weights and negative bias the delta rule in combination with relu as activation function converges to weights and biases that do not classify NAND."
   ]
  },
  {
   "cell_type": "code",
   "execution_count": 36,
   "metadata": {},
   "outputs": [
    {
     "name": "stdout",
     "output_type": "stream",
     "text": [
      "epoch 0\n",
      "    (0, 0) -> 1 (z=-0.1\ty - az=1.0\tt=0.0):\tw=(0.4596, 0.3299)\tb=-0.1\n",
      "    (0, 1) -> 0 (z=0.2299\ty - az=-0.2299\tt=-0.023):\tw=(0.4596, 0.3069)\tb=-0.123\n",
      "    (1, 0) -> 0 (z=0.3366\ty - az=-0.3366\tt=-0.0337):\tw=(0.4259, 0.3069)\tb=-0.1566\n",
      "    (1, 1) -> 0 (z=0.5762\ty - az=-0.5762\tt=-0.0576):\tw=(0.3683, 0.2493)\tb=-0.2143\n",
      "\u001b[34m        w = (0.3683, 0.2493), b = -0.2143\u001b[0m\n",
      "epoch 1\n",
      "    (0, 0) -> 1 (z=-0.2143\ty - az=1.0\tt=0.0):\tw=(0.3683, 0.2493)\tb=-0.2143\n",
      "    (0, 1) -> 0 (z=0.035\ty - az=-0.035\tt=-0.0035):\tw=(0.3683, 0.2458)\tb=-0.2178\n",
      "    (1, 0) -> 0 (z=0.1505\ty - az=-0.1505\tt=-0.0151):\tw=(0.3533, 0.2458)\tb=-0.2328\n",
      "    (1, 1) -> 0 (z=0.3662\ty - az=-0.3662\tt=-0.0366):\tw=(0.3166, 0.2092)\tb=-0.2694\n",
      "\u001b[34m        w = (0.3166, 0.2092), b = -0.2694\u001b[0m\n",
      "epoch 2\n",
      "    (0, 0) -> 1 (z=-0.2694\ty - az=1.0\tt=0.0):\tw=(0.3166, 0.2092)\tb=-0.2694\n",
      "    (0, 1) -> 0 (z=-0.0603\ty - az=0.0\tt=0.0):\tw=(0.3166, 0.2092)\tb=-0.2694\n",
      "    (1, 0) -> 0 (z=0.0472\ty - az=-0.0472\tt=-0.0047):\tw=(0.3119, 0.2092)\tb=-0.2742\n",
      "    (1, 1) -> 0 (z=0.2469\ty - az=-0.2469\tt=-0.0247):\tw=(0.2872, 0.1845)\tb=-0.2989\n",
      "\u001b[34m        w = (0.2872, 0.1845), b = -0.2989\u001b[0m\n",
      "epoch 3\n",
      "    (0, 0) -> 1 (z=-0.2989\ty - az=1.0\tt=0.0):\tw=(0.2872, 0.1845)\tb=-0.2989\n",
      "    (0, 1) -> 0 (z=-0.1144\ty - az=0.0\tt=0.0):\tw=(0.2872, 0.1845)\tb=-0.2989\n",
      "    (1, 0) -> 0 (z=-0.0116\ty - az=0.0\tt=0.0):\tw=(0.2872, 0.1845)\tb=-0.2989\n",
      "    (1, 1) -> 0 (z=0.1728\ty - az=-0.1728\tt=-0.0173):\tw=(0.2699, 0.1672)\tb=-0.3161\n",
      "\u001b[34m        w = (0.2699, 0.1672), b = -0.3161\u001b[0m\n",
      "epoch 4\n",
      "    (0, 0) -> 1 (z=-0.3161\ty - az=1.0\tt=0.0):\tw=(0.2699, 0.1672)\tb=-0.3161\n",
      "    (0, 1) -> 0 (z=-0.149\ty - az=0.0\tt=0.0):\tw=(0.2699, 0.1672)\tb=-0.3161\n",
      "    (1, 0) -> 0 (z=-0.0462\ty - az=0.0\tt=0.0):\tw=(0.2699, 0.1672)\tb=-0.3161\n",
      "    (1, 1) -> 0 (z=0.121\ty - az=-0.121\tt=-0.0121):\tw=(0.2578, 0.1551)\tb=-0.3282\n",
      "\u001b[34m        w = (0.2578, 0.1551), b = -0.3282\u001b[0m\n",
      "epoch 5\n",
      "    (0, 0) -> 1 (z=-0.3282\ty - az=1.0\tt=0.0):\tw=(0.2578, 0.1551)\tb=-0.3282\n",
      "    (0, 1) -> 0 (z=-0.1732\ty - az=0.0\tt=0.0):\tw=(0.2578, 0.1551)\tb=-0.3282\n",
      "    (1, 0) -> 0 (z=-0.0704\ty - az=0.0\tt=0.0):\tw=(0.2578, 0.1551)\tb=-0.3282\n",
      "    (1, 1) -> 0 (z=0.0847\ty - az=-0.0847\tt=-0.0085):\tw=(0.2494, 0.1466)\tb=-0.3367\n",
      "\u001b[34m        w = (0.2494, 0.1466), b = -0.3367\u001b[0m\n",
      "epoch 6\n",
      "    (0, 0) -> 1 (z=-0.3367\ty - az=1.0\tt=0.0):\tw=(0.2494, 0.1466)\tb=-0.3367\n",
      "    (0, 1) -> 0 (z=-0.1901\ty - az=0.0\tt=0.0):\tw=(0.2494, 0.1466)\tb=-0.3367\n",
      "    (1, 0) -> 0 (z=-0.0873\ty - az=0.0\tt=0.0):\tw=(0.2494, 0.1466)\tb=-0.3367\n",
      "    (1, 1) -> 0 (z=0.0593\ty - az=-0.0593\tt=-0.0059):\tw=(0.2434, 0.1407)\tb=-0.3426\n",
      "\u001b[34m        w = (0.2434, 0.1407), b = -0.3426\u001b[0m\n",
      "epoch 7\n",
      "    (0, 0) -> 1 (z=-0.3426\ty - az=1.0\tt=0.0):\tw=(0.2434, 0.1407)\tb=-0.3426\n",
      "    (0, 1) -> 0 (z=-0.2019\ty - az=0.0\tt=0.0):\tw=(0.2434, 0.1407)\tb=-0.3426\n",
      "    (1, 0) -> 0 (z=-0.0992\ty - az=0.0\tt=0.0):\tw=(0.2434, 0.1407)\tb=-0.3426\n",
      "    (1, 1) -> 0 (z=0.0415\ty - az=-0.0415\tt=-0.0041):\tw=(0.2393, 0.1365)\tb=-0.3468\n",
      "\u001b[34m        w = (0.2393, 0.1365), b = -0.3468\u001b[0m\n",
      "epoch 8\n",
      "    (0, 0) -> 1 (z=-0.3468\ty - az=1.0\tt=0.0):\tw=(0.2393, 0.1365)\tb=-0.3468\n",
      "    (0, 1) -> 0 (z=-0.2102\ty - az=0.0\tt=0.0):\tw=(0.2393, 0.1365)\tb=-0.3468\n",
      "    (1, 0) -> 0 (z=-0.1075\ty - az=0.0\tt=0.0):\tw=(0.2393, 0.1365)\tb=-0.3468\n",
      "    (1, 1) -> 0 (z=0.029\ty - az=-0.029\tt=-0.0029):\tw=(0.2364, 0.1336)\tb=-0.3497\n",
      "\u001b[34m        w = (0.2364, 0.1336), b = -0.3497\u001b[0m\n",
      "epoch 9\n",
      "    (0, 0) -> 1 (z=-0.3497\ty - az=1.0\tt=0.0):\tw=(0.2364, 0.1336)\tb=-0.3497\n",
      "    (0, 1) -> 0 (z=-0.2161\ty - az=0.0\tt=0.0):\tw=(0.2364, 0.1336)\tb=-0.3497\n",
      "    (1, 0) -> 0 (z=-0.1133\ty - az=0.0\tt=0.0):\tw=(0.2364, 0.1336)\tb=-0.3497\n",
      "    (1, 1) -> 0 (z=0.0203\ty - az=-0.0203\tt=-0.002):\tw=(0.2344, 0.1316)\tb=-0.3517\n",
      "\u001b[34m        w = (0.2344, 0.1316), b = -0.3517\u001b[0m\n",
      "epoch 10\n",
      "    (0, 0) -> 1 (z=-0.3517\ty - az=1.0\tt=0.0):\tw=(0.2344, 0.1316)\tb=-0.3517\n",
      "    (0, 1) -> 0 (z=-0.2201\ty - az=0.0\tt=0.0):\tw=(0.2344, 0.1316)\tb=-0.3517\n",
      "    (1, 0) -> 0 (z=-0.1174\ty - az=0.0\tt=0.0):\tw=(0.2344, 0.1316)\tb=-0.3517\n",
      "    (1, 1) -> 0 (z=0.0142\ty - az=-0.0142\tt=-0.0014):\tw=(0.2329, 0.1302)\tb=-0.3531\n",
      "\u001b[34m        w = (0.2329, 0.1302), b = -0.3531\u001b[0m\n",
      "epoch 11\n",
      "    (0, 0) -> 1 (z=-0.3531\ty - az=1.0\tt=0.0):\tw=(0.2329, 0.1302)\tb=-0.3531\n",
      "    (0, 1) -> 0 (z=-0.223\ty - az=0.0\tt=0.0):\tw=(0.2329, 0.1302)\tb=-0.3531\n",
      "    (1, 0) -> 0 (z=-0.1202\ty - az=0.0\tt=0.0):\tw=(0.2329, 0.1302)\tb=-0.3531\n",
      "    (1, 1) -> 0 (z=0.01\ty - az=-0.01\tt=-0.001):\tw=(0.2319, 0.1292)\tb=-0.3541\n",
      "\u001b[34m        w = (0.2319, 0.1292), b = -0.3541\u001b[0m\n",
      "epoch 12\n",
      "    (0, 0) -> 1 (z=-0.3541\ty - az=1.0\tt=0.0):\tw=(0.2319, 0.1292)\tb=-0.3541\n",
      "    (0, 1) -> 0 (z=-0.225\ty - az=0.0\tt=0.0):\tw=(0.2319, 0.1292)\tb=-0.3541\n",
      "    (1, 0) -> 0 (z=-0.1222\ty - az=0.0\tt=0.0):\tw=(0.2319, 0.1292)\tb=-0.3541\n",
      "    (1, 1) -> 0 (z=0.007\ty - az=-0.007\tt=-0.0007):\tw=(0.2312, 0.1285)\tb=-0.3548\n",
      "\u001b[34m        w = (0.2312, 0.1285), b = -0.3548\u001b[0m\n",
      "epoch 13\n",
      "    (0, 0) -> 1 (z=-0.3548\ty - az=1.0\tt=0.0):\tw=(0.2312, 0.1285)\tb=-0.3548\n",
      "    (0, 1) -> 0 (z=-0.2264\ty - az=0.0\tt=0.0):\tw=(0.2312, 0.1285)\tb=-0.3548\n",
      "    (1, 0) -> 0 (z=-0.1236\ty - az=0.0\tt=0.0):\tw=(0.2312, 0.1285)\tb=-0.3548\n",
      "    (1, 1) -> 0 (z=0.0049\ty - az=-0.0049\tt=-0.0005):\tw=(0.2308, 0.128)\tb=-0.3553\n",
      "\u001b[34m        w = (0.2308, 0.128), b = -0.3553\u001b[0m\n",
      "epoch 14\n",
      "    (0, 0) -> 1 (z=-0.3553\ty - az=1.0\tt=0.0):\tw=(0.2308, 0.128)\tb=-0.3553\n",
      "    (0, 1) -> 0 (z=-0.2273\ty - az=0.0\tt=0.0):\tw=(0.2308, 0.128)\tb=-0.3553\n",
      "    (1, 0) -> 0 (z=-0.1246\ty - az=0.0\tt=0.0):\tw=(0.2308, 0.128)\tb=-0.3553\n",
      "    (1, 1) -> 0 (z=0.0034\ty - az=-0.0034\tt=-0.0003):\tw=(0.2304, 0.1277)\tb=-0.3557\n",
      "\u001b[34m        w = (0.2304, 0.1277), b = -0.3557\u001b[0m\n",
      "epoch 15\n",
      "    (0, 0) -> 1 (z=-0.3557\ty - az=1.0\tt=0.0):\tw=(0.2304, 0.1277)\tb=-0.3557\n",
      "    (0, 1) -> 0 (z=-0.228\ty - az=0.0\tt=0.0):\tw=(0.2304, 0.1277)\tb=-0.3557\n",
      "    (1, 0) -> 0 (z=-0.1253\ty - az=0.0\tt=0.0):\tw=(0.2304, 0.1277)\tb=-0.3557\n",
      "    (1, 1) -> 0 (z=0.0024\ty - az=-0.0024\tt=-0.0002):\tw=(0.2302, 0.1274)\tb=-0.3559\n",
      "\u001b[34m        w = (0.2302, 0.1274), b = -0.3559\u001b[0m\n",
      "epoch 16\n",
      "    (0, 0) -> 1 (z=-0.3559\ty - az=1.0\tt=0.0):\tw=(0.2302, 0.1274)\tb=-0.3559\n",
      "    (0, 1) -> 0 (z=-0.2285\ty - az=0.0\tt=0.0):\tw=(0.2302, 0.1274)\tb=-0.3559\n",
      "    (1, 0) -> 0 (z=-0.1257\ty - az=0.0\tt=0.0):\tw=(0.2302, 0.1274)\tb=-0.3559\n",
      "    (1, 1) -> 0 (z=0.0017\ty - az=-0.0017\tt=-0.0002):\tw=(0.23, 0.1272)\tb=-0.3561\n",
      "\u001b[34m        w = (0.23, 0.1272), b = -0.3561\u001b[0m\n",
      "epoch 17\n",
      "    (0, 0) -> 1 (z=-0.3561\ty - az=1.0\tt=0.0):\tw=(0.23, 0.1272)\tb=-0.3561\n",
      "    (0, 1) -> 0 (z=-0.2288\ty - az=0.0\tt=0.0):\tw=(0.23, 0.1272)\tb=-0.3561\n",
      "    (1, 0) -> 0 (z=-0.1261\ty - az=0.0\tt=0.0):\tw=(0.23, 0.1272)\tb=-0.3561\n",
      "    (1, 1) -> 0 (z=0.0012\ty - az=-0.0012\tt=-0.0001):\tw=(0.2299, 0.1271)\tb=-0.3562\n",
      "\u001b[34m        w = (0.2299, 0.1271), b = -0.3562\u001b[0m\n",
      "epoch 18\n",
      "    (0, 0) -> 1 (z=-0.3562\ty - az=1.0\tt=0.0):\tw=(0.2299, 0.1271)\tb=-0.3562\n",
      "    (0, 1) -> 0 (z=-0.2291\ty - az=0.0\tt=0.0):\tw=(0.2299, 0.1271)\tb=-0.3562\n",
      "    (1, 0) -> 0 (z=-0.1263\ty - az=0.0\tt=0.0):\tw=(0.2299, 0.1271)\tb=-0.3562\n",
      "    (1, 1) -> 0 (z=0.0008\ty - az=-0.0008\tt=-0.0001):\tw=(0.2298, 0.127)\tb=-0.3563\n",
      "\u001b[34m        w = (0.2298, 0.127), b = -0.3563\u001b[0m\n",
      "epoch 19\n",
      "    (0, 0) -> 1 (z=-0.3563\ty - az=1.0\tt=0.0):\tw=(0.2298, 0.127)\tb=-0.3563\n",
      "    (0, 1) -> 0 (z=-0.2292\ty - az=0.0\tt=0.0):\tw=(0.2298, 0.127)\tb=-0.3563\n",
      "    (1, 0) -> 0 (z=-0.1265\ty - az=0.0\tt=0.0):\tw=(0.2298, 0.127)\tb=-0.3563\n",
      "    (1, 1) -> 0 (z=0.0006\ty - az=-0.0006\tt=-0.0001):\tw=(0.2297, 0.127)\tb=-0.3563\n",
      "\u001b[34m        w = (0.2297, 0.127), b = -0.3563\u001b[0m\n",
      "epoch 20\n",
      "    (0, 0) -> 1 (z=-0.3563\ty - az=1.0\tt=0.0):\tw=(0.2297, 0.127)\tb=-0.3563\n",
      "    (0, 1) -> 0 (z=-0.2293\ty - az=0.0\tt=0.0):\tw=(0.2297, 0.127)\tb=-0.3563\n",
      "    (1, 0) -> 0 (z=-0.1266\ty - az=0.0\tt=0.0):\tw=(0.2297, 0.127)\tb=-0.3563\n",
      "    (1, 1) -> 0 (z=0.0004\ty - az=-0.0004\tt=-0.0):\tw=(0.2297, 0.1269)\tb=-0.3564\n",
      "\u001b[34m        w = (0.2297, 0.1269), b = -0.3564\u001b[0m\n",
      "epoch 21\n",
      "    (0, 0) -> 1 (z=-0.3564\ty - az=1.0\tt=0.0):\tw=(0.2297, 0.1269)\tb=-0.3564\n",
      "    (0, 1) -> 0 (z=-0.2294\ty - az=0.0\tt=0.0):\tw=(0.2297, 0.1269)\tb=-0.3564\n",
      "    (1, 0) -> 0 (z=-0.1267\ty - az=0.0\tt=0.0):\tw=(0.2297, 0.1269)\tb=-0.3564\n",
      "    (1, 1) -> 0 (z=0.0003\ty - az=-0.0003\tt=-0.0):\tw=(0.2297, 0.1269)\tb=-0.3564\n",
      "\u001b[34m        w = (0.2297, 0.1269), b = -0.3564\u001b[0m\n",
      "epoch 22\n",
      "    (0, 0) -> 1 (z=-0.3564\ty - az=1.0\tt=0.0):\tw=(0.2297, 0.1269)\tb=-0.3564\n",
      "    (0, 1) -> 0 (z=-0.2295\ty - az=0.0\tt=0.0):\tw=(0.2297, 0.1269)\tb=-0.3564\n",
      "    (1, 0) -> 0 (z=-0.1267\ty - az=0.0\tt=0.0):\tw=(0.2297, 0.1269)\tb=-0.3564\n",
      "    (1, 1) -> 0 (z=0.0002\ty - az=-0.0002\tt=-0.0):\tw=(0.2297, 0.1269)\tb=-0.3564\n",
      "\u001b[34m        w = (0.2297, 0.1269), b = -0.3564\u001b[0m\n",
      "epoch 23\n",
      "    (0, 0) -> 1 (z=-0.3564\ty - az=1.0\tt=0.0):\tw=(0.2297, 0.1269)\tb=-0.3564\n",
      "    (0, 1) -> 0 (z=-0.2295\ty - az=0.0\tt=0.0):\tw=(0.2297, 0.1269)\tb=-0.3564\n",
      "    (1, 0) -> 0 (z=-0.1268\ty - az=0.0\tt=0.0):\tw=(0.2297, 0.1269)\tb=-0.3564\n",
      "    (1, 1) -> 0 (z=0.0001\ty - az=-0.0001\tt=-0.0):\tw=(0.2296, 0.1269)\tb=-0.3564\n",
      "\u001b[34m        w = (0.2296, 0.1269), b = -0.3564\u001b[0m\n",
      "epoch 24\n",
      "    (0, 0) -> 1 (z=-0.3564\ty - az=1.0\tt=0.0):\tw=(0.2296, 0.1269)\tb=-0.3564\n",
      "    (0, 1) -> 0 (z=-0.2295\ty - az=0.0\tt=0.0):\tw=(0.2296, 0.1269)\tb=-0.3564\n",
      "    (1, 0) -> 0 (z=-0.1268\ty - az=0.0\tt=0.0):\tw=(0.2296, 0.1269)\tb=-0.3564\n",
      "    (1, 1) -> 0 (z=0.0001\ty - az=-0.0001\tt=-0.0):\tw=(0.2296, 0.1269)\tb=-0.3564\n",
      "\u001b[34m        w = (0.2296, 0.1269), b = -0.3564\u001b[0m\n",
      "\u001b[31mNAND(0, 0) = 1 ≠ 0\ta(wx+b) = -0.36 \u001b[31m✗\u001b[0m\u001b[0m\n",
      "NAND(0, 1) = 0\t\ta(wx+b) = -0.23 \u001b[32m✔\u001b[0m\n",
      "NAND(1, 0) = 0\t\ta(wx+b) = -0.13 \u001b[32m✔\u001b[0m\n",
      "NAND(1, 1) = 0\t\ta(wx+b) = 0.0 \u001b[32m✔\u001b[0m\n"
     ]
    }
   ],
   "source": [
    "def delta_rule_nand(w, b, s=0.01, epochs=50):\n",
    "    T = BOOLEAN_TESTDATA[NAND]\n",
    "    n = len(T[0][0])\n",
    "    for epoch in range(epochs):\n",
    "        print(f\"epoch {epoch}\")\n",
    "        for x, y in T:\n",
    "            z = dotprod(w, x) + b\n",
    "            az, daz = relu(z), dx_relu(z)\n",
    "            d = y - az\n",
    "            t = s * d * daz\n",
    "            w = tuple(wi + t * xi for wi, xi in zip(w, x))\n",
    "            b = b + t\n",
    "            print(f\"    {x} -> {y} (z={_rnd(z)}\ty - az={_rnd(d)}\tt={_rnd(t)}):\tw={_rnd(w)}\tb={_rnd(b)}\")\n",
    "        print(_blu(f\"        w = {_rnd(w)}, b = {_rnd(b)}\"))\n",
    "    return w, b\n",
    "\n",
    "\n",
    "_ndig(n=4)\n",
    "s, epochs = 0.1, 25 \n",
    "w, b = (random.random(), random.random()), -0.1\n",
    "w, b = delta_rule_nand(w, b, s=s, epochs=epochs)\n",
    "r = lambda x: dotprod(w, x) + b\n",
    "p = lambda x: classify(r(x))\n",
    "classify = lambda x: heaviside(x, offset=0.4)\n",
    "for x, y in T:\n",
    "    z = p(x)\n",
    "    if z == y:\n",
    "        print(f\"{f.__name__}{x} = {y}\t\ta(wx+b) = {_rnd(r(x), n=2)} {_ok}\")\n",
    "    else:\n",
    "        print(_red(f\"{f.__name__}{x} = {y} ≠ {z}\ta(wx+b) = {_rnd(r(x), n=2)} {_nok}\"))\n",
    "_ndig()        "
   ]
  },
  {
   "cell_type": "code",
   "execution_count": null,
   "metadata": {},
   "outputs": [],
   "source": []
  }
 ],
 "metadata": {
  "kernelspec": {
   "display_name": "Python 3",
   "language": "python",
   "name": "python3"
  },
  "language_info": {
   "codemirror_mode": {
    "name": "ipython",
    "version": 3
   },
   "file_extension": ".py",
   "mimetype": "text/x-python",
   "name": "python",
   "nbconvert_exporter": "python",
   "pygments_lexer": "ipython3",
   "version": "3.6.8"
  },
  "latex_envs": {
   "LaTeX_envs_menu_present": true,
   "autoclose": false,
   "autocomplete": true,
   "bibliofile": "biblio.bib",
   "cite_by": "apalike",
   "current_citInitial": 1,
   "eqLabelWithNumbers": true,
   "eqNumInitial": 1,
   "hotkeys": {
    "equation": "Ctrl-E",
    "itemize": "Ctrl-I"
   },
   "labels_anchors": false,
   "latex_user_defs": false,
   "report_style_numbering": false,
   "user_envs_cfg": false
  },
  "toc": {
   "base_numbering": 1,
   "nav_menu": {},
   "number_sections": true,
   "sideBar": true,
   "skip_h1_title": false,
   "title_cell": "Table of Contents",
   "title_sidebar": "Contents",
   "toc_cell": false,
   "toc_position": {
    "height": "calc(100% - 180px)",
    "left": "10px",
    "top": "150px",
    "width": "402.875px"
   },
   "toc_section_display": true,
   "toc_window_display": false
  }
 },
 "nbformat": 4,
 "nbformat_minor": 4
}
