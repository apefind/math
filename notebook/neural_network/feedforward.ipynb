{
 "cells": [
  {
   "cell_type": "markdown",
   "metadata": {},
   "source": [
    "### Feed Forward"
   ]
  },
  {
   "cell_type": "code",
   "execution_count": 1,
   "metadata": {},
   "outputs": [],
   "source": [
    "%run core.ipynb"
   ]
  },
  {
   "cell_type": "code",
   "execution_count": 157,
   "metadata": {},
   "outputs": [],
   "source": [
    "def feedforward(a, N, x):\n",
    "    for w, b in N:\n",
    "        x = a(np.dot(w, x) + b)\n",
    "    return x\n"
   ]
  },
  {
   "cell_type": "code",
   "execution_count": 158,
   "metadata": {},
   "outputs": [
    {
     "data": {
      "text/plain": [
       "array([8])"
      ]
     },
     "execution_count": 158,
     "metadata": {},
     "output_type": "execute_result"
    }
   ],
   "source": [
    "a = lambda x: np.multiply(x, 1)\n",
    "N = [\n",
    "    (np.matrix((2, 2), \n",
    "               (1, -1),\n",
    "               (2, 2)),  \n",
    "     np.vector(1, -1, 0)),\n",
    "    (np.matrix((1, 2, 2),\n",
    "               (0, 0, 3),\n",
    "               (1, 2, 2)), \n",
    "     np.vector(1, -1, -2)),\n",
    "    (np.matrix((2, 2, 1),), \n",
    "     np.vector(1,)),\n",
    "]\n",
    "x = np.vector(1, -1)\n",
    "\n",
    "feedforward(a, N, x)\n",
    "     "
   ]
  },
  {
   "cell_type": "code",
   "execution_count": 159,
   "metadata": {},
   "outputs": [],
   "source": [
    "def get_random_weights_and_biases(k, l, m=None, layers=0):\n",
    "    N = [(np.random_matrix(l, k), np.random_vector(l))]\n",
    "    for _ in range(layers):\n",
    "        N.append((np.random_matrix(l, l), np.random_vector(l)))\n",
    "    if m is not None: \n",
    "        N.append((np.random_matrix(m, l), np.random_vector(m)))\n",
    "    return N\n"
   ]
  },
  {
   "cell_type": "code",
   "execution_count": 160,
   "metadata": {},
   "outputs": [
    {
     "data": {
      "text/plain": [
       "array([0.88884483, 0.90324136])"
      ]
     },
     "execution_count": 160,
     "metadata": {},
     "output_type": "execute_result"
    }
   ],
   "source": [
    "a = np.sigmoid\n",
    "N = get_random_weights_and_biases(2, 3, 2, layers=3)\n",
    "x = np.random_vector(2)\n",
    "feedforward(a, N, x)\n"
   ]
  },
  {
   "cell_type": "code",
   "execution_count": 161,
   "metadata": {},
   "outputs": [],
   "source": [
    "class FeedForward:\n",
    "    \n",
    "    def __init__(self, dim, layers, a):\n",
    "        self.net = get_random_weights_and_biases(*dim, layers)\n",
    "        self.a = a\n",
    "\n",
    "    def __call__(self, x):\n",
    "        return self.feedforward(x)\n",
    "    \n",
    "    def feedforward(self, x):\n",
    "        return feedforward(self.a, self.net, x)\n"
   ]
  },
  {
   "cell_type": "code",
   "execution_count": 162,
   "metadata": {},
   "outputs": [
    {
     "data": {
      "text/plain": [
       "array([0.91842484, 0.89931237])"
      ]
     },
     "execution_count": 162,
     "metadata": {},
     "output_type": "execute_result"
    }
   ],
   "source": [
    "f = FeedForward(dim=(2, 3, 2), layers=3, a=np.sigmoid)\n",
    "\n",
    "x = np.random_vector(2)\n",
    "f(x)\n"
   ]
  },
  {
   "cell_type": "code",
   "execution_count": 163,
   "metadata": {},
   "outputs": [
    {
     "data": {
      "text/plain": [
       "[(array([[0.22638905, 0.60920239, 0.31226211],\n",
       "         [0.63902029, 0.65569293, 0.72866763]]),\n",
       "  array([0.89337596, 0.82689486]))]"
      ]
     },
     "execution_count": 163,
     "metadata": {},
     "output_type": "execute_result"
    }
   ],
   "source": [
    "f = FeedForwardSingleLayer(dim=(3, 2), a=np.sigmoid, da=np.dx_sigmoid)\n",
    "f.net"
   ]
  },
  {
   "cell_type": "code",
   "execution_count": 164,
   "metadata": {},
   "outputs": [],
   "source": [
    "class FeedForwardSingleLayer(FeedForward):\n",
    "\n",
    "    def __init__(self, dim, a, da):\n",
    "        super().__init__(dim=(*dim, None), layers=0, a=a)\n",
    "        self.da = da\n",
    "\n",
    "    def train(self, T, s=0.01, epochs=50):\n",
    "        for _ in range(epochs):\n",
    "            for x, y in T:\n",
    "                z = feedforward(np.linear, self.net, x)\n",
    "                az, daz = self.a(z), norm(self.da(z))\n",
    "                d = norm(y - az)\n",
    "                for w, b in self.net:\n",
    "                    w += s * d * daz * x\n",
    "                    b += s * d * daz\n"
   ]
  },
  {
   "cell_type": "code",
   "execution_count": 165,
   "metadata": {},
   "outputs": [],
   "source": [
    "from dec2bin import int2dec, int2bin, bin2int\n",
    "\n",
    "\n",
    "class Dec2Bin(FeedForwardSingleLayer):\n",
    "\n",
    "    def __init__(self, a=np.sigmoid, da=np.dx_sigmoid, s=0.01, epochs=100):\n",
    "        super().__init__(dim=(10, 4), a=a, da=da)\n",
    "        self.train(self.get_test_data(), s, epochs)\n",
    "\n",
    "    def __call__(self, n):\n",
    "        return super().__call__(int2dec(n))\n",
    "    \n",
    "    def get_test_data(self):\n",
    "        D = {n: int2dec(n) for n in range(10)}\n",
    "        B = {n: int2bin(n) for n in range(10)}\n",
    "        T = []\n",
    "        for n in range(10):\n",
    "            T. append((np.vector(*D[n]), np.vector(*B[n])))\n",
    "        return T"
   ]
  },
  {
   "cell_type": "code",
   "execution_count": 174,
   "metadata": {},
   "outputs": [
    {
     "name": "stdout",
     "output_type": "stream",
     "text": [
      "[(array([[1.12411585, 0.44125335, 0.7149309 , 1.28647672, 0.50269358,\n",
      "        1.18478086, 0.76964197, 0.35260409, 0.4243595 , 1.04749984],\n",
      "       [0.92795537, 1.32128869, 0.99333794, 0.63190382, 0.93647869,\n",
      "        0.68583767, 1.12269588, 1.0749699 , 1.31327723, 0.57436938],\n",
      "       [0.84759195, 1.24556085, 0.86864931, 1.19908472, 0.80400178,\n",
      "        0.72431964, 1.18388543, 1.14376884, 1.3802643 , 0.90669437],\n",
      "       [0.84928862, 1.1197685 , 0.6302814 , 0.97702678, 0.90983906,\n",
      "        1.1074282 , 0.97532494, 0.48799452, 1.16964972, 1.02512125]]), array([4.75028457, 4.68855662, 4.388732  , 4.51625203]))]\n"
     ]
    }
   ],
   "source": [
    "\n",
    "\n",
    "s, epochs = 0.01, 750\n",
    "dec2bin = Dec2Bin()\n",
    "dec2bin.train(get_dec2bin_test_data(), s, epochs)\n",
    "print(dec2bin.net)\n"
   ]
  },
  {
   "cell_type": "code",
   "execution_count": 176,
   "metadata": {},
   "outputs": [
    {
     "name": "stdout",
     "output_type": "stream",
     "text": [
      "[0.99734963 0.99664444 0.99514273 0.99568388] 15\n",
      "[0.9948377  0.99771532 0.99670622 0.99668555] 15\n",
      "[0.99604732 0.99685204 0.99524147 0.99465612] 15\n",
      "[0.99773862 0.99552001 0.99655326 0.9961898 ] 15\n",
      "[0.99513789 0.99667225 0.99493182 0.99593153] 15\n",
      "[0.99750222 0.99574967 0.99452244 0.99664535] 15\n",
      "[0.99625289 0.99722581 0.99650171 0.99618346] 15\n",
      "[0.99437179 0.99709336 0.99636195 0.99386142] 15\n",
      "[0.99475197 0.99769735 0.99711238 0.99684317] 15\n",
      "[0.99714356 0.99526138 0.99541482 0.99636458] 15\n"
     ]
    }
   ],
   "source": [
    "classify = lambda x: heaviside(x, offset=0.5)\n",
    "\n",
    "\n",
    "def check_dec2bin_delta_rule():\n",
    "    for n in range(10):\n",
    "        t = dec2bin(n)\n",
    "        print(t, bin2int(t))\n",
    "        continue\n",
    "        X = tuple(int2bin(n))\n",
    "        Y = tuple(a(x) for x in np.dot(W, int2dec(n)) + B)\n",
    "        Z = tuple(classify(t) for t in Y)\n",
    "        if X == Z:\n",
    "            print(f\"{n} =\t{_rnd(Y, n=2)} =\t{Z}\")\n",
    "        else:\n",
    "            print(_red(f\"{n} ≠\t{_rnd(Y, n=2)} =\t{Z}\t≠\t{X}\"))\n",
    "\n",
    "            \n",
    "check_dec2bin_delta_rule()"
   ]
  },
  {
   "cell_type": "code",
   "execution_count": null,
   "metadata": {},
   "outputs": [],
   "source": []
  }
 ],
 "metadata": {
  "kernelspec": {
   "display_name": "Python 3",
   "language": "python",
   "name": "python3"
  },
  "language_info": {
   "codemirror_mode": {
    "name": "ipython",
    "version": 3
   },
   "file_extension": ".py",
   "mimetype": "text/x-python",
   "name": "python",
   "nbconvert_exporter": "python",
   "pygments_lexer": "ipython3",
   "version": "3.6.8"
  },
  "latex_envs": {
   "LaTeX_envs_menu_present": true,
   "autoclose": false,
   "autocomplete": true,
   "bibliofile": "biblio.bib",
   "cite_by": "apalike",
   "current_citInitial": 1,
   "eqLabelWithNumbers": true,
   "eqNumInitial": 1,
   "hotkeys": {
    "equation": "Ctrl-E",
    "itemize": "Ctrl-I"
   },
   "labels_anchors": false,
   "latex_user_defs": false,
   "report_style_numbering": false,
   "user_envs_cfg": false
  },
  "toc": {
   "base_numbering": 1,
   "nav_menu": {},
   "number_sections": true,
   "sideBar": true,
   "skip_h1_title": false,
   "title_cell": "Table of Contents",
   "title_sidebar": "Contents",
   "toc_cell": false,
   "toc_position": {
    "height": "calc(100% - 180px)",
    "left": "10px",
    "top": "150px",
    "width": "402.875px"
   },
   "toc_section_display": true,
   "toc_window_display": false
  }
 },
 "nbformat": 4,
 "nbformat_minor": 4
}
