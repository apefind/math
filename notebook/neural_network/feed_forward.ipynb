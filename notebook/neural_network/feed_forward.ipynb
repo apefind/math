{
 "cells": [
  {
   "cell_type": "markdown",
   "metadata": {},
   "source": [
    "### Feed Forward"
   ]
  },
  {
   "cell_type": "code",
   "execution_count": 274,
   "metadata": {},
   "outputs": [],
   "source": [
    "%run core.ipynb"
   ]
  },
  {
   "cell_type": "code",
   "execution_count": 334,
   "metadata": {},
   "outputs": [],
   "source": [
    "\n",
    "class matrix(tuple):\n",
    "    \n",
    "    def __new__(self, *rows):\n",
    "        return tuple.__new__(matrix, rows)    \n",
    "    \n",
    "    def __init__(self, *rows):\n",
    "        self.num_rows = len(self)\n",
    "        self.num_cols = len(self[0])\n",
    "    \n",
    "    def __rmul__(self, s):\n",
    "        if isinstance(s, tuple):\n",
    "            assert self.num_rows == len(s)\n",
    "            return tuple(sum(x * y for x, y in zip(col, s)) for col in self.t)\n",
    "        return matrix(*(tuple(s * x for x in row) for row in self))\n",
    "\n",
    "    def __mul__(self, M):\n",
    "        if isinstance(M, matrix):\n",
    "            assert self.num_cols == M.num_rows\n",
    "            return matrix(*(tuple(sum(x * y for x, y in zip(row, col)) for row in self) for col in M.t))\n",
    "        elif isinstance(M, tuple):\n",
    "            assert self.num_cols == len(M)\n",
    "            return tuple(sum(x * y for x, y in zip(row, M)) for row in self)\n",
    "\n",
    "    def __neg__(self):\n",
    "        return matrix(*(tuple(-x for x in row) for row in self))\n",
    "\n",
    "    def __add__(self, M):\n",
    "        return matrix(*(tuple(x + y for x, y in zip(row0, row1)) for row0, row1 in zip(self, M)))\n",
    "\n",
    "    def __sub__(self, M):\n",
    "        return matrix(*(tuple(x - y for x, y in zip(row0, row1)) for row0, row1 in zip(self, M)))\n",
    "\n",
    "    @property\n",
    "    def dim(self):\n",
    "        return self.num_rows, self.num_cols\n",
    "\n",
    "    @property\n",
    "    def t(self):\n",
    "        return matrix(*(tuple(row[j] for row in self) for j in range(self.num_cols)))\n",
    "    "
   ]
  },
  {
   "cell_type": "code",
   "execution_count": 340,
   "metadata": {},
   "outputs": [
    {
     "data": {
      "text/plain": [
       "((5, 3, 6), (3, 2, 3), (6, 3, 9))"
      ]
     },
     "execution_count": 340,
     "metadata": {},
     "output_type": "execute_result"
    }
   ],
   "source": [
    "InteractiveShell.ast_node_interactivity = \"last\"\n",
    "\n",
    "\n",
    "A = matrix((1, 2), (1, 1), (0, 3))\n",
    "B = matrix((1, -1), (1, 4))\n",
    "C = matrix((1, 0), (1, 0))\n",
    "D = matrix((1, -1), (1, 4), (0, 3))\n",
    "\n",
    "# B\n",
    "# B.t\n",
    "# B - 2 * B\n",
    "# 2 * B\n",
    "# B - 2 * C\n",
    "# 2 * A\n",
    "# B * C\n",
    "# A * (1, 2)\n",
    "(1, 2) * B\n",
    "# A * B\n",
    "# B * A\n",
    "# D * C\n",
    "A * A.t"
   ]
  },
  {
   "cell_type": "code",
   "execution_count": 300,
   "metadata": {},
   "outputs": [
    {
     "data": {
      "text/plain": [
       "(3, 2)"
      ]
     },
     "execution_count": 300,
     "metadata": {},
     "output_type": "execute_result"
    }
   ],
   "source": [
    "A.t\n",
    "A.dim"
   ]
  },
  {
   "cell_type": "code",
   "execution_count": null,
   "metadata": {},
   "outputs": [],
   "source": []
  }
 ],
 "metadata": {
  "kernelspec": {
   "display_name": "Python 3",
   "language": "python",
   "name": "python3"
  },
  "language_info": {
   "codemirror_mode": {
    "name": "ipython",
    "version": 3
   },
   "file_extension": ".py",
   "mimetype": "text/x-python",
   "name": "python",
   "nbconvert_exporter": "python",
   "pygments_lexer": "ipython3",
   "version": "3.6.8"
  },
  "latex_envs": {
   "LaTeX_envs_menu_present": true,
   "autoclose": false,
   "autocomplete": true,
   "bibliofile": "biblio.bib",
   "cite_by": "apalike",
   "current_citInitial": 1,
   "eqLabelWithNumbers": true,
   "eqNumInitial": 1,
   "hotkeys": {
    "equation": "Ctrl-E",
    "itemize": "Ctrl-I"
   },
   "labels_anchors": false,
   "latex_user_defs": false,
   "report_style_numbering": false,
   "user_envs_cfg": false
  },
  "toc": {
   "base_numbering": 1,
   "nav_menu": {},
   "number_sections": true,
   "sideBar": true,
   "skip_h1_title": false,
   "title_cell": "Table of Contents",
   "title_sidebar": "Contents",
   "toc_cell": false,
   "toc_position": {
    "height": "calc(100% - 180px)",
    "left": "10px",
    "top": "150px",
    "width": "402.875px"
   },
   "toc_section_display": true,
   "toc_window_display": false
  }
 },
 "nbformat": 4,
 "nbformat_minor": 4
}
