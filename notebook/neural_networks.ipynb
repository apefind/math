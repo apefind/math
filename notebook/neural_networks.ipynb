{
 "cells": [
  {
   "cell_type": "markdown",
   "metadata": {},
   "source": [
    "### Weight Vector"
   ]
  },
  {
   "cell_type": "markdown",
   "metadata": {},
   "source": [
    "#### Basic Vector Operations"
   ]
  },
  {
   "cell_type": "code",
   "execution_count": 1,
   "metadata": {},
   "outputs": [],
   "source": [
    "from collections.abc import Iterable\n",
    "from termcolor import colored as _col\n",
    "\n",
    "\n",
    "def _rnd(x, n=2):\n",
    "    if isinstance(x, Iterable):\n",
    "        return type(x)(_rnd(y, n=n) for y in x)\n",
    "    return round(x, ndigits=n)\n",
    "\n",
    "\n",
    "def _deg(u, v, digits=2):\n",
    "    return round(math.degrees(angle(u, v)), ndigits=digits)\n",
    "\n",
    "\n",
    "def _red(*args, **kwargs):\n",
    "    return _col(*args, **kwargs, color=\"red\")\n"
   ]
  },
  {
   "cell_type": "code",
   "execution_count": 2,
   "metadata": {},
   "outputs": [],
   "source": [
    "# %load vector.py\n",
    "import math\n",
    "\n",
    "\n",
    "def neg(v):\n",
    "    return tuple(-x for x in v)\n",
    "\n",
    "\n",
    "def norm(v):\n",
    "    return math.sqrt(dotprod(v, v))\n",
    "\n",
    "\n",
    "def normed(v):\n",
    "    n = norm(v)\n",
    "    return tuple(x / n for x in v)\n",
    "\n",
    "\n",
    "def add(u, v):\n",
    "    return tuple(x + y for x, y in zip(u, v))\n",
    "\n",
    "\n",
    "def dotprod(u, v):\n",
    "    return sum(x * y for x, y in zip(u, v))\n",
    "\n",
    "\n",
    "def angle(u, v):\n",
    "    return math.acos(dotprod(u, v) / (norm(u) * norm(v)))\n"
   ]
  },
  {
   "cell_type": "markdown",
   "metadata": {},
   "source": [
    "#### Calclulating a common weight vector"
   ]
  },
  {
   "cell_type": "code",
   "execution_count": 3,
   "metadata": {},
   "outputs": [],
   "source": [
    "# %load weight.py\n",
    "from vector import add, dotprod\n",
    "\n",
    "\n",
    "def weight(u, v):\n",
    "    w = add(u, v)\n",
    "    while True:\n",
    "        if dotprod(w, u) <= 0:\n",
    "            w = add(w, u)\n",
    "        elif dotprod(w, v) <= 0:\n",
    "            w = add(w, v)\n",
    "        else:\n",
    "            return w\n"
   ]
  },
  {
   "cell_type": "code",
   "execution_count": 4,
   "metadata": {},
   "outputs": [],
   "source": [
    "def run_weight(u, v):\n",
    "    print(f\"u = {u}\tv = {v}\t∡ uv = {_deg(u, v)}°\")\n",
    "    print(\"\")\n",
    "    i, w = 0, add(u, v)\n",
    "    while True:\n",
    "        a, b = dotprod(w, u), dotprod(w, v)\n",
    "        print(f\"w{i} = {w}\t∡ wu = {_deg(w, u)}°\t∡ wv = {_deg(w, v)}°\")\n",
    "        if a < 0:\n",
    "            w = add(w, u)\n",
    "        elif b < 0:\n",
    "            w = add(w, v)\n",
    "        else:\n",
    "            break\n",
    "        i = i + 1\n",
    "    print(\"\")\n",
    "    print(f\"w = {normed(w)}\")\n"
   ]
  },
  {
   "cell_type": "code",
   "execution_count": 5,
   "metadata": {},
   "outputs": [
    {
     "name": "stdout",
     "output_type": "stream",
     "text": [
      "u = (4, -6)\tv = (-10, 5)\t∡ uv = 150.26°\n",
      "\n",
      "w0 = (-6, -1)\t∡ wu = 114.23°\t∡ wv = 36.03°\n",
      "w1 = (-2, -7)\t∡ wu = 49.64°\t∡ wv = 100.62°\n",
      "w2 = (-12, -2)\t∡ wu = 114.23°\t∡ wv = 36.03°\n",
      "w3 = (-8, -8)\t∡ wu = 78.69°\t∡ wv = 71.57°\n",
      "\n",
      "w = (-0.7071067811865475, -0.7071067811865475)\n"
     ]
    }
   ],
   "source": [
    "u, v = (4, -6), (-10, 5)\n",
    "run_weight(u, v)"
   ]
  },
  {
   "cell_type": "code",
   "execution_count": 6,
   "metadata": {},
   "outputs": [
    {
     "name": "stdout",
     "output_type": "stream",
     "text": [
      "u = (-1, -10)\tv = (4, 8)\t∡ uv = 159.15°\n",
      "\n",
      "w0 = (3, -2)\t∡ wu = 62.02°\t∡ wv = 97.13°\n",
      "w1 = (7, 6)\t∡ wu = 136.31°\t∡ wv = 22.83°\n",
      "w2 = (6, -4)\t∡ wu = 62.02°\t∡ wv = 97.13°\n",
      "w3 = (10, 4)\t∡ wu = 117.51°\t∡ wv = 41.63°\n",
      "w4 = (9, -6)\t∡ wu = 62.02°\t∡ wv = 97.13°\n",
      "w5 = (13, 2)\t∡ wu = 104.46°\t∡ wv = 54.69°\n",
      "w6 = (12, -8)\t∡ wu = 62.02°\t∡ wv = 97.13°\n",
      "w7 = (16, 0)\t∡ wu = 95.71°\t∡ wv = 63.43°\n",
      "w8 = (15, -10)\t∡ wu = 62.02°\t∡ wv = 97.13°\n",
      "w9 = (19, -2)\t∡ wu = 89.7°\t∡ wv = 69.44°\n",
      "\n",
      "w = (0.9945054529214061, -0.10468478451804275)\n"
     ]
    }
   ],
   "source": [
    "u, v = (4, -7), (-3, 5)  # requires 80 iterations\n",
    "u, v = (-1, -10), (4, 8)\n",
    "run_weight(u, v)"
   ]
  },
  {
   "cell_type": "code",
   "execution_count": 7,
   "metadata": {},
   "outputs": [
    {
     "name": "stdout",
     "output_type": "stream",
     "text": [
      "u = (-7, -10)\tv = (-6, 9)\t∡ uv = 111.32°\n",
      "\n",
      "w0 = (-13, -1)\t∡ wu = 50.61°\t∡ wv = 60.71°\n",
      "\n",
      "w = (-0.9970544855015815, -0.07669649888473704)\n"
     ]
    }
   ],
   "source": [
    "import random\n",
    "\n",
    "n = 10\n",
    "u, v = (random.randint(-n, n), random.randint(-n, n)), (random.randint(-n, n), random.randint(-n, n))\n",
    "run_weight(u, v)"
   ]
  },
  {
   "cell_type": "markdown",
   "metadata": {},
   "source": [
    "#### Maximimum Number of Iterations"
   ]
  },
  {
   "cell_type": "markdown",
   "metadata": {},
   "source": [
    "Find vectors with largest number of iterations in a given range. The more similar the vector length and the closer the angle to 180° the more iterations.\n"
   ]
  },
  {
   "cell_type": "code",
   "execution_count": 8,
   "metadata": {},
   "outputs": [
    {
     "name": "stdout",
     "output_type": "stream",
     "text": [
      "n = 3 (625 combinations):\tmax iterations = 5\tu = (2, 2)\tv = (-1, -2)\t∡ uv = 161.57°\n",
      "n = 4 (2401 combinations):\tmax iterations = 11\tu = (3, 2)\tv = (-2, -1)\t∡ uv = 172.87°\n",
      "n = 5 (6561 combinations):\tmax iterations = 29\tu = (4, 3)\tv = (-3, -2)\t∡ uv = 176.82°\n",
      "n = 6 (14641 combinations):\tmax iterations = 55\tu = (5, 4)\tv = (-4, -3)\t∡ uv = 178.21°\n",
      "n = 7 (28561 combinations):\tmax iterations = 89\tu = (6, 5)\tv = (-5, -4)\t∡ uv = 178.85°\n",
      "n = 8 (50625 combinations):\tmax iterations = 131\tu = (7, 6)\tv = (-6, -5)\t∡ uv = 179.2°\n",
      "n = 9 (83521 combinations):\tmax iterations = 181\tu = (8, 7)\tv = (-7, -6)\t∡ uv = 179.42°\n"
     ]
    }
   ],
   "source": [
    "import itertools\n",
    "\n",
    "\n",
    "def count_weight_iterations(u, v):\n",
    "    n, w = 0, add(u, v)\n",
    "    while True:\n",
    "        a, b = dotprod(w, u), dotprod(w, v)\n",
    "        if a < 0:\n",
    "            w = add(w, u)\n",
    "        elif b < 0:\n",
    "            w = add(w, v)\n",
    "        else:\n",
    "            return n\n",
    "        n = n + 1\n",
    "\n",
    "\n",
    "for n in range(3, 10):\n",
    "    N = range(-n + 1, n)\n",
    "    M = list(itertools.product(N, N))\n",
    "    R = list(itertools.product(M, M))\n",
    "    k, u, v = max([(count_weight_iterations(u, v), u, v) for u, v in R])\n",
    "    print(f\"n = {n} ({len(R)} combinations):\tmax iterations = {k}\tu = {u}\tv = {v}\t∡ uv = {_deg(u, v)}°\")\n"
   ]
  },
  {
   "cell_type": "markdown",
   "metadata": {},
   "source": [
    "#### Plotting Weight Iterations"
   ]
  },
  {
   "cell_type": "code",
   "execution_count": 34,
   "metadata": {},
   "outputs": [],
   "source": [
    "import matplotlib.pyplot as plot\n",
    "\n",
    "\n",
    "def plot_weight_iterations(u, v, size=(7, 7), t=2.75):\n",
    "    fig = plot.figure()\n",
    "    fig.set_size_inches(*size)\n",
    "    ax = plot.axes()\n",
    "    ax.set_aspect('equal')\n",
    "    ax.arrow(0.0, 0.0, u[0], u[1], head_width=0.1, head_length=0.3, fc='lightblue', ec='black')\n",
    "    ax.arrow(0.0, 0.0, v[0], v[1], head_width=0.1, head_length=0.3, fc='lightblue', ec='black')\n",
    "    ax.annotate('u', xy=u, xytext=(u[0] + 0.1, u[1] - 0.1))\n",
    "    ax.annotate('v', xy=v, xytext=(v[0] + 0.1, v[1] - 0.1))\n",
    "    n, w = 1, add(u, v)\n",
    "    while True:\n",
    "        ax.arrow(0.0, 0.0, w[0], w[1], head_width=0.05, head_length=0.2)\n",
    "        ax.annotate(n, xy=w, xytext=(w[0] + 0.05, w[1] + 0.05))\n",
    "        a, b = dotprod(w, u), dotprod(w, v)\n",
    "        if a < 0:\n",
    "            w = add(w, u)\n",
    "        elif b < 0:\n",
    "            w = add(w, v)\n",
    "        else:\n",
    "            break\n",
    "        n = n + 1\n",
    "    ax.arrow(0.0, 0.0, w[0], w[1], width=0.01, head_width=0.1, head_length=0.3, fc='red', ec='red')\n",
    "    #     ax.annotate('w', xy=w, xytext=(w[0] + 0.05, w[1] + 0.05))\n",
    "    plot.grid()\n",
    "    plot.xlim(-t, t)\n",
    "    plot.ylim(-t, t)\n",
    "    plot.title(f\"Weight vector calulated after {n} Iterations\")\n",
    "    plot.show()\n",
    "    "
   ]
  },
  {
   "cell_type": "code",
   "execution_count": 35,
   "metadata": {},
   "outputs": [
    {
     "data": {
      "image/png": "[encoded data removed]",
      "text/plain": [
       "<Figure size 504x504 with 1 Axes>"
      ]
     },
     "metadata": {
      "needs_background": "light"
     },
     "output_type": "display_data"
    }
   ],
   "source": [
    "u, v = (-0.5, -1.2), (1.1, 1.2)\n",
    "u, v = (4/5, -7/5), (-3/5, 5/5)\n",
    "u, v = (-1/8, -10/8), (4/8, 8/8)\n",
    "u, v = (-0.7, -1.2), (1.1, 1.2)\n",
    "plot_weight_iterations(u, v)"
   ]
  },
  {
   "cell_type": "markdown",
   "metadata": {},
   "source": [
    "### The Perceptron"
   ]
  },
  {
   "cell_type": "markdown",
   "metadata": {},
   "source": [
    "#### Activation Functions"
   ]
  },
  {
   "cell_type": "code",
   "execution_count": 11,
   "metadata": {},
   "outputs": [],
   "source": [
    "# %load activation_function.py\n",
    "\"\"\"Numerically stable version of sigmoid::\n",
    "\n",
    "    def sigmoid(x):\n",
    "        if x >= 0:\n",
    "            return 1.0 / (1.0 + math.exp(-x))\n",
    "        y = math.exp(x)\n",
    "        return y / (1 + y)\n",
    "\n",
    "\"\"\"\n",
    "\n",
    "import math\n",
    "\n",
    "\n",
    "def heaviside(x):\n",
    "    return 0 if x < 0.0 else 1\n",
    "\n",
    "\n",
    "def step(x, d=0.5):\n",
    "    return 0 if x < d else 1\n",
    "\n",
    "\n",
    "def relu(x):\n",
    "    return max(0.0, x)\n",
    "\n",
    "\n",
    "def linear(x, r=1.0):\n",
    "    return r * x\n",
    "\n",
    "\n",
    "def dx_linear(_, r=1.0):\n",
    "    return r\n",
    "\n",
    "\n",
    "def sigmoid(x):\n",
    "    return 1.0 / (1.0 + math.exp(-x))\n",
    "\n",
    "\n",
    "def dx_sigmoid(x):\n",
    "    return sigmoid(x) * (1 - sigmoid(x))\n",
    "\n",
    "\n",
    "tanh = math.tanh\n",
    "\n",
    "\n",
    "def dx_tanh(x):\n",
    "    return 1 - tanh(x) ** 2\n"
   ]
  },
  {
   "cell_type": "markdown",
   "metadata": {},
   "source": [
    "#### Perceptron Implementation"
   ]
  },
  {
   "cell_type": "code",
   "execution_count": 12,
   "metadata": {},
   "outputs": [],
   "source": [
    "# %load perceptron.py\n",
    "from vector import dotprod\n",
    "\n",
    "\n",
    "def perceptron(T, s=0.01, epochs=50):\n",
    "    n = len(T[0])\n",
    "    w, b = n * (0.0,), 0.0\n",
    "    for _ in range(epochs):\n",
    "        done = True\n",
    "        for x, y in T:\n",
    "            if dotprod(w, x) + b >= 0:\n",
    "                z = 1\n",
    "            else:\n",
    "                z = 0\n",
    "            w = tuple(w[i] - s * (z - y) * x[i] for i in range(n))\n",
    "            b = b - s * (z - y)\n",
    "            if not y == z:\n",
    "                done = False\n",
    "        if done:\n",
    "            break\n",
    "    return w, b\n"
   ]
  },
  {
   "cell_type": "code",
   "execution_count": 13,
   "metadata": {},
   "outputs": [],
   "source": [
    "def run_perceptron(f, T, s=0.01, epochs=50):\n",
    "    w, b = perceptron(T, s=s, epochs=epochs)\n",
    "    p = lambda x: heaviside(dotprod(w, x) + b)\n",
    "    if all(p(x) == y for x, y in T):\n",
    "        print(f\"{f.__name__}: ok\")\n",
    "    else:\n",
    "        print(_red(f\"{f.__name__}: failed\"))\n",
    "    for x, y in T:\n",
    "        if p(x) == y:\n",
    "            print(f\"    {f.__name__}{x} = {y}\")\n",
    "        else:\n",
    "            print(_red(f\"    {f.__name__}{x} = {y} ≠ {p(x)}\"))\n"
   ]
  },
  {
   "cell_type": "markdown",
   "metadata": {},
   "source": [
    "#### Approximation of Boolean Operators"
   ]
  },
  {
   "cell_type": "code",
   "execution_count": 14,
   "metadata": {},
   "outputs": [],
   "source": [
    "# %load boolean.py\n",
    "\n",
    "def AND(x, y):\n",
    "    return int(x and y)\n",
    "\n",
    "\n",
    "def OR(x, y):\n",
    "    return int(x or y)\n",
    "\n",
    "\n",
    "def NAND(x, y):\n",
    "    return int(not x and not y)\n",
    "\n",
    "\n",
    "def XOR(x, y):\n",
    "    return int(x and not y or not x and y)\n",
    "\n",
    "\n",
    "BOOLEAN_OPERATORS = AND, OR, NAND, XOR\n",
    "BOOLEAN_OPERATOR_DOMAIN = (0, 0), (0, 1), (1, 0), (1, 1)\n",
    "BOOLEAN_TESTDATA = {f: [(x, f(*x)) for x in BOOLEAN_OPERATOR_DOMAIN] for f in BOOLEAN_OPERATORS}\n",
    "SEPARABLE_BOOLEAN_OPERATORS = AND, OR, NAND\n",
    "NON_SEPARABLE_BOOLEAN_OPERATORS = XOR\n"
   ]
  },
  {
   "cell_type": "code",
   "execution_count": 15,
   "metadata": {},
   "outputs": [
    {
     "name": "stdout",
     "output_type": "stream",
     "text": [
      "AND: ok\n",
      "    AND(0, 0) = 0\n",
      "    AND(0, 1) = 0\n",
      "    AND(1, 0) = 0\n",
      "    AND(1, 1) = 1\n",
      "OR: ok\n",
      "    OR(0, 0) = 0\n",
      "    OR(0, 1) = 1\n",
      "    OR(1, 0) = 1\n",
      "    OR(1, 1) = 1\n",
      "NAND: ok\n",
      "    NAND(0, 0) = 1\n",
      "    NAND(0, 1) = 0\n",
      "    NAND(1, 0) = 0\n",
      "    NAND(1, 1) = 0\n",
      "\u001b[31mXOR: failed\u001b[0m\n",
      "\u001b[31m    XOR(0, 0) = 0 ≠ 1\u001b[0m\n",
      "    XOR(0, 1) = 1\n",
      "\u001b[31m    XOR(1, 0) = 1 ≠ 0\u001b[0m\n",
      "    XOR(1, 1) = 0\n"
     ]
    }
   ],
   "source": [
    "s, epochs = 0.01, 50\n",
    "for f, T in BOOLEAN_TESTDATA.items():\n",
    "    run_perceptron(f, T, s=s, epochs=epochs)\n",
    "    "
   ]
  },
  {
   "cell_type": "markdown",
   "metadata": {},
   "source": [
    "### The Delta Rule"
   ]
  },
  {
   "cell_type": "markdown",
   "metadata": {},
   "source": [
    "   #### Delta Rule Implementation"
   ]
  },
  {
   "cell_type": "code",
   "execution_count": 16,
   "metadata": {},
   "outputs": [],
   "source": [
    "# %load delta_rule.py\n",
    "from vector import dotprod\n",
    "\n",
    "\n",
    "def delta_rule(T, a, da, s=0.01, epochs=50):\n",
    "    n = len(T[0])\n",
    "    w, b = n * (random.random(),), random.random()\n",
    "    for _ in range(epochs):\n",
    "        for x, y in T:\n",
    "            z = dotprod(w, x) + b\n",
    "            az, daz = a(z), da(z)\n",
    "            d = y - az\n",
    "            w = tuple(w[i] + s * d * daz * x[i] for i in range(n))\n",
    "            b = b + s * d * daz\n",
    "    return w, b\n"
   ]
  },
  {
   "cell_type": "code",
   "execution_count": 17,
   "metadata": {},
   "outputs": [],
   "source": [
    "def delta_rule_approx(T, a, da, s=0.01, epochs=50):\n",
    "    w, b = delta_rule(T, a=a, da=da, s=s, epochs=epochs)\n",
    "    return lambda x: dotprod(w, x) + b\n",
    "\n",
    "\n",
    "def run_delta_rule(f, T, a, da, fire, s=0.01, epochs=50):\n",
    "    r = delta_rule_approx(T, a, da, s=s, epochs=epochs)\n",
    "    p = lambda x: fire(r(x))\n",
    "    if all(p(x) == y for x, y in T):\n",
    "        print(f\"{f.__name__}: ok\")\n",
    "    else:\n",
    "        print(_red(f\"{f.__name__}: failed\"))\n",
    "    for x, y in T:\n",
    "        z = p(x)\n",
    "        if z == y:\n",
    "            print(f\"    {f.__name__}{x} = {y}\ta(wx+b) = {_rnd(a(r(x)), n=2)}\")\n",
    "        else:\n",
    "            print(_red(f\"    {f.__name__}{x} = {y} ≠ {z}\ta(wx+b) = {_rnd(a(r(x)), n=2)}\"))\n"
   ]
  },
  {
   "cell_type": "markdown",
   "metadata": {},
   "source": [
    "#### Approximation of Boolean Operators"
   ]
  },
  {
   "cell_type": "code",
   "execution_count": 18,
   "metadata": {},
   "outputs": [
    {
     "name": "stdout",
     "output_type": "stream",
     "text": [
      "AND: ok\n",
      "    AND(0, 0) = 0\ta(wx+b) = 0.11\n",
      "    AND(0, 1) = 0\ta(wx+b) = 0.3\n",
      "    AND(1, 0) = 0\ta(wx+b) = 0.3\n",
      "    AND(1, 1) = 1\ta(wx+b) = 0.61\n",
      "OR: ok\n",
      "    OR(0, 0) = 0\ta(wx+b) = 0.4\n",
      "    OR(0, 1) = 1\ta(wx+b) = 0.79\n",
      "    OR(1, 0) = 1\ta(wx+b) = 0.79\n",
      "    OR(1, 1) = 1\ta(wx+b) = 0.96\n",
      "NAND: ok\n",
      "    NAND(0, 0) = 1\ta(wx+b) = 0.52\n",
      "    NAND(0, 1) = 0\ta(wx+b) = 0.22\n",
      "    NAND(1, 0) = 0\ta(wx+b) = 0.22\n",
      "    NAND(1, 1) = 0\ta(wx+b) = 0.07\n",
      "\u001b[31mXOR: failed\u001b[0m\n",
      "    XOR(0, 0) = 0\ta(wx+b) = 0.5\n",
      "\u001b[31m    XOR(0, 1) = 1 ≠ 0\ta(wx+b) = 0.5\u001b[0m\n",
      "\u001b[31m    XOR(1, 0) = 1 ≠ 0\ta(wx+b) = 0.5\u001b[0m\n",
      "\u001b[31m    XOR(1, 1) = 0 ≠ 1\ta(wx+b) = 0.5\u001b[0m\n"
     ]
    }
   ],
   "source": [
    "s, epochs = 0.01, 2500\n",
    "for f, T in BOOLEAN_TESTDATA.items():\n",
    "    run_delta_rule(f, T, a=sigmoid, da=dx_sigmoid, fire=heaviside, s=s, epochs=epochs)\n"
   ]
  },
  {
   "cell_type": "code",
   "execution_count": 19,
   "metadata": {},
   "outputs": [
    {
     "name": "stdout",
     "output_type": "stream",
     "text": [
      "AND: ok\n",
      "    AND(0, 0) = 0\ta(wx+b) = -0.25\n",
      "    AND(0, 1) = 0\ta(wx+b) = 0.25\n",
      "    AND(1, 0) = 0\ta(wx+b) = 0.25\n",
      "    AND(1, 1) = 1\ta(wx+b) = 0.76\n",
      "OR: ok\n",
      "    OR(0, 0) = 0\ta(wx+b) = 0.27\n",
      "    OR(0, 1) = 1\ta(wx+b) = 0.75\n",
      "    OR(1, 0) = 1\ta(wx+b) = 0.75\n",
      "    OR(1, 1) = 1\ta(wx+b) = 1.23\n",
      "NAND: ok\n",
      "    NAND(0, 0) = 1\ta(wx+b) = 0.71\n",
      "    NAND(0, 1) = 0\ta(wx+b) = 0.24\n",
      "    NAND(1, 0) = 0\ta(wx+b) = 0.25\n",
      "    NAND(1, 1) = 0\ta(wx+b) = -0.22\n",
      "\u001b[31mXOR: failed\u001b[0m\n",
      "    XOR(0, 0) = 0\ta(wx+b) = 0.48\n",
      "\u001b[31m    XOR(0, 1) = 1 ≠ 0\ta(wx+b) = 0.5\u001b[0m\n",
      "\u001b[31m    XOR(1, 0) = 1 ≠ 0\ta(wx+b) = 0.49\u001b[0m\n",
      "\u001b[31m    XOR(1, 1) = 0 ≠ 1\ta(wx+b) = 0.51\u001b[0m\n"
     ]
    }
   ],
   "source": [
    "s, epochs = 0.01, 500\n",
    "r = 10.0 * random.random()\n",
    "for f, T in BOOLEAN_TESTDATA.items():\n",
    "    a = lambda x: linear(x, a=r)\n",
    "    da = lambda x: dx_linear(x, a=r)\n",
    "    run_delta_rule(f, T, a=linear, da=dx_linear, fire=step, s=s, epochs=epochs)\n"
   ]
  },
  {
   "cell_type": "code",
   "execution_count": 20,
   "metadata": {},
   "outputs": [
    {
     "name": "stdout",
     "output_type": "stream",
     "text": [
      "AND: ok\n",
      "    AND(0, 0) = 0\ta(wx+b) = -0.21\n",
      "    AND(0, 1) = 0\ta(wx+b) = 0.24\n",
      "    AND(1, 0) = 0\ta(wx+b) = 0.25\n",
      "    AND(1, 1) = 1\ta(wx+b) = 0.61\n",
      "OR: ok\n",
      "    OR(0, 0) = 0\ta(wx+b) = 0.13\n",
      "    OR(0, 1) = 1\ta(wx+b) = 0.83\n",
      "    OR(1, 0) = 1\ta(wx+b) = 0.83\n",
      "    OR(1, 1) = 1\ta(wx+b) = 0.98\n",
      "NAND: ok\n",
      "    NAND(0, 0) = 1\ta(wx+b) = 0.6\n",
      "    NAND(0, 1) = 0\ta(wx+b) = 0.23\n",
      "    NAND(1, 0) = 0\ta(wx+b) = 0.24\n",
      "    NAND(1, 1) = 0\ta(wx+b) = -0.21\n",
      "\u001b[31mXOR: failed\u001b[0m\n",
      "\u001b[31m    XOR(0, 0) = 0 ≠ 1\ta(wx+b) = 0.48\u001b[0m\n",
      "    XOR(0, 1) = 1\ta(wx+b) = 0.5\n",
      "    XOR(1, 0) = 1\ta(wx+b) = 0.5\n",
      "\u001b[31m    XOR(1, 1) = 0 ≠ 1\ta(wx+b) = 0.52\u001b[0m\n"
     ]
    }
   ],
   "source": [
    "s, epochs = 0.01, 500\n",
    "for f, T in BOOLEAN_TESTDATA.items():\n",
    "    run_delta_rule(f, T, a=tanh, da=dx_tanh, fire=step, s=s, epochs=epochs)\n"
   ]
  },
  {
   "cell_type": "markdown",
   "metadata": {},
   "source": [
    "#### Approximation Analysis"
   ]
  },
  {
   "cell_type": "markdown",
   "metadata": {},
   "source": [
    "Calculate and verify approximation of a separable boolean operator. Run a number of trials to ensure the approximation is stable under the given step length and number of epochs."
   ]
  },
  {
   "cell_type": "code",
   "execution_count": 21,
   "metadata": {},
   "outputs": [],
   "source": [
    "def check_boolean_approx(f, a, da, fire, s=0.01, epochs=50, trials=25):\n",
    "    T = BOOLEAN_TESTDATA[f]\n",
    "    for _ in range(trials):\n",
    "        w, b = delta_rule(T, a=a, da=da, s=s, epochs=epochs)\n",
    "        p = lambda x: fire(dotprod(w, x) + b)\n",
    "        if not all(p(x) == y for x, y in T):\n",
    "            return False, (None, None)\n",
    "    return True, (normed(w), b / norm(w))\n"
   ]
  },
  {
   "cell_type": "markdown",
   "metadata": {},
   "source": [
    "Use pandas to display combinations of step length and smallest number of epochs that can be used to approximate a separable boolean operator. "
   ]
  },
  {
   "cell_type": "code",
   "execution_count": 22,
   "metadata": {},
   "outputs": [],
   "source": [
    "import pandas as pd\n",
    "\n",
    "\n",
    "def analyze_boolean_approx(f, a, da, fire, S, E, trials):\n",
    "    data = []\n",
    "    for s in S:\n",
    "        for epochs in sorted(E):\n",
    "            ok, (w, b) = check_boolean_approx(f, a, da, fire, s=s, epochs=epochs, trials=trials)\n",
    "            if ok:\n",
    "                data.append([s, epochs, _rnd(w), _rnd(b)])\n",
    "                break\n",
    "    df = pd.DataFrame(data, columns=[\"Step Length\", \"Min Epochs\", \"Weight\", \"Bias\"])\n",
    "    display(df.style.hide_index())\n"
   ]
  },
  {
   "cell_type": "code",
   "execution_count": 23,
   "metadata": {},
   "outputs": [],
   "source": [
    "trials = 25\n",
    "\n",
    "S = [0.01, 0.05, 0.1, 0.5, 1.0, 5.0]\n",
    "# S = [0.05, 0.1, 0.5, 1.0, 5.0]\n",
    "E = [10, 25, 50, 100, 250, 500, 1000, 2500, 5000]\n"
   ]
  },
  {
   "cell_type": "code",
   "execution_count": 24,
   "metadata": {},
   "outputs": [
    {
     "data": {
      "text/html": [
       "<style  type=\"text/css\" >\n",
       "</style><table id=\"T_fe828186_21d4_11ea_ad1b_dca904810c1f\" ><thead>    <tr>        <th class=\"col_heading level0 col0\" >Step Length</th>        <th class=\"col_heading level0 col1\" >Min Epochs</th>        <th class=\"col_heading level0 col2\" >Weight</th>        <th class=\"col_heading level0 col3\" >Bias</th>    </tr></thead><tbody>\n",
       "                <tr>\n",
       "                                <td id=\"T_fe828186_21d4_11ea_ad1b_dca904810c1frow0_col0\" class=\"data row0 col0\" >0.01</td>\n",
       "                        <td id=\"T_fe828186_21d4_11ea_ad1b_dca904810c1frow0_col1\" class=\"data row0 col1\" >2500</td>\n",
       "                        <td id=\"T_fe828186_21d4_11ea_ad1b_dca904810c1frow0_col2\" class=\"data row0 col2\" >(0.71, 0.71)</td>\n",
       "                        <td id=\"T_fe828186_21d4_11ea_ad1b_dca904810c1frow0_col3\" class=\"data row0 col3\" >-1.21</td>\n",
       "            </tr>\n",
       "            <tr>\n",
       "                                <td id=\"T_fe828186_21d4_11ea_ad1b_dca904810c1frow1_col0\" class=\"data row1 col0\" >0.05</td>\n",
       "                        <td id=\"T_fe828186_21d4_11ea_ad1b_dca904810c1frow1_col1\" class=\"data row1 col1\" >500</td>\n",
       "                        <td id=\"T_fe828186_21d4_11ea_ad1b_dca904810c1frow1_col2\" class=\"data row1 col2\" >(0.71, 0.71)</td>\n",
       "                        <td id=\"T_fe828186_21d4_11ea_ad1b_dca904810c1frow1_col3\" class=\"data row1 col3\" >-1.21</td>\n",
       "            </tr>\n",
       "            <tr>\n",
       "                                <td id=\"T_fe828186_21d4_11ea_ad1b_dca904810c1frow2_col0\" class=\"data row2 col0\" >0.1</td>\n",
       "                        <td id=\"T_fe828186_21d4_11ea_ad1b_dca904810c1frow2_col1\" class=\"data row2 col1\" >250</td>\n",
       "                        <td id=\"T_fe828186_21d4_11ea_ad1b_dca904810c1frow2_col2\" class=\"data row2 col2\" >(0.71, 0.71)</td>\n",
       "                        <td id=\"T_fe828186_21d4_11ea_ad1b_dca904810c1frow2_col3\" class=\"data row2 col3\" >-1.18</td>\n",
       "            </tr>\n",
       "            <tr>\n",
       "                                <td id=\"T_fe828186_21d4_11ea_ad1b_dca904810c1frow3_col0\" class=\"data row3 col0\" >0.5</td>\n",
       "                        <td id=\"T_fe828186_21d4_11ea_ad1b_dca904810c1frow3_col1\" class=\"data row3 col1\" >50</td>\n",
       "                        <td id=\"T_fe828186_21d4_11ea_ad1b_dca904810c1frow3_col2\" class=\"data row3 col2\" >(0.72, 0.7)</td>\n",
       "                        <td id=\"T_fe828186_21d4_11ea_ad1b_dca904810c1frow3_col3\" class=\"data row3 col3\" >-1.13</td>\n",
       "            </tr>\n",
       "            <tr>\n",
       "                                <td id=\"T_fe828186_21d4_11ea_ad1b_dca904810c1frow4_col0\" class=\"data row4 col0\" >1</td>\n",
       "                        <td id=\"T_fe828186_21d4_11ea_ad1b_dca904810c1frow4_col1\" class=\"data row4 col1\" >10</td>\n",
       "                        <td id=\"T_fe828186_21d4_11ea_ad1b_dca904810c1frow4_col2\" class=\"data row4 col2\" >(0.73, 0.68)</td>\n",
       "                        <td id=\"T_fe828186_21d4_11ea_ad1b_dca904810c1frow4_col3\" class=\"data row4 col3\" >-1.28</td>\n",
       "            </tr>\n",
       "            <tr>\n",
       "                                <td id=\"T_fe828186_21d4_11ea_ad1b_dca904810c1frow5_col0\" class=\"data row5 col0\" >5</td>\n",
       "                        <td id=\"T_fe828186_21d4_11ea_ad1b_dca904810c1frow5_col1\" class=\"data row5 col1\" >10</td>\n",
       "                        <td id=\"T_fe828186_21d4_11ea_ad1b_dca904810c1frow5_col2\" class=\"data row5 col2\" >(0.77, 0.64)</td>\n",
       "                        <td id=\"T_fe828186_21d4_11ea_ad1b_dca904810c1frow5_col3\" class=\"data row5 col3\" >-0.86</td>\n",
       "            </tr>\n",
       "    </tbody></table>"
      ],
      "text/plain": [
       "<pandas.io.formats.style.Styler at 0x116f0f1d0>"
      ]
     },
     "metadata": {},
     "output_type": "display_data"
    }
   ],
   "source": [
    "a, da, fire = sigmoid, dx_sigmoid, heaviside\n",
    "\n",
    "analyze_boolean_approx(AND, a, da, fire, S, E, trials)"
   ]
  },
  {
   "cell_type": "code",
   "execution_count": 25,
   "metadata": {},
   "outputs": [
    {
     "data": {
      "text/html": [
       "<style  type=\"text/css\" >\n",
       "</style><table id=\"T_febe2fc2_21d4_11ea_9fe5_dca904810c1f\" ><thead>    <tr>        <th class=\"col_heading level0 col0\" >Step Length</th>        <th class=\"col_heading level0 col1\" >Min Epochs</th>        <th class=\"col_heading level0 col2\" >Weight</th>        <th class=\"col_heading level0 col3\" >Bias</th>    </tr></thead><tbody>\n",
       "                <tr>\n",
       "                                <td id=\"T_febe2fc2_21d4_11ea_9fe5_dca904810c1frow0_col0\" class=\"data row0 col0\" >0.01</td>\n",
       "                        <td id=\"T_febe2fc2_21d4_11ea_9fe5_dca904810c1frow0_col1\" class=\"data row0 col1\" >250</td>\n",
       "                        <td id=\"T_febe2fc2_21d4_11ea_9fe5_dca904810c1frow0_col2\" class=\"data row0 col2\" >(0.71, 0.71)</td>\n",
       "                        <td id=\"T_febe2fc2_21d4_11ea_9fe5_dca904810c1frow0_col3\" class=\"data row0 col3\" >0.46</td>\n",
       "            </tr>\n",
       "            <tr>\n",
       "                                <td id=\"T_febe2fc2_21d4_11ea_9fe5_dca904810c1frow1_col0\" class=\"data row1 col0\" >0.05</td>\n",
       "                        <td id=\"T_febe2fc2_21d4_11ea_9fe5_dca904810c1frow1_col1\" class=\"data row1 col1\" >25</td>\n",
       "                        <td id=\"T_febe2fc2_21d4_11ea_9fe5_dca904810c1frow1_col2\" class=\"data row1 col2\" >(0.7, 0.71)</td>\n",
       "                        <td id=\"T_febe2fc2_21d4_11ea_9fe5_dca904810c1frow1_col3\" class=\"data row1 col3\" >0.46</td>\n",
       "            </tr>\n",
       "            <tr>\n",
       "                                <td id=\"T_febe2fc2_21d4_11ea_9fe5_dca904810c1frow2_col0\" class=\"data row2 col0\" >0.1</td>\n",
       "                        <td id=\"T_febe2fc2_21d4_11ea_9fe5_dca904810c1frow2_col1\" class=\"data row2 col1\" >25</td>\n",
       "                        <td id=\"T_febe2fc2_21d4_11ea_9fe5_dca904810c1frow2_col2\" class=\"data row2 col2\" >(0.69, 0.73)</td>\n",
       "                        <td id=\"T_febe2fc2_21d4_11ea_9fe5_dca904810c1frow2_col3\" class=\"data row2 col3\" >0.64</td>\n",
       "            </tr>\n",
       "    </tbody></table>"
      ],
      "text/plain": [
       "<pandas.io.formats.style.Styler at 0x11ac25fd0>"
      ]
     },
     "metadata": {},
     "output_type": "display_data"
    }
   ],
   "source": [
    "a, da, fire = linear, dx_linear, step\n",
    "\n",
    "analyze_boolean_approx(OR, a, da, fire, S, E, trials)"
   ]
  },
  {
   "cell_type": "code",
   "execution_count": 26,
   "metadata": {},
   "outputs": [
    {
     "data": {
      "text/html": [
       "<style  type=\"text/css\" >\n",
       "</style><table id=\"T_fefb29a4_21d4_11ea_b488_dca904810c1f\" ><thead>    <tr>        <th class=\"col_heading level0 col0\" >Step Length</th>        <th class=\"col_heading level0 col1\" >Min Epochs</th>        <th class=\"col_heading level0 col2\" >Weight</th>        <th class=\"col_heading level0 col3\" >Bias</th>    </tr></thead><tbody>\n",
       "                <tr>\n",
       "                                <td id=\"T_fefb29a4_21d4_11ea_b488_dca904810c1frow0_col0\" class=\"data row0 col0\" >0.01</td>\n",
       "                        <td id=\"T_fefb29a4_21d4_11ea_b488_dca904810c1frow0_col1\" class=\"data row0 col1\" >500</td>\n",
       "                        <td id=\"T_fefb29a4_21d4_11ea_b488_dca904810c1frow0_col2\" class=\"data row0 col2\" >(-0.71, -0.71)</td>\n",
       "                        <td id=\"T_fefb29a4_21d4_11ea_b488_dca904810c1frow0_col3\" class=\"data row0 col3\" >1.08</td>\n",
       "            </tr>\n",
       "            <tr>\n",
       "                                <td id=\"T_fefb29a4_21d4_11ea_b488_dca904810c1frow1_col0\" class=\"data row1 col0\" >0.05</td>\n",
       "                        <td id=\"T_fefb29a4_21d4_11ea_b488_dca904810c1frow1_col1\" class=\"data row1 col1\" >100</td>\n",
       "                        <td id=\"T_fefb29a4_21d4_11ea_b488_dca904810c1frow1_col2\" class=\"data row1 col2\" >(-0.7, -0.72)</td>\n",
       "                        <td id=\"T_fefb29a4_21d4_11ea_b488_dca904810c1frow1_col3\" class=\"data row1 col3\" >1.1</td>\n",
       "            </tr>\n",
       "            <tr>\n",
       "                                <td id=\"T_fefb29a4_21d4_11ea_b488_dca904810c1frow2_col0\" class=\"data row2 col0\" >0.1</td>\n",
       "                        <td id=\"T_fefb29a4_21d4_11ea_b488_dca904810c1frow2_col1\" class=\"data row2 col1\" >50</td>\n",
       "                        <td id=\"T_fefb29a4_21d4_11ea_b488_dca904810c1frow2_col2\" class=\"data row2 col2\" >(-0.69, -0.73)</td>\n",
       "                        <td id=\"T_fefb29a4_21d4_11ea_b488_dca904810c1frow2_col3\" class=\"data row2 col3\" >1.13</td>\n",
       "            </tr>\n",
       "            <tr>\n",
       "                                <td id=\"T_fefb29a4_21d4_11ea_b488_dca904810c1frow3_col0\" class=\"data row3 col0\" >0.5</td>\n",
       "                        <td id=\"T_fefb29a4_21d4_11ea_b488_dca904810c1frow3_col1\" class=\"data row3 col1\" >25</td>\n",
       "                        <td id=\"T_fefb29a4_21d4_11ea_b488_dca904810c1frow3_col2\" class=\"data row3 col2\" >(-0.45, -0.89)</td>\n",
       "                        <td id=\"T_fefb29a4_21d4_11ea_b488_dca904810c1frow3_col3\" class=\"data row3 col3\" >1.56</td>\n",
       "            </tr>\n",
       "    </tbody></table>"
      ],
      "text/plain": [
       "<pandas.io.formats.style.Styler at 0x116f0f160>"
      ]
     },
     "metadata": {},
     "output_type": "display_data"
    }
   ],
   "source": [
    "a, da, fire = tanh, dx_tanh, step\n",
    "\n",
    "analyze_boolean_approx(NAND, a, da, fire, S, E, trials)"
   ]
  },
  {
   "cell_type": "markdown",
   "metadata": {},
   "source": [
    "#### Extended Example"
   ]
  },
  {
   "cell_type": "code",
   "execution_count": 36,
   "metadata": {},
   "outputs": [],
   "source": [
    "import matplotlib\n",
    "import matplotlib.pyplot as plot\n",
    "\n",
    "# print(matplotlib.style.available)\n",
    "# matplotlib.style.use(\"seaborn-deep\")\n",
    "# matplotlib.style.use(\"default\")\n",
    "\n",
    "\n",
    "def plot_annulus_points(A0, A1, t=2.0, size=(7, 7)):\n",
    "    fig = plot.figure()\n",
    "    fig.set_size_inches(*size)\n",
    "    ax = plot.axes()\n",
    "    ax.set_aspect('equal')\n",
    "    plot.title(f\"Data Points\")\n",
    "    plot.grid()\n",
    "    plot.xlim(-t, t)\n",
    "    plot.ylim(-t, t)\n",
    "    plot.plot([x for x, _ in A0], [y for _, y in A0], \"x\", color=\"tab:red\")\n",
    "    plot.plot([x for x, _ in A1], [y for _, y in A1], \"x\", color=\"tab:blue\")\n"
   ]
  },
  {
   "cell_type": "code",
   "execution_count": 37,
   "metadata": {},
   "outputs": [],
   "source": [
    "\n",
    "def get_annulus_segment_points(x=0.0, y=0.0, a0=0.0, a1=math.pi, r0=0.0, r1=1.0, n=250):\n",
    "    P = []\n",
    "    for _ in range(n):\n",
    "        a, s = random.uniform(a0, a1), random.uniform(r0, r1)\n",
    "        P.append((x + s * math.cos(a), y + s * math.sin(a)))\n",
    "    return P\n"
   ]
  },
  {
   "cell_type": "code",
   "execution_count": 38,
   "metadata": {},
   "outputs": [],
   "source": [
    "n = 100\n",
    "A0 = get_annulus_segment_points(r0=0.8, r1=1.0, n=n)\n",
    "A1 = get_annulus_segment_points(x=0.4, y=-0.4, a0=math.pi, a1=2 * math.pi, r0=0.8, r1=1.0, n=n) \n"
   ]
  },
  {
   "cell_type": "code",
   "execution_count": 39,
   "metadata": {},
   "outputs": [],
   "source": [
    "T = [(u, 0) for u in A0] + [(u, 1) for u in A1]\n",
    "random.shuffle(T)\n"
   ]
  },
  {
   "cell_type": "code",
   "execution_count": 40,
   "metadata": {},
   "outputs": [
    {
     "name": "stdout",
     "output_type": "stream",
     "text": [
      "(0.043435732804662286, -0.7779642757933162) 0.5140896545149751\n"
     ]
    }
   ],
   "source": [
    "a, da, fire = sigmoid, dx_sigmoid, heaviside\n",
    "s, epochs = 0.01, 2500\n",
    "\n",
    "a, da, fire = tanh, dx_tanh, step\n",
    "s, epochs = 0.01, 2500\n",
    "\n",
    "w, b = delta_rule(T, a=a, da=da, s=s, epochs=epochs)\n",
    "print(w, b)"
   ]
  },
  {
   "cell_type": "code",
   "execution_count": 41,
   "metadata": {},
   "outputs": [
    {
     "name": "stdout",
     "output_type": "stream",
     "text": [
      "(0.0022945623928288285, -0.03538184759997651) -0.01\n"
     ]
    }
   ],
   "source": [
    "w, b = perceptron(T, s=s, epochs=epochs)\n",
    "print(w, b)"
   ]
  },
  {
   "cell_type": "code",
   "execution_count": 43,
   "metadata": {},
   "outputs": [
    {
     "data": {
      "image/png": "[encoded data removed]",
      "text/plain": [
       "<Figure size 504x504 with 1 Axes>"
      ]
     },
     "metadata": {
      "needs_background": "light"
     },
     "output_type": "display_data"
    }
   ],
   "source": [
    "plot_annulus_points(A0, A1)\n",
    "V = [(0, -b), (1, w[0] + w[1] + b)]\n",
    "X, Y = [x for x, _ in V], [y for _, y in V]\n",
    "plot.plot(X, Y, color=\"green\")\n",
    "plot.show()\n"
   ]
  },
  {
   "cell_type": "code",
   "execution_count": null,
   "metadata": {},
   "outputs": [],
   "source": []
  }
 ],
 "metadata": {
  "kernelspec": {
   "display_name": "Python 3",
   "language": "python",
   "name": "python3"
  },
  "language_info": {
   "codemirror_mode": {
    "name": "ipython",
    "version": 3
   },
   "file_extension": ".py",
   "mimetype": "text/x-python",
   "name": "python",
   "nbconvert_exporter": "python",
   "pygments_lexer": "ipython3",
   "version": "3.6.8"
  },
  "latex_envs": {
   "LaTeX_envs_menu_present": true,
   "autoclose": false,
   "autocomplete": true,
   "bibliofile": "biblio.bib",
   "cite_by": "apalike",
   "current_citInitial": 1,
   "eqLabelWithNumbers": true,
   "eqNumInitial": 1,
   "hotkeys": {
    "equation": "Ctrl-E",
    "itemize": "Ctrl-I"
   },
   "labels_anchors": false,
   "latex_user_defs": false,
   "report_style_numbering": false,
   "user_envs_cfg": false
  },
  "toc": {
   "base_numbering": 1,
   "nav_menu": {},
   "number_sections": true,
   "sideBar": true,
   "skip_h1_title": false,
   "title_cell": "Table of Contents",
   "title_sidebar": "Contents",
   "toc_cell": false,
   "toc_position": {
    "height": "calc(100% - 180px)",
    "left": "10px",
    "top": "150px",
    "width": "402.875px"
   },
   "toc_section_display": true,
   "toc_window_display": false
  }
 },
 "nbformat": 4,
 "nbformat_minor": 2
}
