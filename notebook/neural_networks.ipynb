{
 "cells": [
  {
   "cell_type": "markdown",
   "metadata": {},
   "source": [
    "### Weight Vector"
   ]
  },
  {
   "cell_type": "markdown",
   "metadata": {},
   "source": [
    "#### Basic Vector Operations"
   ]
  },
  {
   "cell_type": "code",
   "execution_count": 81,
   "metadata": {},
   "outputs": [],
   "source": [
    "from termcolor import colored as _col\n",
    "\n",
    "\n",
    "def _red(*args, **kwargs):\n",
    "    return _col(*args, **kwargs, color=\"red\")\n",
    "\n",
    "\n",
    "def _rnd(x, n=2):\n",
    "    return round(x, ndigits=n)\n",
    "\n",
    "\n",
    "def _deg(u, v, digits=2):\n",
    "    return round(math.degrees(angle(u, v)), ndigits=digits)\n"
   ]
  },
  {
   "cell_type": "code",
   "execution_count": 2,
   "metadata": {},
   "outputs": [],
   "source": [
    "# %load vector.py\n",
    "import math\n",
    "\n",
    "\n",
    "def neg(v):\n",
    "    return tuple(-x for x in v)\n",
    "\n",
    "\n",
    "def norm(v):\n",
    "    return math.sqrt(dotprod(v, v))\n",
    "\n",
    "\n",
    "def normed(v):\n",
    "    n = norm(v)\n",
    "    return tuple(x / n for x in v)\n",
    "\n",
    "\n",
    "def add(u, v):\n",
    "    return tuple(x + y for x, y in zip(u, v))\n",
    "\n",
    "\n",
    "def dotprod(u, v):\n",
    "    return sum(x * y for x, y in zip(u, v))\n",
    "\n",
    "\n",
    "def angle(u, v):\n",
    "    return math.acos(dotprod(u, v) / (norm(u) * norm(v)))\n"
   ]
  },
  {
   "cell_type": "markdown",
   "metadata": {},
   "source": [
    "#### Calclulating a common weight vector"
   ]
  },
  {
   "cell_type": "code",
   "execution_count": 3,
   "metadata": {},
   "outputs": [],
   "source": [
    "# %load weight.py\n",
    "from vector import add, dotprod\n",
    "\n",
    "\n",
    "def weight(u, v):\n",
    "    w = add(u, v)\n",
    "    while True:\n",
    "        if dotprod(w, u) <= 0:\n",
    "            w = add(w, u)\n",
    "        elif dotprod(w, v) <= 0:\n",
    "            w = add(w, v)\n",
    "        else:\n",
    "            return w\n"
   ]
  },
  {
   "cell_type": "code",
   "execution_count": 77,
   "metadata": {},
   "outputs": [],
   "source": [
    "def run_weight(u, v):\n",
    "    print(f\"u = {u}\tv = {v}\t∡ uv = {_dg(u, v)}°\")\n",
    "    print(\"\")\n",
    "    i, w = 0, add(u, v)\n",
    "    while True:\n",
    "        a, b = dotprod(w, u), dotprod(w, v)\n",
    "        print(f\"w{i} = {w}\t∡ wu = {_deg(w, u)}°\t∡ wv = {_deg(w, v)}°\")\n",
    "        if a < 0:\n",
    "            w = add(w, u)\n",
    "        elif b < 0:\n",
    "            w = add(w, v)\n",
    "        else:\n",
    "            break\n",
    "        i = i + 1\n",
    "    print(\"\")\n",
    "    print(f\"w = {normed(w)}\")\n"
   ]
  },
  {
   "cell_type": "code",
   "execution_count": 63,
   "metadata": {},
   "outputs": [
    {
     "name": "stdout",
     "output_type": "stream",
     "text": [
      "u = (4, -6)\tv = (-10, 5)\t∡ uv = 150.26°\n",
      "\n",
      "w0 = (-6, -1)\t∡ wu = 114.23°\t∡ wv = 36.03°\n",
      "w1 = (-2, -7)\t∡ wu = 49.64°\t∡ wv = 100.62°\n",
      "w2 = (-12, -2)\t∡ wu = 114.23°\t∡ wv = 36.03°\n",
      "w3 = (-8, -8)\t∡ wu = 78.69°\t∡ wv = 71.57°\n",
      "\n",
      "w = (-0.7071067811865475, -0.7071067811865475)\n"
     ]
    }
   ],
   "source": [
    "u, v = (4, -6), (-10, 5)\n",
    "run_weight(u, v)"
   ]
  },
  {
   "cell_type": "code",
   "execution_count": 64,
   "metadata": {},
   "outputs": [
    {
     "name": "stdout",
     "output_type": "stream",
     "text": [
      "u = (-1, -10)\tv = (4, 8)\t∡ uv = 159.15°\n",
      "\n",
      "w0 = (3, -2)\t∡ wu = 62.02°\t∡ wv = 97.13°\n",
      "w1 = (7, 6)\t∡ wu = 136.31°\t∡ wv = 22.83°\n",
      "w2 = (6, -4)\t∡ wu = 62.02°\t∡ wv = 97.13°\n",
      "w3 = (10, 4)\t∡ wu = 117.51°\t∡ wv = 41.63°\n",
      "w4 = (9, -6)\t∡ wu = 62.02°\t∡ wv = 97.13°\n",
      "w5 = (13, 2)\t∡ wu = 104.46°\t∡ wv = 54.69°\n",
      "w6 = (12, -8)\t∡ wu = 62.02°\t∡ wv = 97.13°\n",
      "w7 = (16, 0)\t∡ wu = 95.71°\t∡ wv = 63.43°\n",
      "w8 = (15, -10)\t∡ wu = 62.02°\t∡ wv = 97.13°\n",
      "w9 = (19, -2)\t∡ wu = 89.7°\t∡ wv = 69.44°\n",
      "\n",
      "w = (0.9945054529214061, -0.10468478451804275)\n"
     ]
    }
   ],
   "source": [
    "u, v = (4, -7), (-3, 5)  # requires 80 iterations\n",
    "u, v = (-1, -10), (4, 8)\n",
    "run_weight(u, v)"
   ]
  },
  {
   "cell_type": "code",
   "execution_count": 65,
   "metadata": {},
   "outputs": [
    {
     "name": "stdout",
     "output_type": "stream",
     "text": [
      "u = (1, -7)\tv = (9, -6)\t∡ uv = 48.18°\n",
      "\n",
      "w0 = (10, -13)\t∡ wu = 29.44°\t∡ wv = 18.74°\n",
      "\n",
      "w = (0.6097107608496923, -0.7926239891046)\n"
     ]
    }
   ],
   "source": [
    "from random import random, randint\n",
    "\n",
    "n = 10\n",
    "u, v = (randint(-n, n), randint(-n, n)), (randint(-n, n), randint(-n, n))\n",
    "run_weight(u, v)"
   ]
  },
  {
   "cell_type": "markdown",
   "metadata": {},
   "source": [
    "#### Maximimum Number of Iterations"
   ]
  },
  {
   "cell_type": "code",
   "execution_count": 66,
   "metadata": {},
   "outputs": [
    {
     "name": "stdout",
     "output_type": "stream",
     "text": [
      "n = 3 (625 combinations):\tmax iterations = (2, 2)\tu = (2, 2)\tv = (-1, -2)\t∡ uv = 161.57°\n",
      "n = 4 (2401 combinations):\tmax iterations = (3, 2)\tu = (3, 2)\tv = (-2, -1)\t∡ uv = 172.87°\n",
      "n = 5 (6561 combinations):\tmax iterations = (4, 3)\tu = (4, 3)\tv = (-3, -2)\t∡ uv = 176.82°\n",
      "n = 6 (14641 combinations):\tmax iterations = (5, 4)\tu = (5, 4)\tv = (-4, -3)\t∡ uv = 178.21°\n",
      "n = 7 (28561 combinations):\tmax iterations = (6, 5)\tu = (6, 5)\tv = (-5, -4)\t∡ uv = 178.85°\n",
      "n = 8 (50625 combinations):\tmax iterations = (7, 6)\tu = (7, 6)\tv = (-6, -5)\t∡ uv = 179.2°\n",
      "n = 9 (83521 combinations):\tmax iterations = (8, 7)\tu = (8, 7)\tv = (-7, -6)\t∡ uv = 179.42°\n"
     ]
    }
   ],
   "source": [
    "import itertools\n",
    "\n",
    "\n",
    "def count_weight_iterations(u, v):\n",
    "    n, w = 0, add(u, v)\n",
    "    while True:\n",
    "        a, b = dotprod(w, u), dotprod(w, v)\n",
    "        if a < 0:\n",
    "            w = add(w, u)\n",
    "        elif b < 0:\n",
    "            w = add(w, v)\n",
    "        else:\n",
    "            return n\n",
    "        n = n + 1\n",
    "\n",
    "\n",
    "for n in range(3, 10):\n",
    "    N = range(-n + 1, n)\n",
    "    M = list(itertools.product(N, N))\n",
    "    R = list(itertools.product(M, M))\n",
    "    k, u, v = max([(count_weight_iterations(u, v), u, v) for u, v in R])\n",
    "    print(f\"n = {n} ({len(R)} combinations):\tmax iterations = {u}\tu = {u}\tv = {v}\t∡ uv = {_dg(u, v)}°\")\n"
   ]
  },
  {
   "cell_type": "markdown",
   "metadata": {},
   "source": [
    "#### Plotting Weight Iterations"
   ]
  },
  {
   "cell_type": "code",
   "execution_count": 67,
   "metadata": {},
   "outputs": [],
   "source": [
    "import matplotlib.pyplot as plot\n",
    "\n",
    "\n",
    "def plot_weight_iterations(u, v, size=(7, 7), t=2.75):\n",
    "    fig = plot.figure()\n",
    "    fig.set_size_inches(*size)\n",
    "    ax = plot.axes()\n",
    "    ax.set_aspect('equal')\n",
    "\n",
    "    ax.arrow(0.0, 0.0, u[0], u[1], head_width=0.1, head_length=0.3, fc='lightblue', ec='black')\n",
    "    ax.arrow(0.0, 0.0, v[0], v[1], head_width=0.1, head_length=0.3, fc='lightblue', ec='black')\n",
    "    ax.annotate('u', xy=u, xytext=(u[0] + 0.1, u[1] - 0.1))\n",
    "    ax.annotate('v', xy=v, xytext=(v[0] + 0.1, v[1] - 0.1))\n",
    "\n",
    "    n, w = 1, add(u, v)\n",
    "    while True:\n",
    "        ax.arrow(0.0, 0.0, w[0], w[1], head_width=0.05, head_length=0.2)\n",
    "        ax.annotate(n, xy=w, xytext=(w[0] + 0.05, w[1] + 0.05))\n",
    "        a, b = dotprod(w, u), dotprod(w, v)\n",
    "        if a < 0:\n",
    "            w = add(w, u)\n",
    "        elif b < 0:\n",
    "            w = add(w, v)\n",
    "        else:\n",
    "            break\n",
    "        n = n + 1\n",
    "\n",
    "    ax.arrow(0.0, 0.0, w[0], w[1], width=0.01, head_width=0.1, head_length=0.3, fc='red', ec='red')\n",
    "    #     ax.annotate('w', xy=w, xytext=(w[0] + 0.05, w[1] + 0.05))\n",
    "\n",
    "    plot.grid()\n",
    "    plot.xlim(-t, t)\n",
    "    plot.ylim(-t, t)\n",
    "\n",
    "    plot.title(f\"Weight vector calulated after {n} Iterations\")\n",
    "    plot.show()\n",
    "    "
   ]
  },
  {
   "cell_type": "code",
   "execution_count": 68,
   "metadata": {},
   "outputs": [
    {
     "data": {
      "image/png": "[encoded data removed]",
      "text/plain": [
       "<Figure size 504x504 with 1 Axes>"
      ]
     },
     "metadata": {
      "needs_background": "light"
     },
     "output_type": "display_data"
    }
   ],
   "source": [
    "u, v = (-0.5, -1.2), (1.1, 1.2)\n",
    "u, v = (-0.7, -1.2), (1.1, 1.2)\n",
    "u, v = (4/5, -7/5), (-3/5, 5/5)\n",
    "u, v = (-1/8, -10/8), (4/8, 8/8)\n",
    "plot_weight_iterations(u, v)"
   ]
  },
  {
   "cell_type": "markdown",
   "metadata": {},
   "source": [
    "### The Perceptron"
   ]
  },
  {
   "cell_type": "markdown",
   "metadata": {},
   "source": [
    "#### Activation Functions"
   ]
  },
  {
   "cell_type": "code",
   "execution_count": 69,
   "metadata": {},
   "outputs": [],
   "source": [
    "# %load activation_function.py\n",
    "\"\"\"Numerically stable version of sigmoid::\n",
    "\n",
    "    def sigmoid(x):\n",
    "        if x >= 0:\n",
    "            return 1.0 / (1.0 + math.exp(-x))\n",
    "        y = math.exp(x)\n",
    "        return y / (1 + y)\n",
    "\n",
    "\"\"\"\n",
    "\n",
    "import math\n",
    "\n",
    "\n",
    "def heaviside(x):\n",
    "    return 0 if x < 0.0 else 1\n",
    "\n",
    "\n",
    "def linear(x, a=1.0):\n",
    "    return a * x\n",
    "\n",
    "\n",
    "def dx_linear(_, a=1.0):\n",
    "    return a\n",
    "\n",
    "\n",
    "def sigmoid(x):\n",
    "    return 1.0 / (1.0 + math.exp(-x))\n",
    "\n",
    "\n",
    "def dx_sigmoid(x):\n",
    "    return sigmoid(x) * (1 - sigmoid(x))\n",
    "\n",
    "\n",
    "tanh = math.tanh\n",
    "\n",
    "\n",
    "def dx_tanh(x):\n",
    "    return 1 - tanh(x) ** 2\n"
   ]
  },
  {
   "cell_type": "markdown",
   "metadata": {},
   "source": [
    "#### Perceptron Implementation"
   ]
  },
  {
   "cell_type": "code",
   "execution_count": 70,
   "metadata": {},
   "outputs": [],
   "source": [
    "# %load perceptron.py\n",
    "from vector import dotprod\n",
    "\n",
    "\n",
    "def perceptron(T, t=0.01, epochs=50):\n",
    "    n = len(T[0])\n",
    "    w, b = n * (0.0,), 0.0\n",
    "    for _ in range(epochs):\n",
    "        done = True\n",
    "        for x, y in T:\n",
    "            if dotprod(w, x) + b >= 0:\n",
    "                z = 1\n",
    "            else:\n",
    "                z = 0\n",
    "            w = tuple(w[i] - t * (z - y) * x[i] for i in range(n))\n",
    "            b = b - t * (z - y)\n",
    "            if not y == z:\n",
    "                done = False\n",
    "        if done:\n",
    "            break\n",
    "    return w, b\n"
   ]
  },
  {
   "cell_type": "code",
   "execution_count": 134,
   "metadata": {},
   "outputs": [],
   "source": [
    "def run_perceptron(f, T, t=0.01, epochs=50):\n",
    "    w, b = perceptron(T, t=t, epochs=epochs)\n",
    "    p = lambda x: heaviside(dotprod(w, x) + b)\n",
    "    if all(p(x) == y for x, y in T):\n",
    "        print(f\"{f.__name__}: ok\")\n",
    "    else:\n",
    "        print(_red(f\"{f.__name__}: failed\"))\n",
    "    for x, y in T:\n",
    "        if p(x) == y:\n",
    "            print(f\"    {f.__name__}{x} = {y}\")\n",
    "        else:\n",
    "            print(_red(f\"    {f.__name__}{x} = {y} ≠ {p(x)}\"))\n"
   ]
  },
  {
   "cell_type": "markdown",
   "metadata": {},
   "source": [
    "#### Approximation of Boolean Operators"
   ]
  },
  {
   "cell_type": "code",
   "execution_count": 144,
   "metadata": {},
   "outputs": [],
   "source": [
    "# %load boolean.py\n",
    "\n",
    "def AND(x, y):\n",
    "    return int(x and y)\n",
    "\n",
    "\n",
    "def OR(x, y):\n",
    "    return int(x or y)\n",
    "\n",
    "\n",
    "def NAND(x, y):\n",
    "    return int(not x and not y)\n",
    "\n",
    "\n",
    "def XOR(x, y):\n",
    "    return int(x and not y or not x and y)\n",
    "\n",
    "\n",
    "BOOLEAN_OPERATORS = AND, OR, NAND, XOR\n",
    "BOOLEAN_OPERATOR_DOMAIN = (0, 0), (0, 1), (1, 0), (1, 1)\n",
    "BOOLEAN_TESTDATA = [(f, [(x, f(*x)) for x in BOOLEAN_OPERATOR_DOMAIN]) for f in BOOLEAN_OPERATORS]\n",
    "SEPARABLE_BOOLEAN_OPERATORS = AND, OR, NAND\n",
    "NON_SEPARABLE_BOOLEAN_OPERATORS = XOR\n"
   ]
  },
  {
   "cell_type": "code",
   "execution_count": 145,
   "metadata": {},
   "outputs": [
    {
     "name": "stdout",
     "output_type": "stream",
     "text": [
      "AND: ok\n",
      "    AND(0, 0) = 0\n",
      "    AND(0, 1) = 0\n",
      "    AND(1, 0) = 0\n",
      "    AND(1, 1) = 1\n",
      "OR: ok\n",
      "    OR(0, 0) = 0\n",
      "    OR(0, 1) = 1\n",
      "    OR(1, 0) = 1\n",
      "    OR(1, 1) = 1\n",
      "NAND: ok\n",
      "    NAND(0, 0) = 1\n",
      "    NAND(0, 1) = 0\n",
      "    NAND(1, 0) = 0\n",
      "    NAND(1, 1) = 0\n",
      "\u001b[31mXOR: failed\u001b[0m\n",
      "\u001b[31m    XOR(0, 0) = 0 ≠ 1\u001b[0m\n",
      "    XOR(0, 1) = 1\n",
      "\u001b[31m    XOR(1, 0) = 1 ≠ 0\u001b[0m\n",
      "    XOR(1, 1) = 0\n"
     ]
    }
   ],
   "source": [
    "t, epochs = 0.01, 50\n",
    "for f, T in BOOLEAN_TESTDATA:\n",
    "    run_perceptron(f, T, t=t, epochs=epochs)\n",
    "    "
   ]
  },
  {
   "cell_type": "markdown",
   "metadata": {},
   "source": [
    "### The Delta Rule"
   ]
  },
  {
   "cell_type": "markdown",
   "metadata": {},
   "source": [
    "   #### Delta Rule Implementation"
   ]
  },
  {
   "cell_type": "code",
   "execution_count": 82,
   "metadata": {},
   "outputs": [],
   "source": [
    "# %load delta_rule.py\n",
    "from random import random\n",
    "from vector import dotprod\n",
    "\n",
    "\n",
    "def delta_rule(T, a, da, t=0.01, epochs=50):\n",
    "    n = len(T[0])\n",
    "    w, b = n * (random(),), random()\n",
    "    for _ in range(epochs):\n",
    "        for x, y in T:\n",
    "            z = dotprod(w, x) + b\n",
    "            az, daz = a(z), da(z)\n",
    "            d = y - az\n",
    "            w = tuple(w[i] + t * d * daz * x[i] for i in range(n))\n",
    "            b = b + t * d * daz\n",
    "    return w, b\n"
   ]
  },
  {
   "cell_type": "code",
   "execution_count": 120,
   "metadata": {},
   "outputs": [],
   "source": [
    "def delta_rule_approx(T, a, da, t=0.01, epochs=50):\n",
    "    w, b = delta_rule(T, a=a, da=da, t=t, epochs=epochs)\n",
    "    return lambda x: dotprod(w, x) + b\n",
    "\n",
    "\n",
    "def run_delta_rule(f, T, a, da, fire, t=0.01, epochs=50):\n",
    "    r = delta_rule_approx(T, a, da, t=t, epochs=epochs)\n",
    "    p = lambda x: fire(r(x))\n",
    "    if all(p(x) == y for x, y in T):\n",
    "        print(f\"{f.__name__}: ok\")\n",
    "    else:\n",
    "        print(_red(f\"{f.__name__}: failed\"))\n",
    "    for x, y in T:\n",
    "        z = p(x)\n",
    "        if z == y:\n",
    "            print(f\"    {f.__name__}{x} = {y}\ta(wx+b) = {_rnd(a(r(x)), n=2)}\")\n",
    "        else:\n",
    "            print(_red(f\"    {f.__name__}{x} = {y} ≠ {z}\ta(wx+b) = {_rnd(a(r(x)), n=2)}\"))\n"
   ]
  },
  {
   "cell_type": "markdown",
   "metadata": {},
   "source": [
    "#### Approximation of Boolean Operators"
   ]
  },
  {
   "cell_type": "code",
   "execution_count": 140,
   "metadata": {},
   "outputs": [
    {
     "name": "stdout",
     "output_type": "stream",
     "text": [
      "AND: ok\n",
      "    AND(0, 0) = 0\ta(wx+b) = 0.12\n",
      "    AND(0, 1) = 0\ta(wx+b) = 0.31\n",
      "    AND(1, 0) = 0\ta(wx+b) = 0.31\n",
      "    AND(1, 1) = 1\ta(wx+b) = 0.59\n",
      "OR: ok\n",
      "    OR(0, 0) = 0\ta(wx+b) = 0.42\n",
      "    OR(0, 1) = 1\ta(wx+b) = 0.79\n",
      "    OR(1, 0) = 1\ta(wx+b) = 0.79\n",
      "    OR(1, 1) = 1\ta(wx+b) = 0.95\n",
      "NAND: ok\n",
      "    NAND(0, 0) = 1\ta(wx+b) = 0.58\n",
      "    NAND(0, 1) = 0\ta(wx+b) = 0.21\n",
      "    NAND(1, 0) = 0\ta(wx+b) = 0.21\n",
      "    NAND(1, 1) = 0\ta(wx+b) = 0.05\n",
      "\u001b[31mXOR: failed\u001b[0m\n",
      "    XOR(0, 0) = 0\ta(wx+b) = 0.46\n",
      "\u001b[31m    XOR(0, 1) = 1 ≠ 0\ta(wx+b) = 0.49\u001b[0m\n",
      "\u001b[31m    XOR(1, 0) = 1 ≠ 0\ta(wx+b) = 0.49\u001b[0m\n",
      "\u001b[31m    XOR(1, 1) = 0 ≠ 1\ta(wx+b) = 0.53\u001b[0m\n"
     ]
    }
   ],
   "source": [
    "t, epochs = 0.01, 2500\n",
    "for f, T in BOOLEAN_TESTDATA:\n",
    "    run_delta_rule(f, T, a=sigmoid, da=dx_sigmoid, fire=heaviside, t=t, epochs=epochs)\n"
   ]
  },
  {
   "cell_type": "code",
   "execution_count": 137,
   "metadata": {},
   "outputs": [
    {
     "name": "stdout",
     "output_type": "stream",
     "text": [
      "AND: ok\n",
      "    AND(0, 0) = 0\ta(wx+b) = -0.25\n",
      "    AND(0, 1) = 0\ta(wx+b) = 0.25\n",
      "    AND(1, 0) = 0\ta(wx+b) = 0.25\n",
      "    AND(1, 1) = 1\ta(wx+b) = 0.76\n",
      "OR: ok\n",
      "    OR(0, 0) = 0\ta(wx+b) = 0.25\n",
      "    OR(0, 1) = 1\ta(wx+b) = 0.75\n",
      "    OR(1, 0) = 1\ta(wx+b) = 0.75\n",
      "    OR(1, 1) = 1\ta(wx+b) = 1.24\n",
      "NAND: ok\n",
      "    NAND(0, 0) = 1\ta(wx+b) = 0.75\n",
      "    NAND(0, 1) = 0\ta(wx+b) = 0.25\n",
      "    NAND(1, 0) = 0\ta(wx+b) = 0.25\n",
      "    NAND(1, 1) = 0\ta(wx+b) = -0.24\n",
      "\u001b[31mXOR: failed\u001b[0m\n",
      "\u001b[31m    XOR(0, 0) = 0 ≠ 1\ta(wx+b) = 0.51\u001b[0m\n",
      "\u001b[31m    XOR(0, 1) = 1 ≠ 0\ta(wx+b) = 0.5\u001b[0m\n",
      "\u001b[31m    XOR(1, 0) = 1 ≠ 0\ta(wx+b) = 0.49\u001b[0m\n",
      "    XOR(1, 1) = 0\ta(wx+b) = 0.49\n"
     ]
    }
   ],
   "source": [
    "def athird(x, s=0.3):\n",
    "    if abs(x) <= s:\n",
    "        return 0\n",
    "    elif abs(1 - x) < s:\n",
    "        return 1\n",
    "    return x\n",
    "\n",
    "\n",
    "# def athird(x, s=0.01):\n",
    "#     return int(x >= s)\n",
    "\n",
    "\n",
    "def limited_linear(x):\n",
    "    if x > 1:\n",
    "        return 1\n",
    "    elif x < -1:\n",
    "        return -1\n",
    "    return x\n",
    "\n",
    "\n",
    "def gt0(x, s=0.3):\n",
    "    return int(x >= s)\n",
    "\n",
    "\n",
    "def gt(s=0.5):\n",
    "    return lambda x: int(x >= s)\n",
    "\n",
    "\n",
    "t, epochs = 0.01, 5000\n",
    "for f, T in BOOLEAN_TESTDATA:\n",
    "    a = lambda x: linear(x, a=s)\n",
    "    da = lambda x: dx_linear(x, a=s)\n",
    "    run_delta_rule(f, T, a=linear, da=dx_linear, fire=gt(0.5), t=t, epochs=epochs)\n"
   ]
  },
  {
   "cell_type": "code",
   "execution_count": 138,
   "metadata": {},
   "outputs": [
    {
     "name": "stdout",
     "output_type": "stream",
     "text": [
      "s = 0.5\n",
      "\u001b[31m    AND: failed\u001b[0m\n",
      "\u001b[31m    OR: failed\u001b[0m\n",
      "\u001b[31m    NAND: failed\u001b[0m\n",
      "\u001b[31m    XOR: failed\u001b[0m\n",
      "s = 1.0\n",
      "    AND: ok\n",
      "    OR: ok\n",
      "    NAND: ok\n",
      "\u001b[31m    XOR: failed\u001b[0m\n",
      "s = 2.0\n",
      "\u001b[31m    AND: failed\u001b[0m\n",
      "\u001b[31m    OR: failed\u001b[0m\n",
      "\u001b[31m    NAND: failed\u001b[0m\n",
      "\u001b[31m    XOR: failed\u001b[0m\n",
      "s = 5.0\n",
      "\u001b[31m    AND: failed\u001b[0m\n",
      "\u001b[31m    OR: failed\u001b[0m\n",
      "\u001b[31m    NAND: failed\u001b[0m\n",
      "\u001b[31m    XOR: failed\u001b[0m\n"
     ]
    }
   ],
   "source": [
    "t, epochs = 0.01, 5000\n",
    "for s in [0.5, 1.0, 2.0, 5.0]:\n",
    "    print(f\"s = {s}\")\n",
    "    for f, T in BOOLEAN_TESTDATA:\n",
    "        a, da = lambda x: linear(x, a=s), lambda x: dx_linear(x, a=s)\n",
    "        r = delta_rule_approx(T, a, da, t=t, epochs=epochs)\n",
    "        p = lambda x: gt()(r(x))\n",
    "        if all(p(x) == y for x, y in T):\n",
    "            print(f\"    {f.__name__}: ok\")\n",
    "        else:\n",
    "            print(_red(f\"    {f.__name__}: failed\"))\n"
   ]
  },
  {
   "cell_type": "code",
   "execution_count": 139,
   "metadata": {},
   "outputs": [
    {
     "name": "stdout",
     "output_type": "stream",
     "text": [
      "AND: ok\n",
      "    AND(0, 0) = 0\ta(wx+b) = -0.25\n",
      "    AND(0, 1) = 0\ta(wx+b) = 0.25\n",
      "    AND(1, 0) = 0\ta(wx+b) = 0.25\n",
      "    AND(1, 1) = 1\ta(wx+b) = 0.76\n",
      "OR: ok\n",
      "    OR(0, 0) = 0\ta(wx+b) = 0.25\n",
      "    OR(0, 1) = 1\ta(wx+b) = 0.75\n",
      "    OR(1, 0) = 1\ta(wx+b) = 0.75\n",
      "    OR(1, 1) = 1\ta(wx+b) = 1.24\n",
      "NAND: ok\n",
      "    NAND(0, 0) = 1\ta(wx+b) = 0.75\n",
      "    NAND(0, 1) = 0\ta(wx+b) = 0.25\n",
      "    NAND(1, 0) = 0\ta(wx+b) = 0.25\n",
      "    NAND(1, 1) = 0\ta(wx+b) = -0.24\n",
      "\u001b[31mXOR: failed\u001b[0m\n",
      "\u001b[31m    XOR(0, 0) = 0 ≠ 1\ta(wx+b) = 0.51\u001b[0m\n",
      "\u001b[31m    XOR(0, 1) = 1 ≠ 0\ta(wx+b) = 0.5\u001b[0m\n",
      "\u001b[31m    XOR(1, 0) = 1 ≠ 0\ta(wx+b) = 0.49\u001b[0m\n",
      "    XOR(1, 1) = 0\ta(wx+b) = 0.49\n"
     ]
    }
   ],
   "source": [
    "t, epochs = 0.01, 5000\n",
    "for f, T in BOOLEAN_TESTDATA:\n",
    "    a = lambda x: linear(x, a=s)\n",
    "    da = lambda x: dx_linear(x, a=s)\n",
    "    run_delta_rule(f, T, a=linear, da=dx_linear, fire=gt(0.5), t=t, epochs=epochs)\n"
   ]
  },
  {
   "cell_type": "code",
   "execution_count": 141,
   "metadata": {},
   "outputs": [
    {
     "name": "stdout",
     "output_type": "stream",
     "text": [
      "AND: ok\n",
      "    AND(0, 0) = 0\ta(wx+b) = -0.23\n",
      "    AND(0, 1) = 0\ta(wx+b) = 0.24\n",
      "    AND(1, 0) = 0\ta(wx+b) = 0.24\n",
      "    AND(1, 1) = 1\ta(wx+b) = 0.62\n",
      "OR: ok\n",
      "    OR(0, 0) = 0\ta(wx+b) = 0.11\n",
      "    OR(0, 1) = 1\ta(wx+b) = 0.84\n",
      "    OR(1, 0) = 1\ta(wx+b) = 0.84\n",
      "    OR(1, 1) = 1\ta(wx+b) = 0.98\n",
      "NAND: ok\n",
      "    NAND(0, 0) = 1\ta(wx+b) = 0.56\n",
      "    NAND(0, 1) = 0\ta(wx+b) = 0.22\n",
      "    NAND(1, 0) = 0\ta(wx+b) = 0.22\n",
      "    NAND(1, 1) = 0\ta(wx+b) = -0.17\n",
      "\u001b[31mXOR: failed\u001b[0m\n",
      "\u001b[31m    XOR(0, 0) = 0 ≠ 1\ta(wx+b) = 0.47\u001b[0m\n",
      "    XOR(0, 1) = 1\ta(wx+b) = 0.5\n",
      "    XOR(1, 0) = 1\ta(wx+b) = 0.5\n",
      "\u001b[31m    XOR(1, 1) = 0 ≠ 1\ta(wx+b) = 0.53\u001b[0m\n"
     ]
    }
   ],
   "source": [
    "t, epochs = 0.01, 500\n",
    "for f, T in BOOLEAN_TESTDATA:\n",
    "    run_delta_rule(f, T, a=tanh, da=dx_tanh, fire=gt0, t=t, epochs=epochs)\n"
   ]
  },
  {
   "cell_type": "code",
   "execution_count": 142,
   "metadata": {},
   "outputs": [],
   "source": [
    "def check_boolean_operator(f, a, da, fire, t=0.01, epochs=50, repetitions=1):\n",
    "    T = [(x, f(*x)) for x in BOOLEAN_OPERATOR_DOMAIN]\n",
    "    r = delta_rule_approx(T, a, da, t=t, epochs=epochs)\n",
    "    p = lambda x: fire(r(x))\n",
    "    for _ in range(repetitions):\n",
    "        if not all(p(x) == y for x, y in T):\n",
    "            return False\n",
    "    return True\n",
    "        \n",
    "\n",
    "\n",
    "def check_boolean_operators(a, da, fire, t=0.01, epochs=50, repetitions=1):\n",
    "    return all(check_boolean_operator(f, a, da, fire, t=t, epochs=epochs, repetitions=repetitions) \n",
    "               for f in SEPARABLE_BOOLEAN_OPERATORS)\n"
   ]
  },
  {
   "cell_type": "code",
   "execution_count": 152,
   "metadata": {},
   "outputs": [
    {
     "name": "stdout",
     "output_type": "stream",
     "text": [
      "\u001b[31mstep length = 0.01 epochs = 50: failed\u001b[0m\n",
      "\u001b[31mstep length = 0.01 epochs = 100: failed\u001b[0m\n",
      "\u001b[31mstep length = 0.01 epochs = 200: failed\u001b[0m\n",
      "\u001b[31mstep length = 0.01 epochs = 250: failed\u001b[0m\n",
      "\u001b[31mstep length = 0.01 epochs = 500: failed\u001b[0m\n",
      "step length = 0.01 epochs = 2000: ok\n",
      "step length = 0.01 epochs = 5000: ok\n",
      "\u001b[31mstep length = 0.05 epochs = 50: failed\u001b[0m\n",
      "\u001b[31mstep length = 0.05 epochs = 100: failed\u001b[0m\n",
      "\u001b[31mstep length = 0.05 epochs = 200: failed\u001b[0m\n",
      "\u001b[31mstep length = 0.05 epochs = 250: failed\u001b[0m\n",
      "step length = 0.05 epochs = 500: ok\n",
      "step length = 0.05 epochs = 2000: ok\n",
      "step length = 0.05 epochs = 5000: ok\n",
      "\u001b[31mstep length = 0.1 epochs = 50: failed\u001b[0m\n",
      "\u001b[31mstep length = 0.1 epochs = 100: failed\u001b[0m\n",
      "\u001b[31mstep length = 0.1 epochs = 200: failed\u001b[0m\n",
      "step length = 0.1 epochs = 250: ok\n",
      "step length = 0.1 epochs = 500: ok\n",
      "step length = 0.1 epochs = 2000: ok\n",
      "step length = 0.1 epochs = 5000: ok\n",
      "step length = 0.5 epochs = 50: ok\n",
      "step length = 0.5 epochs = 100: ok\n",
      "step length = 0.5 epochs = 200: ok\n",
      "step length = 0.5 epochs = 250: ok\n",
      "step length = 0.5 epochs = 500: ok\n",
      "step length = 0.5 epochs = 2000: ok\n",
      "step length = 0.5 epochs = 5000: ok\n"
     ]
    }
   ],
   "source": [
    "a, da, fire = sigmoid, dx_sigmoid, heaviside\n",
    "repetitions = 20\n",
    "\n",
    "T = [0.01, 0.05, 0.1, 0.5]\n",
    "E = [50, 100, 200, 250, 500, 2000, 5000]\n",
    "\n",
    "for t, epochs in itertools.product(T, E):\n",
    "    if check_boolean_operators(a, da, fire, t=t, epochs=epochs, repetitions=repetitions):\n",
    "        print(f\"step length = {t} epochs = {epochs}: ok\")\n",
    "    else:\n",
    "        print(_red(f\"step length = {t} epochs = {epochs}: failed\"))\n"
   ]
  },
  {
   "cell_type": "code",
   "execution_count": null,
   "metadata": {},
   "outputs": [],
   "source": []
  }
 ],
 "metadata": {
  "kernelspec": {
   "display_name": "Python 3",
   "language": "python",
   "name": "python3"
  },
  "language_info": {
   "codemirror_mode": {
    "name": "ipython",
    "version": 3
   },
   "file_extension": ".py",
   "mimetype": "text/x-python",
   "name": "python",
   "nbconvert_exporter": "python",
   "pygments_lexer": "ipython3",
   "version": "3.6.8"
  },
  "latex_envs": {
   "LaTeX_envs_menu_present": true,
   "autoclose": false,
   "autocomplete": true,
   "bibliofile": "biblio.bib",
   "cite_by": "apalike",
   "current_citInitial": 1,
   "eqLabelWithNumbers": true,
   "eqNumInitial": 1,
   "hotkeys": {
    "equation": "Ctrl-E",
    "itemize": "Ctrl-I"
   },
   "labels_anchors": false,
   "latex_user_defs": false,
   "report_style_numbering": false,
   "user_envs_cfg": false
  },
  "toc": {
   "base_numbering": 1,
   "nav_menu": {},
   "number_sections": true,
   "sideBar": true,
   "skip_h1_title": false,
   "title_cell": "Table of Contents",
   "title_sidebar": "Contents",
   "toc_cell": false,
   "toc_position": {
    "height": "calc(100% - 180px)",
    "left": "10px",
    "top": "150px",
    "width": "402.875px"
   },
   "toc_section_display": true,
   "toc_window_display": false
  }
 },
 "nbformat": 4,
 "nbformat_minor": 2
}
