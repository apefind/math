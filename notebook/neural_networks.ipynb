{
 "cells": [
  {
   "cell_type": "markdown",
   "metadata": {
    "toc": true
   },
   "source": [
    "<h1>Table of Contents<span class=\"tocSkip\"></span></h1>\n",
    "<div class=\"toc\"><ul class=\"toc-item\"><li><span><a href=\"#Weight-Vector\" data-toc-modified-id=\"Weight-Vector-1\"><span class=\"toc-item-num\">1&nbsp;&nbsp;</span>Weight Vector</a></span><ul class=\"toc-item\"><li><span><a href=\"#Basic-Vector-Operations\" data-toc-modified-id=\"Basic-Vector-Operations-1.1\"><span class=\"toc-item-num\">1.1&nbsp;&nbsp;</span>Basic Vector Operations</a></span></li><li><span><a href=\"#Calclulating-a-common-weight-vector\" data-toc-modified-id=\"Calclulating-a-common-weight-vector-1.2\"><span class=\"toc-item-num\">1.2&nbsp;&nbsp;</span>Calclulating a common weight vector</a></span></li><li><span><a href=\"#Maximimum-Number-of-Iterations\" data-toc-modified-id=\"Maximimum-Number-of-Iterations-1.3\"><span class=\"toc-item-num\">1.3&nbsp;&nbsp;</span>Maximimum Number of Iterations</a></span></li><li><span><a href=\"#Plotting-Weight-Iterations\" data-toc-modified-id=\"Plotting-Weight-Iterations-1.4\"><span class=\"toc-item-num\">1.4&nbsp;&nbsp;</span>Plotting Weight Iterations</a></span></li></ul></li><li><span><a href=\"#The-Perceptron\" data-toc-modified-id=\"The-Perceptron-2\"><span class=\"toc-item-num\">2&nbsp;&nbsp;</span>The Perceptron</a></span><ul class=\"toc-item\"><li><span><a href=\"#Activation-Functions\" data-toc-modified-id=\"Activation-Functions-2.1\"><span class=\"toc-item-num\">2.1&nbsp;&nbsp;</span>Activation Functions</a></span></li><li><span><a href=\"#Perceptron-Implementation\" data-toc-modified-id=\"Perceptron-Implementation-2.2\"><span class=\"toc-item-num\">2.2&nbsp;&nbsp;</span>Perceptron Implementation</a></span></li><li><span><a href=\"#Approximation-of-Boolean-Operators\" data-toc-modified-id=\"Approximation-of-Boolean-Operators-2.3\"><span class=\"toc-item-num\">2.3&nbsp;&nbsp;</span>Approximation of Boolean Operators</a></span></li></ul></li><li><span><a href=\"#The-Delta-Rule\" data-toc-modified-id=\"The-Delta-Rule-3\"><span class=\"toc-item-num\">3&nbsp;&nbsp;</span>The Delta Rule</a></span><ul class=\"toc-item\"><li><span><a href=\"#Delta-Rule-Implementation\" data-toc-modified-id=\"Delta-Rule-Implementation-3.1\"><span class=\"toc-item-num\">3.1&nbsp;&nbsp;</span>Delta Rule Implementation</a></span></li><li><span><a href=\"#Approximation-of-Boolean-Operators\" data-toc-modified-id=\"Approximation-of-Boolean-Operators-3.2\"><span class=\"toc-item-num\">3.2&nbsp;&nbsp;</span>Approximation of Boolean Operators</a></span></li></ul></li></ul></div>"
   ]
  },
  {
   "cell_type": "markdown",
   "metadata": {},
   "source": [
    "### Weight Vector"
   ]
  },
  {
   "cell_type": "markdown",
   "metadata": {},
   "source": [
    "#### Basic Vector Operations"
   ]
  },
  {
   "cell_type": "code",
   "execution_count": 2,
   "metadata": {},
   "outputs": [],
   "source": [
    "# %load vector.py\n",
    "import math\n",
    "\n",
    "\n",
    "def neg(v):\n",
    "    return tuple(-x for x in v)\n",
    "\n",
    "\n",
    "def norm(v):\n",
    "    return math.sqrt(dotprod(v, v))\n",
    "\n",
    "\n",
    "def normed(v):\n",
    "    n = norm(v)\n",
    "    return tuple(x / n for x in v)\n",
    "\n",
    "\n",
    "def add(v, w):\n",
    "    return tuple(x + y for x, y in zip(v, w))\n",
    "\n",
    "\n",
    "def dotprod(v, w):\n",
    "    return sum(x * y for x, y in zip(v, w))\n",
    "\n",
    "\n",
    "def angle(v, w):\n",
    "    return math.acos(dotprod(v, w) / (norm(v) * norm(w)))\n"
   ]
  },
  {
   "cell_type": "markdown",
   "metadata": {},
   "source": [
    "#### Calclulating a common weight vector"
   ]
  },
  {
   "cell_type": "code",
   "execution_count": 3,
   "metadata": {},
   "outputs": [],
   "source": [
    "# %load weight.py\n",
    "from vector import add, dotprod\n",
    "\n",
    "\n",
    "def weight(x, y):\n",
    "    w = add(x, y)\n",
    "    while True:\n",
    "        if dotprod(w, x) <= 0:\n",
    "            w = add(w, x)\n",
    "        elif dotprod(w, y) <= 0:\n",
    "            w = add(w, y)\n",
    "        else:\n",
    "            return w\n"
   ]
  },
  {
   "cell_type": "code",
   "execution_count": 4,
   "metadata": {},
   "outputs": [],
   "source": [
    "def run_weight(x, y):\n",
    "\n",
    "    def deg(x, y, digits=2):\n",
    "        return round(math.degrees(angle(x, y)), 2)\n",
    "\n",
    "    print(f\"x = {x}\ty = {y}\t∡ xy = {deg(x, y)}°\")\n",
    "    print(\"\")\n",
    "    i, w = 0, add(x, y)\n",
    "    while True:\n",
    "        a, b = dotprod(w, x), dotprod(w, y)\n",
    "        print(f\"w{i} = {w}\t∡ wx = {deg(w, x)}°\t∡ wy = {deg(w, y)}°\")\n",
    "        if a < 0:\n",
    "            w = add(w, x)\n",
    "        elif b < 0:\n",
    "            w = add(w, y)\n",
    "        else:\n",
    "            break\n",
    "        i = i + 1\n",
    "    print(\"\")\n",
    "    print(f\"w = {normed(w)}\")\n"
   ]
  },
  {
   "cell_type": "code",
   "execution_count": 5,
   "metadata": {},
   "outputs": [
    {
     "name": "stdout",
     "output_type": "stream",
     "text": [
      "x = (4, -6)\ty = (-10, 5)\t∡ xy = 150.26°\n",
      "\n",
      "w0 = (-6, -1)\t∡ wx = 114.23°\t∡ wy = 36.03°\n",
      "w1 = (-2, -7)\t∡ wx = 49.64°\t∡ wy = 100.62°\n",
      "w2 = (-12, -2)\t∡ wx = 114.23°\t∡ wy = 36.03°\n",
      "w3 = (-8, -8)\t∡ wx = 78.69°\t∡ wy = 71.57°\n",
      "\n",
      "w = (-0.7071067811865475, -0.7071067811865475)\n"
     ]
    }
   ],
   "source": [
    "x, y = (4, -6), (-10, 5)\n",
    "run_weight(x, y)"
   ]
  },
  {
   "cell_type": "code",
   "execution_count": 6,
   "metadata": {},
   "outputs": [
    {
     "name": "stdout",
     "output_type": "stream",
     "text": [
      "x = (-1, 1)\ty = (6, 1)\t∡ xy = 125.54°\n",
      "\n",
      "w0 = (5, 2)\t∡ wx = 113.2°\t∡ wy = 12.34°\n",
      "w1 = (4, 3)\t∡ wx = 98.13°\t∡ wy = 27.41°\n",
      "w2 = (3, 4)\t∡ wx = 81.87°\t∡ wy = 43.67°\n",
      "\n",
      "w = (0.6, 0.8)\n"
     ]
    }
   ],
   "source": [
    "x, y = (-1, 1), (6, 1)\n",
    "run_weight(x, y)"
   ]
  },
  {
   "cell_type": "code",
   "execution_count": 7,
   "metadata": {},
   "outputs": [
    {
     "name": "stdout",
     "output_type": "stream",
     "text": [
      "x = (-1, -10)\ty = (4, 8)\t∡ xy = 159.15°\n",
      "\n",
      "w0 = (3, -2)\t∡ wx = 62.02°\t∡ wy = 97.13°\n",
      "w1 = (7, 6)\t∡ wx = 136.31°\t∡ wy = 22.83°\n",
      "w2 = (6, -4)\t∡ wx = 62.02°\t∡ wy = 97.13°\n",
      "w3 = (10, 4)\t∡ wx = 117.51°\t∡ wy = 41.63°\n",
      "w4 = (9, -6)\t∡ wx = 62.02°\t∡ wy = 97.13°\n",
      "w5 = (13, 2)\t∡ wx = 104.46°\t∡ wy = 54.69°\n",
      "w6 = (12, -8)\t∡ wx = 62.02°\t∡ wy = 97.13°\n",
      "w7 = (16, 0)\t∡ wx = 95.71°\t∡ wy = 63.43°\n",
      "w8 = (15, -10)\t∡ wx = 62.02°\t∡ wy = 97.13°\n",
      "w9 = (19, -2)\t∡ wx = 89.7°\t∡ wy = 69.44°\n",
      "\n",
      "w = (0.9945054529214061, -0.10468478451804275)\n"
     ]
    }
   ],
   "source": [
    "x, y = (4, -7), (-3, 5)  # requires 80 iterations\n",
    "x, y = (-1, -10), (4, 8)\n",
    "run_weight(x, y)"
   ]
  },
  {
   "cell_type": "code",
   "execution_count": 8,
   "metadata": {},
   "outputs": [
    {
     "name": "stdout",
     "output_type": "stream",
     "text": [
      "x = (4, 7)\ty = (10, 5)\t∡ xy = 33.69°\n",
      "\n",
      "w0 = (14, 12)\t∡ wx = 19.65°\t∡ wy = 14.04°\n",
      "\n",
      "w = (0.7592566023652966, 0.6507913734559685)\n"
     ]
    }
   ],
   "source": [
    "from random import random, randint\n",
    "\n",
    "n = 10\n",
    "x, y = (randint(-n, n), randint(-n, n)), (randint(-n, n), randint(-n, n))\n",
    "run_weight(x, y)\n"
   ]
  },
  {
   "cell_type": "markdown",
   "metadata": {},
   "source": [
    "#### Maximimum Number of Iterations"
   ]
  },
  {
   "cell_type": "code",
   "execution_count": 9,
   "metadata": {},
   "outputs": [
    {
     "name": "stdout",
     "output_type": "stream",
     "text": [
      "n = 3 (625 combinations):\tmax iterations = 5\tx = (2, 2)\ty = (-1, -2)\t∡ xy = 161.57°\n",
      "n = 4 (2401 combinations):\tmax iterations = 11\tx = (3, 2)\ty = (-2, -1)\t∡ xy = 172.87°\n",
      "n = 5 (6561 combinations):\tmax iterations = 29\tx = (4, 3)\ty = (-3, -2)\t∡ xy = 176.82°\n",
      "n = 6 (14641 combinations):\tmax iterations = 55\tx = (5, 4)\ty = (-4, -3)\t∡ xy = 178.21°\n",
      "n = 7 (28561 combinations):\tmax iterations = 89\tx = (6, 5)\ty = (-5, -4)\t∡ xy = 178.85°\n",
      "n = 8 (50625 combinations):\tmax iterations = 131\tx = (7, 6)\ty = (-6, -5)\t∡ xy = 179.2°\n",
      "n = 9 (83521 combinations):\tmax iterations = 181\tx = (8, 7)\ty = (-7, -6)\t∡ xy = 179.42°\n"
     ]
    }
   ],
   "source": [
    "import itertools\n",
    "\n",
    "\n",
    "def count_weight_iterations(x, y):\n",
    "    n, w = 0, add(x, y)\n",
    "    while True:\n",
    "        a, b = dotprod(w, x), dotprod(w, y)\n",
    "        if a < 0:\n",
    "            w = add(w, x)\n",
    "        elif b < 0:\n",
    "            w = add(w, y)\n",
    "        else:\n",
    "            return n\n",
    "        n = n + 1\n",
    "\n",
    "        \n",
    "def deg(x, y, digits=2):\n",
    "    return round(math.degrees(angle(x, y)), ndigits=digits)\n",
    "\n",
    "\n",
    "for n in range(3, 10):\n",
    "    N = range(-n + 1 , n)\n",
    "    M = list(itertools.product(N, N))\n",
    "    R = list(itertools.product(M, M))\n",
    "    k, x, y = max([(count_weight_iterations(x, y), x, y) for x, y in R])\n",
    "    print(f\"n = {n} ({len(R)} combinations):\tmax iterations = {k}\tx = {x}\ty = {y}\t∡ xy = {deg(x, y)}°\")\n"
   ]
  },
  {
   "cell_type": "markdown",
   "metadata": {},
   "source": [
    "#### Plotting Weight Iterations"
   ]
  },
  {
   "cell_type": "code",
   "execution_count": 10,
   "metadata": {},
   "outputs": [],
   "source": [
    "import matplotlib.pyplot as plot\n",
    "\n",
    "\n",
    "def plot_weight_iterations(x, y, size=(7, 7), t=2.75):\n",
    "    fig = plot.figure()\n",
    "    fig.set_size_inches(*size)    \n",
    "    ax = plot.axes()\n",
    "    ax.set_aspect('equal')\n",
    "\n",
    "    ax.arrow(0.0, 0.0, x[0], x[1], head_width=0.1, head_length=0.3, fc='lightblue', ec='black')\n",
    "    ax.arrow(0.0, 0.0, y[0], y[1], head_width=0.1, head_length=0.3, fc='lightblue', ec='black')\n",
    "    ax.annotate('u', xy=x, xytext=(x[0] + 0.1, x[1] - 0.1))\n",
    "    ax.annotate('v', xy=y, xytext=(y[0] + 0.1, y[1] - 0.1))\n",
    "\n",
    "    n, w = 1, add(x, y)\n",
    "    while True:\n",
    "        ax.arrow(0.0, 0.0, w[0], w[1], head_width=0.05, head_length=0.2)\n",
    "        ax.annotate(n, xy=w, xytext=(w[0] + 0.05, w[1] + 0.05))\n",
    "        a, b = dotprod(w, x), dotprod(w, y)\n",
    "        if a < 0:\n",
    "            w = add(w, x)\n",
    "        elif b < 0:\n",
    "            w = add(w, y)\n",
    "        else:\n",
    "            break\n",
    "        n = n + 1\n",
    "\n",
    "    ax.arrow(0.0, 0.0, w[0], w[1], width=0.01, head_width=0.1, head_length=0.3, fc='red', ec='red')\n",
    "#     ax.annotate('w', xy=w, xytext=(w[0] + 0.05, w[1] + 0.05))\n",
    "    \n",
    "    plot.grid()\n",
    "    plot.xlim(-t, t)\n",
    "    plot.ylim(-t, t)\n",
    "\n",
    "    plot.title(f\"Weight vector calulated after {n} Iterations\")\n",
    "    plot.show()\n",
    "    "
   ]
  },
  {
   "cell_type": "code",
   "execution_count": 11,
   "metadata": {},
   "outputs": [
    {
     "data": {
      "image/png": "[encoded data removed]",
      "text/plain": [
       "<Figure size 504x504 with 1 Axes>"
      ]
     },
     "metadata": {
      "needs_background": "light"
     },
     "output_type": "display_data"
    }
   ],
   "source": [
    "x, y = (-0.5, -1.2), (1.1, 1.2)\n",
    "x, y = (-0.7, -1.2), (1.1, 1.2)\n",
    "plot_weight_iterations(x, y)"
   ]
  },
  {
   "cell_type": "markdown",
   "metadata": {},
   "source": [
    "### The Perceptron"
   ]
  },
  {
   "cell_type": "markdown",
   "metadata": {},
   "source": [
    "#### Activation Functions"
   ]
  },
  {
   "cell_type": "code",
   "execution_count": 12,
   "metadata": {},
   "outputs": [],
   "source": [
    "# %load activation_function.py\n",
    "\"\"\"Numerically stable version of sigmoid::\n",
    "\n",
    "    def sigmoid(x):\n",
    "        if x >= 0:\n",
    "            return 1.0 / (1.0 + math.exp(-x))\n",
    "        y = math.exp(x)\n",
    "        return y / (1 + y)\n",
    "\n",
    "\"\"\"\n",
    "\n",
    "import math\n",
    "\n",
    "\n",
    "def heaviside(x):\n",
    "    return 0 if x < 0.0 else 1\n",
    "\n",
    "\n",
    "def linear(x, a=1.0):\n",
    "    return a * x\n",
    "\n",
    "\n",
    "def dx_linear(_, a=1.0):\n",
    "    return a\n",
    "\n",
    "\n",
    "def sigmoid(x):\n",
    "    return 1.0 / (1.0 + math.exp(-x))\n",
    "\n",
    "\n",
    "def dx_sigmoid(x):\n",
    "    return sigmoid(x) * (1 - sigmoid(x))\n"
   ]
  },
  {
   "cell_type": "markdown",
   "metadata": {},
   "source": [
    "#### Perceptron Implementation"
   ]
  },
  {
   "cell_type": "code",
   "execution_count": 13,
   "metadata": {},
   "outputs": [],
   "source": [
    "# %load perceptron.py\n",
    "from vector import dotprod\n",
    "\n",
    "\n",
    "def perceptron(T, t=0.01, epochs=50):\n",
    "    n = len(T[0])\n",
    "    w, b = n * (0.0,), 0.0\n",
    "    for _ in range(epochs):\n",
    "        done = True\n",
    "        for x, y in T:\n",
    "            if dotprod(w, x) + b >= 0:\n",
    "                z = 1\n",
    "            else:\n",
    "                z = 0\n",
    "            w = tuple(w[i] - t * (z - y) * x[i] for i in range(n))\n",
    "            b = b - t * (z - y)\n",
    "            if not y == z:\n",
    "                done = False\n",
    "        if done:\n",
    "            break\n",
    "    return w, b\n"
   ]
  },
  {
   "cell_type": "code",
   "execution_count": 14,
   "metadata": {},
   "outputs": [],
   "source": [
    "def run_perceptron(f, T, t=0.01, epochs=50):\n",
    "    w, b = perceptron(T, t=t, epochs=epochs)\n",
    "    p = lambda x: heaviside(dotprod(w, x) + b)\n",
    "    if all(p(x) == y for x, y in T):\n",
    "        print(f\"{f.__name__}: ok\")\n",
    "    else:\n",
    "        print(f\"{f.__name__}: failed\")    \n",
    "    for x, y in T:\n",
    "        if p(x) == y:\n",
    "            print(f\"    {f.__name__}{x} = {y}\")\n",
    "        else:\n",
    "            print(f\"    {f.__name__}{x} = {y} <> {p(x)}\")\n"
   ]
  },
  {
   "cell_type": "markdown",
   "metadata": {},
   "source": [
    "#### Approximation of Boolean Operators"
   ]
  },
  {
   "cell_type": "code",
   "execution_count": 15,
   "metadata": {},
   "outputs": [],
   "source": [
    "# %load boolean.py\n",
    "\n",
    "def AND(x, y):\n",
    "    return int(x and y)\n",
    "\n",
    "\n",
    "def OR(x, y):\n",
    "    return int(x or y)\n",
    "\n",
    "\n",
    "def NAND(x, y):\n",
    "    return int(not x and not y)\n",
    "\n",
    "\n",
    "def XOR(x, y):\n",
    "    return int(x and not y or not x and y)\n",
    "\n",
    "\n",
    "BOOLEAN_OPERATORS = AND, OR, NAND, XOR\n",
    "BOOLEAN_OPERATOR_DOMAIN = (0, 0), (0, 1), (1, 0), (1, 1)\n",
    "BOOLEAN_TESTDATA = [(f, [(x, f(*x)) for x in BOOLEAN_OPERATOR_DOMAIN]) for f in BOOLEAN_OPERATORS]\n"
   ]
  },
  {
   "cell_type": "code",
   "execution_count": 16,
   "metadata": {},
   "outputs": [
    {
     "name": "stdout",
     "output_type": "stream",
     "text": [
      "AND: ok\n",
      "    AND(0, 0) = 0\n",
      "    AND(0, 1) = 0\n",
      "    AND(1, 0) = 0\n",
      "    AND(1, 1) = 1\n",
      "OR: ok\n",
      "    OR(0, 0) = 0\n",
      "    OR(0, 1) = 1\n",
      "    OR(1, 0) = 1\n",
      "    OR(1, 1) = 1\n",
      "NAND: ok\n",
      "    NAND(0, 0) = 1\n",
      "    NAND(0, 1) = 0\n",
      "    NAND(1, 0) = 0\n",
      "    NAND(1, 1) = 0\n",
      "XOR: failed\n",
      "    XOR(0, 0) = 0 <> 1\n",
      "    XOR(0, 1) = 1\n",
      "    XOR(1, 0) = 1 <> 0\n",
      "    XOR(1, 1) = 0\n"
     ]
    }
   ],
   "source": [
    "t, epochs = 0.01, 50\n",
    "for f, T in BOOLEAN_TESTDATA:\n",
    "    run_perceptron(f, T, t=t, epochs=epochs)\n",
    "    "
   ]
  },
  {
   "cell_type": "markdown",
   "metadata": {},
   "source": [
    "### The Delta Rule"
   ]
  },
  {
   "cell_type": "markdown",
   "metadata": {},
   "source": [
    "   #### Delta Rule Implementation"
   ]
  },
  {
   "cell_type": "code",
   "execution_count": 17,
   "metadata": {},
   "outputs": [],
   "source": [
    "# %load delta_rule.py\n",
    "from random import random\n",
    "from vector import dotprod\n",
    "\n",
    "\n",
    "def delta_rule(T, a, da, t=0.01, eps=0.05, epochs=50):\n",
    "    n = len(T[0])\n",
    "    w, b = n * (random(),), random()\n",
    "    for _ in range(epochs):\n",
    "        err = 0.0\n",
    "        for x, y in T:\n",
    "            z = dotprod(w, x) + b\n",
    "            az, daz = a(z), da(z)\n",
    "            d = y - az\n",
    "            w = tuple(w[i] + t * d * daz * x[i] for i in range(n))\n",
    "            b = b + t * d * daz\n",
    "            err = err + d * d\n",
    "        if 0.5 * err < eps:\n",
    "            break\n",
    "    return w, b\n"
   ]
  },
  {
   "cell_type": "code",
   "execution_count": 18,
   "metadata": {},
   "outputs": [],
   "source": [
    "def delta_rule_approx(T, a, da, fire, t=0.01, eps=0.05, epochs=50):\n",
    "    w, b = delta_rule(T, a=a, da=da, t=t, eps=eps, epochs=epochs)\n",
    "    return lambda x: fire(dotprod(w, x) + b)\n",
    "\n",
    "\n",
    "def run_delta_rule(f, T, a, da, fire, t=0.01, eps=0.05, epochs=50):\n",
    "    p = delta_rule_approx(T, a, da, fire, t=t, eps=eps, epochs=epochs)\n",
    "    if all(p(x) == y for x, y in T):\n",
    "        print(f\"{f.__name__}: ok\")\n",
    "    else:\n",
    "        print(f\"{f.__name__}: failed\")\n",
    "    for x, y in T:\n",
    "        z = p(x)\n",
    "        if z == y:\n",
    "            print(f\"    {f.__name__}{x} = {y}\")\n",
    "        else:\n",
    "            print(f\"    {f.__name__}{x} = {y} ≠ {z}\")\n"
   ]
  },
  {
   "cell_type": "markdown",
   "metadata": {},
   "source": [
    "#### Approximation of Boolean Operators"
   ]
  },
  {
   "cell_type": "code",
   "execution_count": 19,
   "metadata": {},
   "outputs": [
    {
     "name": "stdout",
     "output_type": "stream",
     "text": [
      "AND: ok\n",
      "    AND(0, 0) = 0\n",
      "    AND(0, 1) = 0\n",
      "    AND(1, 0) = 0\n",
      "    AND(1, 1) = 1\n",
      "OR: ok\n",
      "    OR(0, 0) = 0\n",
      "    OR(0, 1) = 1\n",
      "    OR(1, 0) = 1\n",
      "    OR(1, 1) = 1\n",
      "NAND: ok\n",
      "    NAND(0, 0) = 1\n",
      "    NAND(0, 1) = 0\n",
      "    NAND(1, 0) = 0\n",
      "    NAND(1, 1) = 0\n",
      "XOR: failed\n",
      "    XOR(0, 0) = 0 ≠ 1\n",
      "    XOR(0, 1) = 1\n",
      "    XOR(1, 0) = 1\n",
      "    XOR(1, 1) = 0\n"
     ]
    }
   ],
   "source": [
    "t, eps, epochs = 0.01, 0.05, 5000\n",
    "for f, T in BOOLEAN_TESTDATA:\n",
    "    run_delta_rule(f, T, a=sigmoid, da=dx_sigmoid, fire=heaviside, t=t, eps=eps, epochs=epochs)\n"
   ]
  },
  {
   "cell_type": "code",
   "execution_count": 23,
   "metadata": {},
   "outputs": [
    {
     "name": "stdout",
     "output_type": "stream",
     "text": [
      "AND: ok\n",
      "    AND(0, 0) = 0\n",
      "    AND(0, 1) = 0\n",
      "    AND(1, 0) = 0\n",
      "    AND(1, 1) = 1\n",
      "OR: ok\n",
      "    OR(0, 0) = 0\n",
      "    OR(0, 1) = 1\n",
      "    OR(1, 0) = 1\n",
      "    OR(1, 1) = 1\n",
      "NAND: ok\n",
      "    NAND(0, 0) = 1\n",
      "    NAND(0, 1) = 0\n",
      "    NAND(1, 0) = 0\n",
      "    NAND(1, 1) = 0\n",
      "XOR: failed\n",
      "    XOR(0, 0) = 0 ≠ 1\n",
      "    XOR(0, 1) = 1\n",
      "    XOR(1, 0) = 1\n",
      "    XOR(1, 1) = 0 ≠ 1\n"
     ]
    }
   ],
   "source": [
    "def athird(x, s=0.3):\n",
    "    if abs(x) <= s:\n",
    "        return 0\n",
    "    elif abs(1 - x) < s:\n",
    "        return 1\n",
    "    return x\n",
    "\n",
    "\n",
    "def athird(x, s=0.3):\n",
    "    return int(x >= s)\n",
    "\n",
    "\n",
    "def limited_linear(x):\n",
    "    if x > 1:\n",
    "        return 1\n",
    "    elif x < -1:\n",
    "        return -1\n",
    "    return x\n",
    "\n",
    "fire = limited_linear\n",
    "fire = heaviside\n",
    "fire = athird\n",
    "\n",
    "\n",
    "t, eps, epochs = 0.01, 0.05, 500\n",
    "for f, T in BOOLEAN_TESTDATA:\n",
    "    a = lambda x: linear(x, a=s)\n",
    "    da = lambda x: dx_linear(x, a=s)\n",
    "    run_delta_rule(f, T, a=linear, da=dx_linear, fire=fire, t=t, eps=eps, epochs=epochs)\n"
   ]
  },
  {
   "cell_type": "code",
   "execution_count": 21,
   "metadata": {},
   "outputs": [
    {
     "name": "stdout",
     "output_type": "stream",
     "text": [
      "s = 0.5\n",
      "    AND: failed\n",
      "    OR: failed\n",
      "    NAND: failed\n",
      "    XOR: failed\n",
      "s = 1.0\n",
      "    AND: ok\n",
      "    OR: ok\n",
      "    NAND: ok\n",
      "    XOR: failed\n",
      "s = 2.0\n",
      "    AND: failed\n",
      "    OR: failed\n",
      "    NAND: failed\n",
      "    XOR: failed\n",
      "s = 5.0\n",
      "    AND: failed\n",
      "    OR: failed\n",
      "    NAND: failed\n",
      "    XOR: failed\n"
     ]
    }
   ],
   "source": [
    "t, eps, epochs = 0.01, 0.05, 5000\n",
    "for s in [0.5, 1.0, 2.0, 5.0]:\n",
    "    print(f\"s = {s}\")\n",
    "    for f, T in BOOLEAN_TESTDATA:\n",
    "        a = lambda x: linear(x, a=s)\n",
    "        da = lambda x: dx_linear(x, a=s)\n",
    "        p = delta_rule_approx(T, a, da, fire=lambda r: athird(r / s), t=t, eps=eps, epochs=epochs)\n",
    "        if all(p(x) == y for x, y in T):\n",
    "            print(f\"    {f.__name__}: ok\")\n",
    "        else:\n",
    "            print(f\"    {f.__name__}: failed\")\n"
   ]
  },
  {
   "cell_type": "code",
   "execution_count": 22,
   "metadata": {},
   "outputs": [
    {
     "name": "stdout",
     "output_type": "stream",
     "text": [
      "AND: ok\n",
      "    AND(0, 0) = 0\n",
      "    AND(0, 1) = 0\n",
      "    AND(1, 0) = 0\n",
      "    AND(1, 1) = 1\n",
      "OR: failed\n",
      "    OR(0, 0) = 0\n",
      "    OR(0, 1) = 1\n",
      "    OR(1, 0) = 1\n",
      "    OR(1, 1) = 1 ≠ 1.7429697121457917\n",
      "NAND: failed\n",
      "    NAND(0, 0) = 1 ≠ 0.6681973866885323\n",
      "    NAND(0, 1) = 0\n",
      "    NAND(1, 0) = 0\n",
      "    NAND(1, 1) = 0\n",
      "XOR: failed\n",
      "    XOR(0, 0) = 0\n",
      "    XOR(0, 1) = 1 ≠ 0.6465243354613168\n",
      "    XOR(1, 0) = 1 ≠ 0.6438226118167514\n",
      "    XOR(1, 1) = 0 ≠ 1\n"
     ]
    }
   ],
   "source": [
    "tanh = math.tanh\n",
    "def dx_tanh(x):\n",
    "    return 1 - tanh(x) ** 2\n",
    "\n",
    "\n",
    "t, eps, epochs = 0.01, 0.05, 500\n",
    "for f, T in BOOLEAN_TESTDATA:\n",
    "    run_delta_rule(f, T, a=tanh, da=dx_tanh, fire=athird, t=t, eps=eps, epochs=epochs)\n"
   ]
  },
  {
   "cell_type": "code",
   "execution_count": null,
   "metadata": {},
   "outputs": [],
   "source": []
  }
 ],
 "metadata": {
  "kernelspec": {
   "display_name": "Python 3",
   "language": "python",
   "name": "python3"
  },
  "language_info": {
   "codemirror_mode": {
    "name": "ipython",
    "version": 3
   },
   "file_extension": ".py",
   "mimetype": "text/x-python",
   "name": "python",
   "nbconvert_exporter": "python",
   "pygments_lexer": "ipython3",
   "version": "3.6.8"
  },
  "toc": {
   "base_numbering": 1,
   "nav_menu": {},
   "number_sections": true,
   "sideBar": true,
   "skip_h1_title": false,
   "title_cell": "Table of Contents",
   "title_sidebar": "Contents",
   "toc_cell": true,
   "toc_position": {
    "height": "calc(100% - 180px)",
    "left": "10px",
    "top": "150px",
    "width": "402.875px"
   },
   "toc_section_display": true,
   "toc_window_display": true
  }
 },
 "nbformat": 4,
 "nbformat_minor": 2
}
