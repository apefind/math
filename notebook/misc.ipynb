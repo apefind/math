{
 "cells": [
  {
   "cell_type": "markdown",
   "metadata": {},
   "source": [
    "### Miscellaneous\n"
   ]
  },
  {
   "cell_type": "markdown",
   "metadata": {},
   "source": [
    "#### Code Snippets"
   ]
  },
  {
   "cell_type": "code",
   "execution_count": 1,
   "metadata": {},
   "outputs": [],
   "source": [
    "import matplotlib\n",
    "import matplotlib.pyplot as plot\n",
    "\n",
    "print(matplotlib.style.available)\n",
    "matplotlib.style.use(\"seaborn-deep\")\n",
    "matplotlib.style.use(\"default\")"
   ]
  },
  {
   "cell_type": "markdown",
   "metadata": {},
   "source": [
    "#### Triangle Count"
   ]
  },
  {
   "cell_type": "code",
   "execution_count": 1,
   "metadata": {},
   "outputs": [],
   "source": [
    "def triangles(n):\n",
    "    if n == 0:\n",
    "        return 1\n",
    "    s, k = 0, n\n",
    "    while k > 0:\n",
    "        s += k\n",
    "        k -= 2\n",
    "    return triangles(n - 1) + s + int((n + 2) * (n + 1) / 2)"
   ]
  },
  {
   "cell_type": "code",
   "execution_count": 3,
   "metadata": {},
   "outputs": [
    {
     "name": "stdout",
     "output_type": "stream",
     "text": [
      "n = 0:\t1\n",
      "n = 1:\t5\n",
      "n = 2:\t13\n",
      "n = 3:\t27\n",
      "n = 4:\t48\n",
      "n = 5:\t78\n",
      "n = 6:\t118\n",
      "n = 7:\t170\n",
      "n = 8:\t235\n",
      "n = 9:\t315\n",
      "n = 10:\t411\n",
      "n = 11:\t525\n",
      "n = 12:\t658\n",
      "n = 13:\t812\n",
      "n = 14:\t988\n",
      "n = 15:\t1188\n",
      "n = 16:\t1413\n",
      "n = 17:\t1665\n",
      "n = 18:\t1945\n",
      "n = 19:\t2255\n",
      "n = 20:\t2596\n",
      "n = 21:\t2970\n",
      "n = 22:\t3378\n",
      "n = 23:\t3822\n",
      "n = 24:\t4303\n"
     ]
    }
   ],
   "source": [
    "for n in range(25):\n",
    "    print(f\"n = {n}:\t{triangles(n)}\")"
   ]
  },
  {
   "cell_type": "code",
   "execution_count": null,
   "metadata": {},
   "outputs": [],
   "source": []
  }
 ],
 "metadata": {
  "kernelspec": {
   "display_name": "Python 3",
   "language": "python",
   "name": "python3"
  },
  "language_info": {
   "codemirror_mode": {
    "name": "ipython",
    "version": 3
   },
   "file_extension": ".py",
   "mimetype": "text/x-python",
   "name": "python",
   "nbconvert_exporter": "python",
   "pygments_lexer": "ipython3",
   "version": "3.6.8"
  },
  "latex_envs": {
   "LaTeX_envs_menu_present": true,
   "autoclose": false,
   "autocomplete": true,
   "bibliofile": "biblio.bib",
   "cite_by": "apalike",
   "current_citInitial": 1,
   "eqLabelWithNumbers": true,
   "eqNumInitial": 1,
   "hotkeys": {
    "equation": "Ctrl-E",
    "itemize": "Ctrl-I"
   },
   "labels_anchors": false,
   "latex_user_defs": false,
   "report_style_numbering": false,
   "user_envs_cfg": false
  },
  "toc": {
   "base_numbering": 1,
   "nav_menu": {},
   "number_sections": true,
   "sideBar": true,
   "skip_h1_title": false,
   "title_cell": "Table of Contents",
   "title_sidebar": "Contents",
   "toc_cell": false,
   "toc_position": {
    "height": "calc(100% - 180px)",
    "left": "10px",
    "top": "150px",
    "width": "402.875px"
   },
   "toc_section_display": true,
   "toc_window_display": false
  }
 },
 "nbformat": 4,
 "nbformat_minor": 4
}
